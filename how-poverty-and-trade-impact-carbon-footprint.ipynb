{
 "cells": [
  {
   "cell_type": "markdown",
   "metadata": {
    "_uuid": "21259d0fd4716c05c91486ad51122d815bea2afe"
   },
   "source": [
    "# **How Poverty and International Trade Impact Global Carbon Footprint**\n"
   ]
  },
  {
   "cell_type": "code",
   "execution_count": 1,
   "metadata": {
    "_cell_guid": "b1076dfc-b9ad-4769-8c92-a6c4dae69d19",
    "_kg_hide-input": true,
    "_kg_hide-output": true,
    "_uuid": "8f2839f25d086af736a60e9eeb907d3b93b6e0e5"
   },
   "outputs": [],
   "source": [
    "\n",
    "import numpy as np \n",
    "import pandas as pd \n",
    "\n",
    "\n",
    "\n",
    "#  source: http://www.un.org/en/development/desa/policy/wesp/wesp_current/2014wesp_country_classification.pdf\n",
    "developed_countries = [\"Austria\", \"Belgium\", \"Denmark\", \"France\", \"Germany\", \"Greece\", \"Ireland\", \n",
    "              \"Italy\", \"Luxembourg\", \"Netherlands\", \"Portugal\", \"Spain\", \"Sweden\", \"United Kingdom\",\n",
    "              \"Bulgaria\", \"Croatia\", \"Cyprus\", \"Czech Republic\", \"Estonia\", \"Hungary\", \"Latvia\", \"Lithuania\",\n",
    "              \"Malta\", \"Poland\", \"Romania\", \"Slovakia\", \"Slovenia\", \"Iceland\", \"Norway\", \"Switzerland\",\n",
    "\n"
   ]
  },
  {
   "cell_type": "code",
   "execution_count": 2,
   "metadata": {
    "_cell_guid": "79c7e3d0-c299-4dcb-8224-4455121ee9b0",
    "_kg_hide-input": true,
    "_kg_hide-output": true,
    "_uuid": "d629ff2d2480ee46fbb7e2d37f6b5fab8052498a"
   },
   "outputs": [
    {
     "name": "stdout",
     "output_type": "stream",
     "text": [
      "(102, 8)\n"
     ]
    },
    {
     "data": {
      "text/html": [
       "<div>\n",
       "<style scoped>\n",
       "    .dataframe tbody tr th:only-of-type {\n",
       "        vertical-align: middle;\n",
       "    }\n",
       "\n",
       "    .dataframe tbody tr th {\n",
       "        vertical-align: top;\n",
       "    }\n",
       "\n",
       "    .dataframe thead th {\n",
       "        text-align: right;\n",
       "    }\n",
       "</style>\n",
       "<table border=\"1\" class=\"dataframe\">\n",
       "  <thead>\n",
       "    <tr style=\"text-align: right;\">\n",
       "      <th></th>\n",
       "      <th>ISO</th>\n",
       "      <th>Country</th>\n",
       "      <th>MPI Urban</th>\n",
       "      <th>Headcount Ratio Urban</th>\n",
       "      <th>Intensity of Deprivation Urban</th>\n",
       "      <th>MPI Rural</th>\n",
       "      <th>Headcount Ratio Rural</th>\n",
       "      <th>Intensity of Deprivation Rural</th>\n",
       "    </tr>\n",
       "  </thead>\n",
       "  <tbody>\n",
       "    <tr>\n",
       "      <th>0</th>\n",
       "      <td>KAZ</td>\n",
       "      <td>Kazakhstan</td>\n",
       "      <td>0.000</td>\n",
       "      <td>0.0</td>\n",
       "      <td>33.3</td>\n",
       "      <td>0.000</td>\n",
       "      <td>0.09</td>\n",
       "      <td>33.3</td>\n",
       "    </tr>\n",
       "    <tr>\n",
       "      <th>1</th>\n",
       "      <td>SRB</td>\n",
       "      <td>Serbia</td>\n",
       "      <td>0.000</td>\n",
       "      <td>0.1</td>\n",
       "      <td>41.4</td>\n",
       "      <td>0.002</td>\n",
       "      <td>0.50</td>\n",
       "      <td>40.3</td>\n",
       "    </tr>\n",
       "    <tr>\n",
       "      <th>2</th>\n",
       "      <td>KGZ</td>\n",
       "      <td>Kyrgyzstan</td>\n",
       "      <td>0.000</td>\n",
       "      <td>0.1</td>\n",
       "      <td>40.2</td>\n",
       "      <td>0.003</td>\n",
       "      <td>0.70</td>\n",
       "      <td>37.1</td>\n",
       "    </tr>\n",
       "    <tr>\n",
       "      <th>3</th>\n",
       "      <td>TUN</td>\n",
       "      <td>Tunisia</td>\n",
       "      <td>0.000</td>\n",
       "      <td>0.1</td>\n",
       "      <td>35.6</td>\n",
       "      <td>0.012</td>\n",
       "      <td>3.18</td>\n",
       "      <td>38.7</td>\n",
       "    </tr>\n",
       "    <tr>\n",
       "      <th>4</th>\n",
       "      <td>ARM</td>\n",
       "      <td>Armenia</td>\n",
       "      <td>0.001</td>\n",
       "      <td>0.2</td>\n",
       "      <td>33.3</td>\n",
       "      <td>0.001</td>\n",
       "      <td>0.39</td>\n",
       "      <td>36.9</td>\n",
       "    </tr>\n",
       "  </tbody>\n",
       "</table>\n",
       "</div>"
      ],
      "text/plain": [
       "   ISO     Country  MPI Urban  Headcount Ratio Urban  \\\n",
       "0  KAZ  Kazakhstan      0.000                    0.0   \n",
       "1  SRB      Serbia      0.000                    0.1   \n",
       "2  KGZ  Kyrgyzstan      0.000                    0.1   \n",
       "3  TUN     Tunisia      0.000                    0.1   \n",
       "4  ARM     Armenia      0.001                    0.2   \n",
       "\n",
       "   Intensity of Deprivation Urban  MPI Rural  Headcount Ratio Rural  \\\n",
       "0                            33.3      0.000                   0.09   \n",
       "1                            41.4      0.002                   0.50   \n",
       "2                            40.2      0.003                   0.70   \n",
       "3                            35.6      0.012                   3.18   \n",
       "4                            33.3      0.001                   0.39   \n",
       "\n",
       "   Intensity of Deprivation Rural  \n",
       "0                            33.3  \n",
       "1                            40.3  \n",
       "2                            37.1  \n",
       "3                            38.7  \n",
       "4                            36.9  "
      ]
     },
     "execution_count": 2,
     "metadata": {},
     "output_type": "execute_result"
    }
   ],
   "source": [
    "countries = pd.read_csv(\"MPI_national.csv\")\n",
    "print(countries.shape)\n",
    "countries.head()\n"
   ]
  },
  {
   "cell_type": "code",
   "execution_count": 3,
   "metadata": {
    "_kg_hide-input": true,
    "_kg_hide-output": true,
    "_uuid": "da96ad6d060184fb0f3cd12e91da1b0ccc8c96e2"
   },
   "outputs": [
    {
     "name": "stdout",
     "output_type": "stream",
     "text": [
      "(188, 21)\n"
     ]
    },
    {
     "data": {
      "text/html": [
       "<div>\n",
       "<style scoped>\n",
       "    .dataframe tbody tr th:only-of-type {\n",
       "        vertical-align: middle;\n",
       "    }\n",
       "\n",
       "    .dataframe tbody tr th {\n",
       "        vertical-align: top;\n",
       "    }\n",
       "\n",
       "    .dataframe thead th {\n",
       "        text-align: right;\n",
       "    }\n",
       "</style>\n",
       "<table border=\"1\" class=\"dataframe\">\n",
       "  <thead>\n",
       "    <tr style=\"text-align: right;\">\n",
       "      <th></th>\n",
       "      <th>Country</th>\n",
       "      <th>Region</th>\n",
       "      <th>Population (millions)</th>\n",
       "      <th>HDI</th>\n",
       "      <th>GDP per Capita</th>\n",
       "      <th>Cropland Footprint</th>\n",
       "      <th>Grazing Footprint</th>\n",
       "      <th>Forest Footprint</th>\n",
       "      <th>Carbon Footprint</th>\n",
       "      <th>Fish Footprint</th>\n",
       "      <th>...</th>\n",
       "      <th>Cropland</th>\n",
       "      <th>Grazing Land</th>\n",
       "      <th>Forest Land</th>\n",
       "      <th>Fishing Water</th>\n",
       "      <th>Urban Land</th>\n",
       "      <th>Total Biocapacity</th>\n",
       "      <th>Biocapacity Deficit or Reserve</th>\n",
       "      <th>Earths Required</th>\n",
       "      <th>Countries Required</th>\n",
       "      <th>Data Quality</th>\n",
       "    </tr>\n",
       "  </thead>\n",
       "  <tbody>\n",
       "    <tr>\n",
       "      <th>0</th>\n",
       "      <td>Afghanistan</td>\n",
       "      <td>Middle East/Central Asia</td>\n",
       "      <td>29.82</td>\n",
       "      <td>0.46</td>\n",
       "      <td>$614.66</td>\n",
       "      <td>0.30</td>\n",
       "      <td>0.20</td>\n",
       "      <td>0.08</td>\n",
       "      <td>0.18</td>\n",
       "      <td>0.00</td>\n",
       "      <td>...</td>\n",
       "      <td>0.24</td>\n",
       "      <td>0.20</td>\n",
       "      <td>0.02</td>\n",
       "      <td>0.00</td>\n",
       "      <td>0.04</td>\n",
       "      <td>0.50</td>\n",
       "      <td>-0.30</td>\n",
       "      <td>0.46</td>\n",
       "      <td>1.60</td>\n",
       "      <td>6</td>\n",
       "    </tr>\n",
       "    <tr>\n",
       "      <th>1</th>\n",
       "      <td>Albania</td>\n",
       "      <td>Northern/Eastern Europe</td>\n",
       "      <td>3.16</td>\n",
       "      <td>0.73</td>\n",
       "      <td>$4,534.37</td>\n",
       "      <td>0.78</td>\n",
       "      <td>0.22</td>\n",
       "      <td>0.25</td>\n",
       "      <td>0.87</td>\n",
       "      <td>0.02</td>\n",
       "      <td>...</td>\n",
       "      <td>0.55</td>\n",
       "      <td>0.21</td>\n",
       "      <td>0.29</td>\n",
       "      <td>0.07</td>\n",
       "      <td>0.06</td>\n",
       "      <td>1.18</td>\n",
       "      <td>-1.03</td>\n",
       "      <td>1.27</td>\n",
       "      <td>1.87</td>\n",
       "      <td>6</td>\n",
       "    </tr>\n",
       "    <tr>\n",
       "      <th>2</th>\n",
       "      <td>Algeria</td>\n",
       "      <td>Africa</td>\n",
       "      <td>38.48</td>\n",
       "      <td>0.73</td>\n",
       "      <td>$5,430.57</td>\n",
       "      <td>0.60</td>\n",
       "      <td>0.16</td>\n",
       "      <td>0.17</td>\n",
       "      <td>1.14</td>\n",
       "      <td>0.01</td>\n",
       "      <td>...</td>\n",
       "      <td>0.24</td>\n",
       "      <td>0.27</td>\n",
       "      <td>0.03</td>\n",
       "      <td>0.01</td>\n",
       "      <td>0.03</td>\n",
       "      <td>0.59</td>\n",
       "      <td>-1.53</td>\n",
       "      <td>1.22</td>\n",
       "      <td>3.61</td>\n",
       "      <td>5</td>\n",
       "    </tr>\n",
       "    <tr>\n",
       "      <th>3</th>\n",
       "      <td>Angola</td>\n",
       "      <td>Africa</td>\n",
       "      <td>20.82</td>\n",
       "      <td>0.52</td>\n",
       "      <td>$4,665.91</td>\n",
       "      <td>0.33</td>\n",
       "      <td>0.15</td>\n",
       "      <td>0.12</td>\n",
       "      <td>0.20</td>\n",
       "      <td>0.09</td>\n",
       "      <td>...</td>\n",
       "      <td>0.20</td>\n",
       "      <td>1.42</td>\n",
       "      <td>0.64</td>\n",
       "      <td>0.26</td>\n",
       "      <td>0.04</td>\n",
       "      <td>2.55</td>\n",
       "      <td>1.61</td>\n",
       "      <td>0.54</td>\n",
       "      <td>0.37</td>\n",
       "      <td>6</td>\n",
       "    </tr>\n",
       "    <tr>\n",
       "      <th>4</th>\n",
       "      <td>Antigua and Barbuda</td>\n",
       "      <td>Latin America</td>\n",
       "      <td>0.09</td>\n",
       "      <td>0.78</td>\n",
       "      <td>$13,205.10</td>\n",
       "      <td>NaN</td>\n",
       "      <td>NaN</td>\n",
       "      <td>NaN</td>\n",
       "      <td>NaN</td>\n",
       "      <td>NaN</td>\n",
       "      <td>...</td>\n",
       "      <td>NaN</td>\n",
       "      <td>NaN</td>\n",
       "      <td>NaN</td>\n",
       "      <td>NaN</td>\n",
       "      <td>NaN</td>\n",
       "      <td>0.94</td>\n",
       "      <td>-4.44</td>\n",
       "      <td>3.11</td>\n",
       "      <td>5.70</td>\n",
       "      <td>2</td>\n",
       "    </tr>\n",
       "  </tbody>\n",
       "</table>\n",
       "<p>5 rows × 21 columns</p>\n",
       "</div>"
      ],
      "text/plain": [
       "               Country                    Region  Population (millions)   HDI  \\\n",
       "0          Afghanistan  Middle East/Central Asia                  29.82  0.46   \n",
       "1              Albania   Northern/Eastern Europe                   3.16  0.73   \n",
       "2              Algeria                    Africa                  38.48  0.73   \n",
       "3               Angola                    Africa                  20.82  0.52   \n",
       "4  Antigua and Barbuda             Latin America                   0.09  0.78   \n",
       "\n",
       "  GDP per Capita  Cropland Footprint  Grazing Footprint  Forest Footprint  \\\n",
       "0        $614.66                0.30               0.20              0.08   \n",
       "1      $4,534.37                0.78               0.22              0.25   \n",
       "2      $5,430.57                0.60               0.16              0.17   \n",
       "3      $4,665.91                0.33               0.15              0.12   \n",
       "4     $13,205.10                 NaN                NaN               NaN   \n",
       "\n",
       "   Carbon Footprint  Fish Footprint  ...  Cropland  Grazing Land  Forest Land  \\\n",
       "0              0.18            0.00  ...      0.24          0.20         0.02   \n",
       "1              0.87            0.02  ...      0.55          0.21         0.29   \n",
       "2              1.14            0.01  ...      0.24          0.27         0.03   \n",
       "3              0.20            0.09  ...      0.20          1.42         0.64   \n",
       "4               NaN             NaN  ...       NaN           NaN          NaN   \n",
       "\n",
       "   Fishing Water  Urban Land  Total Biocapacity  \\\n",
       "0           0.00        0.04               0.50   \n",
       "1           0.07        0.06               1.18   \n",
       "2           0.01        0.03               0.59   \n",
       "3           0.26        0.04               2.55   \n",
       "4            NaN         NaN               0.94   \n",
       "\n",
       "   Biocapacity Deficit or Reserve  Earths Required  Countries Required  \\\n",
       "0                           -0.30             0.46                1.60   \n",
       "1                           -1.03             1.27                1.87   \n",
       "2                           -1.53             1.22                3.61   \n",
       "3                            1.61             0.54                0.37   \n",
       "4                           -4.44             3.11                5.70   \n",
       "\n",
       "   Data Quality  \n",
       "0             6  \n",
       "1             6  \n",
       "2             5  \n",
       "3             6  \n",
       "4             2  \n",
       "\n",
       "[5 rows x 21 columns]"
      ]
     },
     "execution_count": 3,
     "metadata": {},
     "output_type": "execute_result"
    }
   ],
   "source": [
    "footprint = pd.read_csv(\"countries.csv\")\n",
    "print(footprint.shape)\n",
    "footprint.head()"
   ]
  },
  {
   "cell_type": "code",
   "execution_count": 4,
   "metadata": {
    "_kg_hide-input": true,
    "_kg_hide-output": true,
    "_uuid": "c0c1032bcf3268dee179ba0868faab53a0e473df"
   },
   "outputs": [
    {
     "name": "stderr",
     "output_type": "stream",
     "text": [
      "C:\\Users\\Sahil\\AppData\\Local\\Temp\\ipykernel_8180\\1597995531.py:1: DtypeWarning: Columns (2) have mixed types. Specify dtype option on import or set low_memory=False.\n",
      "  trade = pd.read_csv(\"commodity_trade_statistics_data.csv\")\n"
     ]
    },
    {
     "name": "stdout",
     "output_type": "stream",
     "text": [
      "(8225871, 10)\n"
     ]
    },
    {
     "data": {
      "text/html": [
       "<div>\n",
       "<style scoped>\n",
       "    .dataframe tbody tr th:only-of-type {\n",
       "        vertical-align: middle;\n",
       "    }\n",
       "\n",
       "    .dataframe tbody tr th {\n",
       "        vertical-align: top;\n",
       "    }\n",
       "\n",
       "    .dataframe thead th {\n",
       "        text-align: right;\n",
       "    }\n",
       "</style>\n",
       "<table border=\"1\" class=\"dataframe\">\n",
       "  <thead>\n",
       "    <tr style=\"text-align: right;\">\n",
       "      <th></th>\n",
       "      <th>Country</th>\n",
       "      <th>year</th>\n",
       "      <th>comm_code</th>\n",
       "      <th>commodity</th>\n",
       "      <th>flow</th>\n",
       "      <th>trade_usd</th>\n",
       "      <th>weight_kg</th>\n",
       "      <th>quantity_name</th>\n",
       "      <th>quantity</th>\n",
       "      <th>category</th>\n",
       "    </tr>\n",
       "  </thead>\n",
       "  <tbody>\n",
       "    <tr>\n",
       "      <th>0</th>\n",
       "      <td>Afghanistan</td>\n",
       "      <td>2016</td>\n",
       "      <td>10410</td>\n",
       "      <td>Sheep, live</td>\n",
       "      <td>Export</td>\n",
       "      <td>6088</td>\n",
       "      <td>2339.0</td>\n",
       "      <td>Number of items</td>\n",
       "      <td>51.0</td>\n",
       "      <td>01_live_animals</td>\n",
       "    </tr>\n",
       "    <tr>\n",
       "      <th>1</th>\n",
       "      <td>Afghanistan</td>\n",
       "      <td>2016</td>\n",
       "      <td>10420</td>\n",
       "      <td>Goats, live</td>\n",
       "      <td>Export</td>\n",
       "      <td>3958</td>\n",
       "      <td>984.0</td>\n",
       "      <td>Number of items</td>\n",
       "      <td>53.0</td>\n",
       "      <td>01_live_animals</td>\n",
       "    </tr>\n",
       "    <tr>\n",
       "      <th>2</th>\n",
       "      <td>Afghanistan</td>\n",
       "      <td>2008</td>\n",
       "      <td>10210</td>\n",
       "      <td>Bovine animals, live pure-bred breeding</td>\n",
       "      <td>Import</td>\n",
       "      <td>1026804</td>\n",
       "      <td>272.0</td>\n",
       "      <td>Number of items</td>\n",
       "      <td>3769.0</td>\n",
       "      <td>01_live_animals</td>\n",
       "    </tr>\n",
       "    <tr>\n",
       "      <th>3</th>\n",
       "      <td>Albania</td>\n",
       "      <td>2016</td>\n",
       "      <td>10290</td>\n",
       "      <td>Bovine animals, live, except pure-bred breeding</td>\n",
       "      <td>Import</td>\n",
       "      <td>2414533</td>\n",
       "      <td>1114023.0</td>\n",
       "      <td>Number of items</td>\n",
       "      <td>6853.0</td>\n",
       "      <td>01_live_animals</td>\n",
       "    </tr>\n",
       "    <tr>\n",
       "      <th>4</th>\n",
       "      <td>Albania</td>\n",
       "      <td>2016</td>\n",
       "      <td>10392</td>\n",
       "      <td>Swine, live except pure-bred breeding &gt; 50 kg</td>\n",
       "      <td>Import</td>\n",
       "      <td>14265937</td>\n",
       "      <td>9484953.0</td>\n",
       "      <td>Number of items</td>\n",
       "      <td>96040.0</td>\n",
       "      <td>01_live_animals</td>\n",
       "    </tr>\n",
       "  </tbody>\n",
       "</table>\n",
       "</div>"
      ],
      "text/plain": [
       "       Country  year comm_code  \\\n",
       "0  Afghanistan  2016     10410   \n",
       "1  Afghanistan  2016     10420   \n",
       "2  Afghanistan  2008     10210   \n",
       "3      Albania  2016     10290   \n",
       "4      Albania  2016     10392   \n",
       "\n",
       "                                         commodity    flow  trade_usd  \\\n",
       "0                                      Sheep, live  Export       6088   \n",
       "1                                      Goats, live  Export       3958   \n",
       "2          Bovine animals, live pure-bred breeding  Import    1026804   \n",
       "3  Bovine animals, live, except pure-bred breeding  Import    2414533   \n",
       "4    Swine, live except pure-bred breeding > 50 kg  Import   14265937   \n",
       "\n",
       "   weight_kg    quantity_name  quantity         category  \n",
       "0     2339.0  Number of items      51.0  01_live_animals  \n",
       "1      984.0  Number of items      53.0  01_live_animals  \n",
       "2      272.0  Number of items    3769.0  01_live_animals  \n",
       "3  1114023.0  Number of items    6853.0  01_live_animals  \n",
       "4  9484953.0  Number of items   96040.0  01_live_animals  "
      ]
     },
     "execution_count": 4,
     "metadata": {},
     "output_type": "execute_result"
    }
   ],
   "source": [
    "trade = pd.read_csv(\"commodity_trade_statistics_data.csv\")\n",
    "trade = trade.rename(columns={'country_or_area': 'Country'})\n",
    "print(trade.shape)\n",
    "trade.head()"
   ]
  },
  {
   "cell_type": "code",
   "execution_count": 5,
   "metadata": {
    "_kg_hide-input": true,
    "_kg_hide-output": true,
    "_uuid": "bbc6a6ed2e75e1a903f455bccc555d9439dc1aac"
   },
   "outputs": [
    {
     "name": "stdout",
     "output_type": "stream",
     "text": [
      "Import       208\n",
      "Export       206\n",
      "Re-Import    102\n",
      "Name: flow, dtype: int64\n"
     ]
    },
    {
     "data": {
      "text/html": [
       "<div>\n",
       "<style scoped>\n",
       "    .dataframe tbody tr th:only-of-type {\n",
       "        vertical-align: middle;\n",
       "    }\n",
       "\n",
       "    .dataframe tbody tr th {\n",
       "        vertical-align: top;\n",
       "    }\n",
       "\n",
       "    .dataframe thead th {\n",
       "        text-align: right;\n",
       "    }\n",
       "</style>\n",
       "<table border=\"1\" class=\"dataframe\">\n",
       "  <thead>\n",
       "    <tr style=\"text-align: right;\">\n",
       "      <th></th>\n",
       "      <th>index</th>\n",
       "      <th>Country</th>\n",
       "      <th>flow</th>\n",
       "      <th>trade_usd</th>\n",
       "    </tr>\n",
       "  </thead>\n",
       "  <tbody>\n",
       "    <tr>\n",
       "      <th>0</th>\n",
       "      <td>0</td>\n",
       "      <td>Afghanistan</td>\n",
       "      <td>Export</td>\n",
       "      <td>8780222349</td>\n",
       "    </tr>\n",
       "    <tr>\n",
       "      <th>1</th>\n",
       "      <td>2</td>\n",
       "      <td>Albania</td>\n",
       "      <td>Export</td>\n",
       "      <td>47544871187</td>\n",
       "    </tr>\n",
       "    <tr>\n",
       "      <th>2</th>\n",
       "      <td>5</td>\n",
       "      <td>Algeria</td>\n",
       "      <td>Export</td>\n",
       "      <td>1764159930121</td>\n",
       "    </tr>\n",
       "    <tr>\n",
       "      <th>3</th>\n",
       "      <td>8</td>\n",
       "      <td>Andorra</td>\n",
       "      <td>Export</td>\n",
       "      <td>3644090536</td>\n",
       "    </tr>\n",
       "    <tr>\n",
       "      <th>4</th>\n",
       "      <td>11</td>\n",
       "      <td>Angola</td>\n",
       "      <td>Export</td>\n",
       "      <td>868304901687</td>\n",
       "    </tr>\n",
       "  </tbody>\n",
       "</table>\n",
       "</div>"
      ],
      "text/plain": [
       "   index      Country    flow      trade_usd\n",
       "0      0  Afghanistan  Export     8780222349\n",
       "1      2      Albania  Export    47544871187\n",
       "2      5      Algeria  Export  1764159930121\n",
       "3      8      Andorra  Export     3644090536\n",
       "4     11       Angola  Export   868304901687"
      ]
     },
     "execution_count": 5,
     "metadata": {},
     "output_type": "execute_result"
    }
   ],
   "source": [
    "# recode levels\n",
    "def recode(levels):\n",
    "    if levels == 'Re-Export':\n",
    "        return 'Export'\n",
    "    else:\n",
    "        return levels\n",
    "\n",
    "trade['flow'] = trade['flow'].apply(recode)\n",
    "country_trade = trade.groupby([\"Country\",\"flow\"])[\"trade_usd\"].sum().reset_index()\n",
    "print(country_trade['flow'].value_counts())\n",
    "# just query the exports leave out the imports\n",
    "country_exptrade = country_trade.loc[(country_trade['flow'] == 'Export')].reset_index()\n",
    "country_exptrade.head()"
   ]
  },
  {
   "cell_type": "markdown",
   "metadata": {
    "_uuid": "10c64750242a9fff6ac5d3ec5d2a60330e16aa12"
   },
   "source": [
    "> # **Merge Data**"
   ]
  },
  {
   "cell_type": "code",
   "execution_count": 6,
   "metadata": {
    "_kg_hide-input": true,
    "_kg_hide-output": true,
    "_uuid": "59de65dc92253d8e2d923f31864d4725d95cd0b4"
   },
   "outputs": [],
   "source": [
    "def recode_country(countries):\n",
    "    if countries == 'Bolivia, Plurinational State of':\n",
    "        return 'Bolivia'\n",
    "    elif countries == 'Bolivia (Plurinational State of)':\n",
    "        return 'Bolivia'\n",
    "    elif countries == 'Bosnia and Herzegovina':\n",
    "        return 'Bosnia Herzegovina'\n",
    "    elif countries == 'Central African Rep.':\n",
    "        return 'Central African Republic'\n",
    "    elif countries == 'Congo, Democratic Republic of the':\n",
    "        return 'Congo'\n",
    "    elif countries == 'Congo, Republic of':\n",
    "        return 'Congo'\n",
    "    elif countries == 'Congo, Democratic Republic of':\n",
    "        return 'Congo'\n",
    "    elif countries == \"Côte d'Ivoire\":\n",
    "        return 'CotedeIvoire'\n",
    "    elif countries == \"Cote d'Ivoire\":\n",
    "        return 'CotedeIvoire'\n",
    "    elif countries == \"Dominican Rep.\":\n",
    "        return \"Dominican Republic\"\n",
    "    elif countries == \"Fmr Fed. Rep. of Germany\":\n",
    "        return 'Germany'\n",
    "    elif countries == \"Korea, Democratic People's Republic of\":\n",
    "        return 'Korea, Republic of'\n",
    "    elif countries == \"Rep. of Korea\":\n",
    "        return 'Korea, Republic of'\n",
    "    elif countries == \"Lao People's Dem. Rep.\":\n",
    "        return \"Lao People's Democratic Republic\"\n",
    "    elif countries == 'Macedonia, The former Yugoslav Republic of':\n",
    "        return 'Macedonia'\n",
    "    elif countries == \"Macedonia TFYR\":\n",
    "        return 'Macedonia'\n",
    "    elif countries == \"TFYR of Macedonia\":\n",
    "        return 'Macedonia'\n",
    "    elif countries == 'Moldova, Republic of':\n",
    "        return 'Moldova'\n",
    "    elif countries == 'Rep. of Moldova':\n",
    "        return 'Moldova'\n",
    "    elif countries == \"Palestine, State ofa\":\n",
    "        return 'State of Palestine'\n",
    "    elif countries == 'Solomon Islands':\n",
    "        return 'Solomon Isds'\n",
    "    elif countries == 'Iran, Islamic Republic of':\n",
    "        return 'Iran'\n",
    "    elif countries == 'Saint Vincent and the Grenadines':\n",
    "        return 'Saint Vincent and Grenadines'\n",
    "    elif countries == 'So. African Customs Union':\n",
    "        return 'South Africa'\n",
    "    elif countries == \"Fmr Sudan\":\n",
    "        return 'Sudan'\n",
    "    elif countries == 'Venezuela, Bolivarian Republic of':\n",
    "        return 'Venezuela'\n",
    "    elif countries == 'United Rep. of Tanzania':\n",
    "        return 'Tanzania, United Republic of'\n",
    "    elif countries == \"United States\":\n",
    "        return 'USA'\n",
    "    elif countries == \"United States of America\":\n",
    "        return 'USA'\n",
    "    else:\n",
    "        return countries\n",
    "\n",
    "countries['Country'] = countries['Country'].apply(recode_country)\n",
    "footprint['Country'] = footprint['Country'].apply(recode_country)\n",
    "country_exptrade['Country'] = country_exptrade['Country'].apply(recode_country)"
   ]
  },
  {
   "cell_type": "code",
   "execution_count": 7,
   "metadata": {
    "_kg_hide-input": true,
    "_kg_hide-output": true,
    "_uuid": "10c2af05c59c10c70350ed2db5264d30f24523e1"
   },
   "outputs": [
    {
     "name": "stdout",
     "output_type": "stream",
     "text": [
      "(196, 28)\n"
     ]
    },
    {
     "data": {
      "text/html": [
       "<div>\n",
       "<style scoped>\n",
       "    .dataframe tbody tr th:only-of-type {\n",
       "        vertical-align: middle;\n",
       "    }\n",
       "\n",
       "    .dataframe tbody tr th {\n",
       "        vertical-align: top;\n",
       "    }\n",
       "\n",
       "    .dataframe thead th {\n",
       "        text-align: right;\n",
       "    }\n",
       "</style>\n",
       "<table border=\"1\" class=\"dataframe\">\n",
       "  <thead>\n",
       "    <tr style=\"text-align: right;\">\n",
       "      <th></th>\n",
       "      <th>Country</th>\n",
       "      <th>Region</th>\n",
       "      <th>Population (millions)</th>\n",
       "      <th>HDI</th>\n",
       "      <th>GDP per Capita</th>\n",
       "      <th>Cropland Footprint</th>\n",
       "      <th>Grazing Footprint</th>\n",
       "      <th>Forest Footprint</th>\n",
       "      <th>Carbon Footprint</th>\n",
       "      <th>Fish Footprint</th>\n",
       "      <th>...</th>\n",
       "      <th>Earths Required</th>\n",
       "      <th>Countries Required</th>\n",
       "      <th>Data Quality</th>\n",
       "      <th>ISO</th>\n",
       "      <th>MPI Urban</th>\n",
       "      <th>Headcount Ratio Urban</th>\n",
       "      <th>Intensity of Deprivation Urban</th>\n",
       "      <th>MPI Rural</th>\n",
       "      <th>Headcount Ratio Rural</th>\n",
       "      <th>Intensity of Deprivation Rural</th>\n",
       "    </tr>\n",
       "  </thead>\n",
       "  <tbody>\n",
       "    <tr>\n",
       "      <th>0</th>\n",
       "      <td>Afghanistan</td>\n",
       "      <td>Middle East/Central Asia</td>\n",
       "      <td>29.82</td>\n",
       "      <td>0.46</td>\n",
       "      <td>$614.66</td>\n",
       "      <td>0.30</td>\n",
       "      <td>0.20</td>\n",
       "      <td>0.08</td>\n",
       "      <td>0.18</td>\n",
       "      <td>0.00</td>\n",
       "      <td>...</td>\n",
       "      <td>0.46</td>\n",
       "      <td>1.60</td>\n",
       "      <td>6</td>\n",
       "      <td>AFG</td>\n",
       "      <td>0.132</td>\n",
       "      <td>28.8</td>\n",
       "      <td>45.8</td>\n",
       "      <td>0.347</td>\n",
       "      <td>64.66</td>\n",
       "      <td>53.6</td>\n",
       "    </tr>\n",
       "    <tr>\n",
       "      <th>1</th>\n",
       "      <td>Albania</td>\n",
       "      <td>Northern/Eastern Europe</td>\n",
       "      <td>3.16</td>\n",
       "      <td>0.73</td>\n",
       "      <td>$4,534.37</td>\n",
       "      <td>0.78</td>\n",
       "      <td>0.22</td>\n",
       "      <td>0.25</td>\n",
       "      <td>0.87</td>\n",
       "      <td>0.02</td>\n",
       "      <td>...</td>\n",
       "      <td>1.27</td>\n",
       "      <td>1.87</td>\n",
       "      <td>6</td>\n",
       "      <td>ALB</td>\n",
       "      <td>0.003</td>\n",
       "      <td>0.8</td>\n",
       "      <td>37.7</td>\n",
       "      <td>0.007</td>\n",
       "      <td>1.87</td>\n",
       "      <td>37.7</td>\n",
       "    </tr>\n",
       "    <tr>\n",
       "      <th>2</th>\n",
       "      <td>Algeria</td>\n",
       "      <td>Africa</td>\n",
       "      <td>38.48</td>\n",
       "      <td>0.73</td>\n",
       "      <td>$5,430.57</td>\n",
       "      <td>0.60</td>\n",
       "      <td>0.16</td>\n",
       "      <td>0.17</td>\n",
       "      <td>1.14</td>\n",
       "      <td>0.01</td>\n",
       "      <td>...</td>\n",
       "      <td>1.22</td>\n",
       "      <td>3.61</td>\n",
       "      <td>5</td>\n",
       "      <td>DZA</td>\n",
       "      <td>0.003</td>\n",
       "      <td>0.7</td>\n",
       "      <td>36.9</td>\n",
       "      <td>0.011</td>\n",
       "      <td>2.70</td>\n",
       "      <td>40.0</td>\n",
       "    </tr>\n",
       "    <tr>\n",
       "      <th>3</th>\n",
       "      <td>Angola</td>\n",
       "      <td>Africa</td>\n",
       "      <td>20.82</td>\n",
       "      <td>0.52</td>\n",
       "      <td>$4,665.91</td>\n",
       "      <td>0.33</td>\n",
       "      <td>0.15</td>\n",
       "      <td>0.12</td>\n",
       "      <td>0.20</td>\n",
       "      <td>0.09</td>\n",
       "      <td>...</td>\n",
       "      <td>0.54</td>\n",
       "      <td>0.37</td>\n",
       "      <td>6</td>\n",
       "      <td>NaN</td>\n",
       "      <td>NaN</td>\n",
       "      <td>NaN</td>\n",
       "      <td>NaN</td>\n",
       "      <td>NaN</td>\n",
       "      <td>NaN</td>\n",
       "      <td>NaN</td>\n",
       "    </tr>\n",
       "    <tr>\n",
       "      <th>4</th>\n",
       "      <td>Antigua and Barbuda</td>\n",
       "      <td>Latin America</td>\n",
       "      <td>0.09</td>\n",
       "      <td>0.78</td>\n",
       "      <td>$13,205.10</td>\n",
       "      <td>NaN</td>\n",
       "      <td>NaN</td>\n",
       "      <td>NaN</td>\n",
       "      <td>NaN</td>\n",
       "      <td>NaN</td>\n",
       "      <td>...</td>\n",
       "      <td>3.11</td>\n",
       "      <td>5.70</td>\n",
       "      <td>2</td>\n",
       "      <td>NaN</td>\n",
       "      <td>NaN</td>\n",
       "      <td>NaN</td>\n",
       "      <td>NaN</td>\n",
       "      <td>NaN</td>\n",
       "      <td>NaN</td>\n",
       "      <td>NaN</td>\n",
       "    </tr>\n",
       "    <tr>\n",
       "      <th>...</th>\n",
       "      <td>...</td>\n",
       "      <td>...</td>\n",
       "      <td>...</td>\n",
       "      <td>...</td>\n",
       "      <td>...</td>\n",
       "      <td>...</td>\n",
       "      <td>...</td>\n",
       "      <td>...</td>\n",
       "      <td>...</td>\n",
       "      <td>...</td>\n",
       "      <td>...</td>\n",
       "      <td>...</td>\n",
       "      <td>...</td>\n",
       "      <td>...</td>\n",
       "      <td>...</td>\n",
       "      <td>...</td>\n",
       "      <td>...</td>\n",
       "      <td>...</td>\n",
       "      <td>...</td>\n",
       "      <td>...</td>\n",
       "      <td>...</td>\n",
       "    </tr>\n",
       "    <tr>\n",
       "      <th>191</th>\n",
       "      <td>Maldives</td>\n",
       "      <td>NaN</td>\n",
       "      <td>NaN</td>\n",
       "      <td>NaN</td>\n",
       "      <td>NaN</td>\n",
       "      <td>NaN</td>\n",
       "      <td>NaN</td>\n",
       "      <td>NaN</td>\n",
       "      <td>NaN</td>\n",
       "      <td>NaN</td>\n",
       "      <td>...</td>\n",
       "      <td>NaN</td>\n",
       "      <td>NaN</td>\n",
       "      <td>NaN</td>\n",
       "      <td>MDV</td>\n",
       "      <td>0.005</td>\n",
       "      <td>1.6</td>\n",
       "      <td>33.3</td>\n",
       "      <td>0.024</td>\n",
       "      <td>6.76</td>\n",
       "      <td>35.8</td>\n",
       "    </tr>\n",
       "    <tr>\n",
       "      <th>192</th>\n",
       "      <td>Belize</td>\n",
       "      <td>NaN</td>\n",
       "      <td>NaN</td>\n",
       "      <td>NaN</td>\n",
       "      <td>NaN</td>\n",
       "      <td>NaN</td>\n",
       "      <td>NaN</td>\n",
       "      <td>NaN</td>\n",
       "      <td>NaN</td>\n",
       "      <td>NaN</td>\n",
       "      <td>...</td>\n",
       "      <td>NaN</td>\n",
       "      <td>NaN</td>\n",
       "      <td>NaN</td>\n",
       "      <td>BLZ</td>\n",
       "      <td>0.006</td>\n",
       "      <td>1.6</td>\n",
       "      <td>37.9</td>\n",
       "      <td>0.028</td>\n",
       "      <td>6.98</td>\n",
       "      <td>39.9</td>\n",
       "    </tr>\n",
       "    <tr>\n",
       "      <th>193</th>\n",
       "      <td>Vanuatu</td>\n",
       "      <td>NaN</td>\n",
       "      <td>NaN</td>\n",
       "      <td>NaN</td>\n",
       "      <td>NaN</td>\n",
       "      <td>NaN</td>\n",
       "      <td>NaN</td>\n",
       "      <td>NaN</td>\n",
       "      <td>NaN</td>\n",
       "      <td>NaN</td>\n",
       "      <td>...</td>\n",
       "      <td>NaN</td>\n",
       "      <td>NaN</td>\n",
       "      <td>NaN</td>\n",
       "      <td>VUT</td>\n",
       "      <td>0.039</td>\n",
       "      <td>9.8</td>\n",
       "      <td>39.3</td>\n",
       "      <td>0.155</td>\n",
       "      <td>36.13</td>\n",
       "      <td>43.0</td>\n",
       "    </tr>\n",
       "    <tr>\n",
       "      <th>194</th>\n",
       "      <td>Sudan</td>\n",
       "      <td>NaN</td>\n",
       "      <td>NaN</td>\n",
       "      <td>NaN</td>\n",
       "      <td>NaN</td>\n",
       "      <td>NaN</td>\n",
       "      <td>NaN</td>\n",
       "      <td>NaN</td>\n",
       "      <td>NaN</td>\n",
       "      <td>NaN</td>\n",
       "      <td>...</td>\n",
       "      <td>NaN</td>\n",
       "      <td>NaN</td>\n",
       "      <td>NaN</td>\n",
       "      <td>SDN</td>\n",
       "      <td>0.133</td>\n",
       "      <td>28.7</td>\n",
       "      <td>46.3</td>\n",
       "      <td>0.356</td>\n",
       "      <td>64.50</td>\n",
       "      <td>55.1</td>\n",
       "    </tr>\n",
       "    <tr>\n",
       "      <th>195</th>\n",
       "      <td>South Sudan</td>\n",
       "      <td>NaN</td>\n",
       "      <td>NaN</td>\n",
       "      <td>NaN</td>\n",
       "      <td>NaN</td>\n",
       "      <td>NaN</td>\n",
       "      <td>NaN</td>\n",
       "      <td>NaN</td>\n",
       "      <td>NaN</td>\n",
       "      <td>NaN</td>\n",
       "      <td>...</td>\n",
       "      <td>NaN</td>\n",
       "      <td>NaN</td>\n",
       "      <td>NaN</td>\n",
       "      <td>SSD</td>\n",
       "      <td>0.459</td>\n",
       "      <td>82.5</td>\n",
       "      <td>55.7</td>\n",
       "      <td>0.591</td>\n",
       "      <td>94.00</td>\n",
       "      <td>62.8</td>\n",
       "    </tr>\n",
       "  </tbody>\n",
       "</table>\n",
       "<p>196 rows × 28 columns</p>\n",
       "</div>"
      ],
      "text/plain": [
       "                 Country                    Region  Population (millions)  \\\n",
       "0            Afghanistan  Middle East/Central Asia                  29.82   \n",
       "1                Albania   Northern/Eastern Europe                   3.16   \n",
       "2                Algeria                    Africa                  38.48   \n",
       "3                 Angola                    Africa                  20.82   \n",
       "4    Antigua and Barbuda             Latin America                   0.09   \n",
       "..                   ...                       ...                    ...   \n",
       "191             Maldives                       NaN                    NaN   \n",
       "192               Belize                       NaN                    NaN   \n",
       "193              Vanuatu                       NaN                    NaN   \n",
       "194                Sudan                       NaN                    NaN   \n",
       "195          South Sudan                       NaN                    NaN   \n",
       "\n",
       "      HDI GDP per Capita  Cropland Footprint  Grazing Footprint  \\\n",
       "0    0.46        $614.66                0.30               0.20   \n",
       "1    0.73      $4,534.37                0.78               0.22   \n",
       "2    0.73      $5,430.57                0.60               0.16   \n",
       "3    0.52      $4,665.91                0.33               0.15   \n",
       "4    0.78     $13,205.10                 NaN                NaN   \n",
       "..    ...            ...                 ...                ...   \n",
       "191   NaN            NaN                 NaN                NaN   \n",
       "192   NaN            NaN                 NaN                NaN   \n",
       "193   NaN            NaN                 NaN                NaN   \n",
       "194   NaN            NaN                 NaN                NaN   \n",
       "195   NaN            NaN                 NaN                NaN   \n",
       "\n",
       "     Forest Footprint  Carbon Footprint  Fish Footprint  ...  Earths Required  \\\n",
       "0                0.08              0.18            0.00  ...             0.46   \n",
       "1                0.25              0.87            0.02  ...             1.27   \n",
       "2                0.17              1.14            0.01  ...             1.22   \n",
       "3                0.12              0.20            0.09  ...             0.54   \n",
       "4                 NaN               NaN             NaN  ...             3.11   \n",
       "..                ...               ...             ...  ...              ...   \n",
       "191               NaN               NaN             NaN  ...              NaN   \n",
       "192               NaN               NaN             NaN  ...              NaN   \n",
       "193               NaN               NaN             NaN  ...              NaN   \n",
       "194               NaN               NaN             NaN  ...              NaN   \n",
       "195               NaN               NaN             NaN  ...              NaN   \n",
       "\n",
       "     Countries Required  Data Quality  ISO  MPI Urban  Headcount Ratio Urban  \\\n",
       "0                  1.60             6  AFG      0.132                   28.8   \n",
       "1                  1.87             6  ALB      0.003                    0.8   \n",
       "2                  3.61             5  DZA      0.003                    0.7   \n",
       "3                  0.37             6  NaN        NaN                    NaN   \n",
       "4                  5.70             2  NaN        NaN                    NaN   \n",
       "..                  ...           ...  ...        ...                    ...   \n",
       "191                 NaN           NaN  MDV      0.005                    1.6   \n",
       "192                 NaN           NaN  BLZ      0.006                    1.6   \n",
       "193                 NaN           NaN  VUT      0.039                    9.8   \n",
       "194                 NaN           NaN  SDN      0.133                   28.7   \n",
       "195                 NaN           NaN  SSD      0.459                   82.5   \n",
       "\n",
       "     Intensity of Deprivation Urban  MPI Rural  Headcount Ratio Rural  \\\n",
       "0                              45.8      0.347                  64.66   \n",
       "1                              37.7      0.007                   1.87   \n",
       "2                              36.9      0.011                   2.70   \n",
       "3                               NaN        NaN                    NaN   \n",
       "4                               NaN        NaN                    NaN   \n",
       "..                              ...        ...                    ...   \n",
       "191                            33.3      0.024                   6.76   \n",
       "192                            37.9      0.028                   6.98   \n",
       "193                            39.3      0.155                  36.13   \n",
       "194                            46.3      0.356                  64.50   \n",
       "195                            55.7      0.591                  94.00   \n",
       "\n",
       "     Intensity of Deprivation Rural  \n",
       "0                              53.6  \n",
       "1                              37.7  \n",
       "2                              40.0  \n",
       "3                               NaN  \n",
       "4                               NaN  \n",
       "..                              ...  \n",
       "191                            35.8  \n",
       "192                            39.9  \n",
       "193                            43.0  \n",
       "194                            55.1  \n",
       "195                            62.8  \n",
       "\n",
       "[196 rows x 28 columns]"
      ]
     },
     "execution_count": 7,
     "metadata": {},
     "output_type": "execute_result"
    }
   ],
   "source": [
    "MERGE = footprint.merge(countries, how=\"outer\", on=\"Country\")\n",
    "print(MERGE.shape)\n",
    "MERGE"
   ]
  },
  {
   "cell_type": "code",
   "execution_count": 8,
   "metadata": {
    "_uuid": "b84e02a4cc02247446a7e20fca0933e711fe9adc"
   },
   "outputs": [
    {
     "name": "stdout",
     "output_type": "stream",
     "text": [
      "(223, 29)\n"
     ]
    },
    {
     "data": {
      "text/html": [
       "<div>\n",
       "<style scoped>\n",
       "    .dataframe tbody tr th:only-of-type {\n",
       "        vertical-align: middle;\n",
       "    }\n",
       "\n",
       "    .dataframe tbody tr th {\n",
       "        vertical-align: top;\n",
       "    }\n",
       "\n",
       "    .dataframe thead th {\n",
       "        text-align: right;\n",
       "    }\n",
       "</style>\n",
       "<table border=\"1\" class=\"dataframe\">\n",
       "  <thead>\n",
       "    <tr style=\"text-align: right;\">\n",
       "      <th></th>\n",
       "      <th>Country</th>\n",
       "      <th>Region</th>\n",
       "      <th>Population (millions)</th>\n",
       "      <th>HDI</th>\n",
       "      <th>GDP per Capita</th>\n",
       "      <th>Cropland Footprint</th>\n",
       "      <th>Grazing Footprint</th>\n",
       "      <th>Forest Footprint</th>\n",
       "      <th>Carbon Footprint</th>\n",
       "      <th>Fish Footprint</th>\n",
       "      <th>...</th>\n",
       "      <th>Countries Required</th>\n",
       "      <th>Data Quality</th>\n",
       "      <th>ISO</th>\n",
       "      <th>MPI Urban</th>\n",
       "      <th>Headcount Ratio Urban</th>\n",
       "      <th>Intensity of Deprivation Urban</th>\n",
       "      <th>MPI Rural</th>\n",
       "      <th>Headcount Ratio Rural</th>\n",
       "      <th>Intensity of Deprivation Rural</th>\n",
       "      <th>trade_usd</th>\n",
       "    </tr>\n",
       "  </thead>\n",
       "  <tbody>\n",
       "    <tr>\n",
       "      <th>0</th>\n",
       "      <td>Afghanistan</td>\n",
       "      <td>Middle East/Central Asia</td>\n",
       "      <td>29.82</td>\n",
       "      <td>0.46</td>\n",
       "      <td>$614.66</td>\n",
       "      <td>0.30</td>\n",
       "      <td>0.20</td>\n",
       "      <td>0.08</td>\n",
       "      <td>0.18</td>\n",
       "      <td>0.00</td>\n",
       "      <td>...</td>\n",
       "      <td>1.60</td>\n",
       "      <td>6</td>\n",
       "      <td>AFG</td>\n",
       "      <td>0.132</td>\n",
       "      <td>28.8</td>\n",
       "      <td>45.8</td>\n",
       "      <td>0.347</td>\n",
       "      <td>64.66</td>\n",
       "      <td>53.6</td>\n",
       "      <td>8.780222e+09</td>\n",
       "    </tr>\n",
       "    <tr>\n",
       "      <th>1</th>\n",
       "      <td>Albania</td>\n",
       "      <td>Northern/Eastern Europe</td>\n",
       "      <td>3.16</td>\n",
       "      <td>0.73</td>\n",
       "      <td>$4,534.37</td>\n",
       "      <td>0.78</td>\n",
       "      <td>0.22</td>\n",
       "      <td>0.25</td>\n",
       "      <td>0.87</td>\n",
       "      <td>0.02</td>\n",
       "      <td>...</td>\n",
       "      <td>1.87</td>\n",
       "      <td>6</td>\n",
       "      <td>ALB</td>\n",
       "      <td>0.003</td>\n",
       "      <td>0.8</td>\n",
       "      <td>37.7</td>\n",
       "      <td>0.007</td>\n",
       "      <td>1.87</td>\n",
       "      <td>37.7</td>\n",
       "      <td>4.754487e+10</td>\n",
       "    </tr>\n",
       "    <tr>\n",
       "      <th>2</th>\n",
       "      <td>Algeria</td>\n",
       "      <td>Africa</td>\n",
       "      <td>38.48</td>\n",
       "      <td>0.73</td>\n",
       "      <td>$5,430.57</td>\n",
       "      <td>0.60</td>\n",
       "      <td>0.16</td>\n",
       "      <td>0.17</td>\n",
       "      <td>1.14</td>\n",
       "      <td>0.01</td>\n",
       "      <td>...</td>\n",
       "      <td>3.61</td>\n",
       "      <td>5</td>\n",
       "      <td>DZA</td>\n",
       "      <td>0.003</td>\n",
       "      <td>0.7</td>\n",
       "      <td>36.9</td>\n",
       "      <td>0.011</td>\n",
       "      <td>2.70</td>\n",
       "      <td>40.0</td>\n",
       "      <td>1.764160e+12</td>\n",
       "    </tr>\n",
       "    <tr>\n",
       "      <th>199</th>\n",
       "      <td>Andorra</td>\n",
       "      <td>NaN</td>\n",
       "      <td>NaN</td>\n",
       "      <td>NaN</td>\n",
       "      <td>NaN</td>\n",
       "      <td>NaN</td>\n",
       "      <td>NaN</td>\n",
       "      <td>NaN</td>\n",
       "      <td>NaN</td>\n",
       "      <td>NaN</td>\n",
       "      <td>...</td>\n",
       "      <td>NaN</td>\n",
       "      <td>NaN</td>\n",
       "      <td>NaN</td>\n",
       "      <td>NaN</td>\n",
       "      <td>NaN</td>\n",
       "      <td>NaN</td>\n",
       "      <td>NaN</td>\n",
       "      <td>NaN</td>\n",
       "      <td>NaN</td>\n",
       "      <td>3.644091e+09</td>\n",
       "    </tr>\n",
       "    <tr>\n",
       "      <th>3</th>\n",
       "      <td>Angola</td>\n",
       "      <td>Africa</td>\n",
       "      <td>20.82</td>\n",
       "      <td>0.52</td>\n",
       "      <td>$4,665.91</td>\n",
       "      <td>0.33</td>\n",
       "      <td>0.15</td>\n",
       "      <td>0.12</td>\n",
       "      <td>0.20</td>\n",
       "      <td>0.09</td>\n",
       "      <td>...</td>\n",
       "      <td>0.37</td>\n",
       "      <td>6</td>\n",
       "      <td>NaN</td>\n",
       "      <td>NaN</td>\n",
       "      <td>NaN</td>\n",
       "      <td>NaN</td>\n",
       "      <td>NaN</td>\n",
       "      <td>NaN</td>\n",
       "      <td>NaN</td>\n",
       "      <td>8.683049e+11</td>\n",
       "    </tr>\n",
       "  </tbody>\n",
       "</table>\n",
       "<p>5 rows × 29 columns</p>\n",
       "</div>"
      ],
      "text/plain": [
       "         Country                    Region  Population (millions)   HDI  \\\n",
       "0    Afghanistan  Middle East/Central Asia                  29.82  0.46   \n",
       "1        Albania   Northern/Eastern Europe                   3.16  0.73   \n",
       "2        Algeria                    Africa                  38.48  0.73   \n",
       "199      Andorra                       NaN                    NaN   NaN   \n",
       "3         Angola                    Africa                  20.82  0.52   \n",
       "\n",
       "    GDP per Capita  Cropland Footprint  Grazing Footprint  Forest Footprint  \\\n",
       "0          $614.66                0.30               0.20              0.08   \n",
       "1        $4,534.37                0.78               0.22              0.25   \n",
       "2        $5,430.57                0.60               0.16              0.17   \n",
       "199            NaN                 NaN                NaN               NaN   \n",
       "3        $4,665.91                0.33               0.15              0.12   \n",
       "\n",
       "     Carbon Footprint  Fish Footprint  ...  Countries Required  Data Quality  \\\n",
       "0                0.18            0.00  ...                1.60             6   \n",
       "1                0.87            0.02  ...                1.87             6   \n",
       "2                1.14            0.01  ...                3.61             5   \n",
       "199               NaN             NaN  ...                 NaN           NaN   \n",
       "3                0.20            0.09  ...                0.37             6   \n",
       "\n",
       "     ISO  MPI Urban  Headcount Ratio Urban  Intensity of Deprivation Urban  \\\n",
       "0    AFG      0.132                   28.8                            45.8   \n",
       "1    ALB      0.003                    0.8                            37.7   \n",
       "2    DZA      0.003                    0.7                            36.9   \n",
       "199  NaN        NaN                    NaN                             NaN   \n",
       "3    NaN        NaN                    NaN                             NaN   \n",
       "\n",
       "     MPI Rural  Headcount Ratio Rural  Intensity of Deprivation Rural  \\\n",
       "0        0.347                  64.66                            53.6   \n",
       "1        0.007                   1.87                            37.7   \n",
       "2        0.011                   2.70                            40.0   \n",
       "199        NaN                    NaN                             NaN   \n",
       "3          NaN                    NaN                             NaN   \n",
       "\n",
       "        trade_usd  \n",
       "0    8.780222e+09  \n",
       "1    4.754487e+10  \n",
       "2    1.764160e+12  \n",
       "199  3.644091e+09  \n",
       "3    8.683049e+11  \n",
       "\n",
       "[5 rows x 29 columns]"
      ]
     },
     "execution_count": 8,
     "metadata": {},
     "output_type": "execute_result"
    }
   ],
   "source": [
    "MERGE2 = MERGE.merge(country_exptrade, how=\"outer\", on=\"Country\")\n",
    "MERGE2 = MERGE2.drop(columns=['index', 'flow'])\n",
    "MERGE2 = MERGE2.sort_values(['Country'], ascending=[True])\n",
    "print(MERGE2.shape)\n",
    "MERGE2.head()"
   ]
  },
  {
   "cell_type": "markdown",
   "metadata": {
    "_uuid": "ce48b8a33d307776fa6538fc708b3240d57f0b1a"
   },
   "source": [
    "# **START ANALYSIS**"
   ]
  },
  {
   "cell_type": "code",
   "execution_count": 9,
   "metadata": {
    "_kg_hide-input": true,
    "_kg_hide-output": true,
    "_uuid": "ca0aecfbfc00607d1dbf43209949e01e8209b204",
    "scrolled": true
   },
   "outputs": [],
   "source": [
    "MERGE2 = MERGE2.reset_index()\n",
    "MERGE2['ExpTrade_Mill'] = MERGE2['trade_usd']/1000000\n",
    "FIRST_WORLD = MERGE2[MERGE2['Country'].isin(developed_countries)].reset_index()\n",
    "developing = set(MERGE2[\"Country\"]).difference(set(developed_countries))\n",
    "DEVELOPING = MERGE2[MERGE2['Country'].isin(developing)].reset_index()"
   ]
  },
  {
   "cell_type": "code",
   "execution_count": 10,
   "metadata": {
    "_kg_hide-input": true,
    "_kg_hide-output": true,
    "_uuid": "952c07f07173c9ca2ccb717a3f65d8aa950b014d"
   },
   "outputs": [
    {
     "data": {
      "text/plain": [
       "count    177.000000\n",
       "mean       1.798927\n",
       "std        1.887528\n",
       "min        0.000000\n",
       "25%        0.420000\n",
       "50%        1.140000\n",
       "75%        2.600000\n",
       "max       12.650000\n",
       "Name: Carbon Footprint, dtype: float64"
      ]
     },
     "execution_count": 10,
     "metadata": {},
     "output_type": "execute_result"
    }
   ],
   "source": [
    "MERGE2['ExpTrade_Mill'] = MERGE2['trade_usd']/1000000\n",
    "MERGE2.columns\n",
    "MERGE2['Carbon Footprint'].describe()"
   ]
  },
  {
   "cell_type": "markdown",
   "metadata": {
    "_uuid": "7f2b640f99605692e17b0c322357e8f7bf7e8c24"
   },
   "source": [
    "# **PLOTS**\n",
    "\n",
    "#### NOTE: the size of the bubble represents Carbon Footprint"
   ]
  },
  {
   "cell_type": "code",
   "execution_count": 12,
   "metadata": {},
   "outputs": [
    {
     "name": "stdout",
     "output_type": "stream",
     "text": [
      "Collecting chart_studio\n",
      "  Downloading chart_studio-1.1.0-py3-none-any.whl (64 kB)\n",
      "Requirement already satisfied: requests in d:\\anaconda\\lib\\site-packages (from chart_studio) (2.27.1)\n",
      "Requirement already satisfied: plotly in d:\\anaconda\\lib\\site-packages (from chart_studio) (5.6.0)\n",
      "Requirement already satisfied: six in d:\\anaconda\\lib\\site-packages (from chart_studio) (1.16.0)\n",
      "Collecting retrying>=1.3.3\n",
      "  Downloading retrying-1.3.4-py3-none-any.whl (11 kB)\n",
      "Requirement already satisfied: tenacity>=6.2.0 in d:\\anaconda\\lib\\site-packages (from plotly->chart_studio) (8.0.1)\n",
      "Requirement already satisfied: urllib3<1.27,>=1.21.1 in d:\\anaconda\\lib\\site-packages (from requests->chart_studio) (1.26.9)\n",
      "Requirement already satisfied: idna<4,>=2.5 in d:\\anaconda\\lib\\site-packages (from requests->chart_studio) (3.3)\n",
      "Requirement already satisfied: charset-normalizer~=2.0.0 in d:\\anaconda\\lib\\site-packages (from requests->chart_studio) (2.0.4)\n",
      "Requirement already satisfied: certifi>=2017.4.17 in d:\\anaconda\\lib\\site-packages (from requests->chart_studio) (2021.10.8)\n",
      "Installing collected packages: retrying, chart-studio\n",
      "Successfully installed chart-studio-1.1.0 retrying-1.3.4\n",
      "Note: you may need to restart the kernel to use updated packages.\n"
     ]
    },
    {
     "name": "stderr",
     "output_type": "stream",
     "text": [
      "WARNING: Ignoring invalid distribution -ensorflow-intel (d:\\anaconda\\lib\\site-packages)\n",
      "WARNING: Ignoring invalid distribution -ensorflow-intel (d:\\anaconda\\lib\\site-packages)\n",
      "WARNING: Ignoring invalid distribution -ensorflow-intel (d:\\anaconda\\lib\\site-packages)\n",
      "WARNING: Ignoring invalid distribution -ensorflow-intel (d:\\anaconda\\lib\\site-packages)\n",
      "WARNING: Ignoring invalid distribution -ensorflow-intel (d:\\anaconda\\lib\\site-packages)\n",
      "WARNING: Ignoring invalid distribution -ensorflow-intel (d:\\anaconda\\lib\\site-packages)\n",
      "WARNING: Ignoring invalid distribution -ensorflow-intel (d:\\anaconda\\lib\\site-packages)\n",
      "WARNING: Ignoring invalid distribution -ensorflow-intel (d:\\anaconda\\lib\\site-packages)\n"
     ]
    }
   ],
   "source": [
    "pip install chart_studio"
   ]
  },
  {
   "cell_type": "code",
   "execution_count": 13,
   "metadata": {
    "_kg_hide-input": true,
    "_uuid": "b701ff532c1a06cbdd86617dae182b4c94f7b37b"
   },
   "outputs": [
    {
     "data": {
      "text/html": [
       "        <script type=\"text/javascript\">\n",
       "        window.PlotlyConfig = {MathJaxConfig: 'local'};\n",
       "        if (window.MathJax) {MathJax.Hub.Config({SVG: {font: \"STIX-Web\"}});}\n",
       "        if (typeof require !== 'undefined') {\n",
       "        require.undef(\"plotly\");\n",
       "        requirejs.config({\n",
       "            paths: {\n",
       "                'plotly': ['https://cdn.plot.ly/plotly-2.9.0.min']\n",
       "            }\n",
       "        });\n",
       "        require(['plotly'], function(Plotly) {\n",
       "            window._Plotly = Plotly;\n",
       "        });\n",
       "        }\n",
       "        </script>\n",
       "        "
      ]
     },
     "metadata": {},
     "output_type": "display_data"
    },
    {
     "data": {
      "application/vnd.plotly.v1+json": {
       "config": {
        "linkText": "Export to plot.ly",
        "plotlyServerURL": "https://plot.ly",
        "showLink": false
       },
       "data": [
        {
         "marker": {
          "line": {
           "width": 2
          },
          "size": [
           1.14,
           0.2,
           0.51,
           2.36,
           0.12,
           0.04,
           0,
           0.19,
           0.08,
           0.01,
           0.25,
           0.47,
           0.47,
           0.07,
           0.07,
           0.26,
           0,
           1.02,
           3.17,
           0.03,
           0.07,
           0.43,
           0.21,
           0.43,
           0.16,
           0.09,
           0.2,
           0.51,
           0.14,
           2.33,
           0.07,
           0.07,
           0.1,
           0.55,
           1.99,
           0.67,
           0.17,
           1.02,
           0.1,
           0.21,
           0.07,
           3.27,
           0.37,
           0.3,
           0.07,
           0.07,
           2.34,
           2.34,
           0.67,
           0.17,
           0.31,
           1.11,
           0.08,
           0.24,
           0.53
          ],
          "sizemode": "area",
          "sizeref": 0.00253,
          "symbol": "circle"
         },
         "mode": "markers",
         "name": "Africa",
         "text": [
          "Country: Algeria<br>Total Ecological Footprint: 2.12<br>GDP per capita: $5,430.57<br>Population (Millions): 38.48<br>Year: 2016",
          "Country: Angola<br>Total Ecological Footprint: 0.93<br>GDP per capita: $4,665.91<br>Population (Millions): 20.82<br>Year: 2016",
          "Country: Benin<br>Total Ecological Footprint: 1.41<br>GDP per capita: $746.83<br>Population (Millions): 10.05<br>Year: 2016",
          "Country: Botswana<br>Total Ecological Footprint: 3.83<br>GDP per capita: $7,743.50<br>Population (Millions): 2.0<br>Year: 2016",
          "Country: Burkina Faso<br>Total Ecological Footprint: 1.21<br>GDP per capita: $671.07<br>Population (Millions): 16.46<br>Year: 2016",
          "Country: Burundi<br>Total Ecological Footprint: 0.8<br>GDP per capita: $276.69<br>Population (Millions): 9.85<br>Year: 2016",
          "Country: Cabo Verde<br>Total Ecological Footprint: 2.52<br>GDP per capita: $3,801.45<br>Population (Millions): 0.49<br>Year: 2016",
          "Country: Cameroon<br>Total Ecological Footprint: 1.17<br>GDP per capita: $1,271.21<br>Population (Millions): 21.7<br>Year: 2016",
          "Country: Central African Republic<br>Total Ecological Footprint: 1.24<br>GDP per capita: $495.04<br>Population (Millions): 4.53<br>Year: 2016",
          "Country: Chad<br>Total Ecological Footprint: 1.46<br>GDP per capita: $1,161.22<br>Population (Millions): 12.45<br>Year: 2016",
          "Country: Comoros<br>Total Ecological Footprint: 1.03<br>GDP per capita: $860.24<br>Population (Millions): 0.72<br>Year: 2016",
          "Country: Congo<br>Total Ecological Footprint: 1.29<br>GDP per capita: $1,943.69<br>Population (Millions): 4.34<br>Year: 2016",
          "Country: Congo<br>Total Ecological Footprint: 1.29<br>GDP per capita: $1,943.69<br>Population (Millions): 4.34<br>Year: 2016",
          "Country: Congo<br>Total Ecological Footprint: 0.82<br>GDP per capita: $338.63<br>Population (Millions): 65.7<br>Year: 2016",
          "Country: Congo<br>Total Ecological Footprint: 0.82<br>GDP per capita: $338.63<br>Population (Millions): 65.7<br>Year: 2016",
          "Country: CotedeIvoire<br>Total Ecological Footprint: 1.27<br>GDP per capita: $1,016.83<br>Population (Millions): 19.84<br>Year: 2016",
          "Country: Djibouti<br>Total Ecological Footprint: 2.19<br>GDP per capita: $1,433.17<br>Population (Millions): 0.86<br>Year: 2016",
          "Country: Egypt<br>Total Ecological Footprint: 2.15<br>GDP per capita: $2,930.33<br>Population (Millions): 80.72<br>Year: 2016",
          "Country: Equatorial Guinea<br>Total Ecological Footprint: 3.97<br>GDP per capita: $24,064.00<br>Population (Millions): 0.74<br>Year: 2016",
          "Country: Eritrea<br>Total Ecological Footprint: 0.42<br>GDP per capita: $439.73<br>Population (Millions): 6.13<br>Year: 2016",
          "Country: Ethiopia<br>Total Ecological Footprint: 1.02<br>GDP per capita: $379.38<br>Population (Millions): 91.73<br>Year: 2016",
          "Country: Gabon<br>Total Ecological Footprint: 2.02<br>GDP per capita: $11,989.00<br>Population (Millions): 1.63<br>Year: 2016",
          "Country: Gambia<br>Total Ecological Footprint: 1.03<br>GDP per capita: $505.76<br>Population (Millions): 1.79<br>Year: 2016",
          "Country: Ghana<br>Total Ecological Footprint: 1.97<br>GDP per capita: $1,627.90<br>Population (Millions): 25.37<br>Year: 2016",
          "Country: Guinea<br>Total Ecological Footprint: 1.41<br>GDP per capita: $459.09<br>Population (Millions): 11.45<br>Year: 2016",
          "Country: Guinea-Bissau<br>Total Ecological Footprint: 1.53<br>GDP per capita: $681.25<br>Population (Millions): 1.66<br>Year: 2016",
          "Country: Kenya<br>Total Ecological Footprint: 1.03<br>GDP per capita: $1,062.11<br>Population (Millions): 43.18<br>Year: 2016",
          "Country: Lesotho<br>Total Ecological Footprint: 1.66<br>GDP per capita: $1,338.42<br>Population (Millions): 2.05<br>Year: 2016",
          "Country: Liberia<br>Total Ecological Footprint: 1.21<br>GDP per capita: $397.38<br>Population (Millions): 4.19<br>Year: 2016",
          "Country: Libyan Arab Jamahiriya<br>Total Ecological Footprint: 3.69<br>GDP per capita: $5,859.43<br>Population (Millions): 6.16<br>Year: 2016",
          "Country: Madagascar<br>Total Ecological Footprint: 0.99<br>GDP per capita: $456.33<br>Population (Millions): 22.29<br>Year: 2016",
          "Country: Malawi<br>Total Ecological Footprint: 0.81<br>GDP per capita: $493.84<br>Population (Millions): 15.91<br>Year: 2016",
          "Country: Mali<br>Total Ecological Footprint: 1.53<br>GDP per capita: $741.22<br>Population (Millions): 14.85<br>Year: 2016",
          "Country: Mauritania<br>Total Ecological Footprint: 2.54<br>GDP per capita: $1,524.39<br>Population (Millions): 3.8<br>Year: 2016",
          "Country: Mauritius<br>Total Ecological Footprint: 3.46<br>GDP per capita: $8,811.15<br>Population (Millions): 1.24<br>Year: 2016",
          "Country: Morocco<br>Total Ecological Footprint: 1.68<br>GDP per capita: $3,149.43<br>Population (Millions): 32.52<br>Year: 2016",
          "Country: Mozambique<br>Total Ecological Footprint: 0.87<br>GDP per capita: $538.82<br>Population (Millions): 25.2<br>Year: 2016",
          "Country: Namibia<br>Total Ecological Footprint: 2.48<br>GDP per capita: $5,880.80<br>Population (Millions): 2.26<br>Year: 2016",
          "Country: Niger<br>Total Ecological Footprint: 1.56<br>GDP per capita: $410.91<br>Population (Millions): 17.16<br>Year: 2016",
          "Country: Nigeria<br>Total Ecological Footprint: 1.16<br>GDP per capita: $2,612.12<br>Population (Millions): 168.83<br>Year: 2016",
          "Country: Rwanda<br>Total Ecological Footprint: 0.87<br>GDP per capita: $628.08<br>Population (Millions): 11.46<br>Year: 2016",
          "Country: Réunion<br>Total Ecological Footprint: 3.65<br>GDP per capita: 0<br>Population (Millions): 0.86<br>Year: 2016",
          "Country: Sao Tome and Principe<br>Total Ecological Footprint: 1.49<br>GDP per capita: $1,384.53<br>Population (Millions): 0.19<br>Year: 2016",
          "Country: Senegal<br>Total Ecological Footprint: 1.21<br>GDP per capita: $1,079.27<br>Population (Millions): 13.73<br>Year: 2016",
          "Country: Sierra Leone<br>Total Ecological Footprint: 1.24<br>GDP per capita: $499.89<br>Population (Millions): 5.98<br>Year: 2016",
          "Country: Somalia<br>Total Ecological Footprint: 1.24<br>GDP per capita: 0<br>Population (Millions): 10.2<br>Year: 2016",
          "Country: South Africa<br>Total Ecological Footprint: 3.31<br>GDP per capita: $8,089.87<br>Population (Millions): 52.39<br>Year: 2016",
          "Country: South Africa<br>Total Ecological Footprint: 3.31<br>GDP per capita: $8,089.87<br>Population (Millions): 52.39<br>Year: 2016",
          "Country: Swaziland<br>Total Ecological Footprint: 2.01<br>GDP per capita: $4,657.48<br>Population (Millions): 1.23<br>Year: 2016",
          "Country: Tanzania, United Republic of<br>Total Ecological Footprint: 1.32<br>GDP per capita: $765.33<br>Population (Millions): 47.78<br>Year: 2016",
          "Country: Togo<br>Total Ecological Footprint: 1.13<br>GDP per capita: $580.86<br>Population (Millions): 6.64<br>Year: 2016",
          "Country: Tunisia<br>Total Ecological Footprint: 2.34<br>GDP per capita: $4,305.07<br>Population (Millions): 10.88<br>Year: 2016",
          "Country: Uganda<br>Total Ecological Footprint: 1.24<br>GDP per capita: $601.35<br>Population (Millions): 36.35<br>Year: 2016",
          "Country: Zambia<br>Total Ecological Footprint: 0.99<br>GDP per capita: $1,740.64<br>Population (Millions): 14.08<br>Year: 2016",
          "Country: Zimbabwe<br>Total Ecological Footprint: 1.37<br>GDP per capita: $865.91<br>Population (Millions): 13.72<br>Year: 2016"
         ],
         "type": "scatter",
         "x": [
          0.73,
          0.52,
          0.48,
          0.69,
          0.39,
          0.39,
          0.64,
          0.5,
          0.37,
          0.39,
          0.5,
          0.57,
          0.57,
          0.42,
          0.42,
          0,
          0.46,
          0.69,
          0.58,
          0.39,
          0.43,
          0.67,
          0.44,
          0.57,
          0.41,
          0.42,
          0.54,
          0.48,
          0.42,
          0.74,
          0.51,
          0.43,
          0.41,
          0.5,
          0.77,
          0.62,
          0.41,
          0.62,
          0.34,
          0.5,
          0.48,
          0,
          0.55,
          0.46,
          0.4,
          0,
          0.66,
          0.66,
          0.53,
          0.51,
          0.47,
          0.72,
          0.48,
          0.58,
          0.49
         ],
         "y": [
          1764159.930121,
          868304.901687,
          17188.74242,
          165289.469843,
          36715.78927,
          5875.022509,
          8576.22901,
          106063.255358,
          4247.102371,
          0,
          311.324201,
          142288.592207,
          142288.592207,
          142288.592207,
          142288.592207,
          306234.552473,
          908.894136,
          571013.705449,
          0,
          13.738916,
          73294.890111,
          109856.378335,
          2196.244925,
          180774.275476,
          28661.671803,
          140.104723,
          79838.49571,
          6603.186763,
          0,
          0,
          39630.482973,
          31987.416226,
          24614.910011,
          31323.977034,
          67749.089213,
          360050.581938,
          45530.394133,
          97930.874262,
          22825.630812,
          969191.899795,
          8842.242436,
          639.994335,
          222.241411,
          39286.890314,
          1265.493049,
          0,
          1238714.709979,
          254876.820776,
          13633.225132,
          67153.551095,
          15209.369044,
          286264.000632,
          34128.229548,
          92277.699719,
          68338.762312
         ]
        },
        {
         "marker": {
          "line": {
           "width": 2
          },
          "size": [
           0,
           5,
           5.9
          ],
          "sizemode": "area",
          "sizeref": 0.00253
         },
         "mode": "markers",
         "name": "North America",
         "text": [
          "Country: Bermuda<br>Total Ecological Footprint: 5.77<br>GDP per capita: $70,626.30<br>Population (Millions): 0.06<br>Year: 2016",
          "Country: Canada<br>Total Ecological Footprint: 8.17<br>GDP per capita: $52,145.40<br>Population (Millions): 34.84<br>Year: 2016",
          "Country: USA<br>Total Ecological Footprint: 8.22<br>GDP per capita: $49,725.00<br>Population (Millions): 317.5<br>Year: 2016"
         ],
         "type": "scatter",
         "x": [
          0,
          0.91,
          0.91
         ],
         "y": [
          365.262036,
          15233081.163918,
          31700102.843309
         ]
        },
        {
         "marker": {
          "line": {
           "width": 2
          },
          "size": [
           0.18,
           0.89,
           1.25,
           6.19,
           0.83,
           1.72,
           1.36,
           4.59,
           1.09,
           4.59,
           6.89,
           0.95,
           2.52,
           5.8,
           9.57,
           4.21,
           0.81,
           0.13,
           1.92,
           4.13,
           6.37,
           1.41,
           0.42
          ],
          "sizemode": "area",
          "sizeref": 0.00253
         },
         "mode": "markers",
         "name": "Middle East/Central Asia",
         "text": [
          "Country: Afghanistan<br>Total Ecological Footprint: 0.79<br>GDP per capita: $614.66<br>Population (Millions): 29.82<br>Year: 2016",
          "Country: Armenia<br>Total Ecological Footprint: 2.23<br>GDP per capita: $3,426.39<br>Population (Millions): 2.97<br>Year: 2016",
          "Country: Azerbaijan<br>Total Ecological Footprint: 2.31<br>GDP per capita: $7,106.04<br>Population (Millions): 9.31<br>Year: 2016",
          "Country: Bahrain<br>Total Ecological Footprint: 7.49<br>GDP per capita: $24,299.00<br>Population (Millions): 1.32<br>Year: 2016",
          "Country: Georgia<br>Total Ecological Footprint: 1.58<br>GDP per capita: $3,710.70<br>Population (Millions): 4.36<br>Year: 2016",
          "Country: Iran<br>Total Ecological Footprint: 2.79<br>GDP per capita: $7,511.10<br>Population (Millions): 76.42<br>Year: 2016",
          "Country: Iraq<br>Total Ecological Footprint: 1.88<br>GDP per capita: $5,848.54<br>Population (Millions): 32.78<br>Year: 2016",
          "Country: Israel<br>Total Ecological Footprint: 6.22<br>GDP per capita: $33,718.90<br>Population (Millions): 7.64<br>Year: 2016",
          "Country: Jordan<br>Total Ecological Footprint: 2.1<br>GDP per capita: $4,615.17<br>Population (Millions): 7.01<br>Year: 2016",
          "Country: Kazakhstan<br>Total Ecological Footprint: 5.55<br>GDP per capita: $11,278.00<br>Population (Millions): 16.27<br>Year: 2016",
          "Country: Kuwait<br>Total Ecological Footprint: 8.13<br>GDP per capita: $41,830.50<br>Population (Millions): 3.25<br>Year: 2016",
          "Country: Kyrgyzstan<br>Total Ecological Footprint: 1.91<br>GDP per capita: $1,116.37<br>Population (Millions): 5.47<br>Year: 2016",
          "Country: Lebanon<br>Total Ecological Footprint: 3.84<br>GDP per capita: $9,143.86<br>Population (Millions): 4.65<br>Year: 2016",
          "Country: Oman<br>Total Ecological Footprint: 7.52<br>GDP per capita: $22,622.80<br>Population (Millions): 3.31<br>Year: 2016",
          "Country: Qatar<br>Total Ecological Footprint: 10.8<br>GDP per capita: $99,431.50<br>Population (Millions): 2.05<br>Year: 2016",
          "Country: Saudi Arabia<br>Total Ecological Footprint: 5.61<br>GDP per capita: $23,593.80<br>Population (Millions): 28.29<br>Year: 2016",
          "Country: Syrian Arab Republic<br>Total Ecological Footprint: 1.51<br>GDP per capita: 0<br>Population (Millions): 21.89<br>Year: 2016",
          "Country: Tajikistan<br>Total Ecological Footprint: 0.91<br>GDP per capita: $836.17<br>Population (Millions): 8.01<br>Year: 2016",
          "Country: Turkey<br>Total Ecological Footprint: 3.33<br>GDP per capita: $10,437.70<br>Population (Millions): 74.0<br>Year: 2016",
          "Country: Turkmenistan<br>Total Ecological Footprint: 5.47<br>GDP per capita: $5,290.14<br>Population (Millions): 5.17<br>Year: 2016",
          "Country: United Arab Emirates<br>Total Ecological Footprint: 7.93<br>GDP per capita: $40,817.40<br>Population (Millions): 9.206<br>Year: 2016",
          "Country: Uzbekistan<br>Total Ecological Footprint: 2.32<br>GDP per capita: $1,560.85<br>Population (Millions): 28.54<br>Year: 2016",
          "Country: Yemen<br>Total Ecological Footprint: 1.03<br>GDP per capita: $1,302.30<br>Population (Millions): 23.85<br>Year: 2016"
         ],
         "type": "scatter",
         "x": [
          0.46,
          0.73,
          0.75,
          0.82,
          0.75,
          0.76,
          0.65,
          0.89,
          0.75,
          0.78,
          0.82,
          0.65,
          0.76,
          0.79,
          0.85,
          0.83,
          0.62,
          0.62,
          0.76,
          0.68,
          0.83,
          0.67,
          0.5
         ],
         "y": [
          8780.222349,
          40446.217031,
          445786.578451,
          454172.159687,
          45636.059638,
          1034554.259508,
          994420.836791,
          1501212.784744,
          176585.22382,
          1436982.554229,
          1557687.908264,
          33088.620513,
          61076.868458,
          695328.948684,
          1241796.959047,
          4023988.218166,
          0,
          692.346,
          2075304.938465,
          5201.180675,
          6129567.032802,
          0,
          71615.411671
         ]
        },
        {
         "marker": {
          "line": {
           "width": 2
          },
          "size": [
           0.87,
           2.57,
           1.74,
           2.21,
           2.06,
           1.03,
           2.13,
           0,
           3.87,
           1.66,
           4.26,
           1.92
          ],
          "sizemode": "area",
          "sizeref": 0.00253
         },
         "mode": "markers",
         "name": "Northern/Eastern Europe",
         "text": [
          "Country: Albania<br>Total Ecological Footprint: 2.21<br>GDP per capita: $4,534.37<br>Population (Millions): 3.16<br>Year: 2016",
          "Country: Belarus<br>Total Ecological Footprint: 5.09<br>GDP per capita: $6,300.45<br>Population (Millions): 9.4<br>Year: 2016",
          "Country: Bosnia Herzegovina<br>Total Ecological Footprint: 3.12<br>GDP per capita: $4,708.85<br>Population (Millions): 3.83<br>Year: 2016",
          "Country: Croatia<br>Total Ecological Footprint: 3.92<br>GDP per capita: $14,522.80<br>Population (Millions): 4.31<br>Year: 2016",
          "Country: Macedonia<br>Total Ecological Footprint: 3.26<br>GDP per capita: $5,174.89<br>Population (Millions): 2.11<br>Year: 2016",
          "Country: Moldova<br>Total Ecological Footprint: 1.78<br>GDP per capita: $1,971.03<br>Population (Millions): 3.51<br>Year: 2016",
          "Country: Montenegro<br>Total Ecological Footprint: 3.78<br>GDP per capita: $7,251.60<br>Population (Millions): 0.62<br>Year: 2016",
          "Country: Norway<br>Total Ecological Footprint: 4.98<br>GDP per capita: $100,172.00<br>Population (Millions): 4.99<br>Year: 2016",
          "Country: Russian Federation<br>Total Ecological Footprint: 5.69<br>GDP per capita: $13,320.20<br>Population (Millions): 143.17<br>Year: 2016",
          "Country: Serbia<br>Total Ecological Footprint: 2.7<br>GDP per capita: $6,426.18<br>Population (Millions): 9.55<br>Year: 2016",
          "Country: Switzerland<br>Total Ecological Footprint: 5.79<br>GDP per capita: $88,506.20<br>Population (Millions): 8.0<br>Year: 2016",
          "Country: Ukraine<br>Total Ecological Footprint: 2.84<br>GDP per capita: $3,589.63<br>Population (Millions): 45.53<br>Year: 2016"
         ],
         "type": "scatter",
         "x": [
          0.73,
          0.8,
          0.73,
          0.82,
          0.74,
          0.68,
          0.8,
          0.94,
          0.79,
          0.76,
          0.93,
          0.74
         ],
         "y": [
          47544.871187,
          785837.732412,
          113371.731548,
          342334.149063,
          61844.406928,
          45094.893149,
          6814.403932,
          2429308.733411,
          6564472.499199,
          149527.210347,
          4380822.133916,
          874576.69606
         ]
        },
        {
         "marker": {
          "line": {
           "width": 2
          },
          "size": [
           0,
           1.08,
           0,
           4.46,
           3.28,
           0.67,
           0.91,
           0,
           3.56,
           2.04,
           0.67,
           1.37,
           1.23,
           1.47,
           0.86,
           1.08,
           0.84,
           1.58,
           0,
           2.61,
           0.7,
           1.25,
           0.15,
           0.6,
           1.09,
           1.73,
           1.74,
           0,
           0.45,
           1.44,
           0.97,
           0.67,
           3.34,
           1.56,
           0,
           3.01,
           6.89,
           0.98,
           2.13
          ],
          "sizemode": "area",
          "sizeref": 0.00253
         },
         "mode": "markers",
         "name": "Latin America",
         "text": [
          "Country: Antigua and Barbuda<br>Total Ecological Footprint: 5.38<br>GDP per capita: $13,205.10<br>Population (Millions): 0.09<br>Year: 2016",
          "Country: Argentina<br>Total Ecological Footprint: 3.14<br>GDP per capita: $13,540.00<br>Population (Millions): 41.09<br>Year: 2016",
          "Country: Aruba<br>Total Ecological Footprint: 11.88<br>GDP per capita: 0<br>Population (Millions): 0.1<br>Year: 2016",
          "Country: Bahamas<br>Total Ecological Footprint: 6.84<br>GDP per capita: $22,647.30<br>Population (Millions): 0.37<br>Year: 2016",
          "Country: Barbados<br>Total Ecological Footprint: 4.48<br>GDP per capita: $15,722.80<br>Population (Millions): 0.28<br>Year: 2016",
          "Country: Bolivia<br>Total Ecological Footprint: 2.96<br>GDP per capita: $2,253.09<br>Population (Millions): 10.5<br>Year: 2016",
          "Country: Brazil<br>Total Ecological Footprint: 3.11<br>GDP per capita: $13,237.60<br>Population (Millions): 198.66<br>Year: 2016",
          "Country: British Virgin Islands<br>Total Ecological Footprint: 2.86<br>GDP per capita: 0<br>Population (Millions): 0.03<br>Year: 2016",
          "Country: Cayman Islands<br>Total Ecological Footprint: 5.65<br>GDP per capita: 0<br>Population (Millions): 0.06<br>Year: 2016",
          "Country: Chile<br>Total Ecological Footprint: 4.36<br>GDP per capita: $14,525.80<br>Population (Millions): 17.46<br>Year: 2016",
          "Country: Colombia<br>Total Ecological Footprint: 1.87<br>GDP per capita: $7,305.22<br>Population (Millions): 47.7<br>Year: 2016",
          "Country: Costa Rica<br>Total Ecological Footprint: 2.84<br>GDP per capita: $8,979.96<br>Population (Millions): 4.8<br>Year: 2016",
          "Country: Cuba<br>Total Ecological Footprint: 1.95<br>GDP per capita: $5,175.94<br>Population (Millions): 11.27<br>Year: 2016",
          "Country: Dominica<br>Total Ecological Footprint: 2.57<br>GDP per capita: $7,088.01<br>Population (Millions): 0.07<br>Year: 2016",
          "Country: Dominican Republic<br>Total Ecological Footprint: 1.53<br>GDP per capita: $6,085.89<br>Population (Millions): 10.28<br>Year: 2016",
          "Country: Ecuador<br>Total Ecological Footprint: 2.17<br>GDP per capita: $5,192.88<br>Population (Millions): 15.49<br>Year: 2016",
          "Country: El Salvador<br>Total Ecological Footprint: 2.07<br>GDP per capita: $3,696.33<br>Population (Millions): 6.3<br>Year: 2016",
          "Country: French Guiana<br>Total Ecological Footprint: 2.34<br>GDP per capita: 0<br>Population (Millions): 0.24<br>Year: 2016",
          "Country: Grenada<br>Total Ecological Footprint: 2.98<br>GDP per capita: $7,410.48<br>Population (Millions): 0.1<br>Year: 2016",
          "Country: Guadeloupe<br>Total Ecological Footprint: 3.23<br>GDP per capita: 0<br>Population (Millions): 0.46<br>Year: 2016",
          "Country: Guatemala<br>Total Ecological Footprint: 1.89<br>GDP per capita: $3,233.80<br>Population (Millions): 15.08<br>Year: 2016",
          "Country: Guyana<br>Total Ecological Footprint: 3.07<br>GDP per capita: $3,269.46<br>Population (Millions): 0.8<br>Year: 2016",
          "Country: Haiti<br>Total Ecological Footprint: 0.61<br>GDP per capita: $749.13<br>Population (Millions): 10.17<br>Year: 2016",
          "Country: Honduras<br>Total Ecological Footprint: 1.68<br>GDP per capita: $2,269.51<br>Population (Millions): 7.94<br>Year: 2016",
          "Country: Jamaica<br>Total Ecological Footprint: 1.89<br>GDP per capita: $5,226.30<br>Population (Millions): 2.77<br>Year: 2016",
          "Country: Martinique<br>Total Ecological Footprint: 2.08<br>GDP per capita: 0<br>Population (Millions): 0.4<br>Year: 2016",
          "Country: Mexico<br>Total Ecological Footprint: 2.89<br>GDP per capita: $10,123.90<br>Population (Millions): 120.85<br>Year: 2016",
          "Country: Montserrat<br>Total Ecological Footprint: 7.78<br>GDP per capita: 0<br>Population (Millions): 0.0<br>Year: 2016",
          "Country: Nicaragua<br>Total Ecological Footprint: 1.39<br>GDP per capita: $1,626.85<br>Population (Millions): 5.99<br>Year: 2016",
          "Country: Panama<br>Total Ecological Footprint: 2.79<br>GDP per capita: $8,410.77<br>Population (Millions): 3.8<br>Year: 2016",
          "Country: Paraguay<br>Total Ecological Footprint: 4.16<br>GDP per capita: $3,557.31<br>Population (Millions): 6.69<br>Year: 2016",
          "Country: Peru<br>Total Ecological Footprint: 2.28<br>GDP per capita: $5,684.73<br>Population (Millions): 29.99<br>Year: 2016",
          "Country: Saint Kitts and Nevis<br>Total Ecological Footprint: 4.94<br>GDP per capita: $12,952.50<br>Population (Millions): 0.05<br>Year: 2016",
          "Country: Saint Lucia<br>Total Ecological Footprint: 2.45<br>GDP per capita: $7,737.20<br>Population (Millions): 0.18<br>Year: 2016",
          "Country: Saint Vincent and Grenadines<br>Total Ecological Footprint: 3.11<br>GDP per capita: $6,171.48<br>Population (Millions): 0.11<br>Year: 2016",
          "Country: Suriname<br>Total Ecological Footprint: 4.25<br>GDP per capita: $8,190.70<br>Population (Millions): 0.54<br>Year: 2016",
          "Country: Trinidad and Tobago<br>Total Ecological Footprint: 7.92<br>GDP per capita: $18,310.80<br>Population (Millions): 1.34<br>Year: 2016",
          "Country: Uruguay<br>Total Ecological Footprint: 2.91<br>GDP per capita: $14,238.10<br>Population (Millions): 3.4<br>Year: 2016",
          "Country: Venezuela<br>Total Ecological Footprint: 3.57<br>GDP per capita: $10,237.80<br>Population (Millions): 29.96<br>Year: 2016"
         ],
         "type": "scatter",
         "x": [
          0.78,
          0.83,
          0,
          0.78,
          0.79,
          0.65,
          0.75,
          0,
          0,
          0.83,
          0.72,
          0.76,
          0.77,
          0.72,
          0.71,
          0.73,
          0.66,
          0,
          0.74,
          0,
          0.62,
          0.63,
          0.48,
          0.61,
          0.72,
          0,
          0.75,
          0,
          0.63,
          0.77,
          0.67,
          0.73,
          0.74,
          0.73,
          0.72,
          0.71,
          0.77,
          0.79,
          0.763846
         ],
         "y": [
          2714.754086,
          2102506.872655,
          4302.808896,
          27781.65855,
          19045.806716,
          205016.420508,
          5874973.448571,
          0,
          0,
          1995795.200692,
          1185514.775141,
          253783.651999,
          29906.668376,
          1590.812536,
          165509.898148,
          552393.119628,
          118906.150867,
          436.792399,
          919.643363,
          500.959707,
          185264.644056,
          30135.584161,
          1347.125413,
          56070.915585,
          49738.950509,
          692.321704,
          6361457.659653,
          65.403121,
          44011.235338,
          194455.660747,
          122495.429036,
          676451.46018,
          883.8683,
          3565.184515,
          1271.53555,
          43411.675196,
          215524.138075,
          120895.355404,
          897365.929625
         ]
        },
        {
         "marker": {
          "line": {
           "width": 2
          },
          "size": [
           4.85,
           0.26,
           0.63,
           3.24,
           0,
           2.32,
           1.06,
           2.39,
           0.61,
           0.64,
           3.69,
           4.17,
           0.68,
           0.09,
           2.1,
           2.09,
           0.09,
           0,
           0.16,
           1.78,
           2.84,
           0.38,
           0.35,
           0.34,
           0.96,
           5.91,
           0,
           0.52,
           1.54,
           0.06,
           0.88,
           0.79,
           0
          ],
          "sizemode": "area",
          "sizeref": 0.00253
         },
         "mode": "markers",
         "name": "Asia-Pacific",
         "text": [
          "Country: Australia<br>Total Ecological Footprint: 9.31<br>GDP per capita: $66,604.20<br>Population (Millions): 23.05<br>Year: 2016",
          "Country: Bangladesh<br>Total Ecological Footprint: 0.72<br>GDP per capita: $857.50<br>Population (Millions): 154.7<br>Year: 2016",
          "Country: Bhutan<br>Total Ecological Footprint: 4.84<br>GDP per capita: $2,395.00<br>Population (Millions): 0.74<br>Year: 2016",
          "Country: Brunei Darussalam<br>Total Ecological Footprint: 4.06<br>GDP per capita: $47,097.40<br>Population (Millions): 0.41<br>Year: 2016",
          "Country: Cambodia<br>Total Ecological Footprint: 1.21<br>GDP per capita: $877.64<br>Population (Millions): 14.86<br>Year: 2016",
          "Country: China<br>Total Ecological Footprint: 3.38<br>GDP per capita: $5,560.94<br>Population (Millions): 1408.04<br>Year: 2016",
          "Country: Fiji<br>Total Ecological Footprint: 2.9<br>GDP per capita: $4,201.37<br>Population (Millions): 0.88<br>Year: 2016",
          "Country: French Polynesia<br>Total Ecological Footprint: 4.73<br>GDP per capita: 0<br>Population (Millions): 0.27<br>Year: 2016",
          "Country: India<br>Total Ecological Footprint: 1.16<br>GDP per capita: $1,513.85<br>Population (Millions): 1236.69<br>Year: 2016",
          "Country: Indonesia<br>Total Ecological Footprint: 1.58<br>GDP per capita: $3,688.53<br>Population (Millions): 246.86<br>Year: 2016",
          "Country: Japan<br>Total Ecological Footprint: 5.02<br>GDP per capita: $46,201.60<br>Population (Millions): 127.25<br>Year: 2016",
          "Country: Korea, Republic of<br>Total Ecological Footprint: 5.69<br>GDP per capita: $24,155.80<br>Population (Millions): 49.0<br>Year: 2016",
          "Country: Korea, Republic of<br>Total Ecological Footprint: 1.17<br>GDP per capita: 0<br>Population (Millions): 24.76<br>Year: 2016",
          "Country: Lao People's Democratic Republic<br>Total Ecological Footprint: 1.22<br>GDP per capita: $1,236.24<br>Population (Millions): 6.65<br>Year: 2016",
          "Country: Malaysia<br>Total Ecological Footprint: 3.71<br>GDP per capita: $10,252.60<br>Population (Millions): 29.24<br>Year: 2016",
          "Country: Mongolia<br>Total Ecological Footprint: 6.08<br>GDP per capita: $3,736.07<br>Population (Millions): 2.8<br>Year: 2016",
          "Country: Myanmar<br>Total Ecological Footprint: 1.43<br>GDP per capita: $1,117.58<br>Population (Millions): 52.8<br>Year: 2016",
          "Country: Nauru<br>Total Ecological Footprint: 2.94<br>GDP per capita: 0<br>Population (Millions): 0.01<br>Year: 2016",
          "Country: Nepal<br>Total Ecological Footprint: 0.98<br>GDP per capita: $700.07<br>Population (Millions): 27.47<br>Year: 2016",
          "Country: New Caledonia<br>Total Ecological Footprint: 3.58<br>GDP per capita: 0<br>Population (Millions): 0.25<br>Year: 2016",
          "Country: New Zealand<br>Total Ecological Footprint: 5.6<br>GDP per capita: $37,488.30<br>Population (Millions): 4.46<br>Year: 2016",
          "Country: Pakistan<br>Total Ecological Footprint: 0.79<br>GDP per capita: $1,218.60<br>Population (Millions): 179.16<br>Year: 2016",
          "Country: Papua New Guinea<br>Total Ecological Footprint: 1.91<br>GDP per capita: $1,871.21<br>Population (Millions): 7.17<br>Year: 2016",
          "Country: Philippines<br>Total Ecological Footprint: 1.1<br>GDP per capita: $2,379.44<br>Population (Millions): 96.71<br>Year: 2016",
          "Country: Samoa<br>Total Ecological Footprint: 2.77<br>GDP per capita: $4,067.15<br>Population (Millions): 0.19<br>Year: 2016",
          "Country: Singapore<br>Total Ecological Footprint: 7.97<br>GDP per capita: $53,122.40<br>Population (Millions): 5.3<br>Year: 2016",
          "Country: Solomon Isds<br>Total Ecological Footprint: 1.29<br>GDP per capita: $1,647.86<br>Population (Millions): 0.55<br>Year: 2016",
          "Country: Sri Lanka<br>Total Ecological Footprint: 1.32<br>GDP per capita: $2,880.03<br>Population (Millions): 21.1<br>Year: 2016",
          "Country: Thailand<br>Total Ecological Footprint: 2.66<br>GDP per capita: $5,479.29<br>Population (Millions): 66.78<br>Year: 2016",
          "Country: Timor-Leste<br>Total Ecological Footprint: 0.48<br>GDP per capita: $5,167.86<br>Population (Millions): 1.11<br>Year: 2016",
          "Country: Tonga<br>Total Ecological Footprint: 2.7<br>GDP per capita: $4,330.90<br>Population (Millions): 0.1<br>Year: 2016",
          "Country: Viet Nam<br>Total Ecological Footprint: 1.65<br>GDP per capita: $1,532.31<br>Population (Millions): 90.8<br>Year: 2016",
          "Country: Wallis and Futuna Islands<br>Total Ecological Footprint: 2.07<br>GDP per capita: 0<br>Population (Millions): 0.01<br>Year: 2016"
         ],
         "type": "scatter",
         "x": [
          0.93,
          0.56,
          0.59,
          0.85,
          0.55,
          0.72,
          0.72,
          0,
          0.6,
          0.68,
          0.89,
          0.89,
          0,
          0.56,
          0.77,
          0.71,
          0.53,
          0,
          0.54,
          0,
          0.91,
          0.53,
          0.5,
          0.66,
          0.7,
          0.91,
          0.5,
          0.75,
          0.72,
          0.6,
          0.72,
          0.66,
          0
         ],
         "y": [
          6457274.981999,
          493720.058245,
          7898.910751,
          152763.795214,
          154268.532342,
          31559095.340109,
          30822.475216,
          6985.446469,
          5074536.760447,
          3824684.399004,
          17002378.902522,
          8460978.40081,
          8460978.40081,
          24860.670097,
          4236570.599862,
          45537.006091,
          69346.22166,
          0,
          11272.488959,
          26436.236507,
          876967.769457,
          340840.234562,
          30948.228731,
          993369.979213,
          1259.06326,
          6335882.334668,
          6817.354952,
          160517.900852,
          3155223.995626,
          433.925233,
          256.686754,
          1132453.628615,
          0
         ]
        },
        {
         "marker": {
          "line": {
           "width": 2
          },
          "size": [
           4.14,
           4.43,
           2.08,
           2.94,
           3.42,
           2.6,
           0,
           0,
           2.71,
           3.28,
           3.28,
           2.58,
           1.9,
           3.22,
           2.77,
           1.66,
           2.15,
           12.65,
           3.23,
           2.64,
           2.15,
           1.46,
           2.82,
           4.27,
           2.22,
           3.88,
           3.14
          ],
          "sizemode": "area",
          "sizeref": 0.00253
         },
         "mode": "markers",
         "name": "European Union",
         "text": [
          "Country: Austria<br>Total Ecological Footprint: 6.06<br>GDP per capita: $51,274.10<br>Population (Millions): 8.46<br>Year: 2016",
          "Country: Belgium<br>Total Ecological Footprint: 7.44<br>GDP per capita: $48,053.30<br>Population (Millions): 11.06<br>Year: 2016",
          "Country: Bulgaria<br>Total Ecological Footprint: 3.32<br>GDP per capita: $7,615.28<br>Population (Millions): 7.28<br>Year: 2016",
          "Country: Cyprus<br>Total Ecological Footprint: 4.21<br>GDP per capita: $31,454.70<br>Population (Millions): 1.13<br>Year: 2016",
          "Country: Czech Republic<br>Total Ecological Footprint: 5.19<br>GDP per capita: $21,676.30<br>Population (Millions): 10.66<br>Year: 2016",
          "Country: Denmark<br>Total Ecological Footprint: 5.51<br>GDP per capita: $61,413.60<br>Population (Millions): 5.6<br>Year: 2016",
          "Country: Estonia<br>Total Ecological Footprint: 6.86<br>GDP per capita: $17,304.40<br>Population (Millions): 1.29<br>Year: 2016",
          "Country: Finland<br>Total Ecological Footprint: 5.87<br>GDP per capita: $50,960.20<br>Population (Millions): 5.41<br>Year: 2016",
          "Country: France<br>Total Ecological Footprint: 5.14<br>GDP per capita: $45,430.30<br>Population (Millions): 63.98<br>Year: 2016",
          "Country: Germany<br>Total Ecological Footprint: 5.3<br>GDP per capita: $46,822.40<br>Population (Millions): 82.8<br>Year: 2016",
          "Country: Germany<br>Total Ecological Footprint: 5.3<br>GDP per capita: $46,822.40<br>Population (Millions): 82.8<br>Year: 2016",
          "Country: Greece<br>Total Ecological Footprint: 4.38<br>GDP per capita: $25,987.40<br>Population (Millions): 11.12<br>Year: 2016",
          "Country: Hungary<br>Total Ecological Footprint: 2.92<br>GDP per capita: $13,964.20<br>Population (Millions): 9.98<br>Year: 2016",
          "Country: Ireland<br>Total Ecological Footprint: 5.57<br>GDP per capita: $52,853.60<br>Population (Millions): 4.58<br>Year: 2016",
          "Country: Italy<br>Total Ecological Footprint: 4.61<br>GDP per capita: $38,412.00<br>Population (Millions): 60.92<br>Year: 2016",
          "Country: Latvia<br>Total Ecological Footprint: 6.29<br>GDP per capita: $13,732.00<br>Population (Millions): 2.06<br>Year: 2016",
          "Country: Lithuania<br>Total Ecological Footprint: 5.83<br>GDP per capita: $14,373.70<br>Population (Millions): 3.03<br>Year: 2016",
          "Country: Luxembourg<br>Total Ecological Footprint: 15.82<br>GDP per capita: $114,665.00<br>Population (Millions): 0.52<br>Year: 2016",
          "Country: Netherlands<br>Total Ecological Footprint: 5.28<br>GDP per capita: $53,589.90<br>Population (Millions): 16.71<br>Year: 2016",
          "Country: Poland<br>Total Ecological Footprint: 4.44<br>GDP per capita: $13,769.50<br>Population (Millions): 38.21<br>Year: 2016",
          "Country: Portugal<br>Total Ecological Footprint: 3.88<br>GDP per capita: $23,217.30<br>Population (Millions): 10.6<br>Year: 2016",
          "Country: Romania<br>Total Ecological Footprint: 2.71<br>GDP per capita: $9,213.94<br>Population (Millions): 21.76<br>Year: 2016",
          "Country: Slovakia<br>Total Ecological Footprint: 4.06<br>GDP per capita: $18,103.10<br>Population (Millions): 5.45<br>Year: 2016",
          "Country: Slovenia<br>Total Ecological Footprint: 5.81<br>GDP per capita: $25,040.50<br>Population (Millions): 2.07<br>Year: 2016",
          "Country: Spain<br>Total Ecological Footprint: 3.67<br>GDP per capita: $32,008.70<br>Population (Millions): 46.76<br>Year: 2016",
          "Country: Sweden<br>Total Ecological Footprint: 7.25<br>GDP per capita: $59,381.90<br>Population (Millions): 9.51<br>Year: 2016",
          "Country: United Kingdom<br>Total Ecological Footprint: 4.94<br>GDP per capita: $40,980.50<br>Population (Millions): 63.03<br>Year: 2016"
         ],
         "type": "scatter",
         "x": [
          0.88,
          0.89,
          0.78,
          0.85,
          0.87,
          0.92,
          0.85,
          0.88,
          0.89,
          0.91,
          0.91,
          0.86,
          0.82,
          0.91,
          0.87,
          0.81,
          0.83,
          0.89,
          0.92,
          0.84,
          0.83,
          0.79,
          0.84,
          0.88,
          0.87,
          0.9,
          0.9
         ],
         "y": [
          4366799.964415,
          12081522.398108,
          592486.351063,
          94879.164729,
          0,
          3120192.529063,
          313192.905212,
          1932684.049116,
          14066642.73453,
          1373483.360182,
          30693229.416853,
          831137.316341,
          1805465.670881,
          3135297.328862,
          11122100.801684,
          187280.897684,
          474092.668671,
          266722.475171,
          10312448.09299,
          2669675.809474,
          1171895.187865,
          871545.109762,
          991625.782332,
          397212.501128,
          5233788.264062,
          3262936.243948,
          9763266.90626
         ]
        },
        {
         "marker": {
          "line": {
           "width": 2
          },
          "size": [],
          "sizemode": "area",
          "sizeref": 0.00253
         },
         "mode": "markers",
         "name": "nan",
         "text": [],
         "type": "scatter",
         "x": [],
         "y": []
        }
       ],
       "layout": {
        "paper_bgcolor": "rgb(243, 243, 243)",
        "plot_bgcolor": "rgb(243, 243, 243)",
        "template": {
         "data": {
          "bar": [
           {
            "error_x": {
             "color": "#2a3f5f"
            },
            "error_y": {
             "color": "#2a3f5f"
            },
            "marker": {
             "line": {
              "color": "#E5ECF6",
              "width": 0.5
             },
             "pattern": {
              "fillmode": "overlay",
              "size": 10,
              "solidity": 0.2
             }
            },
            "type": "bar"
           }
          ],
          "barpolar": [
           {
            "marker": {
             "line": {
              "color": "#E5ECF6",
              "width": 0.5
             },
             "pattern": {
              "fillmode": "overlay",
              "size": 10,
              "solidity": 0.2
             }
            },
            "type": "barpolar"
           }
          ],
          "carpet": [
           {
            "aaxis": {
             "endlinecolor": "#2a3f5f",
             "gridcolor": "white",
             "linecolor": "white",
             "minorgridcolor": "white",
             "startlinecolor": "#2a3f5f"
            },
            "baxis": {
             "endlinecolor": "#2a3f5f",
             "gridcolor": "white",
             "linecolor": "white",
             "minorgridcolor": "white",
             "startlinecolor": "#2a3f5f"
            },
            "type": "carpet"
           }
          ],
          "choropleth": [
           {
            "colorbar": {
             "outlinewidth": 0,
             "ticks": ""
            },
            "type": "choropleth"
           }
          ],
          "contour": [
           {
            "colorbar": {
             "outlinewidth": 0,
             "ticks": ""
            },
            "colorscale": [
             [
              0,
              "#0d0887"
             ],
             [
              0.1111111111111111,
              "#46039f"
             ],
             [
              0.2222222222222222,
              "#7201a8"
             ],
             [
              0.3333333333333333,
              "#9c179e"
             ],
             [
              0.4444444444444444,
              "#bd3786"
             ],
             [
              0.5555555555555556,
              "#d8576b"
             ],
             [
              0.6666666666666666,
              "#ed7953"
             ],
             [
              0.7777777777777778,
              "#fb9f3a"
             ],
             [
              0.8888888888888888,
              "#fdca26"
             ],
             [
              1,
              "#f0f921"
             ]
            ],
            "type": "contour"
           }
          ],
          "contourcarpet": [
           {
            "colorbar": {
             "outlinewidth": 0,
             "ticks": ""
            },
            "type": "contourcarpet"
           }
          ],
          "heatmap": [
           {
            "colorbar": {
             "outlinewidth": 0,
             "ticks": ""
            },
            "colorscale": [
             [
              0,
              "#0d0887"
             ],
             [
              0.1111111111111111,
              "#46039f"
             ],
             [
              0.2222222222222222,
              "#7201a8"
             ],
             [
              0.3333333333333333,
              "#9c179e"
             ],
             [
              0.4444444444444444,
              "#bd3786"
             ],
             [
              0.5555555555555556,
              "#d8576b"
             ],
             [
              0.6666666666666666,
              "#ed7953"
             ],
             [
              0.7777777777777778,
              "#fb9f3a"
             ],
             [
              0.8888888888888888,
              "#fdca26"
             ],
             [
              1,
              "#f0f921"
             ]
            ],
            "type": "heatmap"
           }
          ],
          "heatmapgl": [
           {
            "colorbar": {
             "outlinewidth": 0,
             "ticks": ""
            },
            "colorscale": [
             [
              0,
              "#0d0887"
             ],
             [
              0.1111111111111111,
              "#46039f"
             ],
             [
              0.2222222222222222,
              "#7201a8"
             ],
             [
              0.3333333333333333,
              "#9c179e"
             ],
             [
              0.4444444444444444,
              "#bd3786"
             ],
             [
              0.5555555555555556,
              "#d8576b"
             ],
             [
              0.6666666666666666,
              "#ed7953"
             ],
             [
              0.7777777777777778,
              "#fb9f3a"
             ],
             [
              0.8888888888888888,
              "#fdca26"
             ],
             [
              1,
              "#f0f921"
             ]
            ],
            "type": "heatmapgl"
           }
          ],
          "histogram": [
           {
            "marker": {
             "pattern": {
              "fillmode": "overlay",
              "size": 10,
              "solidity": 0.2
             }
            },
            "type": "histogram"
           }
          ],
          "histogram2d": [
           {
            "colorbar": {
             "outlinewidth": 0,
             "ticks": ""
            },
            "colorscale": [
             [
              0,
              "#0d0887"
             ],
             [
              0.1111111111111111,
              "#46039f"
             ],
             [
              0.2222222222222222,
              "#7201a8"
             ],
             [
              0.3333333333333333,
              "#9c179e"
             ],
             [
              0.4444444444444444,
              "#bd3786"
             ],
             [
              0.5555555555555556,
              "#d8576b"
             ],
             [
              0.6666666666666666,
              "#ed7953"
             ],
             [
              0.7777777777777778,
              "#fb9f3a"
             ],
             [
              0.8888888888888888,
              "#fdca26"
             ],
             [
              1,
              "#f0f921"
             ]
            ],
            "type": "histogram2d"
           }
          ],
          "histogram2dcontour": [
           {
            "colorbar": {
             "outlinewidth": 0,
             "ticks": ""
            },
            "colorscale": [
             [
              0,
              "#0d0887"
             ],
             [
              0.1111111111111111,
              "#46039f"
             ],
             [
              0.2222222222222222,
              "#7201a8"
             ],
             [
              0.3333333333333333,
              "#9c179e"
             ],
             [
              0.4444444444444444,
              "#bd3786"
             ],
             [
              0.5555555555555556,
              "#d8576b"
             ],
             [
              0.6666666666666666,
              "#ed7953"
             ],
             [
              0.7777777777777778,
              "#fb9f3a"
             ],
             [
              0.8888888888888888,
              "#fdca26"
             ],
             [
              1,
              "#f0f921"
             ]
            ],
            "type": "histogram2dcontour"
           }
          ],
          "mesh3d": [
           {
            "colorbar": {
             "outlinewidth": 0,
             "ticks": ""
            },
            "type": "mesh3d"
           }
          ],
          "parcoords": [
           {
            "line": {
             "colorbar": {
              "outlinewidth": 0,
              "ticks": ""
             }
            },
            "type": "parcoords"
           }
          ],
          "pie": [
           {
            "automargin": true,
            "type": "pie"
           }
          ],
          "scatter": [
           {
            "marker": {
             "colorbar": {
              "outlinewidth": 0,
              "ticks": ""
             }
            },
            "type": "scatter"
           }
          ],
          "scatter3d": [
           {
            "line": {
             "colorbar": {
              "outlinewidth": 0,
              "ticks": ""
             }
            },
            "marker": {
             "colorbar": {
              "outlinewidth": 0,
              "ticks": ""
             }
            },
            "type": "scatter3d"
           }
          ],
          "scattercarpet": [
           {
            "marker": {
             "colorbar": {
              "outlinewidth": 0,
              "ticks": ""
             }
            },
            "type": "scattercarpet"
           }
          ],
          "scattergeo": [
           {
            "marker": {
             "colorbar": {
              "outlinewidth": 0,
              "ticks": ""
             }
            },
            "type": "scattergeo"
           }
          ],
          "scattergl": [
           {
            "marker": {
             "colorbar": {
              "outlinewidth": 0,
              "ticks": ""
             }
            },
            "type": "scattergl"
           }
          ],
          "scattermapbox": [
           {
            "marker": {
             "colorbar": {
              "outlinewidth": 0,
              "ticks": ""
             }
            },
            "type": "scattermapbox"
           }
          ],
          "scatterpolar": [
           {
            "marker": {
             "colorbar": {
              "outlinewidth": 0,
              "ticks": ""
             }
            },
            "type": "scatterpolar"
           }
          ],
          "scatterpolargl": [
           {
            "marker": {
             "colorbar": {
              "outlinewidth": 0,
              "ticks": ""
             }
            },
            "type": "scatterpolargl"
           }
          ],
          "scatterternary": [
           {
            "marker": {
             "colorbar": {
              "outlinewidth": 0,
              "ticks": ""
             }
            },
            "type": "scatterternary"
           }
          ],
          "surface": [
           {
            "colorbar": {
             "outlinewidth": 0,
             "ticks": ""
            },
            "colorscale": [
             [
              0,
              "#0d0887"
             ],
             [
              0.1111111111111111,
              "#46039f"
             ],
             [
              0.2222222222222222,
              "#7201a8"
             ],
             [
              0.3333333333333333,
              "#9c179e"
             ],
             [
              0.4444444444444444,
              "#bd3786"
             ],
             [
              0.5555555555555556,
              "#d8576b"
             ],
             [
              0.6666666666666666,
              "#ed7953"
             ],
             [
              0.7777777777777778,
              "#fb9f3a"
             ],
             [
              0.8888888888888888,
              "#fdca26"
             ],
             [
              1,
              "#f0f921"
             ]
            ],
            "type": "surface"
           }
          ],
          "table": [
           {
            "cells": {
             "fill": {
              "color": "#EBF0F8"
             },
             "line": {
              "color": "white"
             }
            },
            "header": {
             "fill": {
              "color": "#C8D4E3"
             },
             "line": {
              "color": "white"
             }
            },
            "type": "table"
           }
          ]
         },
         "layout": {
          "annotationdefaults": {
           "arrowcolor": "#2a3f5f",
           "arrowhead": 0,
           "arrowwidth": 1
          },
          "autotypenumbers": "strict",
          "coloraxis": {
           "colorbar": {
            "outlinewidth": 0,
            "ticks": ""
           }
          },
          "colorscale": {
           "diverging": [
            [
             0,
             "#8e0152"
            ],
            [
             0.1,
             "#c51b7d"
            ],
            [
             0.2,
             "#de77ae"
            ],
            [
             0.3,
             "#f1b6da"
            ],
            [
             0.4,
             "#fde0ef"
            ],
            [
             0.5,
             "#f7f7f7"
            ],
            [
             0.6,
             "#e6f5d0"
            ],
            [
             0.7,
             "#b8e186"
            ],
            [
             0.8,
             "#7fbc41"
            ],
            [
             0.9,
             "#4d9221"
            ],
            [
             1,
             "#276419"
            ]
           ],
           "sequential": [
            [
             0,
             "#0d0887"
            ],
            [
             0.1111111111111111,
             "#46039f"
            ],
            [
             0.2222222222222222,
             "#7201a8"
            ],
            [
             0.3333333333333333,
             "#9c179e"
            ],
            [
             0.4444444444444444,
             "#bd3786"
            ],
            [
             0.5555555555555556,
             "#d8576b"
            ],
            [
             0.6666666666666666,
             "#ed7953"
            ],
            [
             0.7777777777777778,
             "#fb9f3a"
            ],
            [
             0.8888888888888888,
             "#fdca26"
            ],
            [
             1,
             "#f0f921"
            ]
           ],
           "sequentialminus": [
            [
             0,
             "#0d0887"
            ],
            [
             0.1111111111111111,
             "#46039f"
            ],
            [
             0.2222222222222222,
             "#7201a8"
            ],
            [
             0.3333333333333333,
             "#9c179e"
            ],
            [
             0.4444444444444444,
             "#bd3786"
            ],
            [
             0.5555555555555556,
             "#d8576b"
            ],
            [
             0.6666666666666666,
             "#ed7953"
            ],
            [
             0.7777777777777778,
             "#fb9f3a"
            ],
            [
             0.8888888888888888,
             "#fdca26"
            ],
            [
             1,
             "#f0f921"
            ]
           ]
          },
          "colorway": [
           "#636efa",
           "#EF553B",
           "#00cc96",
           "#ab63fa",
           "#FFA15A",
           "#19d3f3",
           "#FF6692",
           "#B6E880",
           "#FF97FF",
           "#FECB52"
          ],
          "font": {
           "color": "#2a3f5f"
          },
          "geo": {
           "bgcolor": "white",
           "lakecolor": "white",
           "landcolor": "#E5ECF6",
           "showlakes": true,
           "showland": true,
           "subunitcolor": "white"
          },
          "hoverlabel": {
           "align": "left"
          },
          "hovermode": "closest",
          "mapbox": {
           "style": "light"
          },
          "paper_bgcolor": "white",
          "plot_bgcolor": "#E5ECF6",
          "polar": {
           "angularaxis": {
            "gridcolor": "white",
            "linecolor": "white",
            "ticks": ""
           },
           "bgcolor": "#E5ECF6",
           "radialaxis": {
            "gridcolor": "white",
            "linecolor": "white",
            "ticks": ""
           }
          },
          "scene": {
           "xaxis": {
            "backgroundcolor": "#E5ECF6",
            "gridcolor": "white",
            "gridwidth": 2,
            "linecolor": "white",
            "showbackground": true,
            "ticks": "",
            "zerolinecolor": "white"
           },
           "yaxis": {
            "backgroundcolor": "#E5ECF6",
            "gridcolor": "white",
            "gridwidth": 2,
            "linecolor": "white",
            "showbackground": true,
            "ticks": "",
            "zerolinecolor": "white"
           },
           "zaxis": {
            "backgroundcolor": "#E5ECF6",
            "gridcolor": "white",
            "gridwidth": 2,
            "linecolor": "white",
            "showbackground": true,
            "ticks": "",
            "zerolinecolor": "white"
           }
          },
          "shapedefaults": {
           "line": {
            "color": "#2a3f5f"
           }
          },
          "ternary": {
           "aaxis": {
            "gridcolor": "white",
            "linecolor": "white",
            "ticks": ""
           },
           "baxis": {
            "gridcolor": "white",
            "linecolor": "white",
            "ticks": ""
           },
           "bgcolor": "#E5ECF6",
           "caxis": {
            "gridcolor": "white",
            "linecolor": "white",
            "ticks": ""
           }
          },
          "title": {
           "x": 0.05
          },
          "xaxis": {
           "automargin": true,
           "gridcolor": "white",
           "linecolor": "white",
           "ticks": "",
           "title": {
            "standoff": 15
           },
           "zerolinecolor": "white",
           "zerolinewidth": 2
          },
          "yaxis": {
           "automargin": true,
           "gridcolor": "white",
           "linecolor": "white",
           "ticks": "",
           "title": {
            "standoff": 15
           },
           "zerolinecolor": "white",
           "zerolinewidth": 2
          }
         }
        },
        "title": {
         "text": "Impact on Carbon Footprint: Global Human Development v. Export Trade, 2008-2016"
        },
        "xaxis": {
         "gridcolor": "rgb(255, 255, 255)",
         "gridwidth": 2,
         "ticklen": 5,
         "title": {
          "text": "Human Development Index"
         },
         "zerolinewidth": 1
        },
        "yaxis": {
         "gridcolor": "rgb(255, 255, 255)",
         "gridwidth": 2,
         "ticklen": 5,
         "title": {
          "text": "Cumulative Export Trade 2008-2016 (USD Millions)"
         },
         "zerolinewidth": 1
        }
       }
      },
      "text/html": [
       "<div>                            <div id=\"4b7e6c0c-51ee-414f-9fe1-1f721b93ebbe\" class=\"plotly-graph-div\" style=\"height:525px; width:100%;\"></div>            <script type=\"text/javascript\">                require([\"plotly\"], function(Plotly) {                    window.PLOTLYENV=window.PLOTLYENV || {};                                    if (document.getElementById(\"4b7e6c0c-51ee-414f-9fe1-1f721b93ebbe\")) {                    Plotly.newPlot(                        \"4b7e6c0c-51ee-414f-9fe1-1f721b93ebbe\",                        [{\"marker\":{\"line\":{\"width\":2},\"size\":[1.14,0.2,0.51,2.36,0.12,0.04,0.0,0.19,0.08,0.01,0.25,0.47,0.47,0.07,0.07,0.26,0.0,1.02,3.17,0.03,0.07,0.43,0.21,0.43,0.16,0.09,0.2,0.51,0.14,2.33,0.07,0.07,0.1,0.55,1.99,0.67,0.17,1.02,0.1,0.21,0.07,3.27,0.37,0.3,0.07,0.07,2.34,2.34,0.67,0.17,0.31,1.11,0.08,0.24,0.53],\"sizemode\":\"area\",\"sizeref\":0.00253,\"symbol\":\"circle\"},\"mode\":\"markers\",\"name\":\"Africa\",\"text\":[\"Country: Algeria<br>Total Ecological Footprint: 2.12<br>GDP per capita: $5,430.57<br>Population (Millions): 38.48<br>Year: 2016\",\"Country: Angola<br>Total Ecological Footprint: 0.93<br>GDP per capita: $4,665.91<br>Population (Millions): 20.82<br>Year: 2016\",\"Country: Benin<br>Total Ecological Footprint: 1.41<br>GDP per capita: $746.83<br>Population (Millions): 10.05<br>Year: 2016\",\"Country: Botswana<br>Total Ecological Footprint: 3.83<br>GDP per capita: $7,743.50<br>Population (Millions): 2.0<br>Year: 2016\",\"Country: Burkina Faso<br>Total Ecological Footprint: 1.21<br>GDP per capita: $671.07<br>Population (Millions): 16.46<br>Year: 2016\",\"Country: Burundi<br>Total Ecological Footprint: 0.8<br>GDP per capita: $276.69<br>Population (Millions): 9.85<br>Year: 2016\",\"Country: Cabo Verde<br>Total Ecological Footprint: 2.52<br>GDP per capita: $3,801.45<br>Population (Millions): 0.49<br>Year: 2016\",\"Country: Cameroon<br>Total Ecological Footprint: 1.17<br>GDP per capita: $1,271.21<br>Population (Millions): 21.7<br>Year: 2016\",\"Country: Central African Republic<br>Total Ecological Footprint: 1.24<br>GDP per capita: $495.04<br>Population (Millions): 4.53<br>Year: 2016\",\"Country: Chad<br>Total Ecological Footprint: 1.46<br>GDP per capita: $1,161.22<br>Population (Millions): 12.45<br>Year: 2016\",\"Country: Comoros<br>Total Ecological Footprint: 1.03<br>GDP per capita: $860.24<br>Population (Millions): 0.72<br>Year: 2016\",\"Country: Congo<br>Total Ecological Footprint: 1.29<br>GDP per capita: $1,943.69<br>Population (Millions): 4.34<br>Year: 2016\",\"Country: Congo<br>Total Ecological Footprint: 1.29<br>GDP per capita: $1,943.69<br>Population (Millions): 4.34<br>Year: 2016\",\"Country: Congo<br>Total Ecological Footprint: 0.82<br>GDP per capita: $338.63<br>Population (Millions): 65.7<br>Year: 2016\",\"Country: Congo<br>Total Ecological Footprint: 0.82<br>GDP per capita: $338.63<br>Population (Millions): 65.7<br>Year: 2016\",\"Country: CotedeIvoire<br>Total Ecological Footprint: 1.27<br>GDP per capita: $1,016.83<br>Population (Millions): 19.84<br>Year: 2016\",\"Country: Djibouti<br>Total Ecological Footprint: 2.19<br>GDP per capita: $1,433.17<br>Population (Millions): 0.86<br>Year: 2016\",\"Country: Egypt<br>Total Ecological Footprint: 2.15<br>GDP per capita: $2,930.33<br>Population (Millions): 80.72<br>Year: 2016\",\"Country: Equatorial Guinea<br>Total Ecological Footprint: 3.97<br>GDP per capita: $24,064.00<br>Population (Millions): 0.74<br>Year: 2016\",\"Country: Eritrea<br>Total Ecological Footprint: 0.42<br>GDP per capita: $439.73<br>Population (Millions): 6.13<br>Year: 2016\",\"Country: Ethiopia<br>Total Ecological Footprint: 1.02<br>GDP per capita: $379.38<br>Population (Millions): 91.73<br>Year: 2016\",\"Country: Gabon<br>Total Ecological Footprint: 2.02<br>GDP per capita: $11,989.00<br>Population (Millions): 1.63<br>Year: 2016\",\"Country: Gambia<br>Total Ecological Footprint: 1.03<br>GDP per capita: $505.76<br>Population (Millions): 1.79<br>Year: 2016\",\"Country: Ghana<br>Total Ecological Footprint: 1.97<br>GDP per capita: $1,627.90<br>Population (Millions): 25.37<br>Year: 2016\",\"Country: Guinea<br>Total Ecological Footprint: 1.41<br>GDP per capita: $459.09<br>Population (Millions): 11.45<br>Year: 2016\",\"Country: Guinea-Bissau<br>Total Ecological Footprint: 1.53<br>GDP per capita: $681.25<br>Population (Millions): 1.66<br>Year: 2016\",\"Country: Kenya<br>Total Ecological Footprint: 1.03<br>GDP per capita: $1,062.11<br>Population (Millions): 43.18<br>Year: 2016\",\"Country: Lesotho<br>Total Ecological Footprint: 1.66<br>GDP per capita: $1,338.42<br>Population (Millions): 2.05<br>Year: 2016\",\"Country: Liberia<br>Total Ecological Footprint: 1.21<br>GDP per capita: $397.38<br>Population (Millions): 4.19<br>Year: 2016\",\"Country: Libyan Arab Jamahiriya<br>Total Ecological Footprint: 3.69<br>GDP per capita: $5,859.43<br>Population (Millions): 6.16<br>Year: 2016\",\"Country: Madagascar<br>Total Ecological Footprint: 0.99<br>GDP per capita: $456.33<br>Population (Millions): 22.29<br>Year: 2016\",\"Country: Malawi<br>Total Ecological Footprint: 0.81<br>GDP per capita: $493.84<br>Population (Millions): 15.91<br>Year: 2016\",\"Country: Mali<br>Total Ecological Footprint: 1.53<br>GDP per capita: $741.22<br>Population (Millions): 14.85<br>Year: 2016\",\"Country: Mauritania<br>Total Ecological Footprint: 2.54<br>GDP per capita: $1,524.39<br>Population (Millions): 3.8<br>Year: 2016\",\"Country: Mauritius<br>Total Ecological Footprint: 3.46<br>GDP per capita: $8,811.15<br>Population (Millions): 1.24<br>Year: 2016\",\"Country: Morocco<br>Total Ecological Footprint: 1.68<br>GDP per capita: $3,149.43<br>Population (Millions): 32.52<br>Year: 2016\",\"Country: Mozambique<br>Total Ecological Footprint: 0.87<br>GDP per capita: $538.82<br>Population (Millions): 25.2<br>Year: 2016\",\"Country: Namibia<br>Total Ecological Footprint: 2.48<br>GDP per capita: $5,880.80<br>Population (Millions): 2.26<br>Year: 2016\",\"Country: Niger<br>Total Ecological Footprint: 1.56<br>GDP per capita: $410.91<br>Population (Millions): 17.16<br>Year: 2016\",\"Country: Nigeria<br>Total Ecological Footprint: 1.16<br>GDP per capita: $2,612.12<br>Population (Millions): 168.83<br>Year: 2016\",\"Country: Rwanda<br>Total Ecological Footprint: 0.87<br>GDP per capita: $628.08<br>Population (Millions): 11.46<br>Year: 2016\",\"Country: R\\u00e9union<br>Total Ecological Footprint: 3.65<br>GDP per capita: 0<br>Population (Millions): 0.86<br>Year: 2016\",\"Country: Sao Tome and Principe<br>Total Ecological Footprint: 1.49<br>GDP per capita: $1,384.53<br>Population (Millions): 0.19<br>Year: 2016\",\"Country: Senegal<br>Total Ecological Footprint: 1.21<br>GDP per capita: $1,079.27<br>Population (Millions): 13.73<br>Year: 2016\",\"Country: Sierra Leone<br>Total Ecological Footprint: 1.24<br>GDP per capita: $499.89<br>Population (Millions): 5.98<br>Year: 2016\",\"Country: Somalia<br>Total Ecological Footprint: 1.24<br>GDP per capita: 0<br>Population (Millions): 10.2<br>Year: 2016\",\"Country: South Africa<br>Total Ecological Footprint: 3.31<br>GDP per capita: $8,089.87<br>Population (Millions): 52.39<br>Year: 2016\",\"Country: South Africa<br>Total Ecological Footprint: 3.31<br>GDP per capita: $8,089.87<br>Population (Millions): 52.39<br>Year: 2016\",\"Country: Swaziland<br>Total Ecological Footprint: 2.01<br>GDP per capita: $4,657.48<br>Population (Millions): 1.23<br>Year: 2016\",\"Country: Tanzania, United Republic of<br>Total Ecological Footprint: 1.32<br>GDP per capita: $765.33<br>Population (Millions): 47.78<br>Year: 2016\",\"Country: Togo<br>Total Ecological Footprint: 1.13<br>GDP per capita: $580.86<br>Population (Millions): 6.64<br>Year: 2016\",\"Country: Tunisia<br>Total Ecological Footprint: 2.34<br>GDP per capita: $4,305.07<br>Population (Millions): 10.88<br>Year: 2016\",\"Country: Uganda<br>Total Ecological Footprint: 1.24<br>GDP per capita: $601.35<br>Population (Millions): 36.35<br>Year: 2016\",\"Country: Zambia<br>Total Ecological Footprint: 0.99<br>GDP per capita: $1,740.64<br>Population (Millions): 14.08<br>Year: 2016\",\"Country: Zimbabwe<br>Total Ecological Footprint: 1.37<br>GDP per capita: $865.91<br>Population (Millions): 13.72<br>Year: 2016\"],\"x\":[0.73,0.52,0.48,0.69,0.39,0.39,0.64,0.5,0.37,0.39,0.5,0.57,0.57,0.42,0.42,0.0,0.46,0.69,0.58,0.39,0.43,0.67,0.44,0.57,0.41,0.42,0.54,0.48,0.42,0.74,0.51,0.43,0.41,0.5,0.77,0.62,0.41,0.62,0.34,0.5,0.48,0.0,0.55,0.46,0.4,0.0,0.66,0.66,0.53,0.51,0.47,0.72,0.48,0.58,0.49],\"y\":[1764159.930121,868304.901687,17188.74242,165289.469843,36715.78927,5875.022509,8576.22901,106063.255358,4247.102371,0.0,311.324201,142288.592207,142288.592207,142288.592207,142288.592207,306234.552473,908.894136,571013.705449,0.0,13.738916,73294.890111,109856.378335,2196.244925,180774.275476,28661.671803,140.104723,79838.49571,6603.186763,0.0,0.0,39630.482973,31987.416226,24614.910011,31323.977034,67749.089213,360050.581938,45530.394133,97930.874262,22825.630812,969191.899795,8842.242436,639.994335,222.241411,39286.890314,1265.493049,0.0,1238714.709979,254876.820776,13633.225132,67153.551095,15209.369044,286264.000632,34128.229548,92277.699719,68338.762312],\"type\":\"scatter\"},{\"marker\":{\"line\":{\"width\":2},\"size\":[0.0,5.0,5.9],\"sizemode\":\"area\",\"sizeref\":0.00253},\"mode\":\"markers\",\"name\":\"North America\",\"text\":[\"Country: Bermuda<br>Total Ecological Footprint: 5.77<br>GDP per capita: $70,626.30<br>Population (Millions): 0.06<br>Year: 2016\",\"Country: Canada<br>Total Ecological Footprint: 8.17<br>GDP per capita: $52,145.40<br>Population (Millions): 34.84<br>Year: 2016\",\"Country: USA<br>Total Ecological Footprint: 8.22<br>GDP per capita: $49,725.00<br>Population (Millions): 317.5<br>Year: 2016\"],\"x\":[0.0,0.91,0.91],\"y\":[365.262036,15233081.163918,31700102.843309],\"type\":\"scatter\"},{\"marker\":{\"line\":{\"width\":2},\"size\":[0.18,0.89,1.25,6.19,0.83,1.72,1.36,4.59,1.09,4.59,6.89,0.95,2.52,5.8,9.57,4.21,0.81,0.13,1.92,4.13,6.37,1.41,0.42],\"sizemode\":\"area\",\"sizeref\":0.00253},\"mode\":\"markers\",\"name\":\"Middle East/Central Asia\",\"text\":[\"Country: Afghanistan<br>Total Ecological Footprint: 0.79<br>GDP per capita: $614.66<br>Population (Millions): 29.82<br>Year: 2016\",\"Country: Armenia<br>Total Ecological Footprint: 2.23<br>GDP per capita: $3,426.39<br>Population (Millions): 2.97<br>Year: 2016\",\"Country: Azerbaijan<br>Total Ecological Footprint: 2.31<br>GDP per capita: $7,106.04<br>Population (Millions): 9.31<br>Year: 2016\",\"Country: Bahrain<br>Total Ecological Footprint: 7.49<br>GDP per capita: $24,299.00<br>Population (Millions): 1.32<br>Year: 2016\",\"Country: Georgia<br>Total Ecological Footprint: 1.58<br>GDP per capita: $3,710.70<br>Population (Millions): 4.36<br>Year: 2016\",\"Country: Iran<br>Total Ecological Footprint: 2.79<br>GDP per capita: $7,511.10<br>Population (Millions): 76.42<br>Year: 2016\",\"Country: Iraq<br>Total Ecological Footprint: 1.88<br>GDP per capita: $5,848.54<br>Population (Millions): 32.78<br>Year: 2016\",\"Country: Israel<br>Total Ecological Footprint: 6.22<br>GDP per capita: $33,718.90<br>Population (Millions): 7.64<br>Year: 2016\",\"Country: Jordan<br>Total Ecological Footprint: 2.1<br>GDP per capita: $4,615.17<br>Population (Millions): 7.01<br>Year: 2016\",\"Country: Kazakhstan<br>Total Ecological Footprint: 5.55<br>GDP per capita: $11,278.00<br>Population (Millions): 16.27<br>Year: 2016\",\"Country: Kuwait<br>Total Ecological Footprint: 8.13<br>GDP per capita: $41,830.50<br>Population (Millions): 3.25<br>Year: 2016\",\"Country: Kyrgyzstan<br>Total Ecological Footprint: 1.91<br>GDP per capita: $1,116.37<br>Population (Millions): 5.47<br>Year: 2016\",\"Country: Lebanon<br>Total Ecological Footprint: 3.84<br>GDP per capita: $9,143.86<br>Population (Millions): 4.65<br>Year: 2016\",\"Country: Oman<br>Total Ecological Footprint: 7.52<br>GDP per capita: $22,622.80<br>Population (Millions): 3.31<br>Year: 2016\",\"Country: Qatar<br>Total Ecological Footprint: 10.8<br>GDP per capita: $99,431.50<br>Population (Millions): 2.05<br>Year: 2016\",\"Country: Saudi Arabia<br>Total Ecological Footprint: 5.61<br>GDP per capita: $23,593.80<br>Population (Millions): 28.29<br>Year: 2016\",\"Country: Syrian Arab Republic<br>Total Ecological Footprint: 1.51<br>GDP per capita: 0<br>Population (Millions): 21.89<br>Year: 2016\",\"Country: Tajikistan<br>Total Ecological Footprint: 0.91<br>GDP per capita: $836.17<br>Population (Millions): 8.01<br>Year: 2016\",\"Country: Turkey<br>Total Ecological Footprint: 3.33<br>GDP per capita: $10,437.70<br>Population (Millions): 74.0<br>Year: 2016\",\"Country: Turkmenistan<br>Total Ecological Footprint: 5.47<br>GDP per capita: $5,290.14<br>Population (Millions): 5.17<br>Year: 2016\",\"Country: United Arab Emirates<br>Total Ecological Footprint: 7.93<br>GDP per capita: $40,817.40<br>Population (Millions): 9.206<br>Year: 2016\",\"Country: Uzbekistan<br>Total Ecological Footprint: 2.32<br>GDP per capita: $1,560.85<br>Population (Millions): 28.54<br>Year: 2016\",\"Country: Yemen<br>Total Ecological Footprint: 1.03<br>GDP per capita: $1,302.30<br>Population (Millions): 23.85<br>Year: 2016\"],\"x\":[0.46,0.73,0.75,0.82,0.75,0.76,0.65,0.89,0.75,0.78,0.82,0.65,0.76,0.79,0.85,0.83,0.62,0.62,0.76,0.68,0.83,0.67,0.5],\"y\":[8780.222349,40446.217031,445786.578451,454172.159687,45636.059638,1034554.259508,994420.836791,1501212.784744,176585.22382,1436982.554229,1557687.908264,33088.620513,61076.868458,695328.948684,1241796.959047,4023988.218166,0.0,692.346,2075304.938465,5201.180675,6129567.032802,0.0,71615.411671],\"type\":\"scatter\"},{\"marker\":{\"line\":{\"width\":2},\"size\":[0.87,2.57,1.74,2.21,2.06,1.03,2.13,0.0,3.87,1.66,4.26,1.92],\"sizemode\":\"area\",\"sizeref\":0.00253},\"mode\":\"markers\",\"name\":\"Northern/Eastern Europe\",\"text\":[\"Country: Albania<br>Total Ecological Footprint: 2.21<br>GDP per capita: $4,534.37<br>Population (Millions): 3.16<br>Year: 2016\",\"Country: Belarus<br>Total Ecological Footprint: 5.09<br>GDP per capita: $6,300.45<br>Population (Millions): 9.4<br>Year: 2016\",\"Country: Bosnia Herzegovina<br>Total Ecological Footprint: 3.12<br>GDP per capita: $4,708.85<br>Population (Millions): 3.83<br>Year: 2016\",\"Country: Croatia<br>Total Ecological Footprint: 3.92<br>GDP per capita: $14,522.80<br>Population (Millions): 4.31<br>Year: 2016\",\"Country: Macedonia<br>Total Ecological Footprint: 3.26<br>GDP per capita: $5,174.89<br>Population (Millions): 2.11<br>Year: 2016\",\"Country: Moldova<br>Total Ecological Footprint: 1.78<br>GDP per capita: $1,971.03<br>Population (Millions): 3.51<br>Year: 2016\",\"Country: Montenegro<br>Total Ecological Footprint: 3.78<br>GDP per capita: $7,251.60<br>Population (Millions): 0.62<br>Year: 2016\",\"Country: Norway<br>Total Ecological Footprint: 4.98<br>GDP per capita: $100,172.00<br>Population (Millions): 4.99<br>Year: 2016\",\"Country: Russian Federation<br>Total Ecological Footprint: 5.69<br>GDP per capita: $13,320.20<br>Population (Millions): 143.17<br>Year: 2016\",\"Country: Serbia<br>Total Ecological Footprint: 2.7<br>GDP per capita: $6,426.18<br>Population (Millions): 9.55<br>Year: 2016\",\"Country: Switzerland<br>Total Ecological Footprint: 5.79<br>GDP per capita: $88,506.20<br>Population (Millions): 8.0<br>Year: 2016\",\"Country: Ukraine<br>Total Ecological Footprint: 2.84<br>GDP per capita: $3,589.63<br>Population (Millions): 45.53<br>Year: 2016\"],\"x\":[0.73,0.8,0.73,0.82,0.74,0.68,0.8,0.94,0.79,0.76,0.93,0.74],\"y\":[47544.871187,785837.732412,113371.731548,342334.149063,61844.406928,45094.893149,6814.403932,2429308.733411,6564472.499199,149527.210347,4380822.133916,874576.69606],\"type\":\"scatter\"},{\"marker\":{\"line\":{\"width\":2},\"size\":[0.0,1.08,0.0,4.46,3.28,0.67,0.91,0.0,3.56,2.04,0.67,1.37,1.23,1.47,0.86,1.08,0.84,1.58,0.0,2.61,0.7,1.25,0.15,0.6,1.09,1.73,1.74,0.0,0.45,1.44,0.97,0.67,3.34,1.56,0.0,3.01,6.89,0.98,2.13],\"sizemode\":\"area\",\"sizeref\":0.00253},\"mode\":\"markers\",\"name\":\"Latin America\",\"text\":[\"Country: Antigua and Barbuda<br>Total Ecological Footprint: 5.38<br>GDP per capita: $13,205.10<br>Population (Millions): 0.09<br>Year: 2016\",\"Country: Argentina<br>Total Ecological Footprint: 3.14<br>GDP per capita: $13,540.00<br>Population (Millions): 41.09<br>Year: 2016\",\"Country: Aruba<br>Total Ecological Footprint: 11.88<br>GDP per capita: 0<br>Population (Millions): 0.1<br>Year: 2016\",\"Country: Bahamas<br>Total Ecological Footprint: 6.84<br>GDP per capita: $22,647.30<br>Population (Millions): 0.37<br>Year: 2016\",\"Country: Barbados<br>Total Ecological Footprint: 4.48<br>GDP per capita: $15,722.80<br>Population (Millions): 0.28<br>Year: 2016\",\"Country: Bolivia<br>Total Ecological Footprint: 2.96<br>GDP per capita: $2,253.09<br>Population (Millions): 10.5<br>Year: 2016\",\"Country: Brazil<br>Total Ecological Footprint: 3.11<br>GDP per capita: $13,237.60<br>Population (Millions): 198.66<br>Year: 2016\",\"Country: British Virgin Islands<br>Total Ecological Footprint: 2.86<br>GDP per capita: 0<br>Population (Millions): 0.03<br>Year: 2016\",\"Country: Cayman Islands<br>Total Ecological Footprint: 5.65<br>GDP per capita: 0<br>Population (Millions): 0.06<br>Year: 2016\",\"Country: Chile<br>Total Ecological Footprint: 4.36<br>GDP per capita: $14,525.80<br>Population (Millions): 17.46<br>Year: 2016\",\"Country: Colombia<br>Total Ecological Footprint: 1.87<br>GDP per capita: $7,305.22<br>Population (Millions): 47.7<br>Year: 2016\",\"Country: Costa Rica<br>Total Ecological Footprint: 2.84<br>GDP per capita: $8,979.96<br>Population (Millions): 4.8<br>Year: 2016\",\"Country: Cuba<br>Total Ecological Footprint: 1.95<br>GDP per capita: $5,175.94<br>Population (Millions): 11.27<br>Year: 2016\",\"Country: Dominica<br>Total Ecological Footprint: 2.57<br>GDP per capita: $7,088.01<br>Population (Millions): 0.07<br>Year: 2016\",\"Country: Dominican Republic<br>Total Ecological Footprint: 1.53<br>GDP per capita: $6,085.89<br>Population (Millions): 10.28<br>Year: 2016\",\"Country: Ecuador<br>Total Ecological Footprint: 2.17<br>GDP per capita: $5,192.88<br>Population (Millions): 15.49<br>Year: 2016\",\"Country: El Salvador<br>Total Ecological Footprint: 2.07<br>GDP per capita: $3,696.33<br>Population (Millions): 6.3<br>Year: 2016\",\"Country: French Guiana<br>Total Ecological Footprint: 2.34<br>GDP per capita: 0<br>Population (Millions): 0.24<br>Year: 2016\",\"Country: Grenada<br>Total Ecological Footprint: 2.98<br>GDP per capita: $7,410.48<br>Population (Millions): 0.1<br>Year: 2016\",\"Country: Guadeloupe<br>Total Ecological Footprint: 3.23<br>GDP per capita: 0<br>Population (Millions): 0.46<br>Year: 2016\",\"Country: Guatemala<br>Total Ecological Footprint: 1.89<br>GDP per capita: $3,233.80<br>Population (Millions): 15.08<br>Year: 2016\",\"Country: Guyana<br>Total Ecological Footprint: 3.07<br>GDP per capita: $3,269.46<br>Population (Millions): 0.8<br>Year: 2016\",\"Country: Haiti<br>Total Ecological Footprint: 0.61<br>GDP per capita: $749.13<br>Population (Millions): 10.17<br>Year: 2016\",\"Country: Honduras<br>Total Ecological Footprint: 1.68<br>GDP per capita: $2,269.51<br>Population (Millions): 7.94<br>Year: 2016\",\"Country: Jamaica<br>Total Ecological Footprint: 1.89<br>GDP per capita: $5,226.30<br>Population (Millions): 2.77<br>Year: 2016\",\"Country: Martinique<br>Total Ecological Footprint: 2.08<br>GDP per capita: 0<br>Population (Millions): 0.4<br>Year: 2016\",\"Country: Mexico<br>Total Ecological Footprint: 2.89<br>GDP per capita: $10,123.90<br>Population (Millions): 120.85<br>Year: 2016\",\"Country: Montserrat<br>Total Ecological Footprint: 7.78<br>GDP per capita: 0<br>Population (Millions): 0.0<br>Year: 2016\",\"Country: Nicaragua<br>Total Ecological Footprint: 1.39<br>GDP per capita: $1,626.85<br>Population (Millions): 5.99<br>Year: 2016\",\"Country: Panama<br>Total Ecological Footprint: 2.79<br>GDP per capita: $8,410.77<br>Population (Millions): 3.8<br>Year: 2016\",\"Country: Paraguay<br>Total Ecological Footprint: 4.16<br>GDP per capita: $3,557.31<br>Population (Millions): 6.69<br>Year: 2016\",\"Country: Peru<br>Total Ecological Footprint: 2.28<br>GDP per capita: $5,684.73<br>Population (Millions): 29.99<br>Year: 2016\",\"Country: Saint Kitts and Nevis<br>Total Ecological Footprint: 4.94<br>GDP per capita: $12,952.50<br>Population (Millions): 0.05<br>Year: 2016\",\"Country: Saint Lucia<br>Total Ecological Footprint: 2.45<br>GDP per capita: $7,737.20<br>Population (Millions): 0.18<br>Year: 2016\",\"Country: Saint Vincent and Grenadines<br>Total Ecological Footprint: 3.11<br>GDP per capita: $6,171.48<br>Population (Millions): 0.11<br>Year: 2016\",\"Country: Suriname<br>Total Ecological Footprint: 4.25<br>GDP per capita: $8,190.70<br>Population (Millions): 0.54<br>Year: 2016\",\"Country: Trinidad and Tobago<br>Total Ecological Footprint: 7.92<br>GDP per capita: $18,310.80<br>Population (Millions): 1.34<br>Year: 2016\",\"Country: Uruguay<br>Total Ecological Footprint: 2.91<br>GDP per capita: $14,238.10<br>Population (Millions): 3.4<br>Year: 2016\",\"Country: Venezuela<br>Total Ecological Footprint: 3.57<br>GDP per capita: $10,237.80<br>Population (Millions): 29.96<br>Year: 2016\"],\"x\":[0.78,0.83,0.0,0.78,0.79,0.65,0.75,0.0,0.0,0.83,0.72,0.76,0.77,0.72,0.71,0.73,0.66,0.0,0.74,0.0,0.62,0.63,0.48,0.61,0.72,0.0,0.75,0.0,0.63,0.77,0.67,0.73,0.74,0.73,0.72,0.71,0.77,0.79,0.763846],\"y\":[2714.754086,2102506.872655,4302.808896,27781.65855,19045.806716,205016.420508,5874973.448571,0.0,0.0,1995795.200692,1185514.775141,253783.651999,29906.668376,1590.812536,165509.898148,552393.119628,118906.150867,436.792399,919.643363,500.959707,185264.644056,30135.584161,1347.125413,56070.915585,49738.950509,692.321704,6361457.659653,65.403121,44011.235338,194455.660747,122495.429036,676451.46018,883.8683,3565.184515,1271.53555,43411.675196,215524.138075,120895.355404,897365.929625],\"type\":\"scatter\"},{\"marker\":{\"line\":{\"width\":2},\"size\":[4.85,0.26,0.63,3.24,0.0,2.32,1.06,2.39,0.61,0.64,3.69,4.17,0.68,0.09,2.1,2.09,0.09,0.0,0.16,1.78,2.84,0.38,0.35,0.34,0.96,5.91,0.0,0.52,1.54,0.06,0.88,0.79,0.0],\"sizemode\":\"area\",\"sizeref\":0.00253},\"mode\":\"markers\",\"name\":\"Asia-Pacific\",\"text\":[\"Country: Australia<br>Total Ecological Footprint: 9.31<br>GDP per capita: $66,604.20<br>Population (Millions): 23.05<br>Year: 2016\",\"Country: Bangladesh<br>Total Ecological Footprint: 0.72<br>GDP per capita: $857.50<br>Population (Millions): 154.7<br>Year: 2016\",\"Country: Bhutan<br>Total Ecological Footprint: 4.84<br>GDP per capita: $2,395.00<br>Population (Millions): 0.74<br>Year: 2016\",\"Country: Brunei Darussalam<br>Total Ecological Footprint: 4.06<br>GDP per capita: $47,097.40<br>Population (Millions): 0.41<br>Year: 2016\",\"Country: Cambodia<br>Total Ecological Footprint: 1.21<br>GDP per capita: $877.64<br>Population (Millions): 14.86<br>Year: 2016\",\"Country: China<br>Total Ecological Footprint: 3.38<br>GDP per capita: $5,560.94<br>Population (Millions): 1408.04<br>Year: 2016\",\"Country: Fiji<br>Total Ecological Footprint: 2.9<br>GDP per capita: $4,201.37<br>Population (Millions): 0.88<br>Year: 2016\",\"Country: French Polynesia<br>Total Ecological Footprint: 4.73<br>GDP per capita: 0<br>Population (Millions): 0.27<br>Year: 2016\",\"Country: India<br>Total Ecological Footprint: 1.16<br>GDP per capita: $1,513.85<br>Population (Millions): 1236.69<br>Year: 2016\",\"Country: Indonesia<br>Total Ecological Footprint: 1.58<br>GDP per capita: $3,688.53<br>Population (Millions): 246.86<br>Year: 2016\",\"Country: Japan<br>Total Ecological Footprint: 5.02<br>GDP per capita: $46,201.60<br>Population (Millions): 127.25<br>Year: 2016\",\"Country: Korea, Republic of<br>Total Ecological Footprint: 5.69<br>GDP per capita: $24,155.80<br>Population (Millions): 49.0<br>Year: 2016\",\"Country: Korea, Republic of<br>Total Ecological Footprint: 1.17<br>GDP per capita: 0<br>Population (Millions): 24.76<br>Year: 2016\",\"Country: Lao People's Democratic Republic<br>Total Ecological Footprint: 1.22<br>GDP per capita: $1,236.24<br>Population (Millions): 6.65<br>Year: 2016\",\"Country: Malaysia<br>Total Ecological Footprint: 3.71<br>GDP per capita: $10,252.60<br>Population (Millions): 29.24<br>Year: 2016\",\"Country: Mongolia<br>Total Ecological Footprint: 6.08<br>GDP per capita: $3,736.07<br>Population (Millions): 2.8<br>Year: 2016\",\"Country: Myanmar<br>Total Ecological Footprint: 1.43<br>GDP per capita: $1,117.58<br>Population (Millions): 52.8<br>Year: 2016\",\"Country: Nauru<br>Total Ecological Footprint: 2.94<br>GDP per capita: 0<br>Population (Millions): 0.01<br>Year: 2016\",\"Country: Nepal<br>Total Ecological Footprint: 0.98<br>GDP per capita: $700.07<br>Population (Millions): 27.47<br>Year: 2016\",\"Country: New Caledonia<br>Total Ecological Footprint: 3.58<br>GDP per capita: 0<br>Population (Millions): 0.25<br>Year: 2016\",\"Country: New Zealand<br>Total Ecological Footprint: 5.6<br>GDP per capita: $37,488.30<br>Population (Millions): 4.46<br>Year: 2016\",\"Country: Pakistan<br>Total Ecological Footprint: 0.79<br>GDP per capita: $1,218.60<br>Population (Millions): 179.16<br>Year: 2016\",\"Country: Papua New Guinea<br>Total Ecological Footprint: 1.91<br>GDP per capita: $1,871.21<br>Population (Millions): 7.17<br>Year: 2016\",\"Country: Philippines<br>Total Ecological Footprint: 1.1<br>GDP per capita: $2,379.44<br>Population (Millions): 96.71<br>Year: 2016\",\"Country: Samoa<br>Total Ecological Footprint: 2.77<br>GDP per capita: $4,067.15<br>Population (Millions): 0.19<br>Year: 2016\",\"Country: Singapore<br>Total Ecological Footprint: 7.97<br>GDP per capita: $53,122.40<br>Population (Millions): 5.3<br>Year: 2016\",\"Country: Solomon Isds<br>Total Ecological Footprint: 1.29<br>GDP per capita: $1,647.86<br>Population (Millions): 0.55<br>Year: 2016\",\"Country: Sri Lanka<br>Total Ecological Footprint: 1.32<br>GDP per capita: $2,880.03<br>Population (Millions): 21.1<br>Year: 2016\",\"Country: Thailand<br>Total Ecological Footprint: 2.66<br>GDP per capita: $5,479.29<br>Population (Millions): 66.78<br>Year: 2016\",\"Country: Timor-Leste<br>Total Ecological Footprint: 0.48<br>GDP per capita: $5,167.86<br>Population (Millions): 1.11<br>Year: 2016\",\"Country: Tonga<br>Total Ecological Footprint: 2.7<br>GDP per capita: $4,330.90<br>Population (Millions): 0.1<br>Year: 2016\",\"Country: Viet Nam<br>Total Ecological Footprint: 1.65<br>GDP per capita: $1,532.31<br>Population (Millions): 90.8<br>Year: 2016\",\"Country: Wallis and Futuna Islands<br>Total Ecological Footprint: 2.07<br>GDP per capita: 0<br>Population (Millions): 0.01<br>Year: 2016\"],\"x\":[0.93,0.56,0.59,0.85,0.55,0.72,0.72,0.0,0.6,0.68,0.89,0.89,0.0,0.56,0.77,0.71,0.53,0.0,0.54,0.0,0.91,0.53,0.5,0.66,0.7,0.91,0.5,0.75,0.72,0.6,0.72,0.66,0.0],\"y\":[6457274.981999,493720.058245,7898.910751,152763.795214,154268.532342,31559095.340109,30822.475216,6985.446469,5074536.760447,3824684.399004,17002378.902522,8460978.40081,8460978.40081,24860.670097,4236570.599862,45537.006091,69346.22166,0.0,11272.488959,26436.236507,876967.769457,340840.234562,30948.228731,993369.979213,1259.06326,6335882.334668,6817.354952,160517.900852,3155223.995626,433.925233,256.686754,1132453.628615,0.0],\"type\":\"scatter\"},{\"marker\":{\"line\":{\"width\":2},\"size\":[4.14,4.43,2.08,2.94,3.42,2.6,0.0,0.0,2.71,3.28,3.28,2.58,1.9,3.22,2.77,1.66,2.15,12.65,3.23,2.64,2.15,1.46,2.82,4.27,2.22,3.88,3.14],\"sizemode\":\"area\",\"sizeref\":0.00253},\"mode\":\"markers\",\"name\":\"European Union\",\"text\":[\"Country: Austria<br>Total Ecological Footprint: 6.06<br>GDP per capita: $51,274.10<br>Population (Millions): 8.46<br>Year: 2016\",\"Country: Belgium<br>Total Ecological Footprint: 7.44<br>GDP per capita: $48,053.30<br>Population (Millions): 11.06<br>Year: 2016\",\"Country: Bulgaria<br>Total Ecological Footprint: 3.32<br>GDP per capita: $7,615.28<br>Population (Millions): 7.28<br>Year: 2016\",\"Country: Cyprus<br>Total Ecological Footprint: 4.21<br>GDP per capita: $31,454.70<br>Population (Millions): 1.13<br>Year: 2016\",\"Country: Czech Republic<br>Total Ecological Footprint: 5.19<br>GDP per capita: $21,676.30<br>Population (Millions): 10.66<br>Year: 2016\",\"Country: Denmark<br>Total Ecological Footprint: 5.51<br>GDP per capita: $61,413.60<br>Population (Millions): 5.6<br>Year: 2016\",\"Country: Estonia<br>Total Ecological Footprint: 6.86<br>GDP per capita: $17,304.40<br>Population (Millions): 1.29<br>Year: 2016\",\"Country: Finland<br>Total Ecological Footprint: 5.87<br>GDP per capita: $50,960.20<br>Population (Millions): 5.41<br>Year: 2016\",\"Country: France<br>Total Ecological Footprint: 5.14<br>GDP per capita: $45,430.30<br>Population (Millions): 63.98<br>Year: 2016\",\"Country: Germany<br>Total Ecological Footprint: 5.3<br>GDP per capita: $46,822.40<br>Population (Millions): 82.8<br>Year: 2016\",\"Country: Germany<br>Total Ecological Footprint: 5.3<br>GDP per capita: $46,822.40<br>Population (Millions): 82.8<br>Year: 2016\",\"Country: Greece<br>Total Ecological Footprint: 4.38<br>GDP per capita: $25,987.40<br>Population (Millions): 11.12<br>Year: 2016\",\"Country: Hungary<br>Total Ecological Footprint: 2.92<br>GDP per capita: $13,964.20<br>Population (Millions): 9.98<br>Year: 2016\",\"Country: Ireland<br>Total Ecological Footprint: 5.57<br>GDP per capita: $52,853.60<br>Population (Millions): 4.58<br>Year: 2016\",\"Country: Italy<br>Total Ecological Footprint: 4.61<br>GDP per capita: $38,412.00<br>Population (Millions): 60.92<br>Year: 2016\",\"Country: Latvia<br>Total Ecological Footprint: 6.29<br>GDP per capita: $13,732.00<br>Population (Millions): 2.06<br>Year: 2016\",\"Country: Lithuania<br>Total Ecological Footprint: 5.83<br>GDP per capita: $14,373.70<br>Population (Millions): 3.03<br>Year: 2016\",\"Country: Luxembourg<br>Total Ecological Footprint: 15.82<br>GDP per capita: $114,665.00<br>Population (Millions): 0.52<br>Year: 2016\",\"Country: Netherlands<br>Total Ecological Footprint: 5.28<br>GDP per capita: $53,589.90<br>Population (Millions): 16.71<br>Year: 2016\",\"Country: Poland<br>Total Ecological Footprint: 4.44<br>GDP per capita: $13,769.50<br>Population (Millions): 38.21<br>Year: 2016\",\"Country: Portugal<br>Total Ecological Footprint: 3.88<br>GDP per capita: $23,217.30<br>Population (Millions): 10.6<br>Year: 2016\",\"Country: Romania<br>Total Ecological Footprint: 2.71<br>GDP per capita: $9,213.94<br>Population (Millions): 21.76<br>Year: 2016\",\"Country: Slovakia<br>Total Ecological Footprint: 4.06<br>GDP per capita: $18,103.10<br>Population (Millions): 5.45<br>Year: 2016\",\"Country: Slovenia<br>Total Ecological Footprint: 5.81<br>GDP per capita: $25,040.50<br>Population (Millions): 2.07<br>Year: 2016\",\"Country: Spain<br>Total Ecological Footprint: 3.67<br>GDP per capita: $32,008.70<br>Population (Millions): 46.76<br>Year: 2016\",\"Country: Sweden<br>Total Ecological Footprint: 7.25<br>GDP per capita: $59,381.90<br>Population (Millions): 9.51<br>Year: 2016\",\"Country: United Kingdom<br>Total Ecological Footprint: 4.94<br>GDP per capita: $40,980.50<br>Population (Millions): 63.03<br>Year: 2016\"],\"x\":[0.88,0.89,0.78,0.85,0.87,0.92,0.85,0.88,0.89,0.91,0.91,0.86,0.82,0.91,0.87,0.81,0.83,0.89,0.92,0.84,0.83,0.79,0.84,0.88,0.87,0.9,0.9],\"y\":[4366799.964415,12081522.398108,592486.351063,94879.164729,0.0,3120192.529063,313192.905212,1932684.049116,14066642.73453,1373483.360182,30693229.416853,831137.316341,1805465.670881,3135297.328862,11122100.801684,187280.897684,474092.668671,266722.475171,10312448.09299,2669675.809474,1171895.187865,871545.109762,991625.782332,397212.501128,5233788.264062,3262936.243948,9763266.90626],\"type\":\"scatter\"},{\"marker\":{\"line\":{\"width\":2},\"size\":[],\"sizemode\":\"area\",\"sizeref\":0.00253},\"mode\":\"markers\",\"name\":\"nan\",\"text\":[],\"x\":[],\"y\":[],\"type\":\"scatter\"}],                        {\"paper_bgcolor\":\"rgb(243, 243, 243)\",\"plot_bgcolor\":\"rgb(243, 243, 243)\",\"template\":{\"data\":{\"barpolar\":[{\"marker\":{\"line\":{\"color\":\"#E5ECF6\",\"width\":0.5},\"pattern\":{\"fillmode\":\"overlay\",\"size\":10,\"solidity\":0.2}},\"type\":\"barpolar\"}],\"bar\":[{\"error_x\":{\"color\":\"#2a3f5f\"},\"error_y\":{\"color\":\"#2a3f5f\"},\"marker\":{\"line\":{\"color\":\"#E5ECF6\",\"width\":0.5},\"pattern\":{\"fillmode\":\"overlay\",\"size\":10,\"solidity\":0.2}},\"type\":\"bar\"}],\"carpet\":[{\"aaxis\":{\"endlinecolor\":\"#2a3f5f\",\"gridcolor\":\"white\",\"linecolor\":\"white\",\"minorgridcolor\":\"white\",\"startlinecolor\":\"#2a3f5f\"},\"baxis\":{\"endlinecolor\":\"#2a3f5f\",\"gridcolor\":\"white\",\"linecolor\":\"white\",\"minorgridcolor\":\"white\",\"startlinecolor\":\"#2a3f5f\"},\"type\":\"carpet\"}],\"choropleth\":[{\"colorbar\":{\"outlinewidth\":0,\"ticks\":\"\"},\"type\":\"choropleth\"}],\"contourcarpet\":[{\"colorbar\":{\"outlinewidth\":0,\"ticks\":\"\"},\"type\":\"contourcarpet\"}],\"contour\":[{\"colorbar\":{\"outlinewidth\":0,\"ticks\":\"\"},\"colorscale\":[[0.0,\"#0d0887\"],[0.1111111111111111,\"#46039f\"],[0.2222222222222222,\"#7201a8\"],[0.3333333333333333,\"#9c179e\"],[0.4444444444444444,\"#bd3786\"],[0.5555555555555556,\"#d8576b\"],[0.6666666666666666,\"#ed7953\"],[0.7777777777777778,\"#fb9f3a\"],[0.8888888888888888,\"#fdca26\"],[1.0,\"#f0f921\"]],\"type\":\"contour\"}],\"heatmapgl\":[{\"colorbar\":{\"outlinewidth\":0,\"ticks\":\"\"},\"colorscale\":[[0.0,\"#0d0887\"],[0.1111111111111111,\"#46039f\"],[0.2222222222222222,\"#7201a8\"],[0.3333333333333333,\"#9c179e\"],[0.4444444444444444,\"#bd3786\"],[0.5555555555555556,\"#d8576b\"],[0.6666666666666666,\"#ed7953\"],[0.7777777777777778,\"#fb9f3a\"],[0.8888888888888888,\"#fdca26\"],[1.0,\"#f0f921\"]],\"type\":\"heatmapgl\"}],\"heatmap\":[{\"colorbar\":{\"outlinewidth\":0,\"ticks\":\"\"},\"colorscale\":[[0.0,\"#0d0887\"],[0.1111111111111111,\"#46039f\"],[0.2222222222222222,\"#7201a8\"],[0.3333333333333333,\"#9c179e\"],[0.4444444444444444,\"#bd3786\"],[0.5555555555555556,\"#d8576b\"],[0.6666666666666666,\"#ed7953\"],[0.7777777777777778,\"#fb9f3a\"],[0.8888888888888888,\"#fdca26\"],[1.0,\"#f0f921\"]],\"type\":\"heatmap\"}],\"histogram2dcontour\":[{\"colorbar\":{\"outlinewidth\":0,\"ticks\":\"\"},\"colorscale\":[[0.0,\"#0d0887\"],[0.1111111111111111,\"#46039f\"],[0.2222222222222222,\"#7201a8\"],[0.3333333333333333,\"#9c179e\"],[0.4444444444444444,\"#bd3786\"],[0.5555555555555556,\"#d8576b\"],[0.6666666666666666,\"#ed7953\"],[0.7777777777777778,\"#fb9f3a\"],[0.8888888888888888,\"#fdca26\"],[1.0,\"#f0f921\"]],\"type\":\"histogram2dcontour\"}],\"histogram2d\":[{\"colorbar\":{\"outlinewidth\":0,\"ticks\":\"\"},\"colorscale\":[[0.0,\"#0d0887\"],[0.1111111111111111,\"#46039f\"],[0.2222222222222222,\"#7201a8\"],[0.3333333333333333,\"#9c179e\"],[0.4444444444444444,\"#bd3786\"],[0.5555555555555556,\"#d8576b\"],[0.6666666666666666,\"#ed7953\"],[0.7777777777777778,\"#fb9f3a\"],[0.8888888888888888,\"#fdca26\"],[1.0,\"#f0f921\"]],\"type\":\"histogram2d\"}],\"histogram\":[{\"marker\":{\"pattern\":{\"fillmode\":\"overlay\",\"size\":10,\"solidity\":0.2}},\"type\":\"histogram\"}],\"mesh3d\":[{\"colorbar\":{\"outlinewidth\":0,\"ticks\":\"\"},\"type\":\"mesh3d\"}],\"parcoords\":[{\"line\":{\"colorbar\":{\"outlinewidth\":0,\"ticks\":\"\"}},\"type\":\"parcoords\"}],\"pie\":[{\"automargin\":true,\"type\":\"pie\"}],\"scatter3d\":[{\"line\":{\"colorbar\":{\"outlinewidth\":0,\"ticks\":\"\"}},\"marker\":{\"colorbar\":{\"outlinewidth\":0,\"ticks\":\"\"}},\"type\":\"scatter3d\"}],\"scattercarpet\":[{\"marker\":{\"colorbar\":{\"outlinewidth\":0,\"ticks\":\"\"}},\"type\":\"scattercarpet\"}],\"scattergeo\":[{\"marker\":{\"colorbar\":{\"outlinewidth\":0,\"ticks\":\"\"}},\"type\":\"scattergeo\"}],\"scattergl\":[{\"marker\":{\"colorbar\":{\"outlinewidth\":0,\"ticks\":\"\"}},\"type\":\"scattergl\"}],\"scattermapbox\":[{\"marker\":{\"colorbar\":{\"outlinewidth\":0,\"ticks\":\"\"}},\"type\":\"scattermapbox\"}],\"scatterpolargl\":[{\"marker\":{\"colorbar\":{\"outlinewidth\":0,\"ticks\":\"\"}},\"type\":\"scatterpolargl\"}],\"scatterpolar\":[{\"marker\":{\"colorbar\":{\"outlinewidth\":0,\"ticks\":\"\"}},\"type\":\"scatterpolar\"}],\"scatter\":[{\"marker\":{\"colorbar\":{\"outlinewidth\":0,\"ticks\":\"\"}},\"type\":\"scatter\"}],\"scatterternary\":[{\"marker\":{\"colorbar\":{\"outlinewidth\":0,\"ticks\":\"\"}},\"type\":\"scatterternary\"}],\"surface\":[{\"colorbar\":{\"outlinewidth\":0,\"ticks\":\"\"},\"colorscale\":[[0.0,\"#0d0887\"],[0.1111111111111111,\"#46039f\"],[0.2222222222222222,\"#7201a8\"],[0.3333333333333333,\"#9c179e\"],[0.4444444444444444,\"#bd3786\"],[0.5555555555555556,\"#d8576b\"],[0.6666666666666666,\"#ed7953\"],[0.7777777777777778,\"#fb9f3a\"],[0.8888888888888888,\"#fdca26\"],[1.0,\"#f0f921\"]],\"type\":\"surface\"}],\"table\":[{\"cells\":{\"fill\":{\"color\":\"#EBF0F8\"},\"line\":{\"color\":\"white\"}},\"header\":{\"fill\":{\"color\":\"#C8D4E3\"},\"line\":{\"color\":\"white\"}},\"type\":\"table\"}]},\"layout\":{\"annotationdefaults\":{\"arrowcolor\":\"#2a3f5f\",\"arrowhead\":0,\"arrowwidth\":1},\"autotypenumbers\":\"strict\",\"coloraxis\":{\"colorbar\":{\"outlinewidth\":0,\"ticks\":\"\"}},\"colorscale\":{\"diverging\":[[0,\"#8e0152\"],[0.1,\"#c51b7d\"],[0.2,\"#de77ae\"],[0.3,\"#f1b6da\"],[0.4,\"#fde0ef\"],[0.5,\"#f7f7f7\"],[0.6,\"#e6f5d0\"],[0.7,\"#b8e186\"],[0.8,\"#7fbc41\"],[0.9,\"#4d9221\"],[1,\"#276419\"]],\"sequential\":[[0.0,\"#0d0887\"],[0.1111111111111111,\"#46039f\"],[0.2222222222222222,\"#7201a8\"],[0.3333333333333333,\"#9c179e\"],[0.4444444444444444,\"#bd3786\"],[0.5555555555555556,\"#d8576b\"],[0.6666666666666666,\"#ed7953\"],[0.7777777777777778,\"#fb9f3a\"],[0.8888888888888888,\"#fdca26\"],[1.0,\"#f0f921\"]],\"sequentialminus\":[[0.0,\"#0d0887\"],[0.1111111111111111,\"#46039f\"],[0.2222222222222222,\"#7201a8\"],[0.3333333333333333,\"#9c179e\"],[0.4444444444444444,\"#bd3786\"],[0.5555555555555556,\"#d8576b\"],[0.6666666666666666,\"#ed7953\"],[0.7777777777777778,\"#fb9f3a\"],[0.8888888888888888,\"#fdca26\"],[1.0,\"#f0f921\"]]},\"colorway\":[\"#636efa\",\"#EF553B\",\"#00cc96\",\"#ab63fa\",\"#FFA15A\",\"#19d3f3\",\"#FF6692\",\"#B6E880\",\"#FF97FF\",\"#FECB52\"],\"font\":{\"color\":\"#2a3f5f\"},\"geo\":{\"bgcolor\":\"white\",\"lakecolor\":\"white\",\"landcolor\":\"#E5ECF6\",\"showlakes\":true,\"showland\":true,\"subunitcolor\":\"white\"},\"hoverlabel\":{\"align\":\"left\"},\"hovermode\":\"closest\",\"mapbox\":{\"style\":\"light\"},\"paper_bgcolor\":\"white\",\"plot_bgcolor\":\"#E5ECF6\",\"polar\":{\"angularaxis\":{\"gridcolor\":\"white\",\"linecolor\":\"white\",\"ticks\":\"\"},\"bgcolor\":\"#E5ECF6\",\"radialaxis\":{\"gridcolor\":\"white\",\"linecolor\":\"white\",\"ticks\":\"\"}},\"scene\":{\"xaxis\":{\"backgroundcolor\":\"#E5ECF6\",\"gridcolor\":\"white\",\"gridwidth\":2,\"linecolor\":\"white\",\"showbackground\":true,\"ticks\":\"\",\"zerolinecolor\":\"white\"},\"yaxis\":{\"backgroundcolor\":\"#E5ECF6\",\"gridcolor\":\"white\",\"gridwidth\":2,\"linecolor\":\"white\",\"showbackground\":true,\"ticks\":\"\",\"zerolinecolor\":\"white\"},\"zaxis\":{\"backgroundcolor\":\"#E5ECF6\",\"gridcolor\":\"white\",\"gridwidth\":2,\"linecolor\":\"white\",\"showbackground\":true,\"ticks\":\"\",\"zerolinecolor\":\"white\"}},\"shapedefaults\":{\"line\":{\"color\":\"#2a3f5f\"}},\"ternary\":{\"aaxis\":{\"gridcolor\":\"white\",\"linecolor\":\"white\",\"ticks\":\"\"},\"baxis\":{\"gridcolor\":\"white\",\"linecolor\":\"white\",\"ticks\":\"\"},\"bgcolor\":\"#E5ECF6\",\"caxis\":{\"gridcolor\":\"white\",\"linecolor\":\"white\",\"ticks\":\"\"}},\"title\":{\"x\":0.05},\"xaxis\":{\"automargin\":true,\"gridcolor\":\"white\",\"linecolor\":\"white\",\"ticks\":\"\",\"title\":{\"standoff\":15},\"zerolinecolor\":\"white\",\"zerolinewidth\":2},\"yaxis\":{\"automargin\":true,\"gridcolor\":\"white\",\"linecolor\":\"white\",\"ticks\":\"\",\"title\":{\"standoff\":15},\"zerolinecolor\":\"white\",\"zerolinewidth\":2}}},\"title\":{\"text\":\"Impact on Carbon Footprint: Global Human Development v. Export Trade, 2008-2016\"},\"xaxis\":{\"gridcolor\":\"rgb(255, 255, 255)\",\"gridwidth\":2,\"ticklen\":5,\"title\":{\"text\":\"Human Development Index\"},\"zerolinewidth\":1},\"yaxis\":{\"gridcolor\":\"rgb(255, 255, 255)\",\"gridwidth\":2,\"ticklen\":5,\"title\":{\"text\":\"Cumulative Export Trade 2008-2016 (USD Millions)\"},\"zerolinewidth\":1}},                        {\"responsive\": true}                    ).then(function(){\n",
       "                            \n",
       "var gd = document.getElementById('4b7e6c0c-51ee-414f-9fe1-1f721b93ebbe');\n",
       "var x = new MutationObserver(function (mutations, observer) {{\n",
       "        var display = window.getComputedStyle(gd).display;\n",
       "        if (!display || display === 'none') {{\n",
       "            console.log([gd, 'removed!']);\n",
       "            Plotly.purge(gd);\n",
       "            observer.disconnect();\n",
       "        }}\n",
       "}});\n",
       "\n",
       "// Listen for the removal of the full notebook cells\n",
       "var notebookContainer = gd.closest('#notebook-container');\n",
       "if (notebookContainer) {{\n",
       "    x.observe(notebookContainer, {childList: true});\n",
       "}}\n",
       "\n",
       "// Listen for the clearing of the current output cell\n",
       "var outputEl = gd.closest('.output');\n",
       "if (outputEl) {{\n",
       "    x.observe(outputEl, {childList: true});\n",
       "}}\n",
       "\n",
       "                        })                };                });            </script>        </div>"
      ]
     },
     "metadata": {},
     "output_type": "display_data"
    }
   ],
   "source": [
    "import chart_studio.plotly as py\n",
    "#import chart_studio as cs\n",
    "import plotly.graph_objs as go\n",
    "from plotly.offline import init_notebook_mode, iplot\n",
    "init_notebook_mode(connected=True)\n",
    "import pandas as pd\n",
    "import math\n",
    "\n",
    "df_2007 = MERGE2\n",
    "df_2007['HDI'].fillna(0, inplace=True)\n",
    "df_2007['ExpTrade_Mill'].fillna(0, inplace=True)\n",
    "df_2007['Total Ecological Footprint'].fillna(0, inplace=True)\n",
    "df_2007['GDP per Capita'].fillna(0, inplace=True)\n",
    "df_2007[\"Population (millions)\"].fillna(0, inplace=True)\n",
    "df_2007[\"Carbon Footprint\"].fillna(0, inplace=True)\n",
    "\n",
    "#slope = 2.666051223553066e-05\n",
    "hover_text = []\n",
    "bubble_size = []\n",
    "\n",
    "for index, row in df_2007.iterrows(): # each row of the df_2007 will be referenced\n",
    "    hover_text.append(('Country: {country}<br>'+\n",
    "                      'Total Ecological Footprint: {EcoFoot}<br>'+\n",
    "                      'GDP per capita: {gdp}<br>'+\n",
    "                      'Population (Millions): {pop}<br>'+\n",
    "                      'Year: {year}').format(country=row['Country'],\n",
    "                                            EcoFoot=row['Total Ecological Footprint'],\n",
    "                                            gdp=row['GDP per Capita'],\n",
    "                                            pop=row[\"Population (millions)\"],\n",
    "                                            year='2016'))\n",
    "    #bubble_size.append(math.sqrt(row[\"Population (millions)\"]*slope))\n",
    "    bubble_size.append(row[\"Carbon Footprint\"])\n",
    "\n",
    "df_2007['text'] = hover_text\n",
    "df_2007['size'] = bubble_size\n",
    "sizeref = 2.*max(df_2007['size'])/(100**2)\n",
    "\n",
    "trace0 = go.Scatter(\n",
    "    x=df_2007['HDI'][df_2007['Region'] == 'Africa'],\n",
    "    y=df_2007['ExpTrade_Mill'][df_2007['Region'] == 'Africa'],\n",
    "    mode='markers',\n",
    "    name='Africa',\n",
    "    text=df_2007['text'][df_2007['Region'] == 'Africa'],\n",
    "    marker=dict(\n",
    "        symbol='circle',\n",
    "        sizemode='area',\n",
    "        sizeref=sizeref,\n",
    "        size=df_2007['size'][df_2007['Region'] == 'Africa'],\n",
    "        line=dict(\n",
    "            width=2\n",
    "        ),\n",
    "    )\n",
    ")\n",
    "trace1 = go.Scatter(\n",
    "    x=df_2007['HDI'][df_2007['Region'] == 'North America'],\n",
    "    y=df_2007['ExpTrade_Mill'][df_2007['Region'] == 'North America'],\n",
    "    mode='markers',\n",
    "    name='North America',\n",
    "    text=df_2007['text'][df_2007['Region'] == 'North America'],\n",
    "    marker=dict(\n",
    "        sizemode='area',\n",
    "        sizeref=sizeref,\n",
    "        size=df_2007['size'][df_2007['Region'] == 'North America'],\n",
    "        line=dict(\n",
    "            width=2\n",
    "        ),\n",
    "    )\n",
    ")\n",
    "trace2 = go.Scatter(\n",
    "    x=df_2007['HDI'][df_2007['Region'] == 'Middle East/Central Asia'],\n",
    "    y=df_2007['ExpTrade_Mill'][df_2007['Region'] == 'Middle East/Central Asia'],\n",
    "    mode='markers',\n",
    "    name='Middle East/Central Asia',\n",
    "    text=df_2007['text'][df_2007['Region'] == 'Middle East/Central Asia'],\n",
    "    marker=dict(\n",
    "        sizemode='area',\n",
    "        sizeref=sizeref,\n",
    "        size=df_2007['size'][df_2007['Region'] == 'Middle East/Central Asia'],\n",
    "        line=dict(\n",
    "            width=2\n",
    "        ),\n",
    "    )\n",
    ")\n",
    "trace3 = go.Scatter(\n",
    "    x=df_2007['HDI'][df_2007['Region'] == 'Northern/Eastern Europe'],\n",
    "    y=df_2007['ExpTrade_Mill'][df_2007['Region'] == 'Northern/Eastern Europe'],\n",
    "    mode='markers',\n",
    "    name='Northern/Eastern Europe',\n",
    "    text=df_2007['text'][df_2007['Region'] == 'Northern/Eastern Europe'],\n",
    "    marker=dict(\n",
    "        sizemode='area',\n",
    "        sizeref=sizeref,\n",
    "        size=df_2007['size'][df_2007['Region'] == 'Northern/Eastern Europe'],\n",
    "        line=dict(\n",
    "            width=2\n",
    "        ),\n",
    "    )\n",
    ")\n",
    "trace4 = go.Scatter(\n",
    "    x=df_2007['HDI'][df_2007['Region'] == 'Latin America'],\n",
    "    y=df_2007['ExpTrade_Mill'][df_2007['Region'] == 'Latin America'],\n",
    "    mode='markers',\n",
    "    name='Latin America',\n",
    "    text=df_2007['text'][df_2007['Region'] == 'Latin America'],\n",
    "    marker=dict(\n",
    "        sizemode='area',\n",
    "        sizeref=sizeref,\n",
    "        size=df_2007['size'][df_2007['Region'] == 'Latin America'],\n",
    "        line=dict(\n",
    "            width=2\n",
    "        ),\n",
    "    )\n",
    ")\n",
    "\n",
    "trace5 = go.Scatter(\n",
    "    x=df_2007['HDI'][df_2007['Region'] == 'Asia-Pacific'],\n",
    "    y=df_2007['ExpTrade_Mill'][df_2007['Region'] == 'Asia-Pacific'],\n",
    "    mode='markers',\n",
    "    name='Asia-Pacific',\n",
    "    text=df_2007['text'][df_2007['Region'] == 'Asia-Pacific'],\n",
    "    marker=dict(\n",
    "        sizemode='area',\n",
    "        sizeref=sizeref,\n",
    "        size=df_2007['size'][df_2007['Region'] == 'Asia-Pacific'],\n",
    "        line=dict(\n",
    "            width=2\n",
    "        ),\n",
    "    )\n",
    ")\n",
    "\n",
    "trace6 = go.Scatter(\n",
    "     x=df_2007['HDI'][df_2007['Region'] == 'European Union'],\n",
    "    y=df_2007['ExpTrade_Mill'][df_2007['Region'] == 'European Union'],\n",
    "    mode='markers',\n",
    "    name='European Union',\n",
    "    text=df_2007['text'][df_2007['Region'] == 'European Union'],\n",
    "    marker=dict(\n",
    "        sizemode='area',\n",
    "        sizeref=sizeref,\n",
    "        size=df_2007['size'][df_2007['Region'] == 'European Union'],\n",
    "        line=dict(\n",
    "            width=2\n",
    "        ),\n",
    "    )\n",
    ")\n",
    "                      \n",
    "trace7 = go.Scatter(\n",
    "    x=df_2007['HDI'][df_2007['Region'] == 'nan'],\n",
    "    y=df_2007['ExpTrade_Mill'][df_2007['Region'] == 'nan'],\n",
    "    mode='markers',\n",
    "    name='nan',\n",
    "    text=df_2007['text'][df_2007['Region'] == 'nan'],\n",
    "    marker=dict(\n",
    "        sizemode='area',\n",
    "        sizeref=sizeref,\n",
    "        size=df_2007['size'][df_2007['Region'] == 'nan'],\n",
    "        line=dict(\n",
    "            width=2\n",
    "        ),\n",
    "    )\n",
    ")\n",
    "                      \n",
    "data = [trace0, trace1, trace2, trace3, trace4, trace5, trace6, trace7]\n",
    "layout = go.Layout(\n",
    "    title='Impact on Carbon Footprint: Global Human Development v. Export Trade, 2008-2016',\n",
    "    xaxis=dict(\n",
    "        title='Human Development Index',\n",
    "        gridcolor='rgb(255, 255, 255)',\n",
    "        #range=[0, 1],\n",
    "        #type='log',\n",
    "        zerolinewidth=1,\n",
    "        ticklen=5,\n",
    "        gridwidth=2,\n",
    "    ),\n",
    "    yaxis=dict(\n",
    "        title='Cumulative Export Trade 2008-2016 (USD Millions)',\n",
    "        gridcolor='rgb(255, 255, 255)',\n",
    "        #range=[36.12621671352166, 91.72921793264332],\n",
    "        zerolinewidth=1,\n",
    "        ticklen=5,\n",
    "        gridwidth=2,\n",
    "    ),\n",
    "    paper_bgcolor='rgb(243, 243, 243)',\n",
    "    plot_bgcolor='rgb(243, 243, 243)',\n",
    ")\n",
    "\n",
    "fig = go.Figure(data=data, layout=layout)\n",
    "iplot(fig) "
   ]
  },
  {
   "cell_type": "markdown",
   "metadata": {
    "_uuid": "c32807c70158f55530dc19109d6e3fda53474bfb"
   },
   "source": [
    "***Let's start with African countries by filtering out all other regions***\n",
    "* Carbon Footprint: bubbles are relatively small comparing to other regions, indicating that African countries are not the main contributors to carbon emissions\n",
    "* HDI: African countries have relatively lower Human Development Index (HDI), however as HDI increases, the bubbles size increases, inferring that as quality of living and development increases, carbon footprint also increases\n",
    "* Trade: most of the African countries don't trade as much (under 5MM), and interesting observation is that countries that have higher HDI trade more, indicating that there is a positive relationship between trade and HDI."
   ]
  },
  {
   "cell_type": "markdown",
   "metadata": {
    "_uuid": "aff09c2a084895e03c80958a67ce2a1ced89ed9e"
   },
   "source": [
    "**Next contrasting with First-World Countries: EU and North America**\n",
    "* Carbon Footprint: bubbles are relatively large comparing to Africa and other developing regions, indicating that First-world countries are the main contributors to carbon emissions.\n",
    "* HDI: EU and NA countries have relatively higher HDI (> 0.8).\n",
    "* Trade: most of the developed countries trade more."
   ]
  },
  {
   "cell_type": "markdown",
   "metadata": {
    "_uuid": "ca12fc1c54b81d915a4313b860425141a4de0187"
   },
   "source": [
    "# **Developing vs First World Countries**"
   ]
  },
  {
   "cell_type": "code",
   "execution_count": 15,
   "metadata": {
    "_kg_hide-input": true,
    "_uuid": "05c4188e9bc22300df39cbec1b1e942577309c63"
   },
   "outputs": [
    {
     "data": {
      "text/html": [
       "        <script type=\"text/javascript\">\n",
       "        window.PlotlyConfig = {MathJaxConfig: 'local'};\n",
       "        if (window.MathJax) {MathJax.Hub.Config({SVG: {font: \"STIX-Web\"}});}\n",
       "        if (typeof require !== 'undefined') {\n",
       "        require.undef(\"plotly\");\n",
       "        requirejs.config({\n",
       "            paths: {\n",
       "                'plotly': ['https://cdn.plot.ly/plotly-2.9.0.min']\n",
       "            }\n",
       "        });\n",
       "        require(['plotly'], function(Plotly) {\n",
       "            window._Plotly = Plotly;\n",
       "        });\n",
       "        }\n",
       "        </script>\n",
       "        "
      ]
     },
     "metadata": {},
     "output_type": "display_data"
    },
    {
     "data": {
      "application/vnd.plotly.v1+json": {
       "config": {
        "linkText": "Export to plot.ly",
        "plotlyServerURL": "https://plot.ly",
        "showLink": false
       },
       "data": [
        {
         "marker": {
          "line": {
           "width": 2
          },
          "size": [
           1.14,
           0.2,
           0.51,
           2.36,
           0.12,
           0.04,
           0,
           0.19,
           0.08,
           0.01,
           0.25,
           0.47,
           0.47,
           0.07,
           0.07,
           0.26,
           0,
           1.02,
           3.17,
           0.03,
           0.07,
           0.43,
           0.21,
           0.43,
           0.16,
           0.09,
           0.2,
           0.51,
           0.14,
           2.33,
           0.07,
           0.07,
           0.1,
           0.55,
           1.99,
           0.67,
           0.17,
           1.02,
           0.1,
           0.21,
           0.07,
           3.27,
           0.37,
           0.3,
           0.07,
           0.07,
           2.34,
           2.34,
           0.67,
           0.17,
           0.31,
           1.11,
           0.08,
           0.24,
           0.53
          ],
          "sizemode": "area",
          "sizeref": 0.0019140000000000001,
          "symbol": "circle"
         },
         "mode": "markers",
         "name": "Africa",
         "text": [
          "Country: Algeria<br>Total Ecological Footprint: 2.12<br>GDP per capita: $5,430.57<br>Population (Millions): 38.48<br>Year: 2016",
          "Country: Angola<br>Total Ecological Footprint: 0.93<br>GDP per capita: $4,665.91<br>Population (Millions): 20.82<br>Year: 2016",
          "Country: Benin<br>Total Ecological Footprint: 1.41<br>GDP per capita: $746.83<br>Population (Millions): 10.05<br>Year: 2016",
          "Country: Botswana<br>Total Ecological Footprint: 3.83<br>GDP per capita: $7,743.50<br>Population (Millions): 2.0<br>Year: 2016",
          "Country: Burkina Faso<br>Total Ecological Footprint: 1.21<br>GDP per capita: $671.07<br>Population (Millions): 16.46<br>Year: 2016",
          "Country: Burundi<br>Total Ecological Footprint: 0.8<br>GDP per capita: $276.69<br>Population (Millions): 9.85<br>Year: 2016",
          "Country: Cabo Verde<br>Total Ecological Footprint: 2.52<br>GDP per capita: $3,801.45<br>Population (Millions): 0.49<br>Year: 2016",
          "Country: Cameroon<br>Total Ecological Footprint: 1.17<br>GDP per capita: $1,271.21<br>Population (Millions): 21.7<br>Year: 2016",
          "Country: Central African Republic<br>Total Ecological Footprint: 1.24<br>GDP per capita: $495.04<br>Population (Millions): 4.53<br>Year: 2016",
          "Country: Chad<br>Total Ecological Footprint: 1.46<br>GDP per capita: $1,161.22<br>Population (Millions): 12.45<br>Year: 2016",
          "Country: Comoros<br>Total Ecological Footprint: 1.03<br>GDP per capita: $860.24<br>Population (Millions): 0.72<br>Year: 2016",
          "Country: Congo<br>Total Ecological Footprint: 1.29<br>GDP per capita: $1,943.69<br>Population (Millions): 4.34<br>Year: 2016",
          "Country: Congo<br>Total Ecological Footprint: 1.29<br>GDP per capita: $1,943.69<br>Population (Millions): 4.34<br>Year: 2016",
          "Country: Congo<br>Total Ecological Footprint: 0.82<br>GDP per capita: $338.63<br>Population (Millions): 65.7<br>Year: 2016",
          "Country: Congo<br>Total Ecological Footprint: 0.82<br>GDP per capita: $338.63<br>Population (Millions): 65.7<br>Year: 2016",
          "Country: CotedeIvoire<br>Total Ecological Footprint: 1.27<br>GDP per capita: $1,016.83<br>Population (Millions): 19.84<br>Year: 2016",
          "Country: Djibouti<br>Total Ecological Footprint: 2.19<br>GDP per capita: $1,433.17<br>Population (Millions): 0.86<br>Year: 2016",
          "Country: Egypt<br>Total Ecological Footprint: 2.15<br>GDP per capita: $2,930.33<br>Population (Millions): 80.72<br>Year: 2016",
          "Country: Equatorial Guinea<br>Total Ecological Footprint: 3.97<br>GDP per capita: $24,064.00<br>Population (Millions): 0.74<br>Year: 2016",
          "Country: Eritrea<br>Total Ecological Footprint: 0.42<br>GDP per capita: $439.73<br>Population (Millions): 6.13<br>Year: 2016",
          "Country: Ethiopia<br>Total Ecological Footprint: 1.02<br>GDP per capita: $379.38<br>Population (Millions): 91.73<br>Year: 2016",
          "Country: Gabon<br>Total Ecological Footprint: 2.02<br>GDP per capita: $11,989.00<br>Population (Millions): 1.63<br>Year: 2016",
          "Country: Gambia<br>Total Ecological Footprint: 1.03<br>GDP per capita: $505.76<br>Population (Millions): 1.79<br>Year: 2016",
          "Country: Ghana<br>Total Ecological Footprint: 1.97<br>GDP per capita: $1,627.90<br>Population (Millions): 25.37<br>Year: 2016",
          "Country: Guinea<br>Total Ecological Footprint: 1.41<br>GDP per capita: $459.09<br>Population (Millions): 11.45<br>Year: 2016",
          "Country: Guinea-Bissau<br>Total Ecological Footprint: 1.53<br>GDP per capita: $681.25<br>Population (Millions): 1.66<br>Year: 2016",
          "Country: Kenya<br>Total Ecological Footprint: 1.03<br>GDP per capita: $1,062.11<br>Population (Millions): 43.18<br>Year: 2016",
          "Country: Lesotho<br>Total Ecological Footprint: 1.66<br>GDP per capita: $1,338.42<br>Population (Millions): 2.05<br>Year: 2016",
          "Country: Liberia<br>Total Ecological Footprint: 1.21<br>GDP per capita: $397.38<br>Population (Millions): 4.19<br>Year: 2016",
          "Country: Libyan Arab Jamahiriya<br>Total Ecological Footprint: 3.69<br>GDP per capita: $5,859.43<br>Population (Millions): 6.16<br>Year: 2016",
          "Country: Madagascar<br>Total Ecological Footprint: 0.99<br>GDP per capita: $456.33<br>Population (Millions): 22.29<br>Year: 2016",
          "Country: Malawi<br>Total Ecological Footprint: 0.81<br>GDP per capita: $493.84<br>Population (Millions): 15.91<br>Year: 2016",
          "Country: Mali<br>Total Ecological Footprint: 1.53<br>GDP per capita: $741.22<br>Population (Millions): 14.85<br>Year: 2016",
          "Country: Mauritania<br>Total Ecological Footprint: 2.54<br>GDP per capita: $1,524.39<br>Population (Millions): 3.8<br>Year: 2016",
          "Country: Mauritius<br>Total Ecological Footprint: 3.46<br>GDP per capita: $8,811.15<br>Population (Millions): 1.24<br>Year: 2016",
          "Country: Morocco<br>Total Ecological Footprint: 1.68<br>GDP per capita: $3,149.43<br>Population (Millions): 32.52<br>Year: 2016",
          "Country: Mozambique<br>Total Ecological Footprint: 0.87<br>GDP per capita: $538.82<br>Population (Millions): 25.2<br>Year: 2016",
          "Country: Namibia<br>Total Ecological Footprint: 2.48<br>GDP per capita: $5,880.80<br>Population (Millions): 2.26<br>Year: 2016",
          "Country: Niger<br>Total Ecological Footprint: 1.56<br>GDP per capita: $410.91<br>Population (Millions): 17.16<br>Year: 2016",
          "Country: Nigeria<br>Total Ecological Footprint: 1.16<br>GDP per capita: $2,612.12<br>Population (Millions): 168.83<br>Year: 2016",
          "Country: Rwanda<br>Total Ecological Footprint: 0.87<br>GDP per capita: $628.08<br>Population (Millions): 11.46<br>Year: 2016",
          "Country: Réunion<br>Total Ecological Footprint: 3.65<br>GDP per capita: 0<br>Population (Millions): 0.86<br>Year: 2016",
          "Country: Sao Tome and Principe<br>Total Ecological Footprint: 1.49<br>GDP per capita: $1,384.53<br>Population (Millions): 0.19<br>Year: 2016",
          "Country: Senegal<br>Total Ecological Footprint: 1.21<br>GDP per capita: $1,079.27<br>Population (Millions): 13.73<br>Year: 2016",
          "Country: Sierra Leone<br>Total Ecological Footprint: 1.24<br>GDP per capita: $499.89<br>Population (Millions): 5.98<br>Year: 2016",
          "Country: Somalia<br>Total Ecological Footprint: 1.24<br>GDP per capita: 0<br>Population (Millions): 10.2<br>Year: 2016",
          "Country: South Africa<br>Total Ecological Footprint: 3.31<br>GDP per capita: $8,089.87<br>Population (Millions): 52.39<br>Year: 2016",
          "Country: South Africa<br>Total Ecological Footprint: 3.31<br>GDP per capita: $8,089.87<br>Population (Millions): 52.39<br>Year: 2016",
          "Country: Swaziland<br>Total Ecological Footprint: 2.01<br>GDP per capita: $4,657.48<br>Population (Millions): 1.23<br>Year: 2016",
          "Country: Tanzania, United Republic of<br>Total Ecological Footprint: 1.32<br>GDP per capita: $765.33<br>Population (Millions): 47.78<br>Year: 2016",
          "Country: Togo<br>Total Ecological Footprint: 1.13<br>GDP per capita: $580.86<br>Population (Millions): 6.64<br>Year: 2016",
          "Country: Tunisia<br>Total Ecological Footprint: 2.34<br>GDP per capita: $4,305.07<br>Population (Millions): 10.88<br>Year: 2016",
          "Country: Uganda<br>Total Ecological Footprint: 1.24<br>GDP per capita: $601.35<br>Population (Millions): 36.35<br>Year: 2016",
          "Country: Zambia<br>Total Ecological Footprint: 0.99<br>GDP per capita: $1,740.64<br>Population (Millions): 14.08<br>Year: 2016",
          "Country: Zimbabwe<br>Total Ecological Footprint: 1.37<br>GDP per capita: $865.91<br>Population (Millions): 13.72<br>Year: 2016"
         ],
         "type": "scatter",
         "x": [
          0.73,
          0.52,
          0.48,
          0.69,
          0.39,
          0.39,
          0.64,
          0.5,
          0.37,
          0.39,
          0.5,
          0.57,
          0.57,
          0.42,
          0.42,
          0,
          0.46,
          0.69,
          0.58,
          0.39,
          0.43,
          0.67,
          0.44,
          0.57,
          0.41,
          0.42,
          0.54,
          0.48,
          0.42,
          0.74,
          0.51,
          0.43,
          0.41,
          0.5,
          0.77,
          0.62,
          0.41,
          0.62,
          0.34,
          0.5,
          0.48,
          0,
          0.55,
          0.46,
          0.4,
          0,
          0.66,
          0.66,
          0.53,
          0.51,
          0.47,
          0.72,
          0.48,
          0.58,
          0.49
         ],
         "y": [
          1764159.930121,
          868304.901687,
          17188.74242,
          165289.469843,
          36715.78927,
          5875.022509,
          8576.22901,
          106063.255358,
          4247.102371,
          0,
          311.324201,
          142288.592207,
          142288.592207,
          142288.592207,
          142288.592207,
          306234.552473,
          908.894136,
          571013.705449,
          0,
          13.738916,
          73294.890111,
          109856.378335,
          2196.244925,
          180774.275476,
          28661.671803,
          140.104723,
          79838.49571,
          6603.186763,
          0,
          0,
          39630.482973,
          31987.416226,
          24614.910011,
          31323.977034,
          67749.089213,
          360050.581938,
          45530.394133,
          97930.874262,
          22825.630812,
          969191.899795,
          8842.242436,
          639.994335,
          222.241411,
          39286.890314,
          1265.493049,
          0,
          1238714.709979,
          254876.820776,
          13633.225132,
          67153.551095,
          15209.369044,
          286264.000632,
          34128.229548,
          92277.699719,
          68338.762312
         ]
        },
        {
         "marker": {
          "line": {
           "width": 2
          },
          "size": [
           0
          ],
          "sizemode": "area",
          "sizeref": 0.0019140000000000001
         },
         "mode": "markers",
         "name": "North America",
         "text": [
          "Country: Bermuda<br>Total Ecological Footprint: 5.77<br>GDP per capita: $70,626.30<br>Population (Millions): 0.06<br>Year: 2016"
         ],
         "type": "scatter",
         "x": [
          0
         ],
         "y": [
          365.262036
         ]
        },
        {
         "marker": {
          "line": {
           "width": 2
          },
          "size": [
           0.18,
           0.89,
           1.25,
           6.19,
           0.83,
           1.72,
           1.36,
           4.59,
           1.09,
           4.59,
           6.89,
           0.95,
           2.52,
           5.8,
           9.57,
           4.21,
           0.81,
           0.13,
           1.92,
           4.13,
           6.37,
           1.41,
           0.42
          ],
          "sizemode": "area",
          "sizeref": 0.0019140000000000001
         },
         "mode": "markers",
         "name": "Middle East/Central Asia",
         "text": [
          "Country: Afghanistan<br>Total Ecological Footprint: 0.79<br>GDP per capita: $614.66<br>Population (Millions): 29.82<br>Year: 2016",
          "Country: Armenia<br>Total Ecological Footprint: 2.23<br>GDP per capita: $3,426.39<br>Population (Millions): 2.97<br>Year: 2016",
          "Country: Azerbaijan<br>Total Ecological Footprint: 2.31<br>GDP per capita: $7,106.04<br>Population (Millions): 9.31<br>Year: 2016",
          "Country: Bahrain<br>Total Ecological Footprint: 7.49<br>GDP per capita: $24,299.00<br>Population (Millions): 1.32<br>Year: 2016",
          "Country: Georgia<br>Total Ecological Footprint: 1.58<br>GDP per capita: $3,710.70<br>Population (Millions): 4.36<br>Year: 2016",
          "Country: Iran<br>Total Ecological Footprint: 2.79<br>GDP per capita: $7,511.10<br>Population (Millions): 76.42<br>Year: 2016",
          "Country: Iraq<br>Total Ecological Footprint: 1.88<br>GDP per capita: $5,848.54<br>Population (Millions): 32.78<br>Year: 2016",
          "Country: Israel<br>Total Ecological Footprint: 6.22<br>GDP per capita: $33,718.90<br>Population (Millions): 7.64<br>Year: 2016",
          "Country: Jordan<br>Total Ecological Footprint: 2.1<br>GDP per capita: $4,615.17<br>Population (Millions): 7.01<br>Year: 2016",
          "Country: Kazakhstan<br>Total Ecological Footprint: 5.55<br>GDP per capita: $11,278.00<br>Population (Millions): 16.27<br>Year: 2016",
          "Country: Kuwait<br>Total Ecological Footprint: 8.13<br>GDP per capita: $41,830.50<br>Population (Millions): 3.25<br>Year: 2016",
          "Country: Kyrgyzstan<br>Total Ecological Footprint: 1.91<br>GDP per capita: $1,116.37<br>Population (Millions): 5.47<br>Year: 2016",
          "Country: Lebanon<br>Total Ecological Footprint: 3.84<br>GDP per capita: $9,143.86<br>Population (Millions): 4.65<br>Year: 2016",
          "Country: Oman<br>Total Ecological Footprint: 7.52<br>GDP per capita: $22,622.80<br>Population (Millions): 3.31<br>Year: 2016",
          "Country: Qatar<br>Total Ecological Footprint: 10.8<br>GDP per capita: $99,431.50<br>Population (Millions): 2.05<br>Year: 2016",
          "Country: Saudi Arabia<br>Total Ecological Footprint: 5.61<br>GDP per capita: $23,593.80<br>Population (Millions): 28.29<br>Year: 2016",
          "Country: Syrian Arab Republic<br>Total Ecological Footprint: 1.51<br>GDP per capita: 0<br>Population (Millions): 21.89<br>Year: 2016",
          "Country: Tajikistan<br>Total Ecological Footprint: 0.91<br>GDP per capita: $836.17<br>Population (Millions): 8.01<br>Year: 2016",
          "Country: Turkey<br>Total Ecological Footprint: 3.33<br>GDP per capita: $10,437.70<br>Population (Millions): 74.0<br>Year: 2016",
          "Country: Turkmenistan<br>Total Ecological Footprint: 5.47<br>GDP per capita: $5,290.14<br>Population (Millions): 5.17<br>Year: 2016",
          "Country: United Arab Emirates<br>Total Ecological Footprint: 7.93<br>GDP per capita: $40,817.40<br>Population (Millions): 9.206<br>Year: 2016",
          "Country: Uzbekistan<br>Total Ecological Footprint: 2.32<br>GDP per capita: $1,560.85<br>Population (Millions): 28.54<br>Year: 2016",
          "Country: Yemen<br>Total Ecological Footprint: 1.03<br>GDP per capita: $1,302.30<br>Population (Millions): 23.85<br>Year: 2016"
         ],
         "type": "scatter",
         "x": [
          0.46,
          0.73,
          0.75,
          0.82,
          0.75,
          0.76,
          0.65,
          0.89,
          0.75,
          0.78,
          0.82,
          0.65,
          0.76,
          0.79,
          0.85,
          0.83,
          0.62,
          0.62,
          0.76,
          0.68,
          0.83,
          0.67,
          0.5
         ],
         "y": [
          8780.222349,
          40446.217031,
          445786.578451,
          454172.159687,
          45636.059638,
          1034554.259508,
          994420.836791,
          1501212.784744,
          176585.22382,
          1436982.554229,
          1557687.908264,
          33088.620513,
          61076.868458,
          695328.948684,
          1241796.959047,
          4023988.218166,
          0,
          692.346,
          2075304.938465,
          5201.180675,
          6129567.032802,
          0,
          71615.411671
         ]
        },
        {
         "marker": {
          "line": {
           "width": 2
          },
          "size": [
           0.87,
           2.57,
           1.74,
           2.06,
           1.03,
           2.13,
           3.87,
           1.66,
           1.92
          ],
          "sizemode": "area",
          "sizeref": 0.0019140000000000001
         },
         "mode": "markers",
         "name": "Northern/Eastern Europe",
         "text": [
          "Country: Albania<br>Total Ecological Footprint: 2.21<br>GDP per capita: $4,534.37<br>Population (Millions): 3.16<br>Year: 2016",
          "Country: Belarus<br>Total Ecological Footprint: 5.09<br>GDP per capita: $6,300.45<br>Population (Millions): 9.4<br>Year: 2016",
          "Country: Bosnia Herzegovina<br>Total Ecological Footprint: 3.12<br>GDP per capita: $4,708.85<br>Population (Millions): 3.83<br>Year: 2016",
          "Country: Macedonia<br>Total Ecological Footprint: 3.26<br>GDP per capita: $5,174.89<br>Population (Millions): 2.11<br>Year: 2016",
          "Country: Moldova<br>Total Ecological Footprint: 1.78<br>GDP per capita: $1,971.03<br>Population (Millions): 3.51<br>Year: 2016",
          "Country: Montenegro<br>Total Ecological Footprint: 3.78<br>GDP per capita: $7,251.60<br>Population (Millions): 0.62<br>Year: 2016",
          "Country: Russian Federation<br>Total Ecological Footprint: 5.69<br>GDP per capita: $13,320.20<br>Population (Millions): 143.17<br>Year: 2016",
          "Country: Serbia<br>Total Ecological Footprint: 2.7<br>GDP per capita: $6,426.18<br>Population (Millions): 9.55<br>Year: 2016",
          "Country: Ukraine<br>Total Ecological Footprint: 2.84<br>GDP per capita: $3,589.63<br>Population (Millions): 45.53<br>Year: 2016"
         ],
         "type": "scatter",
         "x": [
          0.73,
          0.8,
          0.73,
          0.74,
          0.68,
          0.8,
          0.79,
          0.76,
          0.74
         ],
         "y": [
          47544.871187,
          785837.732412,
          113371.731548,
          61844.406928,
          45094.893149,
          6814.403932,
          6564472.499199,
          149527.210347,
          874576.69606
         ]
        },
        {
         "marker": {
          "line": {
           "width": 2
          },
          "size": [
           0,
           1.08,
           0,
           4.46,
           3.28,
           0.67,
           0.91,
           0,
           3.56,
           2.04,
           0.67,
           1.37,
           1.23,
           1.47,
           0.86,
           1.08,
           0.84,
           1.58,
           0,
           2.61,
           0.7,
           1.25,
           0.15,
           0.6,
           1.09,
           1.73,
           1.74,
           0,
           0.45,
           1.44,
           0.97,
           0.67,
           3.34,
           1.56,
           0,
           3.01,
           6.89,
           0.98,
           2.13
          ],
          "sizemode": "area",
          "sizeref": 0.0019140000000000001
         },
         "mode": "markers",
         "name": "Latin America",
         "text": [
          "Country: Antigua and Barbuda<br>Total Ecological Footprint: 5.38<br>GDP per capita: $13,205.10<br>Population (Millions): 0.09<br>Year: 2016",
          "Country: Argentina<br>Total Ecological Footprint: 3.14<br>GDP per capita: $13,540.00<br>Population (Millions): 41.09<br>Year: 2016",
          "Country: Aruba<br>Total Ecological Footprint: 11.88<br>GDP per capita: 0<br>Population (Millions): 0.1<br>Year: 2016",
          "Country: Bahamas<br>Total Ecological Footprint: 6.84<br>GDP per capita: $22,647.30<br>Population (Millions): 0.37<br>Year: 2016",
          "Country: Barbados<br>Total Ecological Footprint: 4.48<br>GDP per capita: $15,722.80<br>Population (Millions): 0.28<br>Year: 2016",
          "Country: Bolivia<br>Total Ecological Footprint: 2.96<br>GDP per capita: $2,253.09<br>Population (Millions): 10.5<br>Year: 2016",
          "Country: Brazil<br>Total Ecological Footprint: 3.11<br>GDP per capita: $13,237.60<br>Population (Millions): 198.66<br>Year: 2016",
          "Country: British Virgin Islands<br>Total Ecological Footprint: 2.86<br>GDP per capita: 0<br>Population (Millions): 0.03<br>Year: 2016",
          "Country: Cayman Islands<br>Total Ecological Footprint: 5.65<br>GDP per capita: 0<br>Population (Millions): 0.06<br>Year: 2016",
          "Country: Chile<br>Total Ecological Footprint: 4.36<br>GDP per capita: $14,525.80<br>Population (Millions): 17.46<br>Year: 2016",
          "Country: Colombia<br>Total Ecological Footprint: 1.87<br>GDP per capita: $7,305.22<br>Population (Millions): 47.7<br>Year: 2016",
          "Country: Costa Rica<br>Total Ecological Footprint: 2.84<br>GDP per capita: $8,979.96<br>Population (Millions): 4.8<br>Year: 2016",
          "Country: Cuba<br>Total Ecological Footprint: 1.95<br>GDP per capita: $5,175.94<br>Population (Millions): 11.27<br>Year: 2016",
          "Country: Dominica<br>Total Ecological Footprint: 2.57<br>GDP per capita: $7,088.01<br>Population (Millions): 0.07<br>Year: 2016",
          "Country: Dominican Republic<br>Total Ecological Footprint: 1.53<br>GDP per capita: $6,085.89<br>Population (Millions): 10.28<br>Year: 2016",
          "Country: Ecuador<br>Total Ecological Footprint: 2.17<br>GDP per capita: $5,192.88<br>Population (Millions): 15.49<br>Year: 2016",
          "Country: El Salvador<br>Total Ecological Footprint: 2.07<br>GDP per capita: $3,696.33<br>Population (Millions): 6.3<br>Year: 2016",
          "Country: French Guiana<br>Total Ecological Footprint: 2.34<br>GDP per capita: 0<br>Population (Millions): 0.24<br>Year: 2016",
          "Country: Grenada<br>Total Ecological Footprint: 2.98<br>GDP per capita: $7,410.48<br>Population (Millions): 0.1<br>Year: 2016",
          "Country: Guadeloupe<br>Total Ecological Footprint: 3.23<br>GDP per capita: 0<br>Population (Millions): 0.46<br>Year: 2016",
          "Country: Guatemala<br>Total Ecological Footprint: 1.89<br>GDP per capita: $3,233.80<br>Population (Millions): 15.08<br>Year: 2016",
          "Country: Guyana<br>Total Ecological Footprint: 3.07<br>GDP per capita: $3,269.46<br>Population (Millions): 0.8<br>Year: 2016",
          "Country: Haiti<br>Total Ecological Footprint: 0.61<br>GDP per capita: $749.13<br>Population (Millions): 10.17<br>Year: 2016",
          "Country: Honduras<br>Total Ecological Footprint: 1.68<br>GDP per capita: $2,269.51<br>Population (Millions): 7.94<br>Year: 2016",
          "Country: Jamaica<br>Total Ecological Footprint: 1.89<br>GDP per capita: $5,226.30<br>Population (Millions): 2.77<br>Year: 2016",
          "Country: Martinique<br>Total Ecological Footprint: 2.08<br>GDP per capita: 0<br>Population (Millions): 0.4<br>Year: 2016",
          "Country: Mexico<br>Total Ecological Footprint: 2.89<br>GDP per capita: $10,123.90<br>Population (Millions): 120.85<br>Year: 2016",
          "Country: Montserrat<br>Total Ecological Footprint: 7.78<br>GDP per capita: 0<br>Population (Millions): 0.0<br>Year: 2016",
          "Country: Nicaragua<br>Total Ecological Footprint: 1.39<br>GDP per capita: $1,626.85<br>Population (Millions): 5.99<br>Year: 2016",
          "Country: Panama<br>Total Ecological Footprint: 2.79<br>GDP per capita: $8,410.77<br>Population (Millions): 3.8<br>Year: 2016",
          "Country: Paraguay<br>Total Ecological Footprint: 4.16<br>GDP per capita: $3,557.31<br>Population (Millions): 6.69<br>Year: 2016",
          "Country: Peru<br>Total Ecological Footprint: 2.28<br>GDP per capita: $5,684.73<br>Population (Millions): 29.99<br>Year: 2016",
          "Country: Saint Kitts and Nevis<br>Total Ecological Footprint: 4.94<br>GDP per capita: $12,952.50<br>Population (Millions): 0.05<br>Year: 2016",
          "Country: Saint Lucia<br>Total Ecological Footprint: 2.45<br>GDP per capita: $7,737.20<br>Population (Millions): 0.18<br>Year: 2016",
          "Country: Saint Vincent and Grenadines<br>Total Ecological Footprint: 3.11<br>GDP per capita: $6,171.48<br>Population (Millions): 0.11<br>Year: 2016",
          "Country: Suriname<br>Total Ecological Footprint: 4.25<br>GDP per capita: $8,190.70<br>Population (Millions): 0.54<br>Year: 2016",
          "Country: Trinidad and Tobago<br>Total Ecological Footprint: 7.92<br>GDP per capita: $18,310.80<br>Population (Millions): 1.34<br>Year: 2016",
          "Country: Uruguay<br>Total Ecological Footprint: 2.91<br>GDP per capita: $14,238.10<br>Population (Millions): 3.4<br>Year: 2016",
          "Country: Venezuela<br>Total Ecological Footprint: 3.57<br>GDP per capita: $10,237.80<br>Population (Millions): 29.96<br>Year: 2016"
         ],
         "type": "scatter",
         "x": [
          0.78,
          0.83,
          0,
          0.78,
          0.79,
          0.65,
          0.75,
          0,
          0,
          0.83,
          0.72,
          0.76,
          0.77,
          0.72,
          0.71,
          0.73,
          0.66,
          0,
          0.74,
          0,
          0.62,
          0.63,
          0.48,
          0.61,
          0.72,
          0,
          0.75,
          0,
          0.63,
          0.77,
          0.67,
          0.73,
          0.74,
          0.73,
          0.72,
          0.71,
          0.77,
          0.79,
          0.763846
         ],
         "y": [
          2714.754086,
          2102506.872655,
          4302.808896,
          27781.65855,
          19045.806716,
          205016.420508,
          5874973.448571,
          0,
          0,
          1995795.200692,
          1185514.775141,
          253783.651999,
          29906.668376,
          1590.812536,
          165509.898148,
          552393.119628,
          118906.150867,
          436.792399,
          919.643363,
          500.959707,
          185264.644056,
          30135.584161,
          1347.125413,
          56070.915585,
          49738.950509,
          692.321704,
          6361457.659653,
          65.403121,
          44011.235338,
          194455.660747,
          122495.429036,
          676451.46018,
          883.8683,
          3565.184515,
          1271.53555,
          43411.675196,
          215524.138075,
          120895.355404,
          897365.929625
         ]
        },
        {
         "marker": {
          "line": {
           "width": 2
          },
          "size": [
           0.26,
           0.63,
           3.24,
           0,
           2.32,
           1.06,
           2.39,
           0.61,
           0.64,
           4.17,
           0.68,
           0.09,
           2.1,
           2.09,
           0.09,
           0,
           0.16,
           1.78,
           0.38,
           0.35,
           0.34,
           0.96,
           5.91,
           0,
           0.52,
           1.54,
           0.06,
           0.88,
           0.79,
           0
          ],
          "sizemode": "area",
          "sizeref": 0.0019140000000000001
         },
         "mode": "markers",
         "name": "Asia-Pacific",
         "text": [
          "Country: Bangladesh<br>Total Ecological Footprint: 0.72<br>GDP per capita: $857.50<br>Population (Millions): 154.7<br>Year: 2016",
          "Country: Bhutan<br>Total Ecological Footprint: 4.84<br>GDP per capita: $2,395.00<br>Population (Millions): 0.74<br>Year: 2016",
          "Country: Brunei Darussalam<br>Total Ecological Footprint: 4.06<br>GDP per capita: $47,097.40<br>Population (Millions): 0.41<br>Year: 2016",
          "Country: Cambodia<br>Total Ecological Footprint: 1.21<br>GDP per capita: $877.64<br>Population (Millions): 14.86<br>Year: 2016",
          "Country: China<br>Total Ecological Footprint: 3.38<br>GDP per capita: $5,560.94<br>Population (Millions): 1408.04<br>Year: 2016",
          "Country: Fiji<br>Total Ecological Footprint: 2.9<br>GDP per capita: $4,201.37<br>Population (Millions): 0.88<br>Year: 2016",
          "Country: French Polynesia<br>Total Ecological Footprint: 4.73<br>GDP per capita: 0<br>Population (Millions): 0.27<br>Year: 2016",
          "Country: India<br>Total Ecological Footprint: 1.16<br>GDP per capita: $1,513.85<br>Population (Millions): 1236.69<br>Year: 2016",
          "Country: Indonesia<br>Total Ecological Footprint: 1.58<br>GDP per capita: $3,688.53<br>Population (Millions): 246.86<br>Year: 2016",
          "Country: Korea, Republic of<br>Total Ecological Footprint: 5.69<br>GDP per capita: $24,155.80<br>Population (Millions): 49.0<br>Year: 2016",
          "Country: Korea, Republic of<br>Total Ecological Footprint: 1.17<br>GDP per capita: 0<br>Population (Millions): 24.76<br>Year: 2016",
          "Country: Lao People's Democratic Republic<br>Total Ecological Footprint: 1.22<br>GDP per capita: $1,236.24<br>Population (Millions): 6.65<br>Year: 2016",
          "Country: Malaysia<br>Total Ecological Footprint: 3.71<br>GDP per capita: $10,252.60<br>Population (Millions): 29.24<br>Year: 2016",
          "Country: Mongolia<br>Total Ecological Footprint: 6.08<br>GDP per capita: $3,736.07<br>Population (Millions): 2.8<br>Year: 2016",
          "Country: Myanmar<br>Total Ecological Footprint: 1.43<br>GDP per capita: $1,117.58<br>Population (Millions): 52.8<br>Year: 2016",
          "Country: Nauru<br>Total Ecological Footprint: 2.94<br>GDP per capita: 0<br>Population (Millions): 0.01<br>Year: 2016",
          "Country: Nepal<br>Total Ecological Footprint: 0.98<br>GDP per capita: $700.07<br>Population (Millions): 27.47<br>Year: 2016",
          "Country: New Caledonia<br>Total Ecological Footprint: 3.58<br>GDP per capita: 0<br>Population (Millions): 0.25<br>Year: 2016",
          "Country: Pakistan<br>Total Ecological Footprint: 0.79<br>GDP per capita: $1,218.60<br>Population (Millions): 179.16<br>Year: 2016",
          "Country: Papua New Guinea<br>Total Ecological Footprint: 1.91<br>GDP per capita: $1,871.21<br>Population (Millions): 7.17<br>Year: 2016",
          "Country: Philippines<br>Total Ecological Footprint: 1.1<br>GDP per capita: $2,379.44<br>Population (Millions): 96.71<br>Year: 2016",
          "Country: Samoa<br>Total Ecological Footprint: 2.77<br>GDP per capita: $4,067.15<br>Population (Millions): 0.19<br>Year: 2016",
          "Country: Singapore<br>Total Ecological Footprint: 7.97<br>GDP per capita: $53,122.40<br>Population (Millions): 5.3<br>Year: 2016",
          "Country: Solomon Isds<br>Total Ecological Footprint: 1.29<br>GDP per capita: $1,647.86<br>Population (Millions): 0.55<br>Year: 2016",
          "Country: Sri Lanka<br>Total Ecological Footprint: 1.32<br>GDP per capita: $2,880.03<br>Population (Millions): 21.1<br>Year: 2016",
          "Country: Thailand<br>Total Ecological Footprint: 2.66<br>GDP per capita: $5,479.29<br>Population (Millions): 66.78<br>Year: 2016",
          "Country: Timor-Leste<br>Total Ecological Footprint: 0.48<br>GDP per capita: $5,167.86<br>Population (Millions): 1.11<br>Year: 2016",
          "Country: Tonga<br>Total Ecological Footprint: 2.7<br>GDP per capita: $4,330.90<br>Population (Millions): 0.1<br>Year: 2016",
          "Country: Viet Nam<br>Total Ecological Footprint: 1.65<br>GDP per capita: $1,532.31<br>Population (Millions): 90.8<br>Year: 2016",
          "Country: Wallis and Futuna Islands<br>Total Ecological Footprint: 2.07<br>GDP per capita: 0<br>Population (Millions): 0.01<br>Year: 2016"
         ],
         "type": "scatter",
         "x": [
          0.56,
          0.59,
          0.85,
          0.55,
          0.72,
          0.72,
          0,
          0.6,
          0.68,
          0.89,
          0,
          0.56,
          0.77,
          0.71,
          0.53,
          0,
          0.54,
          0,
          0.53,
          0.5,
          0.66,
          0.7,
          0.91,
          0.5,
          0.75,
          0.72,
          0.6,
          0.72,
          0.66,
          0
         ],
         "y": [
          493720.058245,
          7898.910751,
          152763.795214,
          154268.532342,
          31559095.340109,
          30822.475216,
          6985.446469,
          5074536.760447,
          3824684.399004,
          8460978.40081,
          8460978.40081,
          24860.670097,
          4236570.599862,
          45537.006091,
          69346.22166,
          0,
          11272.488959,
          26436.236507,
          340840.234562,
          30948.228731,
          993369.979213,
          1259.06326,
          6335882.334668,
          6817.354952,
          160517.900852,
          3155223.995626,
          433.925233,
          256.686754,
          1132453.628615,
          0
         ]
        },
        {
         "marker": {
          "line": {
           "width": 2
          },
          "size": [
           0
          ],
          "sizemode": "area",
          "sizeref": 0.0019140000000000001
         },
         "mode": "markers",
         "name": "European Union",
         "text": [
          "Country: Finland<br>Total Ecological Footprint: 5.87<br>GDP per capita: $50,960.20<br>Population (Millions): 5.41<br>Year: 2016"
         ],
         "type": "scatter",
         "x": [
          0.88
         ],
         "y": [
          1932684.049116
         ]
        },
        {
         "marker": {
          "line": {
           "width": 2
          },
          "size": [],
          "sizemode": "area",
          "sizeref": 0.0019140000000000001
         },
         "mode": "markers",
         "name": "nan",
         "text": [],
         "type": "scatter",
         "x": [],
         "y": []
        }
       ],
       "layout": {
        "paper_bgcolor": "rgb(243, 243, 243)",
        "plot_bgcolor": "rgb(243, 243, 243)",
        "template": {
         "data": {
          "bar": [
           {
            "error_x": {
             "color": "#2a3f5f"
            },
            "error_y": {
             "color": "#2a3f5f"
            },
            "marker": {
             "line": {
              "color": "#E5ECF6",
              "width": 0.5
             },
             "pattern": {
              "fillmode": "overlay",
              "size": 10,
              "solidity": 0.2
             }
            },
            "type": "bar"
           }
          ],
          "barpolar": [
           {
            "marker": {
             "line": {
              "color": "#E5ECF6",
              "width": 0.5
             },
             "pattern": {
              "fillmode": "overlay",
              "size": 10,
              "solidity": 0.2
             }
            },
            "type": "barpolar"
           }
          ],
          "carpet": [
           {
            "aaxis": {
             "endlinecolor": "#2a3f5f",
             "gridcolor": "white",
             "linecolor": "white",
             "minorgridcolor": "white",
             "startlinecolor": "#2a3f5f"
            },
            "baxis": {
             "endlinecolor": "#2a3f5f",
             "gridcolor": "white",
             "linecolor": "white",
             "minorgridcolor": "white",
             "startlinecolor": "#2a3f5f"
            },
            "type": "carpet"
           }
          ],
          "choropleth": [
           {
            "colorbar": {
             "outlinewidth": 0,
             "ticks": ""
            },
            "type": "choropleth"
           }
          ],
          "contour": [
           {
            "colorbar": {
             "outlinewidth": 0,
             "ticks": ""
            },
            "colorscale": [
             [
              0,
              "#0d0887"
             ],
             [
              0.1111111111111111,
              "#46039f"
             ],
             [
              0.2222222222222222,
              "#7201a8"
             ],
             [
              0.3333333333333333,
              "#9c179e"
             ],
             [
              0.4444444444444444,
              "#bd3786"
             ],
             [
              0.5555555555555556,
              "#d8576b"
             ],
             [
              0.6666666666666666,
              "#ed7953"
             ],
             [
              0.7777777777777778,
              "#fb9f3a"
             ],
             [
              0.8888888888888888,
              "#fdca26"
             ],
             [
              1,
              "#f0f921"
             ]
            ],
            "type": "contour"
           }
          ],
          "contourcarpet": [
           {
            "colorbar": {
             "outlinewidth": 0,
             "ticks": ""
            },
            "type": "contourcarpet"
           }
          ],
          "heatmap": [
           {
            "colorbar": {
             "outlinewidth": 0,
             "ticks": ""
            },
            "colorscale": [
             [
              0,
              "#0d0887"
             ],
             [
              0.1111111111111111,
              "#46039f"
             ],
             [
              0.2222222222222222,
              "#7201a8"
             ],
             [
              0.3333333333333333,
              "#9c179e"
             ],
             [
              0.4444444444444444,
              "#bd3786"
             ],
             [
              0.5555555555555556,
              "#d8576b"
             ],
             [
              0.6666666666666666,
              "#ed7953"
             ],
             [
              0.7777777777777778,
              "#fb9f3a"
             ],
             [
              0.8888888888888888,
              "#fdca26"
             ],
             [
              1,
              "#f0f921"
             ]
            ],
            "type": "heatmap"
           }
          ],
          "heatmapgl": [
           {
            "colorbar": {
             "outlinewidth": 0,
             "ticks": ""
            },
            "colorscale": [
             [
              0,
              "#0d0887"
             ],
             [
              0.1111111111111111,
              "#46039f"
             ],
             [
              0.2222222222222222,
              "#7201a8"
             ],
             [
              0.3333333333333333,
              "#9c179e"
             ],
             [
              0.4444444444444444,
              "#bd3786"
             ],
             [
              0.5555555555555556,
              "#d8576b"
             ],
             [
              0.6666666666666666,
              "#ed7953"
             ],
             [
              0.7777777777777778,
              "#fb9f3a"
             ],
             [
              0.8888888888888888,
              "#fdca26"
             ],
             [
              1,
              "#f0f921"
             ]
            ],
            "type": "heatmapgl"
           }
          ],
          "histogram": [
           {
            "marker": {
             "pattern": {
              "fillmode": "overlay",
              "size": 10,
              "solidity": 0.2
             }
            },
            "type": "histogram"
           }
          ],
          "histogram2d": [
           {
            "colorbar": {
             "outlinewidth": 0,
             "ticks": ""
            },
            "colorscale": [
             [
              0,
              "#0d0887"
             ],
             [
              0.1111111111111111,
              "#46039f"
             ],
             [
              0.2222222222222222,
              "#7201a8"
             ],
             [
              0.3333333333333333,
              "#9c179e"
             ],
             [
              0.4444444444444444,
              "#bd3786"
             ],
             [
              0.5555555555555556,
              "#d8576b"
             ],
             [
              0.6666666666666666,
              "#ed7953"
             ],
             [
              0.7777777777777778,
              "#fb9f3a"
             ],
             [
              0.8888888888888888,
              "#fdca26"
             ],
             [
              1,
              "#f0f921"
             ]
            ],
            "type": "histogram2d"
           }
          ],
          "histogram2dcontour": [
           {
            "colorbar": {
             "outlinewidth": 0,
             "ticks": ""
            },
            "colorscale": [
             [
              0,
              "#0d0887"
             ],
             [
              0.1111111111111111,
              "#46039f"
             ],
             [
              0.2222222222222222,
              "#7201a8"
             ],
             [
              0.3333333333333333,
              "#9c179e"
             ],
             [
              0.4444444444444444,
              "#bd3786"
             ],
             [
              0.5555555555555556,
              "#d8576b"
             ],
             [
              0.6666666666666666,
              "#ed7953"
             ],
             [
              0.7777777777777778,
              "#fb9f3a"
             ],
             [
              0.8888888888888888,
              "#fdca26"
             ],
             [
              1,
              "#f0f921"
             ]
            ],
            "type": "histogram2dcontour"
           }
          ],
          "mesh3d": [
           {
            "colorbar": {
             "outlinewidth": 0,
             "ticks": ""
            },
            "type": "mesh3d"
           }
          ],
          "parcoords": [
           {
            "line": {
             "colorbar": {
              "outlinewidth": 0,
              "ticks": ""
             }
            },
            "type": "parcoords"
           }
          ],
          "pie": [
           {
            "automargin": true,
            "type": "pie"
           }
          ],
          "scatter": [
           {
            "marker": {
             "colorbar": {
              "outlinewidth": 0,
              "ticks": ""
             }
            },
            "type": "scatter"
           }
          ],
          "scatter3d": [
           {
            "line": {
             "colorbar": {
              "outlinewidth": 0,
              "ticks": ""
             }
            },
            "marker": {
             "colorbar": {
              "outlinewidth": 0,
              "ticks": ""
             }
            },
            "type": "scatter3d"
           }
          ],
          "scattercarpet": [
           {
            "marker": {
             "colorbar": {
              "outlinewidth": 0,
              "ticks": ""
             }
            },
            "type": "scattercarpet"
           }
          ],
          "scattergeo": [
           {
            "marker": {
             "colorbar": {
              "outlinewidth": 0,
              "ticks": ""
             }
            },
            "type": "scattergeo"
           }
          ],
          "scattergl": [
           {
            "marker": {
             "colorbar": {
              "outlinewidth": 0,
              "ticks": ""
             }
            },
            "type": "scattergl"
           }
          ],
          "scattermapbox": [
           {
            "marker": {
             "colorbar": {
              "outlinewidth": 0,
              "ticks": ""
             }
            },
            "type": "scattermapbox"
           }
          ],
          "scatterpolar": [
           {
            "marker": {
             "colorbar": {
              "outlinewidth": 0,
              "ticks": ""
             }
            },
            "type": "scatterpolar"
           }
          ],
          "scatterpolargl": [
           {
            "marker": {
             "colorbar": {
              "outlinewidth": 0,
              "ticks": ""
             }
            },
            "type": "scatterpolargl"
           }
          ],
          "scatterternary": [
           {
            "marker": {
             "colorbar": {
              "outlinewidth": 0,
              "ticks": ""
             }
            },
            "type": "scatterternary"
           }
          ],
          "surface": [
           {
            "colorbar": {
             "outlinewidth": 0,
             "ticks": ""
            },
            "colorscale": [
             [
              0,
              "#0d0887"
             ],
             [
              0.1111111111111111,
              "#46039f"
             ],
             [
              0.2222222222222222,
              "#7201a8"
             ],
             [
              0.3333333333333333,
              "#9c179e"
             ],
             [
              0.4444444444444444,
              "#bd3786"
             ],
             [
              0.5555555555555556,
              "#d8576b"
             ],
             [
              0.6666666666666666,
              "#ed7953"
             ],
             [
              0.7777777777777778,
              "#fb9f3a"
             ],
             [
              0.8888888888888888,
              "#fdca26"
             ],
             [
              1,
              "#f0f921"
             ]
            ],
            "type": "surface"
           }
          ],
          "table": [
           {
            "cells": {
             "fill": {
              "color": "#EBF0F8"
             },
             "line": {
              "color": "white"
             }
            },
            "header": {
             "fill": {
              "color": "#C8D4E3"
             },
             "line": {
              "color": "white"
             }
            },
            "type": "table"
           }
          ]
         },
         "layout": {
          "annotationdefaults": {
           "arrowcolor": "#2a3f5f",
           "arrowhead": 0,
           "arrowwidth": 1
          },
          "autotypenumbers": "strict",
          "coloraxis": {
           "colorbar": {
            "outlinewidth": 0,
            "ticks": ""
           }
          },
          "colorscale": {
           "diverging": [
            [
             0,
             "#8e0152"
            ],
            [
             0.1,
             "#c51b7d"
            ],
            [
             0.2,
             "#de77ae"
            ],
            [
             0.3,
             "#f1b6da"
            ],
            [
             0.4,
             "#fde0ef"
            ],
            [
             0.5,
             "#f7f7f7"
            ],
            [
             0.6,
             "#e6f5d0"
            ],
            [
             0.7,
             "#b8e186"
            ],
            [
             0.8,
             "#7fbc41"
            ],
            [
             0.9,
             "#4d9221"
            ],
            [
             1,
             "#276419"
            ]
           ],
           "sequential": [
            [
             0,
             "#0d0887"
            ],
            [
             0.1111111111111111,
             "#46039f"
            ],
            [
             0.2222222222222222,
             "#7201a8"
            ],
            [
             0.3333333333333333,
             "#9c179e"
            ],
            [
             0.4444444444444444,
             "#bd3786"
            ],
            [
             0.5555555555555556,
             "#d8576b"
            ],
            [
             0.6666666666666666,
             "#ed7953"
            ],
            [
             0.7777777777777778,
             "#fb9f3a"
            ],
            [
             0.8888888888888888,
             "#fdca26"
            ],
            [
             1,
             "#f0f921"
            ]
           ],
           "sequentialminus": [
            [
             0,
             "#0d0887"
            ],
            [
             0.1111111111111111,
             "#46039f"
            ],
            [
             0.2222222222222222,
             "#7201a8"
            ],
            [
             0.3333333333333333,
             "#9c179e"
            ],
            [
             0.4444444444444444,
             "#bd3786"
            ],
            [
             0.5555555555555556,
             "#d8576b"
            ],
            [
             0.6666666666666666,
             "#ed7953"
            ],
            [
             0.7777777777777778,
             "#fb9f3a"
            ],
            [
             0.8888888888888888,
             "#fdca26"
            ],
            [
             1,
             "#f0f921"
            ]
           ]
          },
          "colorway": [
           "#636efa",
           "#EF553B",
           "#00cc96",
           "#ab63fa",
           "#FFA15A",
           "#19d3f3",
           "#FF6692",
           "#B6E880",
           "#FF97FF",
           "#FECB52"
          ],
          "font": {
           "color": "#2a3f5f"
          },
          "geo": {
           "bgcolor": "white",
           "lakecolor": "white",
           "landcolor": "#E5ECF6",
           "showlakes": true,
           "showland": true,
           "subunitcolor": "white"
          },
          "hoverlabel": {
           "align": "left"
          },
          "hovermode": "closest",
          "mapbox": {
           "style": "light"
          },
          "paper_bgcolor": "white",
          "plot_bgcolor": "#E5ECF6",
          "polar": {
           "angularaxis": {
            "gridcolor": "white",
            "linecolor": "white",
            "ticks": ""
           },
           "bgcolor": "#E5ECF6",
           "radialaxis": {
            "gridcolor": "white",
            "linecolor": "white",
            "ticks": ""
           }
          },
          "scene": {
           "xaxis": {
            "backgroundcolor": "#E5ECF6",
            "gridcolor": "white",
            "gridwidth": 2,
            "linecolor": "white",
            "showbackground": true,
            "ticks": "",
            "zerolinecolor": "white"
           },
           "yaxis": {
            "backgroundcolor": "#E5ECF6",
            "gridcolor": "white",
            "gridwidth": 2,
            "linecolor": "white",
            "showbackground": true,
            "ticks": "",
            "zerolinecolor": "white"
           },
           "zaxis": {
            "backgroundcolor": "#E5ECF6",
            "gridcolor": "white",
            "gridwidth": 2,
            "linecolor": "white",
            "showbackground": true,
            "ticks": "",
            "zerolinecolor": "white"
           }
          },
          "shapedefaults": {
           "line": {
            "color": "#2a3f5f"
           }
          },
          "ternary": {
           "aaxis": {
            "gridcolor": "white",
            "linecolor": "white",
            "ticks": ""
           },
           "baxis": {
            "gridcolor": "white",
            "linecolor": "white",
            "ticks": ""
           },
           "bgcolor": "#E5ECF6",
           "caxis": {
            "gridcolor": "white",
            "linecolor": "white",
            "ticks": ""
           }
          },
          "title": {
           "x": 0.05
          },
          "xaxis": {
           "automargin": true,
           "gridcolor": "white",
           "linecolor": "white",
           "ticks": "",
           "title": {
            "standoff": 15
           },
           "zerolinecolor": "white",
           "zerolinewidth": 2
          },
          "yaxis": {
           "automargin": true,
           "gridcolor": "white",
           "linecolor": "white",
           "ticks": "",
           "title": {
            "standoff": 15
           },
           "zerolinecolor": "white",
           "zerolinewidth": 2
          }
         }
        },
        "title": {
         "text": "DEVELOPING NATIONS"
        },
        "xaxis": {
         "gridcolor": "rgb(255, 255, 255)",
         "gridwidth": 2,
         "ticklen": 5,
         "title": {
          "text": "Human Development Index"
         },
         "zerolinewidth": 1
        },
        "yaxis": {
         "gridcolor": "rgb(255, 255, 255)",
         "gridwidth": 2,
         "range": [
          -4000000,
          12000000
         ],
         "ticklen": 5,
         "title": {
          "text": "Cumulative Export Trade 2008-2016 (USD Millions)"
         },
         "zerolinewidth": 1
        }
       }
      },
      "text/html": [
       "<div>                            <div id=\"598b0827-2a22-4341-90d9-c0a2a772b6ad\" class=\"plotly-graph-div\" style=\"height:525px; width:100%;\"></div>            <script type=\"text/javascript\">                require([\"plotly\"], function(Plotly) {                    window.PLOTLYENV=window.PLOTLYENV || {};                                    if (document.getElementById(\"598b0827-2a22-4341-90d9-c0a2a772b6ad\")) {                    Plotly.newPlot(                        \"598b0827-2a22-4341-90d9-c0a2a772b6ad\",                        [{\"marker\":{\"line\":{\"width\":2},\"size\":[1.14,0.2,0.51,2.36,0.12,0.04,0.0,0.19,0.08,0.01,0.25,0.47,0.47,0.07,0.07,0.26,0.0,1.02,3.17,0.03,0.07,0.43,0.21,0.43,0.16,0.09,0.2,0.51,0.14,2.33,0.07,0.07,0.1,0.55,1.99,0.67,0.17,1.02,0.1,0.21,0.07,3.27,0.37,0.3,0.07,0.07,2.34,2.34,0.67,0.17,0.31,1.11,0.08,0.24,0.53],\"sizemode\":\"area\",\"sizeref\":0.0019140000000000001,\"symbol\":\"circle\"},\"mode\":\"markers\",\"name\":\"Africa\",\"text\":[\"Country: Algeria<br>Total Ecological Footprint: 2.12<br>GDP per capita: $5,430.57<br>Population (Millions): 38.48<br>Year: 2016\",\"Country: Angola<br>Total Ecological Footprint: 0.93<br>GDP per capita: $4,665.91<br>Population (Millions): 20.82<br>Year: 2016\",\"Country: Benin<br>Total Ecological Footprint: 1.41<br>GDP per capita: $746.83<br>Population (Millions): 10.05<br>Year: 2016\",\"Country: Botswana<br>Total Ecological Footprint: 3.83<br>GDP per capita: $7,743.50<br>Population (Millions): 2.0<br>Year: 2016\",\"Country: Burkina Faso<br>Total Ecological Footprint: 1.21<br>GDP per capita: $671.07<br>Population (Millions): 16.46<br>Year: 2016\",\"Country: Burundi<br>Total Ecological Footprint: 0.8<br>GDP per capita: $276.69<br>Population (Millions): 9.85<br>Year: 2016\",\"Country: Cabo Verde<br>Total Ecological Footprint: 2.52<br>GDP per capita: $3,801.45<br>Population (Millions): 0.49<br>Year: 2016\",\"Country: Cameroon<br>Total Ecological Footprint: 1.17<br>GDP per capita: $1,271.21<br>Population (Millions): 21.7<br>Year: 2016\",\"Country: Central African Republic<br>Total Ecological Footprint: 1.24<br>GDP per capita: $495.04<br>Population (Millions): 4.53<br>Year: 2016\",\"Country: Chad<br>Total Ecological Footprint: 1.46<br>GDP per capita: $1,161.22<br>Population (Millions): 12.45<br>Year: 2016\",\"Country: Comoros<br>Total Ecological Footprint: 1.03<br>GDP per capita: $860.24<br>Population (Millions): 0.72<br>Year: 2016\",\"Country: Congo<br>Total Ecological Footprint: 1.29<br>GDP per capita: $1,943.69<br>Population (Millions): 4.34<br>Year: 2016\",\"Country: Congo<br>Total Ecological Footprint: 1.29<br>GDP per capita: $1,943.69<br>Population (Millions): 4.34<br>Year: 2016\",\"Country: Congo<br>Total Ecological Footprint: 0.82<br>GDP per capita: $338.63<br>Population (Millions): 65.7<br>Year: 2016\",\"Country: Congo<br>Total Ecological Footprint: 0.82<br>GDP per capita: $338.63<br>Population (Millions): 65.7<br>Year: 2016\",\"Country: CotedeIvoire<br>Total Ecological Footprint: 1.27<br>GDP per capita: $1,016.83<br>Population (Millions): 19.84<br>Year: 2016\",\"Country: Djibouti<br>Total Ecological Footprint: 2.19<br>GDP per capita: $1,433.17<br>Population (Millions): 0.86<br>Year: 2016\",\"Country: Egypt<br>Total Ecological Footprint: 2.15<br>GDP per capita: $2,930.33<br>Population (Millions): 80.72<br>Year: 2016\",\"Country: Equatorial Guinea<br>Total Ecological Footprint: 3.97<br>GDP per capita: $24,064.00<br>Population (Millions): 0.74<br>Year: 2016\",\"Country: Eritrea<br>Total Ecological Footprint: 0.42<br>GDP per capita: $439.73<br>Population (Millions): 6.13<br>Year: 2016\",\"Country: Ethiopia<br>Total Ecological Footprint: 1.02<br>GDP per capita: $379.38<br>Population (Millions): 91.73<br>Year: 2016\",\"Country: Gabon<br>Total Ecological Footprint: 2.02<br>GDP per capita: $11,989.00<br>Population (Millions): 1.63<br>Year: 2016\",\"Country: Gambia<br>Total Ecological Footprint: 1.03<br>GDP per capita: $505.76<br>Population (Millions): 1.79<br>Year: 2016\",\"Country: Ghana<br>Total Ecological Footprint: 1.97<br>GDP per capita: $1,627.90<br>Population (Millions): 25.37<br>Year: 2016\",\"Country: Guinea<br>Total Ecological Footprint: 1.41<br>GDP per capita: $459.09<br>Population (Millions): 11.45<br>Year: 2016\",\"Country: Guinea-Bissau<br>Total Ecological Footprint: 1.53<br>GDP per capita: $681.25<br>Population (Millions): 1.66<br>Year: 2016\",\"Country: Kenya<br>Total Ecological Footprint: 1.03<br>GDP per capita: $1,062.11<br>Population (Millions): 43.18<br>Year: 2016\",\"Country: Lesotho<br>Total Ecological Footprint: 1.66<br>GDP per capita: $1,338.42<br>Population (Millions): 2.05<br>Year: 2016\",\"Country: Liberia<br>Total Ecological Footprint: 1.21<br>GDP per capita: $397.38<br>Population (Millions): 4.19<br>Year: 2016\",\"Country: Libyan Arab Jamahiriya<br>Total Ecological Footprint: 3.69<br>GDP per capita: $5,859.43<br>Population (Millions): 6.16<br>Year: 2016\",\"Country: Madagascar<br>Total Ecological Footprint: 0.99<br>GDP per capita: $456.33<br>Population (Millions): 22.29<br>Year: 2016\",\"Country: Malawi<br>Total Ecological Footprint: 0.81<br>GDP per capita: $493.84<br>Population (Millions): 15.91<br>Year: 2016\",\"Country: Mali<br>Total Ecological Footprint: 1.53<br>GDP per capita: $741.22<br>Population (Millions): 14.85<br>Year: 2016\",\"Country: Mauritania<br>Total Ecological Footprint: 2.54<br>GDP per capita: $1,524.39<br>Population (Millions): 3.8<br>Year: 2016\",\"Country: Mauritius<br>Total Ecological Footprint: 3.46<br>GDP per capita: $8,811.15<br>Population (Millions): 1.24<br>Year: 2016\",\"Country: Morocco<br>Total Ecological Footprint: 1.68<br>GDP per capita: $3,149.43<br>Population (Millions): 32.52<br>Year: 2016\",\"Country: Mozambique<br>Total Ecological Footprint: 0.87<br>GDP per capita: $538.82<br>Population (Millions): 25.2<br>Year: 2016\",\"Country: Namibia<br>Total Ecological Footprint: 2.48<br>GDP per capita: $5,880.80<br>Population (Millions): 2.26<br>Year: 2016\",\"Country: Niger<br>Total Ecological Footprint: 1.56<br>GDP per capita: $410.91<br>Population (Millions): 17.16<br>Year: 2016\",\"Country: Nigeria<br>Total Ecological Footprint: 1.16<br>GDP per capita: $2,612.12<br>Population (Millions): 168.83<br>Year: 2016\",\"Country: Rwanda<br>Total Ecological Footprint: 0.87<br>GDP per capita: $628.08<br>Population (Millions): 11.46<br>Year: 2016\",\"Country: R\\u00e9union<br>Total Ecological Footprint: 3.65<br>GDP per capita: 0<br>Population (Millions): 0.86<br>Year: 2016\",\"Country: Sao Tome and Principe<br>Total Ecological Footprint: 1.49<br>GDP per capita: $1,384.53<br>Population (Millions): 0.19<br>Year: 2016\",\"Country: Senegal<br>Total Ecological Footprint: 1.21<br>GDP per capita: $1,079.27<br>Population (Millions): 13.73<br>Year: 2016\",\"Country: Sierra Leone<br>Total Ecological Footprint: 1.24<br>GDP per capita: $499.89<br>Population (Millions): 5.98<br>Year: 2016\",\"Country: Somalia<br>Total Ecological Footprint: 1.24<br>GDP per capita: 0<br>Population (Millions): 10.2<br>Year: 2016\",\"Country: South Africa<br>Total Ecological Footprint: 3.31<br>GDP per capita: $8,089.87<br>Population (Millions): 52.39<br>Year: 2016\",\"Country: South Africa<br>Total Ecological Footprint: 3.31<br>GDP per capita: $8,089.87<br>Population (Millions): 52.39<br>Year: 2016\",\"Country: Swaziland<br>Total Ecological Footprint: 2.01<br>GDP per capita: $4,657.48<br>Population (Millions): 1.23<br>Year: 2016\",\"Country: Tanzania, United Republic of<br>Total Ecological Footprint: 1.32<br>GDP per capita: $765.33<br>Population (Millions): 47.78<br>Year: 2016\",\"Country: Togo<br>Total Ecological Footprint: 1.13<br>GDP per capita: $580.86<br>Population (Millions): 6.64<br>Year: 2016\",\"Country: Tunisia<br>Total Ecological Footprint: 2.34<br>GDP per capita: $4,305.07<br>Population (Millions): 10.88<br>Year: 2016\",\"Country: Uganda<br>Total Ecological Footprint: 1.24<br>GDP per capita: $601.35<br>Population (Millions): 36.35<br>Year: 2016\",\"Country: Zambia<br>Total Ecological Footprint: 0.99<br>GDP per capita: $1,740.64<br>Population (Millions): 14.08<br>Year: 2016\",\"Country: Zimbabwe<br>Total Ecological Footprint: 1.37<br>GDP per capita: $865.91<br>Population (Millions): 13.72<br>Year: 2016\"],\"x\":[0.73,0.52,0.48,0.69,0.39,0.39,0.64,0.5,0.37,0.39,0.5,0.57,0.57,0.42,0.42,0.0,0.46,0.69,0.58,0.39,0.43,0.67,0.44,0.57,0.41,0.42,0.54,0.48,0.42,0.74,0.51,0.43,0.41,0.5,0.77,0.62,0.41,0.62,0.34,0.5,0.48,0.0,0.55,0.46,0.4,0.0,0.66,0.66,0.53,0.51,0.47,0.72,0.48,0.58,0.49],\"y\":[1764159.930121,868304.901687,17188.74242,165289.469843,36715.78927,5875.022509,8576.22901,106063.255358,4247.102371,0.0,311.324201,142288.592207,142288.592207,142288.592207,142288.592207,306234.552473,908.894136,571013.705449,0.0,13.738916,73294.890111,109856.378335,2196.244925,180774.275476,28661.671803,140.104723,79838.49571,6603.186763,0.0,0.0,39630.482973,31987.416226,24614.910011,31323.977034,67749.089213,360050.581938,45530.394133,97930.874262,22825.630812,969191.899795,8842.242436,639.994335,222.241411,39286.890314,1265.493049,0.0,1238714.709979,254876.820776,13633.225132,67153.551095,15209.369044,286264.000632,34128.229548,92277.699719,68338.762312],\"type\":\"scatter\"},{\"marker\":{\"line\":{\"width\":2},\"size\":[0.0],\"sizemode\":\"area\",\"sizeref\":0.0019140000000000001},\"mode\":\"markers\",\"name\":\"North America\",\"text\":[\"Country: Bermuda<br>Total Ecological Footprint: 5.77<br>GDP per capita: $70,626.30<br>Population (Millions): 0.06<br>Year: 2016\"],\"x\":[0.0],\"y\":[365.262036],\"type\":\"scatter\"},{\"marker\":{\"line\":{\"width\":2},\"size\":[0.18,0.89,1.25,6.19,0.83,1.72,1.36,4.59,1.09,4.59,6.89,0.95,2.52,5.8,9.57,4.21,0.81,0.13,1.92,4.13,6.37,1.41,0.42],\"sizemode\":\"area\",\"sizeref\":0.0019140000000000001},\"mode\":\"markers\",\"name\":\"Middle East/Central Asia\",\"text\":[\"Country: Afghanistan<br>Total Ecological Footprint: 0.79<br>GDP per capita: $614.66<br>Population (Millions): 29.82<br>Year: 2016\",\"Country: Armenia<br>Total Ecological Footprint: 2.23<br>GDP per capita: $3,426.39<br>Population (Millions): 2.97<br>Year: 2016\",\"Country: Azerbaijan<br>Total Ecological Footprint: 2.31<br>GDP per capita: $7,106.04<br>Population (Millions): 9.31<br>Year: 2016\",\"Country: Bahrain<br>Total Ecological Footprint: 7.49<br>GDP per capita: $24,299.00<br>Population (Millions): 1.32<br>Year: 2016\",\"Country: Georgia<br>Total Ecological Footprint: 1.58<br>GDP per capita: $3,710.70<br>Population (Millions): 4.36<br>Year: 2016\",\"Country: Iran<br>Total Ecological Footprint: 2.79<br>GDP per capita: $7,511.10<br>Population (Millions): 76.42<br>Year: 2016\",\"Country: Iraq<br>Total Ecological Footprint: 1.88<br>GDP per capita: $5,848.54<br>Population (Millions): 32.78<br>Year: 2016\",\"Country: Israel<br>Total Ecological Footprint: 6.22<br>GDP per capita: $33,718.90<br>Population (Millions): 7.64<br>Year: 2016\",\"Country: Jordan<br>Total Ecological Footprint: 2.1<br>GDP per capita: $4,615.17<br>Population (Millions): 7.01<br>Year: 2016\",\"Country: Kazakhstan<br>Total Ecological Footprint: 5.55<br>GDP per capita: $11,278.00<br>Population (Millions): 16.27<br>Year: 2016\",\"Country: Kuwait<br>Total Ecological Footprint: 8.13<br>GDP per capita: $41,830.50<br>Population (Millions): 3.25<br>Year: 2016\",\"Country: Kyrgyzstan<br>Total Ecological Footprint: 1.91<br>GDP per capita: $1,116.37<br>Population (Millions): 5.47<br>Year: 2016\",\"Country: Lebanon<br>Total Ecological Footprint: 3.84<br>GDP per capita: $9,143.86<br>Population (Millions): 4.65<br>Year: 2016\",\"Country: Oman<br>Total Ecological Footprint: 7.52<br>GDP per capita: $22,622.80<br>Population (Millions): 3.31<br>Year: 2016\",\"Country: Qatar<br>Total Ecological Footprint: 10.8<br>GDP per capita: $99,431.50<br>Population (Millions): 2.05<br>Year: 2016\",\"Country: Saudi Arabia<br>Total Ecological Footprint: 5.61<br>GDP per capita: $23,593.80<br>Population (Millions): 28.29<br>Year: 2016\",\"Country: Syrian Arab Republic<br>Total Ecological Footprint: 1.51<br>GDP per capita: 0<br>Population (Millions): 21.89<br>Year: 2016\",\"Country: Tajikistan<br>Total Ecological Footprint: 0.91<br>GDP per capita: $836.17<br>Population (Millions): 8.01<br>Year: 2016\",\"Country: Turkey<br>Total Ecological Footprint: 3.33<br>GDP per capita: $10,437.70<br>Population (Millions): 74.0<br>Year: 2016\",\"Country: Turkmenistan<br>Total Ecological Footprint: 5.47<br>GDP per capita: $5,290.14<br>Population (Millions): 5.17<br>Year: 2016\",\"Country: United Arab Emirates<br>Total Ecological Footprint: 7.93<br>GDP per capita: $40,817.40<br>Population (Millions): 9.206<br>Year: 2016\",\"Country: Uzbekistan<br>Total Ecological Footprint: 2.32<br>GDP per capita: $1,560.85<br>Population (Millions): 28.54<br>Year: 2016\",\"Country: Yemen<br>Total Ecological Footprint: 1.03<br>GDP per capita: $1,302.30<br>Population (Millions): 23.85<br>Year: 2016\"],\"x\":[0.46,0.73,0.75,0.82,0.75,0.76,0.65,0.89,0.75,0.78,0.82,0.65,0.76,0.79,0.85,0.83,0.62,0.62,0.76,0.68,0.83,0.67,0.5],\"y\":[8780.222349,40446.217031,445786.578451,454172.159687,45636.059638,1034554.259508,994420.836791,1501212.784744,176585.22382,1436982.554229,1557687.908264,33088.620513,61076.868458,695328.948684,1241796.959047,4023988.218166,0.0,692.346,2075304.938465,5201.180675,6129567.032802,0.0,71615.411671],\"type\":\"scatter\"},{\"marker\":{\"line\":{\"width\":2},\"size\":[0.87,2.57,1.74,2.06,1.03,2.13,3.87,1.66,1.92],\"sizemode\":\"area\",\"sizeref\":0.0019140000000000001},\"mode\":\"markers\",\"name\":\"Northern/Eastern Europe\",\"text\":[\"Country: Albania<br>Total Ecological Footprint: 2.21<br>GDP per capita: $4,534.37<br>Population (Millions): 3.16<br>Year: 2016\",\"Country: Belarus<br>Total Ecological Footprint: 5.09<br>GDP per capita: $6,300.45<br>Population (Millions): 9.4<br>Year: 2016\",\"Country: Bosnia Herzegovina<br>Total Ecological Footprint: 3.12<br>GDP per capita: $4,708.85<br>Population (Millions): 3.83<br>Year: 2016\",\"Country: Macedonia<br>Total Ecological Footprint: 3.26<br>GDP per capita: $5,174.89<br>Population (Millions): 2.11<br>Year: 2016\",\"Country: Moldova<br>Total Ecological Footprint: 1.78<br>GDP per capita: $1,971.03<br>Population (Millions): 3.51<br>Year: 2016\",\"Country: Montenegro<br>Total Ecological Footprint: 3.78<br>GDP per capita: $7,251.60<br>Population (Millions): 0.62<br>Year: 2016\",\"Country: Russian Federation<br>Total Ecological Footprint: 5.69<br>GDP per capita: $13,320.20<br>Population (Millions): 143.17<br>Year: 2016\",\"Country: Serbia<br>Total Ecological Footprint: 2.7<br>GDP per capita: $6,426.18<br>Population (Millions): 9.55<br>Year: 2016\",\"Country: Ukraine<br>Total Ecological Footprint: 2.84<br>GDP per capita: $3,589.63<br>Population (Millions): 45.53<br>Year: 2016\"],\"x\":[0.73,0.8,0.73,0.74,0.68,0.8,0.79,0.76,0.74],\"y\":[47544.871187,785837.732412,113371.731548,61844.406928,45094.893149,6814.403932,6564472.499199,149527.210347,874576.69606],\"type\":\"scatter\"},{\"marker\":{\"line\":{\"width\":2},\"size\":[0.0,1.08,0.0,4.46,3.28,0.67,0.91,0.0,3.56,2.04,0.67,1.37,1.23,1.47,0.86,1.08,0.84,1.58,0.0,2.61,0.7,1.25,0.15,0.6,1.09,1.73,1.74,0.0,0.45,1.44,0.97,0.67,3.34,1.56,0.0,3.01,6.89,0.98,2.13],\"sizemode\":\"area\",\"sizeref\":0.0019140000000000001},\"mode\":\"markers\",\"name\":\"Latin America\",\"text\":[\"Country: Antigua and Barbuda<br>Total Ecological Footprint: 5.38<br>GDP per capita: $13,205.10<br>Population (Millions): 0.09<br>Year: 2016\",\"Country: Argentina<br>Total Ecological Footprint: 3.14<br>GDP per capita: $13,540.00<br>Population (Millions): 41.09<br>Year: 2016\",\"Country: Aruba<br>Total Ecological Footprint: 11.88<br>GDP per capita: 0<br>Population (Millions): 0.1<br>Year: 2016\",\"Country: Bahamas<br>Total Ecological Footprint: 6.84<br>GDP per capita: $22,647.30<br>Population (Millions): 0.37<br>Year: 2016\",\"Country: Barbados<br>Total Ecological Footprint: 4.48<br>GDP per capita: $15,722.80<br>Population (Millions): 0.28<br>Year: 2016\",\"Country: Bolivia<br>Total Ecological Footprint: 2.96<br>GDP per capita: $2,253.09<br>Population (Millions): 10.5<br>Year: 2016\",\"Country: Brazil<br>Total Ecological Footprint: 3.11<br>GDP per capita: $13,237.60<br>Population (Millions): 198.66<br>Year: 2016\",\"Country: British Virgin Islands<br>Total Ecological Footprint: 2.86<br>GDP per capita: 0<br>Population (Millions): 0.03<br>Year: 2016\",\"Country: Cayman Islands<br>Total Ecological Footprint: 5.65<br>GDP per capita: 0<br>Population (Millions): 0.06<br>Year: 2016\",\"Country: Chile<br>Total Ecological Footprint: 4.36<br>GDP per capita: $14,525.80<br>Population (Millions): 17.46<br>Year: 2016\",\"Country: Colombia<br>Total Ecological Footprint: 1.87<br>GDP per capita: $7,305.22<br>Population (Millions): 47.7<br>Year: 2016\",\"Country: Costa Rica<br>Total Ecological Footprint: 2.84<br>GDP per capita: $8,979.96<br>Population (Millions): 4.8<br>Year: 2016\",\"Country: Cuba<br>Total Ecological Footprint: 1.95<br>GDP per capita: $5,175.94<br>Population (Millions): 11.27<br>Year: 2016\",\"Country: Dominica<br>Total Ecological Footprint: 2.57<br>GDP per capita: $7,088.01<br>Population (Millions): 0.07<br>Year: 2016\",\"Country: Dominican Republic<br>Total Ecological Footprint: 1.53<br>GDP per capita: $6,085.89<br>Population (Millions): 10.28<br>Year: 2016\",\"Country: Ecuador<br>Total Ecological Footprint: 2.17<br>GDP per capita: $5,192.88<br>Population (Millions): 15.49<br>Year: 2016\",\"Country: El Salvador<br>Total Ecological Footprint: 2.07<br>GDP per capita: $3,696.33<br>Population (Millions): 6.3<br>Year: 2016\",\"Country: French Guiana<br>Total Ecological Footprint: 2.34<br>GDP per capita: 0<br>Population (Millions): 0.24<br>Year: 2016\",\"Country: Grenada<br>Total Ecological Footprint: 2.98<br>GDP per capita: $7,410.48<br>Population (Millions): 0.1<br>Year: 2016\",\"Country: Guadeloupe<br>Total Ecological Footprint: 3.23<br>GDP per capita: 0<br>Population (Millions): 0.46<br>Year: 2016\",\"Country: Guatemala<br>Total Ecological Footprint: 1.89<br>GDP per capita: $3,233.80<br>Population (Millions): 15.08<br>Year: 2016\",\"Country: Guyana<br>Total Ecological Footprint: 3.07<br>GDP per capita: $3,269.46<br>Population (Millions): 0.8<br>Year: 2016\",\"Country: Haiti<br>Total Ecological Footprint: 0.61<br>GDP per capita: $749.13<br>Population (Millions): 10.17<br>Year: 2016\",\"Country: Honduras<br>Total Ecological Footprint: 1.68<br>GDP per capita: $2,269.51<br>Population (Millions): 7.94<br>Year: 2016\",\"Country: Jamaica<br>Total Ecological Footprint: 1.89<br>GDP per capita: $5,226.30<br>Population (Millions): 2.77<br>Year: 2016\",\"Country: Martinique<br>Total Ecological Footprint: 2.08<br>GDP per capita: 0<br>Population (Millions): 0.4<br>Year: 2016\",\"Country: Mexico<br>Total Ecological Footprint: 2.89<br>GDP per capita: $10,123.90<br>Population (Millions): 120.85<br>Year: 2016\",\"Country: Montserrat<br>Total Ecological Footprint: 7.78<br>GDP per capita: 0<br>Population (Millions): 0.0<br>Year: 2016\",\"Country: Nicaragua<br>Total Ecological Footprint: 1.39<br>GDP per capita: $1,626.85<br>Population (Millions): 5.99<br>Year: 2016\",\"Country: Panama<br>Total Ecological Footprint: 2.79<br>GDP per capita: $8,410.77<br>Population (Millions): 3.8<br>Year: 2016\",\"Country: Paraguay<br>Total Ecological Footprint: 4.16<br>GDP per capita: $3,557.31<br>Population (Millions): 6.69<br>Year: 2016\",\"Country: Peru<br>Total Ecological Footprint: 2.28<br>GDP per capita: $5,684.73<br>Population (Millions): 29.99<br>Year: 2016\",\"Country: Saint Kitts and Nevis<br>Total Ecological Footprint: 4.94<br>GDP per capita: $12,952.50<br>Population (Millions): 0.05<br>Year: 2016\",\"Country: Saint Lucia<br>Total Ecological Footprint: 2.45<br>GDP per capita: $7,737.20<br>Population (Millions): 0.18<br>Year: 2016\",\"Country: Saint Vincent and Grenadines<br>Total Ecological Footprint: 3.11<br>GDP per capita: $6,171.48<br>Population (Millions): 0.11<br>Year: 2016\",\"Country: Suriname<br>Total Ecological Footprint: 4.25<br>GDP per capita: $8,190.70<br>Population (Millions): 0.54<br>Year: 2016\",\"Country: Trinidad and Tobago<br>Total Ecological Footprint: 7.92<br>GDP per capita: $18,310.80<br>Population (Millions): 1.34<br>Year: 2016\",\"Country: Uruguay<br>Total Ecological Footprint: 2.91<br>GDP per capita: $14,238.10<br>Population (Millions): 3.4<br>Year: 2016\",\"Country: Venezuela<br>Total Ecological Footprint: 3.57<br>GDP per capita: $10,237.80<br>Population (Millions): 29.96<br>Year: 2016\"],\"x\":[0.78,0.83,0.0,0.78,0.79,0.65,0.75,0.0,0.0,0.83,0.72,0.76,0.77,0.72,0.71,0.73,0.66,0.0,0.74,0.0,0.62,0.63,0.48,0.61,0.72,0.0,0.75,0.0,0.63,0.77,0.67,0.73,0.74,0.73,0.72,0.71,0.77,0.79,0.763846],\"y\":[2714.754086,2102506.872655,4302.808896,27781.65855,19045.806716,205016.420508,5874973.448571,0.0,0.0,1995795.200692,1185514.775141,253783.651999,29906.668376,1590.812536,165509.898148,552393.119628,118906.150867,436.792399,919.643363,500.959707,185264.644056,30135.584161,1347.125413,56070.915585,49738.950509,692.321704,6361457.659653,65.403121,44011.235338,194455.660747,122495.429036,676451.46018,883.8683,3565.184515,1271.53555,43411.675196,215524.138075,120895.355404,897365.929625],\"type\":\"scatter\"},{\"marker\":{\"line\":{\"width\":2},\"size\":[0.26,0.63,3.24,0.0,2.32,1.06,2.39,0.61,0.64,4.17,0.68,0.09,2.1,2.09,0.09,0.0,0.16,1.78,0.38,0.35,0.34,0.96,5.91,0.0,0.52,1.54,0.06,0.88,0.79,0.0],\"sizemode\":\"area\",\"sizeref\":0.0019140000000000001},\"mode\":\"markers\",\"name\":\"Asia-Pacific\",\"text\":[\"Country: Bangladesh<br>Total Ecological Footprint: 0.72<br>GDP per capita: $857.50<br>Population (Millions): 154.7<br>Year: 2016\",\"Country: Bhutan<br>Total Ecological Footprint: 4.84<br>GDP per capita: $2,395.00<br>Population (Millions): 0.74<br>Year: 2016\",\"Country: Brunei Darussalam<br>Total Ecological Footprint: 4.06<br>GDP per capita: $47,097.40<br>Population (Millions): 0.41<br>Year: 2016\",\"Country: Cambodia<br>Total Ecological Footprint: 1.21<br>GDP per capita: $877.64<br>Population (Millions): 14.86<br>Year: 2016\",\"Country: China<br>Total Ecological Footprint: 3.38<br>GDP per capita: $5,560.94<br>Population (Millions): 1408.04<br>Year: 2016\",\"Country: Fiji<br>Total Ecological Footprint: 2.9<br>GDP per capita: $4,201.37<br>Population (Millions): 0.88<br>Year: 2016\",\"Country: French Polynesia<br>Total Ecological Footprint: 4.73<br>GDP per capita: 0<br>Population (Millions): 0.27<br>Year: 2016\",\"Country: India<br>Total Ecological Footprint: 1.16<br>GDP per capita: $1,513.85<br>Population (Millions): 1236.69<br>Year: 2016\",\"Country: Indonesia<br>Total Ecological Footprint: 1.58<br>GDP per capita: $3,688.53<br>Population (Millions): 246.86<br>Year: 2016\",\"Country: Korea, Republic of<br>Total Ecological Footprint: 5.69<br>GDP per capita: $24,155.80<br>Population (Millions): 49.0<br>Year: 2016\",\"Country: Korea, Republic of<br>Total Ecological Footprint: 1.17<br>GDP per capita: 0<br>Population (Millions): 24.76<br>Year: 2016\",\"Country: Lao People's Democratic Republic<br>Total Ecological Footprint: 1.22<br>GDP per capita: $1,236.24<br>Population (Millions): 6.65<br>Year: 2016\",\"Country: Malaysia<br>Total Ecological Footprint: 3.71<br>GDP per capita: $10,252.60<br>Population (Millions): 29.24<br>Year: 2016\",\"Country: Mongolia<br>Total Ecological Footprint: 6.08<br>GDP per capita: $3,736.07<br>Population (Millions): 2.8<br>Year: 2016\",\"Country: Myanmar<br>Total Ecological Footprint: 1.43<br>GDP per capita: $1,117.58<br>Population (Millions): 52.8<br>Year: 2016\",\"Country: Nauru<br>Total Ecological Footprint: 2.94<br>GDP per capita: 0<br>Population (Millions): 0.01<br>Year: 2016\",\"Country: Nepal<br>Total Ecological Footprint: 0.98<br>GDP per capita: $700.07<br>Population (Millions): 27.47<br>Year: 2016\",\"Country: New Caledonia<br>Total Ecological Footprint: 3.58<br>GDP per capita: 0<br>Population (Millions): 0.25<br>Year: 2016\",\"Country: Pakistan<br>Total Ecological Footprint: 0.79<br>GDP per capita: $1,218.60<br>Population (Millions): 179.16<br>Year: 2016\",\"Country: Papua New Guinea<br>Total Ecological Footprint: 1.91<br>GDP per capita: $1,871.21<br>Population (Millions): 7.17<br>Year: 2016\",\"Country: Philippines<br>Total Ecological Footprint: 1.1<br>GDP per capita: $2,379.44<br>Population (Millions): 96.71<br>Year: 2016\",\"Country: Samoa<br>Total Ecological Footprint: 2.77<br>GDP per capita: $4,067.15<br>Population (Millions): 0.19<br>Year: 2016\",\"Country: Singapore<br>Total Ecological Footprint: 7.97<br>GDP per capita: $53,122.40<br>Population (Millions): 5.3<br>Year: 2016\",\"Country: Solomon Isds<br>Total Ecological Footprint: 1.29<br>GDP per capita: $1,647.86<br>Population (Millions): 0.55<br>Year: 2016\",\"Country: Sri Lanka<br>Total Ecological Footprint: 1.32<br>GDP per capita: $2,880.03<br>Population (Millions): 21.1<br>Year: 2016\",\"Country: Thailand<br>Total Ecological Footprint: 2.66<br>GDP per capita: $5,479.29<br>Population (Millions): 66.78<br>Year: 2016\",\"Country: Timor-Leste<br>Total Ecological Footprint: 0.48<br>GDP per capita: $5,167.86<br>Population (Millions): 1.11<br>Year: 2016\",\"Country: Tonga<br>Total Ecological Footprint: 2.7<br>GDP per capita: $4,330.90<br>Population (Millions): 0.1<br>Year: 2016\",\"Country: Viet Nam<br>Total Ecological Footprint: 1.65<br>GDP per capita: $1,532.31<br>Population (Millions): 90.8<br>Year: 2016\",\"Country: Wallis and Futuna Islands<br>Total Ecological Footprint: 2.07<br>GDP per capita: 0<br>Population (Millions): 0.01<br>Year: 2016\"],\"x\":[0.56,0.59,0.85,0.55,0.72,0.72,0.0,0.6,0.68,0.89,0.0,0.56,0.77,0.71,0.53,0.0,0.54,0.0,0.53,0.5,0.66,0.7,0.91,0.5,0.75,0.72,0.6,0.72,0.66,0.0],\"y\":[493720.058245,7898.910751,152763.795214,154268.532342,31559095.340109,30822.475216,6985.446469,5074536.760447,3824684.399004,8460978.40081,8460978.40081,24860.670097,4236570.599862,45537.006091,69346.22166,0.0,11272.488959,26436.236507,340840.234562,30948.228731,993369.979213,1259.06326,6335882.334668,6817.354952,160517.900852,3155223.995626,433.925233,256.686754,1132453.628615,0.0],\"type\":\"scatter\"},{\"marker\":{\"line\":{\"width\":2},\"size\":[0.0],\"sizemode\":\"area\",\"sizeref\":0.0019140000000000001},\"mode\":\"markers\",\"name\":\"European Union\",\"text\":[\"Country: Finland<br>Total Ecological Footprint: 5.87<br>GDP per capita: $50,960.20<br>Population (Millions): 5.41<br>Year: 2016\"],\"x\":[0.88],\"y\":[1932684.049116],\"type\":\"scatter\"},{\"marker\":{\"line\":{\"width\":2},\"size\":[],\"sizemode\":\"area\",\"sizeref\":0.0019140000000000001},\"mode\":\"markers\",\"name\":\"nan\",\"text\":[],\"x\":[],\"y\":[],\"type\":\"scatter\"}],                        {\"paper_bgcolor\":\"rgb(243, 243, 243)\",\"plot_bgcolor\":\"rgb(243, 243, 243)\",\"template\":{\"data\":{\"barpolar\":[{\"marker\":{\"line\":{\"color\":\"#E5ECF6\",\"width\":0.5},\"pattern\":{\"fillmode\":\"overlay\",\"size\":10,\"solidity\":0.2}},\"type\":\"barpolar\"}],\"bar\":[{\"error_x\":{\"color\":\"#2a3f5f\"},\"error_y\":{\"color\":\"#2a3f5f\"},\"marker\":{\"line\":{\"color\":\"#E5ECF6\",\"width\":0.5},\"pattern\":{\"fillmode\":\"overlay\",\"size\":10,\"solidity\":0.2}},\"type\":\"bar\"}],\"carpet\":[{\"aaxis\":{\"endlinecolor\":\"#2a3f5f\",\"gridcolor\":\"white\",\"linecolor\":\"white\",\"minorgridcolor\":\"white\",\"startlinecolor\":\"#2a3f5f\"},\"baxis\":{\"endlinecolor\":\"#2a3f5f\",\"gridcolor\":\"white\",\"linecolor\":\"white\",\"minorgridcolor\":\"white\",\"startlinecolor\":\"#2a3f5f\"},\"type\":\"carpet\"}],\"choropleth\":[{\"colorbar\":{\"outlinewidth\":0,\"ticks\":\"\"},\"type\":\"choropleth\"}],\"contourcarpet\":[{\"colorbar\":{\"outlinewidth\":0,\"ticks\":\"\"},\"type\":\"contourcarpet\"}],\"contour\":[{\"colorbar\":{\"outlinewidth\":0,\"ticks\":\"\"},\"colorscale\":[[0.0,\"#0d0887\"],[0.1111111111111111,\"#46039f\"],[0.2222222222222222,\"#7201a8\"],[0.3333333333333333,\"#9c179e\"],[0.4444444444444444,\"#bd3786\"],[0.5555555555555556,\"#d8576b\"],[0.6666666666666666,\"#ed7953\"],[0.7777777777777778,\"#fb9f3a\"],[0.8888888888888888,\"#fdca26\"],[1.0,\"#f0f921\"]],\"type\":\"contour\"}],\"heatmapgl\":[{\"colorbar\":{\"outlinewidth\":0,\"ticks\":\"\"},\"colorscale\":[[0.0,\"#0d0887\"],[0.1111111111111111,\"#46039f\"],[0.2222222222222222,\"#7201a8\"],[0.3333333333333333,\"#9c179e\"],[0.4444444444444444,\"#bd3786\"],[0.5555555555555556,\"#d8576b\"],[0.6666666666666666,\"#ed7953\"],[0.7777777777777778,\"#fb9f3a\"],[0.8888888888888888,\"#fdca26\"],[1.0,\"#f0f921\"]],\"type\":\"heatmapgl\"}],\"heatmap\":[{\"colorbar\":{\"outlinewidth\":0,\"ticks\":\"\"},\"colorscale\":[[0.0,\"#0d0887\"],[0.1111111111111111,\"#46039f\"],[0.2222222222222222,\"#7201a8\"],[0.3333333333333333,\"#9c179e\"],[0.4444444444444444,\"#bd3786\"],[0.5555555555555556,\"#d8576b\"],[0.6666666666666666,\"#ed7953\"],[0.7777777777777778,\"#fb9f3a\"],[0.8888888888888888,\"#fdca26\"],[1.0,\"#f0f921\"]],\"type\":\"heatmap\"}],\"histogram2dcontour\":[{\"colorbar\":{\"outlinewidth\":0,\"ticks\":\"\"},\"colorscale\":[[0.0,\"#0d0887\"],[0.1111111111111111,\"#46039f\"],[0.2222222222222222,\"#7201a8\"],[0.3333333333333333,\"#9c179e\"],[0.4444444444444444,\"#bd3786\"],[0.5555555555555556,\"#d8576b\"],[0.6666666666666666,\"#ed7953\"],[0.7777777777777778,\"#fb9f3a\"],[0.8888888888888888,\"#fdca26\"],[1.0,\"#f0f921\"]],\"type\":\"histogram2dcontour\"}],\"histogram2d\":[{\"colorbar\":{\"outlinewidth\":0,\"ticks\":\"\"},\"colorscale\":[[0.0,\"#0d0887\"],[0.1111111111111111,\"#46039f\"],[0.2222222222222222,\"#7201a8\"],[0.3333333333333333,\"#9c179e\"],[0.4444444444444444,\"#bd3786\"],[0.5555555555555556,\"#d8576b\"],[0.6666666666666666,\"#ed7953\"],[0.7777777777777778,\"#fb9f3a\"],[0.8888888888888888,\"#fdca26\"],[1.0,\"#f0f921\"]],\"type\":\"histogram2d\"}],\"histogram\":[{\"marker\":{\"pattern\":{\"fillmode\":\"overlay\",\"size\":10,\"solidity\":0.2}},\"type\":\"histogram\"}],\"mesh3d\":[{\"colorbar\":{\"outlinewidth\":0,\"ticks\":\"\"},\"type\":\"mesh3d\"}],\"parcoords\":[{\"line\":{\"colorbar\":{\"outlinewidth\":0,\"ticks\":\"\"}},\"type\":\"parcoords\"}],\"pie\":[{\"automargin\":true,\"type\":\"pie\"}],\"scatter3d\":[{\"line\":{\"colorbar\":{\"outlinewidth\":0,\"ticks\":\"\"}},\"marker\":{\"colorbar\":{\"outlinewidth\":0,\"ticks\":\"\"}},\"type\":\"scatter3d\"}],\"scattercarpet\":[{\"marker\":{\"colorbar\":{\"outlinewidth\":0,\"ticks\":\"\"}},\"type\":\"scattercarpet\"}],\"scattergeo\":[{\"marker\":{\"colorbar\":{\"outlinewidth\":0,\"ticks\":\"\"}},\"type\":\"scattergeo\"}],\"scattergl\":[{\"marker\":{\"colorbar\":{\"outlinewidth\":0,\"ticks\":\"\"}},\"type\":\"scattergl\"}],\"scattermapbox\":[{\"marker\":{\"colorbar\":{\"outlinewidth\":0,\"ticks\":\"\"}},\"type\":\"scattermapbox\"}],\"scatterpolargl\":[{\"marker\":{\"colorbar\":{\"outlinewidth\":0,\"ticks\":\"\"}},\"type\":\"scatterpolargl\"}],\"scatterpolar\":[{\"marker\":{\"colorbar\":{\"outlinewidth\":0,\"ticks\":\"\"}},\"type\":\"scatterpolar\"}],\"scatter\":[{\"marker\":{\"colorbar\":{\"outlinewidth\":0,\"ticks\":\"\"}},\"type\":\"scatter\"}],\"scatterternary\":[{\"marker\":{\"colorbar\":{\"outlinewidth\":0,\"ticks\":\"\"}},\"type\":\"scatterternary\"}],\"surface\":[{\"colorbar\":{\"outlinewidth\":0,\"ticks\":\"\"},\"colorscale\":[[0.0,\"#0d0887\"],[0.1111111111111111,\"#46039f\"],[0.2222222222222222,\"#7201a8\"],[0.3333333333333333,\"#9c179e\"],[0.4444444444444444,\"#bd3786\"],[0.5555555555555556,\"#d8576b\"],[0.6666666666666666,\"#ed7953\"],[0.7777777777777778,\"#fb9f3a\"],[0.8888888888888888,\"#fdca26\"],[1.0,\"#f0f921\"]],\"type\":\"surface\"}],\"table\":[{\"cells\":{\"fill\":{\"color\":\"#EBF0F8\"},\"line\":{\"color\":\"white\"}},\"header\":{\"fill\":{\"color\":\"#C8D4E3\"},\"line\":{\"color\":\"white\"}},\"type\":\"table\"}]},\"layout\":{\"annotationdefaults\":{\"arrowcolor\":\"#2a3f5f\",\"arrowhead\":0,\"arrowwidth\":1},\"autotypenumbers\":\"strict\",\"coloraxis\":{\"colorbar\":{\"outlinewidth\":0,\"ticks\":\"\"}},\"colorscale\":{\"diverging\":[[0,\"#8e0152\"],[0.1,\"#c51b7d\"],[0.2,\"#de77ae\"],[0.3,\"#f1b6da\"],[0.4,\"#fde0ef\"],[0.5,\"#f7f7f7\"],[0.6,\"#e6f5d0\"],[0.7,\"#b8e186\"],[0.8,\"#7fbc41\"],[0.9,\"#4d9221\"],[1,\"#276419\"]],\"sequential\":[[0.0,\"#0d0887\"],[0.1111111111111111,\"#46039f\"],[0.2222222222222222,\"#7201a8\"],[0.3333333333333333,\"#9c179e\"],[0.4444444444444444,\"#bd3786\"],[0.5555555555555556,\"#d8576b\"],[0.6666666666666666,\"#ed7953\"],[0.7777777777777778,\"#fb9f3a\"],[0.8888888888888888,\"#fdca26\"],[1.0,\"#f0f921\"]],\"sequentialminus\":[[0.0,\"#0d0887\"],[0.1111111111111111,\"#46039f\"],[0.2222222222222222,\"#7201a8\"],[0.3333333333333333,\"#9c179e\"],[0.4444444444444444,\"#bd3786\"],[0.5555555555555556,\"#d8576b\"],[0.6666666666666666,\"#ed7953\"],[0.7777777777777778,\"#fb9f3a\"],[0.8888888888888888,\"#fdca26\"],[1.0,\"#f0f921\"]]},\"colorway\":[\"#636efa\",\"#EF553B\",\"#00cc96\",\"#ab63fa\",\"#FFA15A\",\"#19d3f3\",\"#FF6692\",\"#B6E880\",\"#FF97FF\",\"#FECB52\"],\"font\":{\"color\":\"#2a3f5f\"},\"geo\":{\"bgcolor\":\"white\",\"lakecolor\":\"white\",\"landcolor\":\"#E5ECF6\",\"showlakes\":true,\"showland\":true,\"subunitcolor\":\"white\"},\"hoverlabel\":{\"align\":\"left\"},\"hovermode\":\"closest\",\"mapbox\":{\"style\":\"light\"},\"paper_bgcolor\":\"white\",\"plot_bgcolor\":\"#E5ECF6\",\"polar\":{\"angularaxis\":{\"gridcolor\":\"white\",\"linecolor\":\"white\",\"ticks\":\"\"},\"bgcolor\":\"#E5ECF6\",\"radialaxis\":{\"gridcolor\":\"white\",\"linecolor\":\"white\",\"ticks\":\"\"}},\"scene\":{\"xaxis\":{\"backgroundcolor\":\"#E5ECF6\",\"gridcolor\":\"white\",\"gridwidth\":2,\"linecolor\":\"white\",\"showbackground\":true,\"ticks\":\"\",\"zerolinecolor\":\"white\"},\"yaxis\":{\"backgroundcolor\":\"#E5ECF6\",\"gridcolor\":\"white\",\"gridwidth\":2,\"linecolor\":\"white\",\"showbackground\":true,\"ticks\":\"\",\"zerolinecolor\":\"white\"},\"zaxis\":{\"backgroundcolor\":\"#E5ECF6\",\"gridcolor\":\"white\",\"gridwidth\":2,\"linecolor\":\"white\",\"showbackground\":true,\"ticks\":\"\",\"zerolinecolor\":\"white\"}},\"shapedefaults\":{\"line\":{\"color\":\"#2a3f5f\"}},\"ternary\":{\"aaxis\":{\"gridcolor\":\"white\",\"linecolor\":\"white\",\"ticks\":\"\"},\"baxis\":{\"gridcolor\":\"white\",\"linecolor\":\"white\",\"ticks\":\"\"},\"bgcolor\":\"#E5ECF6\",\"caxis\":{\"gridcolor\":\"white\",\"linecolor\":\"white\",\"ticks\":\"\"}},\"title\":{\"x\":0.05},\"xaxis\":{\"automargin\":true,\"gridcolor\":\"white\",\"linecolor\":\"white\",\"ticks\":\"\",\"title\":{\"standoff\":15},\"zerolinecolor\":\"white\",\"zerolinewidth\":2},\"yaxis\":{\"automargin\":true,\"gridcolor\":\"white\",\"linecolor\":\"white\",\"ticks\":\"\",\"title\":{\"standoff\":15},\"zerolinecolor\":\"white\",\"zerolinewidth\":2}}},\"title\":{\"text\":\"DEVELOPING NATIONS\"},\"xaxis\":{\"gridcolor\":\"rgb(255, 255, 255)\",\"gridwidth\":2,\"ticklen\":5,\"title\":{\"text\":\"Human Development Index\"},\"zerolinewidth\":1},\"yaxis\":{\"gridcolor\":\"rgb(255, 255, 255)\",\"gridwidth\":2,\"range\":[-4000000,12000000],\"ticklen\":5,\"title\":{\"text\":\"Cumulative Export Trade 2008-2016 (USD Millions)\"},\"zerolinewidth\":1}},                        {\"responsive\": true}                    ).then(function(){\n",
       "                            \n",
       "var gd = document.getElementById('598b0827-2a22-4341-90d9-c0a2a772b6ad');\n",
       "var x = new MutationObserver(function (mutations, observer) {{\n",
       "        var display = window.getComputedStyle(gd).display;\n",
       "        if (!display || display === 'none') {{\n",
       "            console.log([gd, 'removed!']);\n",
       "            Plotly.purge(gd);\n",
       "            observer.disconnect();\n",
       "        }}\n",
       "}});\n",
       "\n",
       "// Listen for the removal of the full notebook cells\n",
       "var notebookContainer = gd.closest('#notebook-container');\n",
       "if (notebookContainer) {{\n",
       "    x.observe(notebookContainer, {childList: true});\n",
       "}}\n",
       "\n",
       "// Listen for the clearing of the current output cell\n",
       "var outputEl = gd.closest('.output');\n",
       "if (outputEl) {{\n",
       "    x.observe(outputEl, {childList: true});\n",
       "}}\n",
       "\n",
       "                        })                };                });            </script>        </div>"
      ]
     },
     "metadata": {},
     "output_type": "display_data"
    }
   ],
   "source": [
    "import chart_studio.plotly as py\n",
    "import plotly.graph_objs as go\n",
    "from plotly.offline import init_notebook_mode, iplot\n",
    "init_notebook_mode(connected=True)\n",
    "import pandas as pd\n",
    "import math\n",
    "\n",
    "df_2007 = DEVELOPING\n",
    "df_2007['HDI'].fillna(0, inplace=True)\n",
    "df_2007['ExpTrade_Mill'].fillna(0, inplace=True)\n",
    "df_2007['Total Ecological Footprint'].fillna(0, inplace=True)\n",
    "df_2007['GDP per Capita'].fillna(0, inplace=True)\n",
    "df_2007[\"Population (millions)\"].fillna(0, inplace=True)\n",
    "df_2007[\"Carbon Footprint\"].fillna(0, inplace=True)\n",
    "\n",
    "#slope = 2.666051223553066e-05\n",
    "hover_text = []\n",
    "bubble_size = []\n",
    "\n",
    "for index, row in df_2007.iterrows(): # each row of the df_2007 will be referenced\n",
    "    hover_text.append(('Country: {country}<br>'+\n",
    "                      'Total Ecological Footprint: {EcoFoot}<br>'+\n",
    "                      'GDP per capita: {gdp}<br>'+\n",
    "                      'Population (Millions): {pop}<br>'+\n",
    "                      'Year: {year}').format(country=row['Country'],\n",
    "                                            EcoFoot=row['Total Ecological Footprint'],\n",
    "                                            gdp=row['GDP per Capita'],\n",
    "                                            pop=row[\"Population (millions)\"],\n",
    "                                            year='2016'))\n",
    "    #bubble_size.append(math.sqrt(row[\"Population (millions)\"]*slope))\n",
    "    bubble_size.append(row[\"Carbon Footprint\"])\n",
    "\n",
    "df_2007['text'] = hover_text\n",
    "df_2007['size'] = bubble_size\n",
    "sizeref = 2.*max(df_2007['size'])/(100**2)\n",
    "\n",
    "trace0 = go.Scatter(\n",
    "    x=df_2007['HDI'][df_2007['Region'] == 'Africa'],\n",
    "    y=df_2007['ExpTrade_Mill'][df_2007['Region'] == 'Africa'],\n",
    "    mode='markers',\n",
    "    name='Africa',\n",
    "    text=df_2007['text'][df_2007['Region'] == 'Africa'],\n",
    "    marker=dict(\n",
    "        symbol='circle',\n",
    "        sizemode='area',\n",
    "        sizeref=sizeref,\n",
    "        size=df_2007['size'][df_2007['Region'] == 'Africa'],\n",
    "        line=dict(\n",
    "            width=2\n",
    "        ),\n",
    "    )\n",
    ")\n",
    "trace1 = go.Scatter(\n",
    "    x=df_2007['HDI'][df_2007['Region'] == 'North America'],\n",
    "    y=df_2007['ExpTrade_Mill'][df_2007['Region'] == 'North America'],\n",
    "    mode='markers',\n",
    "    name='North America',\n",
    "    text=df_2007['text'][df_2007['Region'] == 'North America'],\n",
    "    marker=dict(\n",
    "        sizemode='area',\n",
    "        sizeref=sizeref,\n",
    "        size=df_2007['size'][df_2007['Region'] == 'North America'],\n",
    "        line=dict(\n",
    "            width=2\n",
    "        ),\n",
    "    )\n",
    ")\n",
    "trace2 = go.Scatter(\n",
    "    x=df_2007['HDI'][df_2007['Region'] == 'Middle East/Central Asia'],\n",
    "    y=df_2007['ExpTrade_Mill'][df_2007['Region'] == 'Middle East/Central Asia'],\n",
    "    mode='markers',\n",
    "    name='Middle East/Central Asia',\n",
    "    text=df_2007['text'][df_2007['Region'] == 'Middle East/Central Asia'],\n",
    "    marker=dict(\n",
    "        sizemode='area',\n",
    "        sizeref=sizeref,\n",
    "        size=df_2007['size'][df_2007['Region'] == 'Middle East/Central Asia'],\n",
    "        line=dict(\n",
    "            width=2\n",
    "        ),\n",
    "    )\n",
    ")\n",
    "trace3 = go.Scatter(\n",
    "    x=df_2007['HDI'][df_2007['Region'] == 'Northern/Eastern Europe'],\n",
    "    y=df_2007['ExpTrade_Mill'][df_2007['Region'] == 'Northern/Eastern Europe'],\n",
    "    mode='markers',\n",
    "    name='Northern/Eastern Europe',\n",
    "    text=df_2007['text'][df_2007['Region'] == 'Northern/Eastern Europe'],\n",
    "    marker=dict(\n",
    "        sizemode='area',\n",
    "        sizeref=sizeref,\n",
    "        size=df_2007['size'][df_2007['Region'] == 'Northern/Eastern Europe'],\n",
    "        line=dict(\n",
    "            width=2\n",
    "        ),\n",
    "    )\n",
    ")\n",
    "trace4 = go.Scatter(\n",
    "    x=df_2007['HDI'][df_2007['Region'] == 'Latin America'],\n",
    "    y=df_2007['ExpTrade_Mill'][df_2007['Region'] == 'Latin America'],\n",
    "    mode='markers',\n",
    "    name='Latin America',\n",
    "    text=df_2007['text'][df_2007['Region'] == 'Latin America'],\n",
    "    marker=dict(\n",
    "        sizemode='area',\n",
    "        sizeref=sizeref,\n",
    "        size=df_2007['size'][df_2007['Region'] == 'Latin America'],\n",
    "        line=dict(\n",
    "            width=2\n",
    "        ),\n",
    "    )\n",
    ")\n",
    "\n",
    "trace5 = go.Scatter(\n",
    "    x=df_2007['HDI'][df_2007['Region'] == 'Asia-Pacific'],\n",
    "    y=df_2007['ExpTrade_Mill'][df_2007['Region'] == 'Asia-Pacific'],\n",
    "    mode='markers',\n",
    "    name='Asia-Pacific',\n",
    "    text=df_2007['text'][df_2007['Region'] == 'Asia-Pacific'],\n",
    "    marker=dict(\n",
    "        sizemode='area',\n",
    "        sizeref=sizeref,\n",
    "        size=df_2007['size'][df_2007['Region'] == 'Asia-Pacific'],\n",
    "        line=dict(\n",
    "            width=2\n",
    "        ),\n",
    "    )\n",
    ")\n",
    "\n",
    "trace6 = go.Scatter(\n",
    "     x=df_2007['HDI'][df_2007['Region'] == 'European Union'],\n",
    "    y=df_2007['ExpTrade_Mill'][df_2007['Region'] == 'European Union'],\n",
    "    mode='markers',\n",
    "    name='European Union',\n",
    "    text=df_2007['text'][df_2007['Region'] == 'European Union'],\n",
    "    marker=dict(\n",
    "        sizemode='area',\n",
    "        sizeref=sizeref,\n",
    "        size=df_2007['size'][df_2007['Region'] == 'European Union'],\n",
    "        line=dict(\n",
    "            width=2\n",
    "        ),\n",
    "    )\n",
    ")\n",
    "                      \n",
    "trace7 = go.Scatter(\n",
    "    x=df_2007['HDI'][df_2007['Region'] == 'nan'],\n",
    "    y=df_2007['ExpTrade_Mill'][df_2007['Region'] == 'nan'],\n",
    "    mode='markers',\n",
    "    name='nan',\n",
    "    text=df_2007['text'][df_2007['Region'] == 'nan'],\n",
    "    marker=dict(\n",
    "        sizemode='area',\n",
    "        sizeref=sizeref,\n",
    "        size=df_2007['size'][df_2007['Region'] == 'nan'],\n",
    "        line=dict(\n",
    "            width=2\n",
    "        ),\n",
    "    )\n",
    ")\n",
    "                      \n",
    "data = [trace0, trace1, trace2, trace3, trace4, trace5, trace6, trace7]\n",
    "layout = go.Layout(\n",
    "    title='DEVELOPING NATIONS',\n",
    "    xaxis=dict(\n",
    "        title='Human Development Index',\n",
    "        gridcolor='rgb(255, 255, 255)',\n",
    "        #range=[0, 1],\n",
    "        #type='log',\n",
    "        zerolinewidth=1,\n",
    "        ticklen=5,\n",
    "        gridwidth=2,\n",
    "    ),\n",
    "    yaxis=dict(\n",
    "        title='Cumulative Export Trade 2008-2016 (USD Millions)',\n",
    "        gridcolor='rgb(255, 255, 255)',\n",
    "        range=[-4000000, 12000000],\n",
    "        zerolinewidth=1,\n",
    "        ticklen=5,\n",
    "        gridwidth=2,\n",
    "    ),\n",
    "    paper_bgcolor='rgb(243, 243, 243)',\n",
    "    plot_bgcolor='rgb(243, 243, 243)',\n",
    ")\n",
    "\n",
    "fig = go.Figure(data=data, layout=layout)\n",
    "iplot(fig) "
   ]
  },
  {
   "cell_type": "code",
   "execution_count": 16,
   "metadata": {
    "_kg_hide-input": true,
    "_kg_hide-output": false,
    "_uuid": "0505b390117feec941d2ff918c2d1bb9ddc640e5"
   },
   "outputs": [
    {
     "data": {
      "text/html": [
       "        <script type=\"text/javascript\">\n",
       "        window.PlotlyConfig = {MathJaxConfig: 'local'};\n",
       "        if (window.MathJax) {MathJax.Hub.Config({SVG: {font: \"STIX-Web\"}});}\n",
       "        if (typeof require !== 'undefined') {\n",
       "        require.undef(\"plotly\");\n",
       "        requirejs.config({\n",
       "            paths: {\n",
       "                'plotly': ['https://cdn.plot.ly/plotly-2.9.0.min']\n",
       "            }\n",
       "        });\n",
       "        require(['plotly'], function(Plotly) {\n",
       "            window._Plotly = Plotly;\n",
       "        });\n",
       "        }\n",
       "        </script>\n",
       "        "
      ]
     },
     "metadata": {},
     "output_type": "display_data"
    },
    {
     "data": {
      "application/vnd.plotly.v1+json": {
       "config": {
        "linkText": "Export to plot.ly",
        "plotlyServerURL": "https://plot.ly",
        "showLink": false
       },
       "data": [
        {
         "marker": {
          "line": {
           "width": 2
          },
          "size": [],
          "sizemode": "area",
          "sizeref": 0.00253,
          "symbol": "circle"
         },
         "mode": "markers",
         "name": "Africa",
         "text": [],
         "type": "scatter",
         "x": [],
         "y": []
        },
        {
         "marker": {
          "line": {
           "width": 2
          },
          "size": [
           5,
           5.9
          ],
          "sizemode": "area",
          "sizeref": 0.00253
         },
         "mode": "markers",
         "name": "North America",
         "text": [
          "Country: Canada<br>Total Ecological Footprint: 8.17<br>GDP per capita: $52,145.40<br>Population (Millions): 34.84<br>Year: 2016",
          "Country: USA<br>Total Ecological Footprint: 8.22<br>GDP per capita: $49,725.00<br>Population (Millions): 317.5<br>Year: 2016"
         ],
         "type": "scatter",
         "x": [
          0.91,
          0.91
         ],
         "y": [
          15233081.163918,
          31700102.843309
         ]
        },
        {
         "marker": {
          "line": {
           "width": 2
          },
          "size": [],
          "sizemode": "area",
          "sizeref": 0.00253
         },
         "mode": "markers",
         "name": "Middle East/Central Asia",
         "text": [],
         "type": "scatter",
         "x": [],
         "y": []
        },
        {
         "marker": {
          "line": {
           "width": 2
          },
          "size": [
           2.21,
           0,
           4.26
          ],
          "sizemode": "area",
          "sizeref": 0.00253
         },
         "mode": "markers",
         "name": "Northern/Eastern Europe",
         "text": [
          "Country: Croatia<br>Total Ecological Footprint: 3.92<br>GDP per capita: $14,522.80<br>Population (Millions): 4.31<br>Year: 2016",
          "Country: Norway<br>Total Ecological Footprint: 4.98<br>GDP per capita: $100,172.00<br>Population (Millions): 4.99<br>Year: 2016",
          "Country: Switzerland<br>Total Ecological Footprint: 5.79<br>GDP per capita: $88,506.20<br>Population (Millions): 8.0<br>Year: 2016"
         ],
         "type": "scatter",
         "x": [
          0.82,
          0.94,
          0.93
         ],
         "y": [
          342334.149063,
          2429308.733411,
          4380822.133916
         ]
        },
        {
         "marker": {
          "line": {
           "width": 2
          },
          "size": [],
          "sizemode": "area",
          "sizeref": 0.00253
         },
         "mode": "markers",
         "name": "Latin America",
         "text": [],
         "type": "scatter",
         "x": [],
         "y": []
        },
        {
         "marker": {
          "line": {
           "width": 2
          },
          "size": [
           4.85,
           3.69,
           2.84
          ],
          "sizemode": "area",
          "sizeref": 0.00253
         },
         "mode": "markers",
         "name": "Asia-Pacific",
         "text": [
          "Country: Australia<br>Total Ecological Footprint: 9.31<br>GDP per capita: $66,604.20<br>Population (Millions): 23.05<br>Year: 2016",
          "Country: Japan<br>Total Ecological Footprint: 5.02<br>GDP per capita: $46,201.60<br>Population (Millions): 127.25<br>Year: 2016",
          "Country: New Zealand<br>Total Ecological Footprint: 5.6<br>GDP per capita: $37,488.30<br>Population (Millions): 4.46<br>Year: 2016"
         ],
         "type": "scatter",
         "x": [
          0.93,
          0.89,
          0.91
         ],
         "y": [
          6457274.981999,
          17002378.902522,
          876967.769457
         ]
        },
        {
         "marker": {
          "line": {
           "width": 2
          },
          "size": [
           4.14,
           4.43,
           2.08,
           2.94,
           3.42,
           2.6,
           0,
           2.71,
           3.28,
           3.28,
           2.58,
           1.9,
           3.22,
           2.77,
           1.66,
           2.15,
           12.65,
           3.23,
           2.64,
           2.15,
           1.46,
           2.82,
           4.27,
           2.22,
           3.88,
           3.14
          ],
          "sizemode": "area",
          "sizeref": 0.00253
         },
         "mode": "markers",
         "name": "European Union",
         "text": [
          "Country: Austria<br>Total Ecological Footprint: 6.06<br>GDP per capita: $51,274.10<br>Population (Millions): 8.46<br>Year: 2016",
          "Country: Belgium<br>Total Ecological Footprint: 7.44<br>GDP per capita: $48,053.30<br>Population (Millions): 11.06<br>Year: 2016",
          "Country: Bulgaria<br>Total Ecological Footprint: 3.32<br>GDP per capita: $7,615.28<br>Population (Millions): 7.28<br>Year: 2016",
          "Country: Cyprus<br>Total Ecological Footprint: 4.21<br>GDP per capita: $31,454.70<br>Population (Millions): 1.13<br>Year: 2016",
          "Country: Czech Republic<br>Total Ecological Footprint: 5.19<br>GDP per capita: $21,676.30<br>Population (Millions): 10.66<br>Year: 2016",
          "Country: Denmark<br>Total Ecological Footprint: 5.51<br>GDP per capita: $61,413.60<br>Population (Millions): 5.6<br>Year: 2016",
          "Country: Estonia<br>Total Ecological Footprint: 6.86<br>GDP per capita: $17,304.40<br>Population (Millions): 1.29<br>Year: 2016",
          "Country: France<br>Total Ecological Footprint: 5.14<br>GDP per capita: $45,430.30<br>Population (Millions): 63.98<br>Year: 2016",
          "Country: Germany<br>Total Ecological Footprint: 5.3<br>GDP per capita: $46,822.40<br>Population (Millions): 82.8<br>Year: 2016",
          "Country: Germany<br>Total Ecological Footprint: 5.3<br>GDP per capita: $46,822.40<br>Population (Millions): 82.8<br>Year: 2016",
          "Country: Greece<br>Total Ecological Footprint: 4.38<br>GDP per capita: $25,987.40<br>Population (Millions): 11.12<br>Year: 2016",
          "Country: Hungary<br>Total Ecological Footprint: 2.92<br>GDP per capita: $13,964.20<br>Population (Millions): 9.98<br>Year: 2016",
          "Country: Ireland<br>Total Ecological Footprint: 5.57<br>GDP per capita: $52,853.60<br>Population (Millions): 4.58<br>Year: 2016",
          "Country: Italy<br>Total Ecological Footprint: 4.61<br>GDP per capita: $38,412.00<br>Population (Millions): 60.92<br>Year: 2016",
          "Country: Latvia<br>Total Ecological Footprint: 6.29<br>GDP per capita: $13,732.00<br>Population (Millions): 2.06<br>Year: 2016",
          "Country: Lithuania<br>Total Ecological Footprint: 5.83<br>GDP per capita: $14,373.70<br>Population (Millions): 3.03<br>Year: 2016",
          "Country: Luxembourg<br>Total Ecological Footprint: 15.82<br>GDP per capita: $114,665.00<br>Population (Millions): 0.52<br>Year: 2016",
          "Country: Netherlands<br>Total Ecological Footprint: 5.28<br>GDP per capita: $53,589.90<br>Population (Millions): 16.71<br>Year: 2016",
          "Country: Poland<br>Total Ecological Footprint: 4.44<br>GDP per capita: $13,769.50<br>Population (Millions): 38.21<br>Year: 2016",
          "Country: Portugal<br>Total Ecological Footprint: 3.88<br>GDP per capita: $23,217.30<br>Population (Millions): 10.6<br>Year: 2016",
          "Country: Romania<br>Total Ecological Footprint: 2.71<br>GDP per capita: $9,213.94<br>Population (Millions): 21.76<br>Year: 2016",
          "Country: Slovakia<br>Total Ecological Footprint: 4.06<br>GDP per capita: $18,103.10<br>Population (Millions): 5.45<br>Year: 2016",
          "Country: Slovenia<br>Total Ecological Footprint: 5.81<br>GDP per capita: $25,040.50<br>Population (Millions): 2.07<br>Year: 2016",
          "Country: Spain<br>Total Ecological Footprint: 3.67<br>GDP per capita: $32,008.70<br>Population (Millions): 46.76<br>Year: 2016",
          "Country: Sweden<br>Total Ecological Footprint: 7.25<br>GDP per capita: $59,381.90<br>Population (Millions): 9.51<br>Year: 2016",
          "Country: United Kingdom<br>Total Ecological Footprint: 4.94<br>GDP per capita: $40,980.50<br>Population (Millions): 63.03<br>Year: 2016"
         ],
         "type": "scatter",
         "x": [
          0.88,
          0.89,
          0.78,
          0.85,
          0.87,
          0.92,
          0.85,
          0.89,
          0.91,
          0.91,
          0.86,
          0.82,
          0.91,
          0.87,
          0.81,
          0.83,
          0.89,
          0.92,
          0.84,
          0.83,
          0.79,
          0.84,
          0.88,
          0.87,
          0.9,
          0.9
         ],
         "y": [
          4366799.964415,
          12081522.398108,
          592486.351063,
          94879.164729,
          0,
          3120192.529063,
          313192.905212,
          14066642.73453,
          1373483.360182,
          30693229.416853,
          831137.316341,
          1805465.670881,
          3135297.328862,
          11122100.801684,
          187280.897684,
          474092.668671,
          266722.475171,
          10312448.09299,
          2669675.809474,
          1171895.187865,
          871545.109762,
          991625.782332,
          397212.501128,
          5233788.264062,
          3262936.243948,
          9763266.90626
         ]
        },
        {
         "marker": {
          "line": {
           "width": 2
          },
          "size": [],
          "sizemode": "area",
          "sizeref": 0.00253
         },
         "mode": "markers",
         "name": "nan",
         "text": [],
         "type": "scatter",
         "x": [],
         "y": []
        }
       ],
       "layout": {
        "paper_bgcolor": "rgb(243, 243, 243)",
        "plot_bgcolor": "rgb(243, 243, 243)",
        "template": {
         "data": {
          "bar": [
           {
            "error_x": {
             "color": "#2a3f5f"
            },
            "error_y": {
             "color": "#2a3f5f"
            },
            "marker": {
             "line": {
              "color": "#E5ECF6",
              "width": 0.5
             },
             "pattern": {
              "fillmode": "overlay",
              "size": 10,
              "solidity": 0.2
             }
            },
            "type": "bar"
           }
          ],
          "barpolar": [
           {
            "marker": {
             "line": {
              "color": "#E5ECF6",
              "width": 0.5
             },
             "pattern": {
              "fillmode": "overlay",
              "size": 10,
              "solidity": 0.2
             }
            },
            "type": "barpolar"
           }
          ],
          "carpet": [
           {
            "aaxis": {
             "endlinecolor": "#2a3f5f",
             "gridcolor": "white",
             "linecolor": "white",
             "minorgridcolor": "white",
             "startlinecolor": "#2a3f5f"
            },
            "baxis": {
             "endlinecolor": "#2a3f5f",
             "gridcolor": "white",
             "linecolor": "white",
             "minorgridcolor": "white",
             "startlinecolor": "#2a3f5f"
            },
            "type": "carpet"
           }
          ],
          "choropleth": [
           {
            "colorbar": {
             "outlinewidth": 0,
             "ticks": ""
            },
            "type": "choropleth"
           }
          ],
          "contour": [
           {
            "colorbar": {
             "outlinewidth": 0,
             "ticks": ""
            },
            "colorscale": [
             [
              0,
              "#0d0887"
             ],
             [
              0.1111111111111111,
              "#46039f"
             ],
             [
              0.2222222222222222,
              "#7201a8"
             ],
             [
              0.3333333333333333,
              "#9c179e"
             ],
             [
              0.4444444444444444,
              "#bd3786"
             ],
             [
              0.5555555555555556,
              "#d8576b"
             ],
             [
              0.6666666666666666,
              "#ed7953"
             ],
             [
              0.7777777777777778,
              "#fb9f3a"
             ],
             [
              0.8888888888888888,
              "#fdca26"
             ],
             [
              1,
              "#f0f921"
             ]
            ],
            "type": "contour"
           }
          ],
          "contourcarpet": [
           {
            "colorbar": {
             "outlinewidth": 0,
             "ticks": ""
            },
            "type": "contourcarpet"
           }
          ],
          "heatmap": [
           {
            "colorbar": {
             "outlinewidth": 0,
             "ticks": ""
            },
            "colorscale": [
             [
              0,
              "#0d0887"
             ],
             [
              0.1111111111111111,
              "#46039f"
             ],
             [
              0.2222222222222222,
              "#7201a8"
             ],
             [
              0.3333333333333333,
              "#9c179e"
             ],
             [
              0.4444444444444444,
              "#bd3786"
             ],
             [
              0.5555555555555556,
              "#d8576b"
             ],
             [
              0.6666666666666666,
              "#ed7953"
             ],
             [
              0.7777777777777778,
              "#fb9f3a"
             ],
             [
              0.8888888888888888,
              "#fdca26"
             ],
             [
              1,
              "#f0f921"
             ]
            ],
            "type": "heatmap"
           }
          ],
          "heatmapgl": [
           {
            "colorbar": {
             "outlinewidth": 0,
             "ticks": ""
            },
            "colorscale": [
             [
              0,
              "#0d0887"
             ],
             [
              0.1111111111111111,
              "#46039f"
             ],
             [
              0.2222222222222222,
              "#7201a8"
             ],
             [
              0.3333333333333333,
              "#9c179e"
             ],
             [
              0.4444444444444444,
              "#bd3786"
             ],
             [
              0.5555555555555556,
              "#d8576b"
             ],
             [
              0.6666666666666666,
              "#ed7953"
             ],
             [
              0.7777777777777778,
              "#fb9f3a"
             ],
             [
              0.8888888888888888,
              "#fdca26"
             ],
             [
              1,
              "#f0f921"
             ]
            ],
            "type": "heatmapgl"
           }
          ],
          "histogram": [
           {
            "marker": {
             "pattern": {
              "fillmode": "overlay",
              "size": 10,
              "solidity": 0.2
             }
            },
            "type": "histogram"
           }
          ],
          "histogram2d": [
           {
            "colorbar": {
             "outlinewidth": 0,
             "ticks": ""
            },
            "colorscale": [
             [
              0,
              "#0d0887"
             ],
             [
              0.1111111111111111,
              "#46039f"
             ],
             [
              0.2222222222222222,
              "#7201a8"
             ],
             [
              0.3333333333333333,
              "#9c179e"
             ],
             [
              0.4444444444444444,
              "#bd3786"
             ],
             [
              0.5555555555555556,
              "#d8576b"
             ],
             [
              0.6666666666666666,
              "#ed7953"
             ],
             [
              0.7777777777777778,
              "#fb9f3a"
             ],
             [
              0.8888888888888888,
              "#fdca26"
             ],
             [
              1,
              "#f0f921"
             ]
            ],
            "type": "histogram2d"
           }
          ],
          "histogram2dcontour": [
           {
            "colorbar": {
             "outlinewidth": 0,
             "ticks": ""
            },
            "colorscale": [
             [
              0,
              "#0d0887"
             ],
             [
              0.1111111111111111,
              "#46039f"
             ],
             [
              0.2222222222222222,
              "#7201a8"
             ],
             [
              0.3333333333333333,
              "#9c179e"
             ],
             [
              0.4444444444444444,
              "#bd3786"
             ],
             [
              0.5555555555555556,
              "#d8576b"
             ],
             [
              0.6666666666666666,
              "#ed7953"
             ],
             [
              0.7777777777777778,
              "#fb9f3a"
             ],
             [
              0.8888888888888888,
              "#fdca26"
             ],
             [
              1,
              "#f0f921"
             ]
            ],
            "type": "histogram2dcontour"
           }
          ],
          "mesh3d": [
           {
            "colorbar": {
             "outlinewidth": 0,
             "ticks": ""
            },
            "type": "mesh3d"
           }
          ],
          "parcoords": [
           {
            "line": {
             "colorbar": {
              "outlinewidth": 0,
              "ticks": ""
             }
            },
            "type": "parcoords"
           }
          ],
          "pie": [
           {
            "automargin": true,
            "type": "pie"
           }
          ],
          "scatter": [
           {
            "marker": {
             "colorbar": {
              "outlinewidth": 0,
              "ticks": ""
             }
            },
            "type": "scatter"
           }
          ],
          "scatter3d": [
           {
            "line": {
             "colorbar": {
              "outlinewidth": 0,
              "ticks": ""
             }
            },
            "marker": {
             "colorbar": {
              "outlinewidth": 0,
              "ticks": ""
             }
            },
            "type": "scatter3d"
           }
          ],
          "scattercarpet": [
           {
            "marker": {
             "colorbar": {
              "outlinewidth": 0,
              "ticks": ""
             }
            },
            "type": "scattercarpet"
           }
          ],
          "scattergeo": [
           {
            "marker": {
             "colorbar": {
              "outlinewidth": 0,
              "ticks": ""
             }
            },
            "type": "scattergeo"
           }
          ],
          "scattergl": [
           {
            "marker": {
             "colorbar": {
              "outlinewidth": 0,
              "ticks": ""
             }
            },
            "type": "scattergl"
           }
          ],
          "scattermapbox": [
           {
            "marker": {
             "colorbar": {
              "outlinewidth": 0,
              "ticks": ""
             }
            },
            "type": "scattermapbox"
           }
          ],
          "scatterpolar": [
           {
            "marker": {
             "colorbar": {
              "outlinewidth": 0,
              "ticks": ""
             }
            },
            "type": "scatterpolar"
           }
          ],
          "scatterpolargl": [
           {
            "marker": {
             "colorbar": {
              "outlinewidth": 0,
              "ticks": ""
             }
            },
            "type": "scatterpolargl"
           }
          ],
          "scatterternary": [
           {
            "marker": {
             "colorbar": {
              "outlinewidth": 0,
              "ticks": ""
             }
            },
            "type": "scatterternary"
           }
          ],
          "surface": [
           {
            "colorbar": {
             "outlinewidth": 0,
             "ticks": ""
            },
            "colorscale": [
             [
              0,
              "#0d0887"
             ],
             [
              0.1111111111111111,
              "#46039f"
             ],
             [
              0.2222222222222222,
              "#7201a8"
             ],
             [
              0.3333333333333333,
              "#9c179e"
             ],
             [
              0.4444444444444444,
              "#bd3786"
             ],
             [
              0.5555555555555556,
              "#d8576b"
             ],
             [
              0.6666666666666666,
              "#ed7953"
             ],
             [
              0.7777777777777778,
              "#fb9f3a"
             ],
             [
              0.8888888888888888,
              "#fdca26"
             ],
             [
              1,
              "#f0f921"
             ]
            ],
            "type": "surface"
           }
          ],
          "table": [
           {
            "cells": {
             "fill": {
              "color": "#EBF0F8"
             },
             "line": {
              "color": "white"
             }
            },
            "header": {
             "fill": {
              "color": "#C8D4E3"
             },
             "line": {
              "color": "white"
             }
            },
            "type": "table"
           }
          ]
         },
         "layout": {
          "annotationdefaults": {
           "arrowcolor": "#2a3f5f",
           "arrowhead": 0,
           "arrowwidth": 1
          },
          "autotypenumbers": "strict",
          "coloraxis": {
           "colorbar": {
            "outlinewidth": 0,
            "ticks": ""
           }
          },
          "colorscale": {
           "diverging": [
            [
             0,
             "#8e0152"
            ],
            [
             0.1,
             "#c51b7d"
            ],
            [
             0.2,
             "#de77ae"
            ],
            [
             0.3,
             "#f1b6da"
            ],
            [
             0.4,
             "#fde0ef"
            ],
            [
             0.5,
             "#f7f7f7"
            ],
            [
             0.6,
             "#e6f5d0"
            ],
            [
             0.7,
             "#b8e186"
            ],
            [
             0.8,
             "#7fbc41"
            ],
            [
             0.9,
             "#4d9221"
            ],
            [
             1,
             "#276419"
            ]
           ],
           "sequential": [
            [
             0,
             "#0d0887"
            ],
            [
             0.1111111111111111,
             "#46039f"
            ],
            [
             0.2222222222222222,
             "#7201a8"
            ],
            [
             0.3333333333333333,
             "#9c179e"
            ],
            [
             0.4444444444444444,
             "#bd3786"
            ],
            [
             0.5555555555555556,
             "#d8576b"
            ],
            [
             0.6666666666666666,
             "#ed7953"
            ],
            [
             0.7777777777777778,
             "#fb9f3a"
            ],
            [
             0.8888888888888888,
             "#fdca26"
            ],
            [
             1,
             "#f0f921"
            ]
           ],
           "sequentialminus": [
            [
             0,
             "#0d0887"
            ],
            [
             0.1111111111111111,
             "#46039f"
            ],
            [
             0.2222222222222222,
             "#7201a8"
            ],
            [
             0.3333333333333333,
             "#9c179e"
            ],
            [
             0.4444444444444444,
             "#bd3786"
            ],
            [
             0.5555555555555556,
             "#d8576b"
            ],
            [
             0.6666666666666666,
             "#ed7953"
            ],
            [
             0.7777777777777778,
             "#fb9f3a"
            ],
            [
             0.8888888888888888,
             "#fdca26"
            ],
            [
             1,
             "#f0f921"
            ]
           ]
          },
          "colorway": [
           "#636efa",
           "#EF553B",
           "#00cc96",
           "#ab63fa",
           "#FFA15A",
           "#19d3f3",
           "#FF6692",
           "#B6E880",
           "#FF97FF",
           "#FECB52"
          ],
          "font": {
           "color": "#2a3f5f"
          },
          "geo": {
           "bgcolor": "white",
           "lakecolor": "white",
           "landcolor": "#E5ECF6",
           "showlakes": true,
           "showland": true,
           "subunitcolor": "white"
          },
          "hoverlabel": {
           "align": "left"
          },
          "hovermode": "closest",
          "mapbox": {
           "style": "light"
          },
          "paper_bgcolor": "white",
          "plot_bgcolor": "#E5ECF6",
          "polar": {
           "angularaxis": {
            "gridcolor": "white",
            "linecolor": "white",
            "ticks": ""
           },
           "bgcolor": "#E5ECF6",
           "radialaxis": {
            "gridcolor": "white",
            "linecolor": "white",
            "ticks": ""
           }
          },
          "scene": {
           "xaxis": {
            "backgroundcolor": "#E5ECF6",
            "gridcolor": "white",
            "gridwidth": 2,
            "linecolor": "white",
            "showbackground": true,
            "ticks": "",
            "zerolinecolor": "white"
           },
           "yaxis": {
            "backgroundcolor": "#E5ECF6",
            "gridcolor": "white",
            "gridwidth": 2,
            "linecolor": "white",
            "showbackground": true,
            "ticks": "",
            "zerolinecolor": "white"
           },
           "zaxis": {
            "backgroundcolor": "#E5ECF6",
            "gridcolor": "white",
            "gridwidth": 2,
            "linecolor": "white",
            "showbackground": true,
            "ticks": "",
            "zerolinecolor": "white"
           }
          },
          "shapedefaults": {
           "line": {
            "color": "#2a3f5f"
           }
          },
          "ternary": {
           "aaxis": {
            "gridcolor": "white",
            "linecolor": "white",
            "ticks": ""
           },
           "baxis": {
            "gridcolor": "white",
            "linecolor": "white",
            "ticks": ""
           },
           "bgcolor": "#E5ECF6",
           "caxis": {
            "gridcolor": "white",
            "linecolor": "white",
            "ticks": ""
           }
          },
          "title": {
           "x": 0.05
          },
          "xaxis": {
           "automargin": true,
           "gridcolor": "white",
           "linecolor": "white",
           "ticks": "",
           "title": {
            "standoff": 15
           },
           "zerolinecolor": "white",
           "zerolinewidth": 2
          },
          "yaxis": {
           "automargin": true,
           "gridcolor": "white",
           "linecolor": "white",
           "ticks": "",
           "title": {
            "standoff": 15
           },
           "zerolinecolor": "white",
           "zerolinewidth": 2
          }
         }
        },
        "title": {
         "text": "FIRST-WORLD COUNTRIES: Impact on Carbon Footprint 2016"
        },
        "xaxis": {
         "gridcolor": "rgb(255, 255, 255)",
         "gridwidth": 2,
         "ticklen": 5,
         "title": {
          "text": "Human Development Index"
         },
         "zerolinewidth": 1
        },
        "yaxis": {
         "gridcolor": "rgb(255, 255, 255)",
         "gridwidth": 2,
         "range": [
          -4000000,
          19000000
         ],
         "ticklen": 5,
         "title": {
          "text": "Cumulative Export Trade 2008-2016 (USD Millions)"
         },
         "zerolinewidth": 1
        }
       }
      },
      "text/html": [
       "<div>                            <div id=\"029ffe94-9655-491d-8889-0b5d50f89dcc\" class=\"plotly-graph-div\" style=\"height:525px; width:100%;\"></div>            <script type=\"text/javascript\">                require([\"plotly\"], function(Plotly) {                    window.PLOTLYENV=window.PLOTLYENV || {};                                    if (document.getElementById(\"029ffe94-9655-491d-8889-0b5d50f89dcc\")) {                    Plotly.newPlot(                        \"029ffe94-9655-491d-8889-0b5d50f89dcc\",                        [{\"marker\":{\"line\":{\"width\":2},\"size\":[],\"sizemode\":\"area\",\"sizeref\":0.00253,\"symbol\":\"circle\"},\"mode\":\"markers\",\"name\":\"Africa\",\"text\":[],\"x\":[],\"y\":[],\"type\":\"scatter\"},{\"marker\":{\"line\":{\"width\":2},\"size\":[5.0,5.9],\"sizemode\":\"area\",\"sizeref\":0.00253},\"mode\":\"markers\",\"name\":\"North America\",\"text\":[\"Country: Canada<br>Total Ecological Footprint: 8.17<br>GDP per capita: $52,145.40<br>Population (Millions): 34.84<br>Year: 2016\",\"Country: USA<br>Total Ecological Footprint: 8.22<br>GDP per capita: $49,725.00<br>Population (Millions): 317.5<br>Year: 2016\"],\"x\":[0.91,0.91],\"y\":[15233081.163918,31700102.843309],\"type\":\"scatter\"},{\"marker\":{\"line\":{\"width\":2},\"size\":[],\"sizemode\":\"area\",\"sizeref\":0.00253},\"mode\":\"markers\",\"name\":\"Middle East/Central Asia\",\"text\":[],\"x\":[],\"y\":[],\"type\":\"scatter\"},{\"marker\":{\"line\":{\"width\":2},\"size\":[2.21,0.0,4.26],\"sizemode\":\"area\",\"sizeref\":0.00253},\"mode\":\"markers\",\"name\":\"Northern/Eastern Europe\",\"text\":[\"Country: Croatia<br>Total Ecological Footprint: 3.92<br>GDP per capita: $14,522.80<br>Population (Millions): 4.31<br>Year: 2016\",\"Country: Norway<br>Total Ecological Footprint: 4.98<br>GDP per capita: $100,172.00<br>Population (Millions): 4.99<br>Year: 2016\",\"Country: Switzerland<br>Total Ecological Footprint: 5.79<br>GDP per capita: $88,506.20<br>Population (Millions): 8.0<br>Year: 2016\"],\"x\":[0.82,0.94,0.93],\"y\":[342334.149063,2429308.733411,4380822.133916],\"type\":\"scatter\"},{\"marker\":{\"line\":{\"width\":2},\"size\":[],\"sizemode\":\"area\",\"sizeref\":0.00253},\"mode\":\"markers\",\"name\":\"Latin America\",\"text\":[],\"x\":[],\"y\":[],\"type\":\"scatter\"},{\"marker\":{\"line\":{\"width\":2},\"size\":[4.85,3.69,2.84],\"sizemode\":\"area\",\"sizeref\":0.00253},\"mode\":\"markers\",\"name\":\"Asia-Pacific\",\"text\":[\"Country: Australia<br>Total Ecological Footprint: 9.31<br>GDP per capita: $66,604.20<br>Population (Millions): 23.05<br>Year: 2016\",\"Country: Japan<br>Total Ecological Footprint: 5.02<br>GDP per capita: $46,201.60<br>Population (Millions): 127.25<br>Year: 2016\",\"Country: New Zealand<br>Total Ecological Footprint: 5.6<br>GDP per capita: $37,488.30<br>Population (Millions): 4.46<br>Year: 2016\"],\"x\":[0.93,0.89,0.91],\"y\":[6457274.981999,17002378.902522,876967.769457],\"type\":\"scatter\"},{\"marker\":{\"line\":{\"width\":2},\"size\":[4.14,4.43,2.08,2.94,3.42,2.6,0.0,2.71,3.28,3.28,2.58,1.9,3.22,2.77,1.66,2.15,12.65,3.23,2.64,2.15,1.46,2.82,4.27,2.22,3.88,3.14],\"sizemode\":\"area\",\"sizeref\":0.00253},\"mode\":\"markers\",\"name\":\"European Union\",\"text\":[\"Country: Austria<br>Total Ecological Footprint: 6.06<br>GDP per capita: $51,274.10<br>Population (Millions): 8.46<br>Year: 2016\",\"Country: Belgium<br>Total Ecological Footprint: 7.44<br>GDP per capita: $48,053.30<br>Population (Millions): 11.06<br>Year: 2016\",\"Country: Bulgaria<br>Total Ecological Footprint: 3.32<br>GDP per capita: $7,615.28<br>Population (Millions): 7.28<br>Year: 2016\",\"Country: Cyprus<br>Total Ecological Footprint: 4.21<br>GDP per capita: $31,454.70<br>Population (Millions): 1.13<br>Year: 2016\",\"Country: Czech Republic<br>Total Ecological Footprint: 5.19<br>GDP per capita: $21,676.30<br>Population (Millions): 10.66<br>Year: 2016\",\"Country: Denmark<br>Total Ecological Footprint: 5.51<br>GDP per capita: $61,413.60<br>Population (Millions): 5.6<br>Year: 2016\",\"Country: Estonia<br>Total Ecological Footprint: 6.86<br>GDP per capita: $17,304.40<br>Population (Millions): 1.29<br>Year: 2016\",\"Country: France<br>Total Ecological Footprint: 5.14<br>GDP per capita: $45,430.30<br>Population (Millions): 63.98<br>Year: 2016\",\"Country: Germany<br>Total Ecological Footprint: 5.3<br>GDP per capita: $46,822.40<br>Population (Millions): 82.8<br>Year: 2016\",\"Country: Germany<br>Total Ecological Footprint: 5.3<br>GDP per capita: $46,822.40<br>Population (Millions): 82.8<br>Year: 2016\",\"Country: Greece<br>Total Ecological Footprint: 4.38<br>GDP per capita: $25,987.40<br>Population (Millions): 11.12<br>Year: 2016\",\"Country: Hungary<br>Total Ecological Footprint: 2.92<br>GDP per capita: $13,964.20<br>Population (Millions): 9.98<br>Year: 2016\",\"Country: Ireland<br>Total Ecological Footprint: 5.57<br>GDP per capita: $52,853.60<br>Population (Millions): 4.58<br>Year: 2016\",\"Country: Italy<br>Total Ecological Footprint: 4.61<br>GDP per capita: $38,412.00<br>Population (Millions): 60.92<br>Year: 2016\",\"Country: Latvia<br>Total Ecological Footprint: 6.29<br>GDP per capita: $13,732.00<br>Population (Millions): 2.06<br>Year: 2016\",\"Country: Lithuania<br>Total Ecological Footprint: 5.83<br>GDP per capita: $14,373.70<br>Population (Millions): 3.03<br>Year: 2016\",\"Country: Luxembourg<br>Total Ecological Footprint: 15.82<br>GDP per capita: $114,665.00<br>Population (Millions): 0.52<br>Year: 2016\",\"Country: Netherlands<br>Total Ecological Footprint: 5.28<br>GDP per capita: $53,589.90<br>Population (Millions): 16.71<br>Year: 2016\",\"Country: Poland<br>Total Ecological Footprint: 4.44<br>GDP per capita: $13,769.50<br>Population (Millions): 38.21<br>Year: 2016\",\"Country: Portugal<br>Total Ecological Footprint: 3.88<br>GDP per capita: $23,217.30<br>Population (Millions): 10.6<br>Year: 2016\",\"Country: Romania<br>Total Ecological Footprint: 2.71<br>GDP per capita: $9,213.94<br>Population (Millions): 21.76<br>Year: 2016\",\"Country: Slovakia<br>Total Ecological Footprint: 4.06<br>GDP per capita: $18,103.10<br>Population (Millions): 5.45<br>Year: 2016\",\"Country: Slovenia<br>Total Ecological Footprint: 5.81<br>GDP per capita: $25,040.50<br>Population (Millions): 2.07<br>Year: 2016\",\"Country: Spain<br>Total Ecological Footprint: 3.67<br>GDP per capita: $32,008.70<br>Population (Millions): 46.76<br>Year: 2016\",\"Country: Sweden<br>Total Ecological Footprint: 7.25<br>GDP per capita: $59,381.90<br>Population (Millions): 9.51<br>Year: 2016\",\"Country: United Kingdom<br>Total Ecological Footprint: 4.94<br>GDP per capita: $40,980.50<br>Population (Millions): 63.03<br>Year: 2016\"],\"x\":[0.88,0.89,0.78,0.85,0.87,0.92,0.85,0.89,0.91,0.91,0.86,0.82,0.91,0.87,0.81,0.83,0.89,0.92,0.84,0.83,0.79,0.84,0.88,0.87,0.9,0.9],\"y\":[4366799.964415,12081522.398108,592486.351063,94879.164729,0.0,3120192.529063,313192.905212,14066642.73453,1373483.360182,30693229.416853,831137.316341,1805465.670881,3135297.328862,11122100.801684,187280.897684,474092.668671,266722.475171,10312448.09299,2669675.809474,1171895.187865,871545.109762,991625.782332,397212.501128,5233788.264062,3262936.243948,9763266.90626],\"type\":\"scatter\"},{\"marker\":{\"line\":{\"width\":2},\"size\":[],\"sizemode\":\"area\",\"sizeref\":0.00253},\"mode\":\"markers\",\"name\":\"nan\",\"text\":[],\"x\":[],\"y\":[],\"type\":\"scatter\"}],                        {\"paper_bgcolor\":\"rgb(243, 243, 243)\",\"plot_bgcolor\":\"rgb(243, 243, 243)\",\"template\":{\"data\":{\"barpolar\":[{\"marker\":{\"line\":{\"color\":\"#E5ECF6\",\"width\":0.5},\"pattern\":{\"fillmode\":\"overlay\",\"size\":10,\"solidity\":0.2}},\"type\":\"barpolar\"}],\"bar\":[{\"error_x\":{\"color\":\"#2a3f5f\"},\"error_y\":{\"color\":\"#2a3f5f\"},\"marker\":{\"line\":{\"color\":\"#E5ECF6\",\"width\":0.5},\"pattern\":{\"fillmode\":\"overlay\",\"size\":10,\"solidity\":0.2}},\"type\":\"bar\"}],\"carpet\":[{\"aaxis\":{\"endlinecolor\":\"#2a3f5f\",\"gridcolor\":\"white\",\"linecolor\":\"white\",\"minorgridcolor\":\"white\",\"startlinecolor\":\"#2a3f5f\"},\"baxis\":{\"endlinecolor\":\"#2a3f5f\",\"gridcolor\":\"white\",\"linecolor\":\"white\",\"minorgridcolor\":\"white\",\"startlinecolor\":\"#2a3f5f\"},\"type\":\"carpet\"}],\"choropleth\":[{\"colorbar\":{\"outlinewidth\":0,\"ticks\":\"\"},\"type\":\"choropleth\"}],\"contourcarpet\":[{\"colorbar\":{\"outlinewidth\":0,\"ticks\":\"\"},\"type\":\"contourcarpet\"}],\"contour\":[{\"colorbar\":{\"outlinewidth\":0,\"ticks\":\"\"},\"colorscale\":[[0.0,\"#0d0887\"],[0.1111111111111111,\"#46039f\"],[0.2222222222222222,\"#7201a8\"],[0.3333333333333333,\"#9c179e\"],[0.4444444444444444,\"#bd3786\"],[0.5555555555555556,\"#d8576b\"],[0.6666666666666666,\"#ed7953\"],[0.7777777777777778,\"#fb9f3a\"],[0.8888888888888888,\"#fdca26\"],[1.0,\"#f0f921\"]],\"type\":\"contour\"}],\"heatmapgl\":[{\"colorbar\":{\"outlinewidth\":0,\"ticks\":\"\"},\"colorscale\":[[0.0,\"#0d0887\"],[0.1111111111111111,\"#46039f\"],[0.2222222222222222,\"#7201a8\"],[0.3333333333333333,\"#9c179e\"],[0.4444444444444444,\"#bd3786\"],[0.5555555555555556,\"#d8576b\"],[0.6666666666666666,\"#ed7953\"],[0.7777777777777778,\"#fb9f3a\"],[0.8888888888888888,\"#fdca26\"],[1.0,\"#f0f921\"]],\"type\":\"heatmapgl\"}],\"heatmap\":[{\"colorbar\":{\"outlinewidth\":0,\"ticks\":\"\"},\"colorscale\":[[0.0,\"#0d0887\"],[0.1111111111111111,\"#46039f\"],[0.2222222222222222,\"#7201a8\"],[0.3333333333333333,\"#9c179e\"],[0.4444444444444444,\"#bd3786\"],[0.5555555555555556,\"#d8576b\"],[0.6666666666666666,\"#ed7953\"],[0.7777777777777778,\"#fb9f3a\"],[0.8888888888888888,\"#fdca26\"],[1.0,\"#f0f921\"]],\"type\":\"heatmap\"}],\"histogram2dcontour\":[{\"colorbar\":{\"outlinewidth\":0,\"ticks\":\"\"},\"colorscale\":[[0.0,\"#0d0887\"],[0.1111111111111111,\"#46039f\"],[0.2222222222222222,\"#7201a8\"],[0.3333333333333333,\"#9c179e\"],[0.4444444444444444,\"#bd3786\"],[0.5555555555555556,\"#d8576b\"],[0.6666666666666666,\"#ed7953\"],[0.7777777777777778,\"#fb9f3a\"],[0.8888888888888888,\"#fdca26\"],[1.0,\"#f0f921\"]],\"type\":\"histogram2dcontour\"}],\"histogram2d\":[{\"colorbar\":{\"outlinewidth\":0,\"ticks\":\"\"},\"colorscale\":[[0.0,\"#0d0887\"],[0.1111111111111111,\"#46039f\"],[0.2222222222222222,\"#7201a8\"],[0.3333333333333333,\"#9c179e\"],[0.4444444444444444,\"#bd3786\"],[0.5555555555555556,\"#d8576b\"],[0.6666666666666666,\"#ed7953\"],[0.7777777777777778,\"#fb9f3a\"],[0.8888888888888888,\"#fdca26\"],[1.0,\"#f0f921\"]],\"type\":\"histogram2d\"}],\"histogram\":[{\"marker\":{\"pattern\":{\"fillmode\":\"overlay\",\"size\":10,\"solidity\":0.2}},\"type\":\"histogram\"}],\"mesh3d\":[{\"colorbar\":{\"outlinewidth\":0,\"ticks\":\"\"},\"type\":\"mesh3d\"}],\"parcoords\":[{\"line\":{\"colorbar\":{\"outlinewidth\":0,\"ticks\":\"\"}},\"type\":\"parcoords\"}],\"pie\":[{\"automargin\":true,\"type\":\"pie\"}],\"scatter3d\":[{\"line\":{\"colorbar\":{\"outlinewidth\":0,\"ticks\":\"\"}},\"marker\":{\"colorbar\":{\"outlinewidth\":0,\"ticks\":\"\"}},\"type\":\"scatter3d\"}],\"scattercarpet\":[{\"marker\":{\"colorbar\":{\"outlinewidth\":0,\"ticks\":\"\"}},\"type\":\"scattercarpet\"}],\"scattergeo\":[{\"marker\":{\"colorbar\":{\"outlinewidth\":0,\"ticks\":\"\"}},\"type\":\"scattergeo\"}],\"scattergl\":[{\"marker\":{\"colorbar\":{\"outlinewidth\":0,\"ticks\":\"\"}},\"type\":\"scattergl\"}],\"scattermapbox\":[{\"marker\":{\"colorbar\":{\"outlinewidth\":0,\"ticks\":\"\"}},\"type\":\"scattermapbox\"}],\"scatterpolargl\":[{\"marker\":{\"colorbar\":{\"outlinewidth\":0,\"ticks\":\"\"}},\"type\":\"scatterpolargl\"}],\"scatterpolar\":[{\"marker\":{\"colorbar\":{\"outlinewidth\":0,\"ticks\":\"\"}},\"type\":\"scatterpolar\"}],\"scatter\":[{\"marker\":{\"colorbar\":{\"outlinewidth\":0,\"ticks\":\"\"}},\"type\":\"scatter\"}],\"scatterternary\":[{\"marker\":{\"colorbar\":{\"outlinewidth\":0,\"ticks\":\"\"}},\"type\":\"scatterternary\"}],\"surface\":[{\"colorbar\":{\"outlinewidth\":0,\"ticks\":\"\"},\"colorscale\":[[0.0,\"#0d0887\"],[0.1111111111111111,\"#46039f\"],[0.2222222222222222,\"#7201a8\"],[0.3333333333333333,\"#9c179e\"],[0.4444444444444444,\"#bd3786\"],[0.5555555555555556,\"#d8576b\"],[0.6666666666666666,\"#ed7953\"],[0.7777777777777778,\"#fb9f3a\"],[0.8888888888888888,\"#fdca26\"],[1.0,\"#f0f921\"]],\"type\":\"surface\"}],\"table\":[{\"cells\":{\"fill\":{\"color\":\"#EBF0F8\"},\"line\":{\"color\":\"white\"}},\"header\":{\"fill\":{\"color\":\"#C8D4E3\"},\"line\":{\"color\":\"white\"}},\"type\":\"table\"}]},\"layout\":{\"annotationdefaults\":{\"arrowcolor\":\"#2a3f5f\",\"arrowhead\":0,\"arrowwidth\":1},\"autotypenumbers\":\"strict\",\"coloraxis\":{\"colorbar\":{\"outlinewidth\":0,\"ticks\":\"\"}},\"colorscale\":{\"diverging\":[[0,\"#8e0152\"],[0.1,\"#c51b7d\"],[0.2,\"#de77ae\"],[0.3,\"#f1b6da\"],[0.4,\"#fde0ef\"],[0.5,\"#f7f7f7\"],[0.6,\"#e6f5d0\"],[0.7,\"#b8e186\"],[0.8,\"#7fbc41\"],[0.9,\"#4d9221\"],[1,\"#276419\"]],\"sequential\":[[0.0,\"#0d0887\"],[0.1111111111111111,\"#46039f\"],[0.2222222222222222,\"#7201a8\"],[0.3333333333333333,\"#9c179e\"],[0.4444444444444444,\"#bd3786\"],[0.5555555555555556,\"#d8576b\"],[0.6666666666666666,\"#ed7953\"],[0.7777777777777778,\"#fb9f3a\"],[0.8888888888888888,\"#fdca26\"],[1.0,\"#f0f921\"]],\"sequentialminus\":[[0.0,\"#0d0887\"],[0.1111111111111111,\"#46039f\"],[0.2222222222222222,\"#7201a8\"],[0.3333333333333333,\"#9c179e\"],[0.4444444444444444,\"#bd3786\"],[0.5555555555555556,\"#d8576b\"],[0.6666666666666666,\"#ed7953\"],[0.7777777777777778,\"#fb9f3a\"],[0.8888888888888888,\"#fdca26\"],[1.0,\"#f0f921\"]]},\"colorway\":[\"#636efa\",\"#EF553B\",\"#00cc96\",\"#ab63fa\",\"#FFA15A\",\"#19d3f3\",\"#FF6692\",\"#B6E880\",\"#FF97FF\",\"#FECB52\"],\"font\":{\"color\":\"#2a3f5f\"},\"geo\":{\"bgcolor\":\"white\",\"lakecolor\":\"white\",\"landcolor\":\"#E5ECF6\",\"showlakes\":true,\"showland\":true,\"subunitcolor\":\"white\"},\"hoverlabel\":{\"align\":\"left\"},\"hovermode\":\"closest\",\"mapbox\":{\"style\":\"light\"},\"paper_bgcolor\":\"white\",\"plot_bgcolor\":\"#E5ECF6\",\"polar\":{\"angularaxis\":{\"gridcolor\":\"white\",\"linecolor\":\"white\",\"ticks\":\"\"},\"bgcolor\":\"#E5ECF6\",\"radialaxis\":{\"gridcolor\":\"white\",\"linecolor\":\"white\",\"ticks\":\"\"}},\"scene\":{\"xaxis\":{\"backgroundcolor\":\"#E5ECF6\",\"gridcolor\":\"white\",\"gridwidth\":2,\"linecolor\":\"white\",\"showbackground\":true,\"ticks\":\"\",\"zerolinecolor\":\"white\"},\"yaxis\":{\"backgroundcolor\":\"#E5ECF6\",\"gridcolor\":\"white\",\"gridwidth\":2,\"linecolor\":\"white\",\"showbackground\":true,\"ticks\":\"\",\"zerolinecolor\":\"white\"},\"zaxis\":{\"backgroundcolor\":\"#E5ECF6\",\"gridcolor\":\"white\",\"gridwidth\":2,\"linecolor\":\"white\",\"showbackground\":true,\"ticks\":\"\",\"zerolinecolor\":\"white\"}},\"shapedefaults\":{\"line\":{\"color\":\"#2a3f5f\"}},\"ternary\":{\"aaxis\":{\"gridcolor\":\"white\",\"linecolor\":\"white\",\"ticks\":\"\"},\"baxis\":{\"gridcolor\":\"white\",\"linecolor\":\"white\",\"ticks\":\"\"},\"bgcolor\":\"#E5ECF6\",\"caxis\":{\"gridcolor\":\"white\",\"linecolor\":\"white\",\"ticks\":\"\"}},\"title\":{\"x\":0.05},\"xaxis\":{\"automargin\":true,\"gridcolor\":\"white\",\"linecolor\":\"white\",\"ticks\":\"\",\"title\":{\"standoff\":15},\"zerolinecolor\":\"white\",\"zerolinewidth\":2},\"yaxis\":{\"automargin\":true,\"gridcolor\":\"white\",\"linecolor\":\"white\",\"ticks\":\"\",\"title\":{\"standoff\":15},\"zerolinecolor\":\"white\",\"zerolinewidth\":2}}},\"title\":{\"text\":\"FIRST-WORLD COUNTRIES: Impact on Carbon Footprint 2016\"},\"xaxis\":{\"gridcolor\":\"rgb(255, 255, 255)\",\"gridwidth\":2,\"ticklen\":5,\"title\":{\"text\":\"Human Development Index\"},\"zerolinewidth\":1},\"yaxis\":{\"gridcolor\":\"rgb(255, 255, 255)\",\"gridwidth\":2,\"range\":[-4000000,19000000],\"ticklen\":5,\"title\":{\"text\":\"Cumulative Export Trade 2008-2016 (USD Millions)\"},\"zerolinewidth\":1}},                        {\"responsive\": true}                    ).then(function(){\n",
       "                            \n",
       "var gd = document.getElementById('029ffe94-9655-491d-8889-0b5d50f89dcc');\n",
       "var x = new MutationObserver(function (mutations, observer) {{\n",
       "        var display = window.getComputedStyle(gd).display;\n",
       "        if (!display || display === 'none') {{\n",
       "            console.log([gd, 'removed!']);\n",
       "            Plotly.purge(gd);\n",
       "            observer.disconnect();\n",
       "        }}\n",
       "}});\n",
       "\n",
       "// Listen for the removal of the full notebook cells\n",
       "var notebookContainer = gd.closest('#notebook-container');\n",
       "if (notebookContainer) {{\n",
       "    x.observe(notebookContainer, {childList: true});\n",
       "}}\n",
       "\n",
       "// Listen for the clearing of the current output cell\n",
       "var outputEl = gd.closest('.output');\n",
       "if (outputEl) {{\n",
       "    x.observe(outputEl, {childList: true});\n",
       "}}\n",
       "\n",
       "                        })                };                });            </script>        </div>"
      ]
     },
     "metadata": {},
     "output_type": "display_data"
    }
   ],
   "source": [
    "import chart_studio.plotly as py\n",
    "import plotly.graph_objs as go\n",
    "from plotly.offline import init_notebook_mode, iplot\n",
    "init_notebook_mode(connected=True)\n",
    "import pandas as pd\n",
    "import math\n",
    "\n",
    "df_2007 = FIRST_WORLD\n",
    "df_2007['HDI'].fillna(0, inplace=True)\n",
    "df_2007['ExpTrade_Mill'].fillna(0, inplace=True)\n",
    "df_2007['Total Ecological Footprint'].fillna(0, inplace=True)\n",
    "df_2007['GDP per Capita'].fillna(0, inplace=True)\n",
    "df_2007[\"Population (millions)\"].fillna(0, inplace=True)\n",
    "df_2007[\"Carbon Footprint\"].fillna(0, inplace=True)\n",
    "\n",
    "#slope = 2.666051223553066e-05\n",
    "hover_text = []\n",
    "bubble_size = []\n",
    "\n",
    "for index, row in df_2007.iterrows(): # each row of the df_2007 will be referenced\n",
    "    hover_text.append(('Country: {country}<br>'+\n",
    "                      'Total Ecological Footprint: {EcoFoot}<br>'+\n",
    "                      'GDP per capita: {gdp}<br>'+\n",
    "                      'Population (Millions): {pop}<br>'+\n",
    "                      'Year: {year}').format(country=row['Country'],\n",
    "                                            EcoFoot=row['Total Ecological Footprint'],\n",
    "                                            gdp=row['GDP per Capita'],\n",
    "                                            pop=row[\"Population (millions)\"],\n",
    "                                            year='2016'))\n",
    "    #bubble_size.append(math.sqrt(row[\"Population (millions)\"]*slope))\n",
    "    bubble_size.append(row[\"Carbon Footprint\"])\n",
    "\n",
    "df_2007['text'] = hover_text\n",
    "df_2007['size'] = bubble_size\n",
    "sizeref = 2.*max(df_2007['size'])/(100**2)\n",
    "\n",
    "trace0 = go.Scatter(\n",
    "    x=df_2007['HDI'][df_2007['Region'] == 'Africa'],\n",
    "    y=df_2007['ExpTrade_Mill'][df_2007['Region'] == 'Africa'],\n",
    "    mode='markers',\n",
    "    name='Africa',\n",
    "    text=df_2007['text'][df_2007['Region'] == 'Africa'],\n",
    "    marker=dict(\n",
    "        symbol='circle',\n",
    "        sizemode='area',\n",
    "        sizeref=sizeref,\n",
    "        size=df_2007['size'][df_2007['Region'] == 'Africa'],\n",
    "        line=dict(\n",
    "            width=2\n",
    "        ),\n",
    "    )\n",
    ")\n",
    "trace1 = go.Scatter(\n",
    "    x=df_2007['HDI'][df_2007['Region'] == 'North America'],\n",
    "    y=df_2007['ExpTrade_Mill'][df_2007['Region'] == 'North America'],\n",
    "    mode='markers',\n",
    "    name='North America',\n",
    "    text=df_2007['text'][df_2007['Region'] == 'North America'],\n",
    "    marker=dict(\n",
    "        sizemode='area',\n",
    "        sizeref=sizeref,\n",
    "        size=df_2007['size'][df_2007['Region'] == 'North America'],\n",
    "        line=dict(\n",
    "            width=2\n",
    "        ),\n",
    "    )\n",
    ")\n",
    "trace2 = go.Scatter(\n",
    "    x=df_2007['HDI'][df_2007['Region'] == 'Middle East/Central Asia'],\n",
    "    y=df_2007['ExpTrade_Mill'][df_2007['Region'] == 'Middle East/Central Asia'],\n",
    "    mode='markers',\n",
    "    name='Middle East/Central Asia',\n",
    "    text=df_2007['text'][df_2007['Region'] == 'Middle East/Central Asia'],\n",
    "    marker=dict(\n",
    "        sizemode='area',\n",
    "        sizeref=sizeref,\n",
    "        size=df_2007['size'][df_2007['Region'] == 'Middle East/Central Asia'],\n",
    "        line=dict(\n",
    "            width=2\n",
    "        ),\n",
    "    )\n",
    ")\n",
    "trace3 = go.Scatter(\n",
    "    x=df_2007['HDI'][df_2007['Region'] == 'Northern/Eastern Europe'],\n",
    "    y=df_2007['ExpTrade_Mill'][df_2007['Region'] == 'Northern/Eastern Europe'],\n",
    "    mode='markers',\n",
    "    name='Northern/Eastern Europe',\n",
    "    text=df_2007['text'][df_2007['Region'] == 'Northern/Eastern Europe'],\n",
    "    marker=dict(\n",
    "        sizemode='area',\n",
    "        sizeref=sizeref,\n",
    "        size=df_2007['size'][df_2007['Region'] == 'Northern/Eastern Europe'],\n",
    "        line=dict(\n",
    "            width=2\n",
    "        ),\n",
    "    )\n",
    ")\n",
    "trace4 = go.Scatter(\n",
    "    x=df_2007['HDI'][df_2007['Region'] == 'Latin America'],\n",
    "    y=df_2007['ExpTrade_Mill'][df_2007['Region'] == 'Latin America'],\n",
    "    mode='markers',\n",
    "    name='Latin America',\n",
    "    text=df_2007['text'][df_2007['Region'] == 'Latin America'],\n",
    "    marker=dict(\n",
    "        sizemode='area',\n",
    "        sizeref=sizeref,\n",
    "        size=df_2007['size'][df_2007['Region'] == 'Latin America'],\n",
    "        line=dict(\n",
    "            width=2\n",
    "        ),\n",
    "    )\n",
    ")\n",
    "\n",
    "trace5 = go.Scatter(\n",
    "    x=df_2007['HDI'][df_2007['Region'] == 'Asia-Pacific'],\n",
    "    y=df_2007['ExpTrade_Mill'][df_2007['Region'] == 'Asia-Pacific'],\n",
    "    mode='markers',\n",
    "    name='Asia-Pacific',\n",
    "    text=df_2007['text'][df_2007['Region'] == 'Asia-Pacific'],\n",
    "    marker=dict(\n",
    "        sizemode='area',\n",
    "        sizeref=sizeref,\n",
    "        size=df_2007['size'][df_2007['Region'] == 'Asia-Pacific'],\n",
    "        line=dict(\n",
    "            width=2\n",
    "        ),\n",
    "    )\n",
    ")\n",
    "\n",
    "trace6 = go.Scatter(\n",
    "     x=df_2007['HDI'][df_2007['Region'] == 'European Union'],\n",
    "    y=df_2007['ExpTrade_Mill'][df_2007['Region'] == 'European Union'],\n",
    "    mode='markers',\n",
    "    name='European Union',\n",
    "    text=df_2007['text'][df_2007['Region'] == 'European Union'],\n",
    "    marker=dict(\n",
    "        sizemode='area',\n",
    "        sizeref=sizeref,\n",
    "        size=df_2007['size'][df_2007['Region'] == 'European Union'],\n",
    "        line=dict(\n",
    "            width=2\n",
    "        ),\n",
    "    )\n",
    ")\n",
    "                      \n",
    "trace7 = go.Scatter(\n",
    "    x=df_2007['HDI'][df_2007['Region'] == 'nan'],\n",
    "    y=df_2007['ExpTrade_Mill'][df_2007['Region'] == 'nan'],\n",
    "    mode='markers',\n",
    "    name='nan',\n",
    "    text=df_2007['text'][df_2007['Region'] == 'nan'],\n",
    "    marker=dict(\n",
    "        sizemode='area',\n",
    "        sizeref=sizeref,\n",
    "        size=df_2007['size'][df_2007['Region'] == 'nan'],\n",
    "        line=dict(\n",
    "            width=2\n",
    "        ),\n",
    "    )\n",
    ")\n",
    "                      \n",
    "data = [trace0, trace1, trace2, trace3, trace4, trace5, trace6, trace7]\n",
    "layout = go.Layout(\n",
    "    title='FIRST-WORLD COUNTRIES: Impact on Carbon Footprint 2016',\n",
    "    xaxis=dict(\n",
    "        title='Human Development Index',\n",
    "        gridcolor='rgb(255, 255, 255)',\n",
    "        #range=[0, 1],\n",
    "        #type='log',\n",
    "        zerolinewidth=1,\n",
    "        ticklen=5,\n",
    "        gridwidth=2,\n",
    "    ),\n",
    "    yaxis=dict(\n",
    "        title='Cumulative Export Trade 2008-2016 (USD Millions)',\n",
    "        gridcolor='rgb(255, 255, 255)',\n",
    "        range=[-4000000, 19000000],\n",
    "        zerolinewidth=1,\n",
    "        ticklen=5,\n",
    "        gridwidth=2,\n",
    "    ),\n",
    "    paper_bgcolor='rgb(243, 243, 243)',\n",
    "    plot_bgcolor='rgb(243, 243, 243)',\n",
    ")\n",
    "\n",
    "fig = go.Figure(data=data, layout=layout)\n",
    "iplot(fig) "
   ]
  },
  {
   "cell_type": "markdown",
   "metadata": {
    "_uuid": "2217dc88e3fb5e87850d88969aaac5a9b6a26ccc"
   },
   "source": [
    "## Hypothesis 1: More a country trades, the more carbon footprint "
   ]
  },
  {
   "cell_type": "code",
   "execution_count": 17,
   "metadata": {
    "_kg_hide-input": true,
    "_uuid": "98985ebcd00a569cf51b08ef0cf82e3dc11c31e3"
   },
   "outputs": [
    {
     "data": {
      "text/html": [
       "        <script type=\"text/javascript\">\n",
       "        window.PlotlyConfig = {MathJaxConfig: 'local'};\n",
       "        if (window.MathJax) {MathJax.Hub.Config({SVG: {font: \"STIX-Web\"}});}\n",
       "        if (typeof require !== 'undefined') {\n",
       "        require.undef(\"plotly\");\n",
       "        requirejs.config({\n",
       "            paths: {\n",
       "                'plotly': ['https://cdn.plot.ly/plotly-2.9.0.min']\n",
       "            }\n",
       "        });\n",
       "        require(['plotly'], function(Plotly) {\n",
       "            window._Plotly = Plotly;\n",
       "        });\n",
       "        }\n",
       "        </script>\n",
       "        "
      ]
     },
     "metadata": {},
     "output_type": "display_data"
    },
    {
     "data": {
      "application/vnd.plotly.v1+json": {
       "config": {
        "linkText": "Export to plot.ly",
        "plotlyServerURL": "https://plot.ly",
        "showLink": false
       },
       "data": [
        {
         "marker": {
          "line": {
           "width": 2
          },
          "size": [
           0.73,
           0.52,
           0.48,
           0.69,
           0.39,
           0.39,
           0.64,
           0.5,
           0.37,
           0.39,
           0.5,
           0.57,
           0.57,
           0.42,
           0.42,
           0,
           0.46,
           0.69,
           0.58,
           0.39,
           0.43,
           0.67,
           0.44,
           0.57,
           0.41,
           0.42,
           0.54,
           0.48,
           0.42,
           0.74,
           0.51,
           0.43,
           0.41,
           0.5,
           0.77,
           0.62,
           0.41,
           0.62,
           0.34,
           0.5,
           0.48,
           0,
           0.55,
           0.46,
           0.4,
           0,
           0.66,
           0.66,
           0.53,
           0.51,
           0.47,
           0.72,
           0.48,
           0.58,
           0.49
          ],
          "sizemode": "area",
          "sizeref": 0.018799999999999997,
          "symbol": "circle"
         },
         "mode": "markers",
         "name": "Africa",
         "text": [
          "Country: Algeria<br>Total Ecological Footprint: 2.12<br>GDP per capita: $5,430.57<br>Population (Millions): 38.48<br>Year: 2016",
          "Country: Angola<br>Total Ecological Footprint: 0.93<br>GDP per capita: $4,665.91<br>Population (Millions): 20.82<br>Year: 2016",
          "Country: Benin<br>Total Ecological Footprint: 1.41<br>GDP per capita: $746.83<br>Population (Millions): 10.05<br>Year: 2016",
          "Country: Botswana<br>Total Ecological Footprint: 3.83<br>GDP per capita: $7,743.50<br>Population (Millions): 2.0<br>Year: 2016",
          "Country: Burkina Faso<br>Total Ecological Footprint: 1.21<br>GDP per capita: $671.07<br>Population (Millions): 16.46<br>Year: 2016",
          "Country: Burundi<br>Total Ecological Footprint: 0.8<br>GDP per capita: $276.69<br>Population (Millions): 9.85<br>Year: 2016",
          "Country: Cabo Verde<br>Total Ecological Footprint: 2.52<br>GDP per capita: $3,801.45<br>Population (Millions): 0.49<br>Year: 2016",
          "Country: Cameroon<br>Total Ecological Footprint: 1.17<br>GDP per capita: $1,271.21<br>Population (Millions): 21.7<br>Year: 2016",
          "Country: Central African Republic<br>Total Ecological Footprint: 1.24<br>GDP per capita: $495.04<br>Population (Millions): 4.53<br>Year: 2016",
          "Country: Chad<br>Total Ecological Footprint: 1.46<br>GDP per capita: $1,161.22<br>Population (Millions): 12.45<br>Year: 2016",
          "Country: Comoros<br>Total Ecological Footprint: 1.03<br>GDP per capita: $860.24<br>Population (Millions): 0.72<br>Year: 2016",
          "Country: Congo<br>Total Ecological Footprint: 1.29<br>GDP per capita: $1,943.69<br>Population (Millions): 4.34<br>Year: 2016",
          "Country: Congo<br>Total Ecological Footprint: 1.29<br>GDP per capita: $1,943.69<br>Population (Millions): 4.34<br>Year: 2016",
          "Country: Congo<br>Total Ecological Footprint: 0.82<br>GDP per capita: $338.63<br>Population (Millions): 65.7<br>Year: 2016",
          "Country: Congo<br>Total Ecological Footprint: 0.82<br>GDP per capita: $338.63<br>Population (Millions): 65.7<br>Year: 2016",
          "Country: CotedeIvoire<br>Total Ecological Footprint: 1.27<br>GDP per capita: $1,016.83<br>Population (Millions): 19.84<br>Year: 2016",
          "Country: Djibouti<br>Total Ecological Footprint: 2.19<br>GDP per capita: $1,433.17<br>Population (Millions): 0.86<br>Year: 2016",
          "Country: Egypt<br>Total Ecological Footprint: 2.15<br>GDP per capita: $2,930.33<br>Population (Millions): 80.72<br>Year: 2016",
          "Country: Equatorial Guinea<br>Total Ecological Footprint: 3.97<br>GDP per capita: $24,064.00<br>Population (Millions): 0.74<br>Year: 2016",
          "Country: Eritrea<br>Total Ecological Footprint: 0.42<br>GDP per capita: $439.73<br>Population (Millions): 6.13<br>Year: 2016",
          "Country: Ethiopia<br>Total Ecological Footprint: 1.02<br>GDP per capita: $379.38<br>Population (Millions): 91.73<br>Year: 2016",
          "Country: Gabon<br>Total Ecological Footprint: 2.02<br>GDP per capita: $11,989.00<br>Population (Millions): 1.63<br>Year: 2016",
          "Country: Gambia<br>Total Ecological Footprint: 1.03<br>GDP per capita: $505.76<br>Population (Millions): 1.79<br>Year: 2016",
          "Country: Ghana<br>Total Ecological Footprint: 1.97<br>GDP per capita: $1,627.90<br>Population (Millions): 25.37<br>Year: 2016",
          "Country: Guinea<br>Total Ecological Footprint: 1.41<br>GDP per capita: $459.09<br>Population (Millions): 11.45<br>Year: 2016",
          "Country: Guinea-Bissau<br>Total Ecological Footprint: 1.53<br>GDP per capita: $681.25<br>Population (Millions): 1.66<br>Year: 2016",
          "Country: Kenya<br>Total Ecological Footprint: 1.03<br>GDP per capita: $1,062.11<br>Population (Millions): 43.18<br>Year: 2016",
          "Country: Lesotho<br>Total Ecological Footprint: 1.66<br>GDP per capita: $1,338.42<br>Population (Millions): 2.05<br>Year: 2016",
          "Country: Liberia<br>Total Ecological Footprint: 1.21<br>GDP per capita: $397.38<br>Population (Millions): 4.19<br>Year: 2016",
          "Country: Libyan Arab Jamahiriya<br>Total Ecological Footprint: 3.69<br>GDP per capita: $5,859.43<br>Population (Millions): 6.16<br>Year: 2016",
          "Country: Madagascar<br>Total Ecological Footprint: 0.99<br>GDP per capita: $456.33<br>Population (Millions): 22.29<br>Year: 2016",
          "Country: Malawi<br>Total Ecological Footprint: 0.81<br>GDP per capita: $493.84<br>Population (Millions): 15.91<br>Year: 2016",
          "Country: Mali<br>Total Ecological Footprint: 1.53<br>GDP per capita: $741.22<br>Population (Millions): 14.85<br>Year: 2016",
          "Country: Mauritania<br>Total Ecological Footprint: 2.54<br>GDP per capita: $1,524.39<br>Population (Millions): 3.8<br>Year: 2016",
          "Country: Mauritius<br>Total Ecological Footprint: 3.46<br>GDP per capita: $8,811.15<br>Population (Millions): 1.24<br>Year: 2016",
          "Country: Morocco<br>Total Ecological Footprint: 1.68<br>GDP per capita: $3,149.43<br>Population (Millions): 32.52<br>Year: 2016",
          "Country: Mozambique<br>Total Ecological Footprint: 0.87<br>GDP per capita: $538.82<br>Population (Millions): 25.2<br>Year: 2016",
          "Country: Namibia<br>Total Ecological Footprint: 2.48<br>GDP per capita: $5,880.80<br>Population (Millions): 2.26<br>Year: 2016",
          "Country: Niger<br>Total Ecological Footprint: 1.56<br>GDP per capita: $410.91<br>Population (Millions): 17.16<br>Year: 2016",
          "Country: Nigeria<br>Total Ecological Footprint: 1.16<br>GDP per capita: $2,612.12<br>Population (Millions): 168.83<br>Year: 2016",
          "Country: Rwanda<br>Total Ecological Footprint: 0.87<br>GDP per capita: $628.08<br>Population (Millions): 11.46<br>Year: 2016",
          "Country: Réunion<br>Total Ecological Footprint: 3.65<br>GDP per capita: 0<br>Population (Millions): 0.86<br>Year: 2016",
          "Country: Sao Tome and Principe<br>Total Ecological Footprint: 1.49<br>GDP per capita: $1,384.53<br>Population (Millions): 0.19<br>Year: 2016",
          "Country: Senegal<br>Total Ecological Footprint: 1.21<br>GDP per capita: $1,079.27<br>Population (Millions): 13.73<br>Year: 2016",
          "Country: Sierra Leone<br>Total Ecological Footprint: 1.24<br>GDP per capita: $499.89<br>Population (Millions): 5.98<br>Year: 2016",
          "Country: Somalia<br>Total Ecological Footprint: 1.24<br>GDP per capita: 0<br>Population (Millions): 10.2<br>Year: 2016",
          "Country: South Africa<br>Total Ecological Footprint: 3.31<br>GDP per capita: $8,089.87<br>Population (Millions): 52.39<br>Year: 2016",
          "Country: South Africa<br>Total Ecological Footprint: 3.31<br>GDP per capita: $8,089.87<br>Population (Millions): 52.39<br>Year: 2016",
          "Country: Swaziland<br>Total Ecological Footprint: 2.01<br>GDP per capita: $4,657.48<br>Population (Millions): 1.23<br>Year: 2016",
          "Country: Tanzania, United Republic of<br>Total Ecological Footprint: 1.32<br>GDP per capita: $765.33<br>Population (Millions): 47.78<br>Year: 2016",
          "Country: Togo<br>Total Ecological Footprint: 1.13<br>GDP per capita: $580.86<br>Population (Millions): 6.64<br>Year: 2016",
          "Country: Tunisia<br>Total Ecological Footprint: 2.34<br>GDP per capita: $4,305.07<br>Population (Millions): 10.88<br>Year: 2016",
          "Country: Uganda<br>Total Ecological Footprint: 1.24<br>GDP per capita: $601.35<br>Population (Millions): 36.35<br>Year: 2016",
          "Country: Zambia<br>Total Ecological Footprint: 0.99<br>GDP per capita: $1,740.64<br>Population (Millions): 14.08<br>Year: 2016",
          "Country: Zimbabwe<br>Total Ecological Footprint: 1.37<br>GDP per capita: $865.91<br>Population (Millions): 13.72<br>Year: 2016"
         ],
         "type": "scatter",
         "x": [
          1764159.930121,
          868304.901687,
          17188.74242,
          165289.469843,
          36715.78927,
          5875.022509,
          8576.22901,
          106063.255358,
          4247.102371,
          0,
          311.324201,
          142288.592207,
          142288.592207,
          142288.592207,
          142288.592207,
          306234.552473,
          908.894136,
          571013.705449,
          0,
          13.738916,
          73294.890111,
          109856.378335,
          2196.244925,
          180774.275476,
          28661.671803,
          140.104723,
          79838.49571,
          6603.186763,
          0,
          0,
          39630.482973,
          31987.416226,
          24614.910011,
          31323.977034,
          67749.089213,
          360050.581938,
          45530.394133,
          97930.874262,
          22825.630812,
          969191.899795,
          8842.242436,
          639.994335,
          222.241411,
          39286.890314,
          1265.493049,
          0,
          1238714.709979,
          254876.820776,
          13633.225132,
          67153.551095,
          15209.369044,
          286264.000632,
          34128.229548,
          92277.699719,
          68338.762312
         ],
         "y": [
          1.14,
          0.2,
          0.51,
          2.36,
          0.12,
          0.04,
          0,
          0.19,
          0.08,
          0.01,
          0.25,
          0.47,
          0.47,
          0.07,
          0.07,
          0.26,
          0,
          1.02,
          3.17,
          0.03,
          0.07,
          0.43,
          0.21,
          0.43,
          0.16,
          0.09,
          0.2,
          0.51,
          0.14,
          2.33,
          0.07,
          0.07,
          0.1,
          0.55,
          1.99,
          0.67,
          0.17,
          1.02,
          0.1,
          0.21,
          0.07,
          3.27,
          0.37,
          0.3,
          0.07,
          0.07,
          2.34,
          2.34,
          0.67,
          0.17,
          0.31,
          1.11,
          0.08,
          0.24,
          0.53
         ]
        },
        {
         "marker": {
          "line": {
           "width": 2
          },
          "size": [
           0,
           0.91,
           0.91
          ],
          "sizemode": "area",
          "sizeref": 0.018799999999999997
         },
         "mode": "markers",
         "name": "North America",
         "text": [
          "Country: Bermuda<br>Total Ecological Footprint: 5.77<br>GDP per capita: $70,626.30<br>Population (Millions): 0.06<br>Year: 2016",
          "Country: Canada<br>Total Ecological Footprint: 8.17<br>GDP per capita: $52,145.40<br>Population (Millions): 34.84<br>Year: 2016",
          "Country: USA<br>Total Ecological Footprint: 8.22<br>GDP per capita: $49,725.00<br>Population (Millions): 317.5<br>Year: 2016"
         ],
         "type": "scatter",
         "x": [
          365.262036,
          15233081.163918,
          31700102.843309
         ],
         "y": [
          0,
          5,
          5.9
         ]
        },
        {
         "marker": {
          "line": {
           "width": 2
          },
          "size": [
           0.46,
           0.73,
           0.75,
           0.82,
           0.75,
           0.76,
           0.65,
           0.89,
           0.75,
           0.78,
           0.82,
           0.65,
           0.76,
           0.79,
           0.85,
           0.83,
           0.62,
           0.62,
           0.76,
           0.68,
           0.83,
           0.67,
           0.5
          ],
          "sizemode": "area",
          "sizeref": 0.018799999999999997
         },
         "mode": "markers",
         "name": "Middle East/Central Asia",
         "text": [
          "Country: Afghanistan<br>Total Ecological Footprint: 0.79<br>GDP per capita: $614.66<br>Population (Millions): 29.82<br>Year: 2016",
          "Country: Armenia<br>Total Ecological Footprint: 2.23<br>GDP per capita: $3,426.39<br>Population (Millions): 2.97<br>Year: 2016",
          "Country: Azerbaijan<br>Total Ecological Footprint: 2.31<br>GDP per capita: $7,106.04<br>Population (Millions): 9.31<br>Year: 2016",
          "Country: Bahrain<br>Total Ecological Footprint: 7.49<br>GDP per capita: $24,299.00<br>Population (Millions): 1.32<br>Year: 2016",
          "Country: Georgia<br>Total Ecological Footprint: 1.58<br>GDP per capita: $3,710.70<br>Population (Millions): 4.36<br>Year: 2016",
          "Country: Iran<br>Total Ecological Footprint: 2.79<br>GDP per capita: $7,511.10<br>Population (Millions): 76.42<br>Year: 2016",
          "Country: Iraq<br>Total Ecological Footprint: 1.88<br>GDP per capita: $5,848.54<br>Population (Millions): 32.78<br>Year: 2016",
          "Country: Israel<br>Total Ecological Footprint: 6.22<br>GDP per capita: $33,718.90<br>Population (Millions): 7.64<br>Year: 2016",
          "Country: Jordan<br>Total Ecological Footprint: 2.1<br>GDP per capita: $4,615.17<br>Population (Millions): 7.01<br>Year: 2016",
          "Country: Kazakhstan<br>Total Ecological Footprint: 5.55<br>GDP per capita: $11,278.00<br>Population (Millions): 16.27<br>Year: 2016",
          "Country: Kuwait<br>Total Ecological Footprint: 8.13<br>GDP per capita: $41,830.50<br>Population (Millions): 3.25<br>Year: 2016",
          "Country: Kyrgyzstan<br>Total Ecological Footprint: 1.91<br>GDP per capita: $1,116.37<br>Population (Millions): 5.47<br>Year: 2016",
          "Country: Lebanon<br>Total Ecological Footprint: 3.84<br>GDP per capita: $9,143.86<br>Population (Millions): 4.65<br>Year: 2016",
          "Country: Oman<br>Total Ecological Footprint: 7.52<br>GDP per capita: $22,622.80<br>Population (Millions): 3.31<br>Year: 2016",
          "Country: Qatar<br>Total Ecological Footprint: 10.8<br>GDP per capita: $99,431.50<br>Population (Millions): 2.05<br>Year: 2016",
          "Country: Saudi Arabia<br>Total Ecological Footprint: 5.61<br>GDP per capita: $23,593.80<br>Population (Millions): 28.29<br>Year: 2016",
          "Country: Syrian Arab Republic<br>Total Ecological Footprint: 1.51<br>GDP per capita: 0<br>Population (Millions): 21.89<br>Year: 2016",
          "Country: Tajikistan<br>Total Ecological Footprint: 0.91<br>GDP per capita: $836.17<br>Population (Millions): 8.01<br>Year: 2016",
          "Country: Turkey<br>Total Ecological Footprint: 3.33<br>GDP per capita: $10,437.70<br>Population (Millions): 74.0<br>Year: 2016",
          "Country: Turkmenistan<br>Total Ecological Footprint: 5.47<br>GDP per capita: $5,290.14<br>Population (Millions): 5.17<br>Year: 2016",
          "Country: United Arab Emirates<br>Total Ecological Footprint: 7.93<br>GDP per capita: $40,817.40<br>Population (Millions): 9.206<br>Year: 2016",
          "Country: Uzbekistan<br>Total Ecological Footprint: 2.32<br>GDP per capita: $1,560.85<br>Population (Millions): 28.54<br>Year: 2016",
          "Country: Yemen<br>Total Ecological Footprint: 1.03<br>GDP per capita: $1,302.30<br>Population (Millions): 23.85<br>Year: 2016"
         ],
         "type": "scatter",
         "x": [
          8780.222349,
          40446.217031,
          445786.578451,
          454172.159687,
          45636.059638,
          1034554.259508,
          994420.836791,
          1501212.784744,
          176585.22382,
          1436982.554229,
          1557687.908264,
          33088.620513,
          61076.868458,
          695328.948684,
          1241796.959047,
          4023988.218166,
          0,
          692.346,
          2075304.938465,
          5201.180675,
          6129567.032802,
          0,
          71615.411671
         ],
         "y": [
          0.18,
          0.89,
          1.25,
          6.19,
          0.83,
          1.72,
          1.36,
          4.59,
          1.09,
          4.59,
          6.89,
          0.95,
          2.52,
          5.8,
          9.57,
          4.21,
          0.81,
          0.13,
          1.92,
          4.13,
          6.37,
          1.41,
          0.42
         ]
        },
        {
         "marker": {
          "line": {
           "width": 2
          },
          "size": [
           0.73,
           0.8,
           0.73,
           0.82,
           0.74,
           0.68,
           0.8,
           0.94,
           0.79,
           0.76,
           0.93,
           0.74
          ],
          "sizemode": "area",
          "sizeref": 0.018799999999999997
         },
         "mode": "markers",
         "name": "Northern/Eastern Europe",
         "text": [
          "Country: Albania<br>Total Ecological Footprint: 2.21<br>GDP per capita: $4,534.37<br>Population (Millions): 3.16<br>Year: 2016",
          "Country: Belarus<br>Total Ecological Footprint: 5.09<br>GDP per capita: $6,300.45<br>Population (Millions): 9.4<br>Year: 2016",
          "Country: Bosnia Herzegovina<br>Total Ecological Footprint: 3.12<br>GDP per capita: $4,708.85<br>Population (Millions): 3.83<br>Year: 2016",
          "Country: Croatia<br>Total Ecological Footprint: 3.92<br>GDP per capita: $14,522.80<br>Population (Millions): 4.31<br>Year: 2016",
          "Country: Macedonia<br>Total Ecological Footprint: 3.26<br>GDP per capita: $5,174.89<br>Population (Millions): 2.11<br>Year: 2016",
          "Country: Moldova<br>Total Ecological Footprint: 1.78<br>GDP per capita: $1,971.03<br>Population (Millions): 3.51<br>Year: 2016",
          "Country: Montenegro<br>Total Ecological Footprint: 3.78<br>GDP per capita: $7,251.60<br>Population (Millions): 0.62<br>Year: 2016",
          "Country: Norway<br>Total Ecological Footprint: 4.98<br>GDP per capita: $100,172.00<br>Population (Millions): 4.99<br>Year: 2016",
          "Country: Russian Federation<br>Total Ecological Footprint: 5.69<br>GDP per capita: $13,320.20<br>Population (Millions): 143.17<br>Year: 2016",
          "Country: Serbia<br>Total Ecological Footprint: 2.7<br>GDP per capita: $6,426.18<br>Population (Millions): 9.55<br>Year: 2016",
          "Country: Switzerland<br>Total Ecological Footprint: 5.79<br>GDP per capita: $88,506.20<br>Population (Millions): 8.0<br>Year: 2016",
          "Country: Ukraine<br>Total Ecological Footprint: 2.84<br>GDP per capita: $3,589.63<br>Population (Millions): 45.53<br>Year: 2016"
         ],
         "type": "scatter",
         "x": [
          47544.871187,
          785837.732412,
          113371.731548,
          342334.149063,
          61844.406928,
          45094.893149,
          6814.403932,
          2429308.733411,
          6564472.499199,
          149527.210347,
          4380822.133916,
          874576.69606
         ],
         "y": [
          0.87,
          2.57,
          1.74,
          2.21,
          2.06,
          1.03,
          2.13,
          0,
          3.87,
          1.66,
          4.26,
          1.92
         ]
        },
        {
         "marker": {
          "line": {
           "width": 2
          },
          "size": [
           0.78,
           0.83,
           0,
           0.78,
           0.79,
           0.65,
           0.75,
           0,
           0,
           0.83,
           0.72,
           0.76,
           0.77,
           0.72,
           0.71,
           0.73,
           0.66,
           0,
           0.74,
           0,
           0.62,
           0.63,
           0.48,
           0.61,
           0.72,
           0,
           0.75,
           0,
           0.63,
           0.77,
           0.67,
           0.73,
           0.74,
           0.73,
           0.72,
           0.71,
           0.77,
           0.79,
           0.763846
          ],
          "sizemode": "area",
          "sizeref": 0.018799999999999997
         },
         "mode": "markers",
         "name": "Latin America",
         "text": [
          "Country: Antigua and Barbuda<br>Total Ecological Footprint: 5.38<br>GDP per capita: $13,205.10<br>Population (Millions): 0.09<br>Year: 2016",
          "Country: Argentina<br>Total Ecological Footprint: 3.14<br>GDP per capita: $13,540.00<br>Population (Millions): 41.09<br>Year: 2016",
          "Country: Aruba<br>Total Ecological Footprint: 11.88<br>GDP per capita: 0<br>Population (Millions): 0.1<br>Year: 2016",
          "Country: Bahamas<br>Total Ecological Footprint: 6.84<br>GDP per capita: $22,647.30<br>Population (Millions): 0.37<br>Year: 2016",
          "Country: Barbados<br>Total Ecological Footprint: 4.48<br>GDP per capita: $15,722.80<br>Population (Millions): 0.28<br>Year: 2016",
          "Country: Bolivia<br>Total Ecological Footprint: 2.96<br>GDP per capita: $2,253.09<br>Population (Millions): 10.5<br>Year: 2016",
          "Country: Brazil<br>Total Ecological Footprint: 3.11<br>GDP per capita: $13,237.60<br>Population (Millions): 198.66<br>Year: 2016",
          "Country: British Virgin Islands<br>Total Ecological Footprint: 2.86<br>GDP per capita: 0<br>Population (Millions): 0.03<br>Year: 2016",
          "Country: Cayman Islands<br>Total Ecological Footprint: 5.65<br>GDP per capita: 0<br>Population (Millions): 0.06<br>Year: 2016",
          "Country: Chile<br>Total Ecological Footprint: 4.36<br>GDP per capita: $14,525.80<br>Population (Millions): 17.46<br>Year: 2016",
          "Country: Colombia<br>Total Ecological Footprint: 1.87<br>GDP per capita: $7,305.22<br>Population (Millions): 47.7<br>Year: 2016",
          "Country: Costa Rica<br>Total Ecological Footprint: 2.84<br>GDP per capita: $8,979.96<br>Population (Millions): 4.8<br>Year: 2016",
          "Country: Cuba<br>Total Ecological Footprint: 1.95<br>GDP per capita: $5,175.94<br>Population (Millions): 11.27<br>Year: 2016",
          "Country: Dominica<br>Total Ecological Footprint: 2.57<br>GDP per capita: $7,088.01<br>Population (Millions): 0.07<br>Year: 2016",
          "Country: Dominican Republic<br>Total Ecological Footprint: 1.53<br>GDP per capita: $6,085.89<br>Population (Millions): 10.28<br>Year: 2016",
          "Country: Ecuador<br>Total Ecological Footprint: 2.17<br>GDP per capita: $5,192.88<br>Population (Millions): 15.49<br>Year: 2016",
          "Country: El Salvador<br>Total Ecological Footprint: 2.07<br>GDP per capita: $3,696.33<br>Population (Millions): 6.3<br>Year: 2016",
          "Country: French Guiana<br>Total Ecological Footprint: 2.34<br>GDP per capita: 0<br>Population (Millions): 0.24<br>Year: 2016",
          "Country: Grenada<br>Total Ecological Footprint: 2.98<br>GDP per capita: $7,410.48<br>Population (Millions): 0.1<br>Year: 2016",
          "Country: Guadeloupe<br>Total Ecological Footprint: 3.23<br>GDP per capita: 0<br>Population (Millions): 0.46<br>Year: 2016",
          "Country: Guatemala<br>Total Ecological Footprint: 1.89<br>GDP per capita: $3,233.80<br>Population (Millions): 15.08<br>Year: 2016",
          "Country: Guyana<br>Total Ecological Footprint: 3.07<br>GDP per capita: $3,269.46<br>Population (Millions): 0.8<br>Year: 2016",
          "Country: Haiti<br>Total Ecological Footprint: 0.61<br>GDP per capita: $749.13<br>Population (Millions): 10.17<br>Year: 2016",
          "Country: Honduras<br>Total Ecological Footprint: 1.68<br>GDP per capita: $2,269.51<br>Population (Millions): 7.94<br>Year: 2016",
          "Country: Jamaica<br>Total Ecological Footprint: 1.89<br>GDP per capita: $5,226.30<br>Population (Millions): 2.77<br>Year: 2016",
          "Country: Martinique<br>Total Ecological Footprint: 2.08<br>GDP per capita: 0<br>Population (Millions): 0.4<br>Year: 2016",
          "Country: Mexico<br>Total Ecological Footprint: 2.89<br>GDP per capita: $10,123.90<br>Population (Millions): 120.85<br>Year: 2016",
          "Country: Montserrat<br>Total Ecological Footprint: 7.78<br>GDP per capita: 0<br>Population (Millions): 0.0<br>Year: 2016",
          "Country: Nicaragua<br>Total Ecological Footprint: 1.39<br>GDP per capita: $1,626.85<br>Population (Millions): 5.99<br>Year: 2016",
          "Country: Panama<br>Total Ecological Footprint: 2.79<br>GDP per capita: $8,410.77<br>Population (Millions): 3.8<br>Year: 2016",
          "Country: Paraguay<br>Total Ecological Footprint: 4.16<br>GDP per capita: $3,557.31<br>Population (Millions): 6.69<br>Year: 2016",
          "Country: Peru<br>Total Ecological Footprint: 2.28<br>GDP per capita: $5,684.73<br>Population (Millions): 29.99<br>Year: 2016",
          "Country: Saint Kitts and Nevis<br>Total Ecological Footprint: 4.94<br>GDP per capita: $12,952.50<br>Population (Millions): 0.05<br>Year: 2016",
          "Country: Saint Lucia<br>Total Ecological Footprint: 2.45<br>GDP per capita: $7,737.20<br>Population (Millions): 0.18<br>Year: 2016",
          "Country: Saint Vincent and Grenadines<br>Total Ecological Footprint: 3.11<br>GDP per capita: $6,171.48<br>Population (Millions): 0.11<br>Year: 2016",
          "Country: Suriname<br>Total Ecological Footprint: 4.25<br>GDP per capita: $8,190.70<br>Population (Millions): 0.54<br>Year: 2016",
          "Country: Trinidad and Tobago<br>Total Ecological Footprint: 7.92<br>GDP per capita: $18,310.80<br>Population (Millions): 1.34<br>Year: 2016",
          "Country: Uruguay<br>Total Ecological Footprint: 2.91<br>GDP per capita: $14,238.10<br>Population (Millions): 3.4<br>Year: 2016",
          "Country: Venezuela<br>Total Ecological Footprint: 3.57<br>GDP per capita: $10,237.80<br>Population (Millions): 29.96<br>Year: 2016"
         ],
         "type": "scatter",
         "x": [
          2714.754086,
          2102506.872655,
          4302.808896,
          27781.65855,
          19045.806716,
          205016.420508,
          5874973.448571,
          0,
          0,
          1995795.200692,
          1185514.775141,
          253783.651999,
          29906.668376,
          1590.812536,
          165509.898148,
          552393.119628,
          118906.150867,
          436.792399,
          919.643363,
          500.959707,
          185264.644056,
          30135.584161,
          1347.125413,
          56070.915585,
          49738.950509,
          692.321704,
          6361457.659653,
          65.403121,
          44011.235338,
          194455.660747,
          122495.429036,
          676451.46018,
          883.8683,
          3565.184515,
          1271.53555,
          43411.675196,
          215524.138075,
          120895.355404,
          897365.929625
         ],
         "y": [
          0,
          1.08,
          0,
          4.46,
          3.28,
          0.67,
          0.91,
          0,
          3.56,
          2.04,
          0.67,
          1.37,
          1.23,
          1.47,
          0.86,
          1.08,
          0.84,
          1.58,
          0,
          2.61,
          0.7,
          1.25,
          0.15,
          0.6,
          1.09,
          1.73,
          1.74,
          0,
          0.45,
          1.44,
          0.97,
          0.67,
          3.34,
          1.56,
          0,
          3.01,
          6.89,
          0.98,
          2.13
         ]
        },
        {
         "marker": {
          "line": {
           "width": 2
          },
          "size": [
           0.93,
           0.56,
           0.59,
           0.85,
           0.55,
           0.72,
           0.72,
           0,
           0.6,
           0.68,
           0.89,
           0.89,
           0,
           0.56,
           0.77,
           0.71,
           0.53,
           0,
           0.54,
           0,
           0.91,
           0.53,
           0.5,
           0.66,
           0.7,
           0.91,
           0.5,
           0.75,
           0.72,
           0.6,
           0.72,
           0.66,
           0
          ],
          "sizemode": "area",
          "sizeref": 0.018799999999999997
         },
         "mode": "markers",
         "name": "Asia-Pacific",
         "text": [
          "Country: Australia<br>Total Ecological Footprint: 9.31<br>GDP per capita: $66,604.20<br>Population (Millions): 23.05<br>Year: 2016",
          "Country: Bangladesh<br>Total Ecological Footprint: 0.72<br>GDP per capita: $857.50<br>Population (Millions): 154.7<br>Year: 2016",
          "Country: Bhutan<br>Total Ecological Footprint: 4.84<br>GDP per capita: $2,395.00<br>Population (Millions): 0.74<br>Year: 2016",
          "Country: Brunei Darussalam<br>Total Ecological Footprint: 4.06<br>GDP per capita: $47,097.40<br>Population (Millions): 0.41<br>Year: 2016",
          "Country: Cambodia<br>Total Ecological Footprint: 1.21<br>GDP per capita: $877.64<br>Population (Millions): 14.86<br>Year: 2016",
          "Country: China<br>Total Ecological Footprint: 3.38<br>GDP per capita: $5,560.94<br>Population (Millions): 1408.04<br>Year: 2016",
          "Country: Fiji<br>Total Ecological Footprint: 2.9<br>GDP per capita: $4,201.37<br>Population (Millions): 0.88<br>Year: 2016",
          "Country: French Polynesia<br>Total Ecological Footprint: 4.73<br>GDP per capita: 0<br>Population (Millions): 0.27<br>Year: 2016",
          "Country: India<br>Total Ecological Footprint: 1.16<br>GDP per capita: $1,513.85<br>Population (Millions): 1236.69<br>Year: 2016",
          "Country: Indonesia<br>Total Ecological Footprint: 1.58<br>GDP per capita: $3,688.53<br>Population (Millions): 246.86<br>Year: 2016",
          "Country: Japan<br>Total Ecological Footprint: 5.02<br>GDP per capita: $46,201.60<br>Population (Millions): 127.25<br>Year: 2016",
          "Country: Korea, Republic of<br>Total Ecological Footprint: 5.69<br>GDP per capita: $24,155.80<br>Population (Millions): 49.0<br>Year: 2016",
          "Country: Korea, Republic of<br>Total Ecological Footprint: 1.17<br>GDP per capita: 0<br>Population (Millions): 24.76<br>Year: 2016",
          "Country: Lao People's Democratic Republic<br>Total Ecological Footprint: 1.22<br>GDP per capita: $1,236.24<br>Population (Millions): 6.65<br>Year: 2016",
          "Country: Malaysia<br>Total Ecological Footprint: 3.71<br>GDP per capita: $10,252.60<br>Population (Millions): 29.24<br>Year: 2016",
          "Country: Mongolia<br>Total Ecological Footprint: 6.08<br>GDP per capita: $3,736.07<br>Population (Millions): 2.8<br>Year: 2016",
          "Country: Myanmar<br>Total Ecological Footprint: 1.43<br>GDP per capita: $1,117.58<br>Population (Millions): 52.8<br>Year: 2016",
          "Country: Nauru<br>Total Ecological Footprint: 2.94<br>GDP per capita: 0<br>Population (Millions): 0.01<br>Year: 2016",
          "Country: Nepal<br>Total Ecological Footprint: 0.98<br>GDP per capita: $700.07<br>Population (Millions): 27.47<br>Year: 2016",
          "Country: New Caledonia<br>Total Ecological Footprint: 3.58<br>GDP per capita: 0<br>Population (Millions): 0.25<br>Year: 2016",
          "Country: New Zealand<br>Total Ecological Footprint: 5.6<br>GDP per capita: $37,488.30<br>Population (Millions): 4.46<br>Year: 2016",
          "Country: Pakistan<br>Total Ecological Footprint: 0.79<br>GDP per capita: $1,218.60<br>Population (Millions): 179.16<br>Year: 2016",
          "Country: Papua New Guinea<br>Total Ecological Footprint: 1.91<br>GDP per capita: $1,871.21<br>Population (Millions): 7.17<br>Year: 2016",
          "Country: Philippines<br>Total Ecological Footprint: 1.1<br>GDP per capita: $2,379.44<br>Population (Millions): 96.71<br>Year: 2016",
          "Country: Samoa<br>Total Ecological Footprint: 2.77<br>GDP per capita: $4,067.15<br>Population (Millions): 0.19<br>Year: 2016",
          "Country: Singapore<br>Total Ecological Footprint: 7.97<br>GDP per capita: $53,122.40<br>Population (Millions): 5.3<br>Year: 2016",
          "Country: Solomon Isds<br>Total Ecological Footprint: 1.29<br>GDP per capita: $1,647.86<br>Population (Millions): 0.55<br>Year: 2016",
          "Country: Sri Lanka<br>Total Ecological Footprint: 1.32<br>GDP per capita: $2,880.03<br>Population (Millions): 21.1<br>Year: 2016",
          "Country: Thailand<br>Total Ecological Footprint: 2.66<br>GDP per capita: $5,479.29<br>Population (Millions): 66.78<br>Year: 2016",
          "Country: Timor-Leste<br>Total Ecological Footprint: 0.48<br>GDP per capita: $5,167.86<br>Population (Millions): 1.11<br>Year: 2016",
          "Country: Tonga<br>Total Ecological Footprint: 2.7<br>GDP per capita: $4,330.90<br>Population (Millions): 0.1<br>Year: 2016",
          "Country: Viet Nam<br>Total Ecological Footprint: 1.65<br>GDP per capita: $1,532.31<br>Population (Millions): 90.8<br>Year: 2016",
          "Country: Wallis and Futuna Islands<br>Total Ecological Footprint: 2.07<br>GDP per capita: 0<br>Population (Millions): 0.01<br>Year: 2016"
         ],
         "type": "scatter",
         "x": [
          6457274.981999,
          493720.058245,
          7898.910751,
          152763.795214,
          154268.532342,
          31559095.340109,
          30822.475216,
          6985.446469,
          5074536.760447,
          3824684.399004,
          17002378.902522,
          8460978.40081,
          8460978.40081,
          24860.670097,
          4236570.599862,
          45537.006091,
          69346.22166,
          0,
          11272.488959,
          26436.236507,
          876967.769457,
          340840.234562,
          30948.228731,
          993369.979213,
          1259.06326,
          6335882.334668,
          6817.354952,
          160517.900852,
          3155223.995626,
          433.925233,
          256.686754,
          1132453.628615,
          0
         ],
         "y": [
          4.85,
          0.26,
          0.63,
          3.24,
          0,
          2.32,
          1.06,
          2.39,
          0.61,
          0.64,
          3.69,
          4.17,
          0.68,
          0.09,
          2.1,
          2.09,
          0.09,
          0,
          0.16,
          1.78,
          2.84,
          0.38,
          0.35,
          0.34,
          0.96,
          5.91,
          0,
          0.52,
          1.54,
          0.06,
          0.88,
          0.79,
          0
         ]
        },
        {
         "marker": {
          "line": {
           "width": 2
          },
          "size": [
           0.88,
           0.89,
           0.78,
           0.85,
           0.87,
           0.92,
           0.85,
           0.88,
           0.89,
           0.91,
           0.91,
           0.86,
           0.82,
           0.91,
           0.87,
           0.81,
           0.83,
           0.89,
           0.92,
           0.84,
           0.83,
           0.79,
           0.84,
           0.88,
           0.87,
           0.9,
           0.9
          ],
          "sizemode": "area",
          "sizeref": 0.018799999999999997
         },
         "mode": "markers",
         "name": "European Union",
         "text": [
          "Country: Austria<br>Total Ecological Footprint: 6.06<br>GDP per capita: $51,274.10<br>Population (Millions): 8.46<br>Year: 2016",
          "Country: Belgium<br>Total Ecological Footprint: 7.44<br>GDP per capita: $48,053.30<br>Population (Millions): 11.06<br>Year: 2016",
          "Country: Bulgaria<br>Total Ecological Footprint: 3.32<br>GDP per capita: $7,615.28<br>Population (Millions): 7.28<br>Year: 2016",
          "Country: Cyprus<br>Total Ecological Footprint: 4.21<br>GDP per capita: $31,454.70<br>Population (Millions): 1.13<br>Year: 2016",
          "Country: Czech Republic<br>Total Ecological Footprint: 5.19<br>GDP per capita: $21,676.30<br>Population (Millions): 10.66<br>Year: 2016",
          "Country: Denmark<br>Total Ecological Footprint: 5.51<br>GDP per capita: $61,413.60<br>Population (Millions): 5.6<br>Year: 2016",
          "Country: Estonia<br>Total Ecological Footprint: 6.86<br>GDP per capita: $17,304.40<br>Population (Millions): 1.29<br>Year: 2016",
          "Country: Finland<br>Total Ecological Footprint: 5.87<br>GDP per capita: $50,960.20<br>Population (Millions): 5.41<br>Year: 2016",
          "Country: France<br>Total Ecological Footprint: 5.14<br>GDP per capita: $45,430.30<br>Population (Millions): 63.98<br>Year: 2016",
          "Country: Germany<br>Total Ecological Footprint: 5.3<br>GDP per capita: $46,822.40<br>Population (Millions): 82.8<br>Year: 2016",
          "Country: Germany<br>Total Ecological Footprint: 5.3<br>GDP per capita: $46,822.40<br>Population (Millions): 82.8<br>Year: 2016",
          "Country: Greece<br>Total Ecological Footprint: 4.38<br>GDP per capita: $25,987.40<br>Population (Millions): 11.12<br>Year: 2016",
          "Country: Hungary<br>Total Ecological Footprint: 2.92<br>GDP per capita: $13,964.20<br>Population (Millions): 9.98<br>Year: 2016",
          "Country: Ireland<br>Total Ecological Footprint: 5.57<br>GDP per capita: $52,853.60<br>Population (Millions): 4.58<br>Year: 2016",
          "Country: Italy<br>Total Ecological Footprint: 4.61<br>GDP per capita: $38,412.00<br>Population (Millions): 60.92<br>Year: 2016",
          "Country: Latvia<br>Total Ecological Footprint: 6.29<br>GDP per capita: $13,732.00<br>Population (Millions): 2.06<br>Year: 2016",
          "Country: Lithuania<br>Total Ecological Footprint: 5.83<br>GDP per capita: $14,373.70<br>Population (Millions): 3.03<br>Year: 2016",
          "Country: Luxembourg<br>Total Ecological Footprint: 15.82<br>GDP per capita: $114,665.00<br>Population (Millions): 0.52<br>Year: 2016",
          "Country: Netherlands<br>Total Ecological Footprint: 5.28<br>GDP per capita: $53,589.90<br>Population (Millions): 16.71<br>Year: 2016",
          "Country: Poland<br>Total Ecological Footprint: 4.44<br>GDP per capita: $13,769.50<br>Population (Millions): 38.21<br>Year: 2016",
          "Country: Portugal<br>Total Ecological Footprint: 3.88<br>GDP per capita: $23,217.30<br>Population (Millions): 10.6<br>Year: 2016",
          "Country: Romania<br>Total Ecological Footprint: 2.71<br>GDP per capita: $9,213.94<br>Population (Millions): 21.76<br>Year: 2016",
          "Country: Slovakia<br>Total Ecological Footprint: 4.06<br>GDP per capita: $18,103.10<br>Population (Millions): 5.45<br>Year: 2016",
          "Country: Slovenia<br>Total Ecological Footprint: 5.81<br>GDP per capita: $25,040.50<br>Population (Millions): 2.07<br>Year: 2016",
          "Country: Spain<br>Total Ecological Footprint: 3.67<br>GDP per capita: $32,008.70<br>Population (Millions): 46.76<br>Year: 2016",
          "Country: Sweden<br>Total Ecological Footprint: 7.25<br>GDP per capita: $59,381.90<br>Population (Millions): 9.51<br>Year: 2016",
          "Country: United Kingdom<br>Total Ecological Footprint: 4.94<br>GDP per capita: $40,980.50<br>Population (Millions): 63.03<br>Year: 2016"
         ],
         "type": "scatter",
         "x": [
          4366799.964415,
          12081522.398108,
          592486.351063,
          94879.164729,
          0,
          3120192.529063,
          313192.905212,
          1932684.049116,
          14066642.73453,
          1373483.360182,
          30693229.416853,
          831137.316341,
          1805465.670881,
          3135297.328862,
          11122100.801684,
          187280.897684,
          474092.668671,
          266722.475171,
          10312448.09299,
          2669675.809474,
          1171895.187865,
          871545.109762,
          991625.782332,
          397212.501128,
          5233788.264062,
          3262936.243948,
          9763266.90626
         ],
         "y": [
          4.14,
          4.43,
          2.08,
          2.94,
          3.42,
          2.6,
          0,
          0,
          2.71,
          3.28,
          3.28,
          2.58,
          1.9,
          3.22,
          2.77,
          1.66,
          2.15,
          12.65,
          3.23,
          2.64,
          2.15,
          1.46,
          2.82,
          4.27,
          2.22,
          3.88,
          3.14
         ]
        },
        {
         "marker": {
          "line": {
           "width": 2
          },
          "size": [],
          "sizemode": "area",
          "sizeref": 0.018799999999999997
         },
         "mode": "markers",
         "name": "nan",
         "text": [],
         "type": "scatter",
         "x": [],
         "y": []
        }
       ],
       "layout": {
        "paper_bgcolor": "rgb(243, 243, 243)",
        "plot_bgcolor": "rgb(243, 243, 243)",
        "template": {
         "data": {
          "bar": [
           {
            "error_x": {
             "color": "#2a3f5f"
            },
            "error_y": {
             "color": "#2a3f5f"
            },
            "marker": {
             "line": {
              "color": "#E5ECF6",
              "width": 0.5
             },
             "pattern": {
              "fillmode": "overlay",
              "size": 10,
              "solidity": 0.2
             }
            },
            "type": "bar"
           }
          ],
          "barpolar": [
           {
            "marker": {
             "line": {
              "color": "#E5ECF6",
              "width": 0.5
             },
             "pattern": {
              "fillmode": "overlay",
              "size": 10,
              "solidity": 0.2
             }
            },
            "type": "barpolar"
           }
          ],
          "carpet": [
           {
            "aaxis": {
             "endlinecolor": "#2a3f5f",
             "gridcolor": "white",
             "linecolor": "white",
             "minorgridcolor": "white",
             "startlinecolor": "#2a3f5f"
            },
            "baxis": {
             "endlinecolor": "#2a3f5f",
             "gridcolor": "white",
             "linecolor": "white",
             "minorgridcolor": "white",
             "startlinecolor": "#2a3f5f"
            },
            "type": "carpet"
           }
          ],
          "choropleth": [
           {
            "colorbar": {
             "outlinewidth": 0,
             "ticks": ""
            },
            "type": "choropleth"
           }
          ],
          "contour": [
           {
            "colorbar": {
             "outlinewidth": 0,
             "ticks": ""
            },
            "colorscale": [
             [
              0,
              "#0d0887"
             ],
             [
              0.1111111111111111,
              "#46039f"
             ],
             [
              0.2222222222222222,
              "#7201a8"
             ],
             [
              0.3333333333333333,
              "#9c179e"
             ],
             [
              0.4444444444444444,
              "#bd3786"
             ],
             [
              0.5555555555555556,
              "#d8576b"
             ],
             [
              0.6666666666666666,
              "#ed7953"
             ],
             [
              0.7777777777777778,
              "#fb9f3a"
             ],
             [
              0.8888888888888888,
              "#fdca26"
             ],
             [
              1,
              "#f0f921"
             ]
            ],
            "type": "contour"
           }
          ],
          "contourcarpet": [
           {
            "colorbar": {
             "outlinewidth": 0,
             "ticks": ""
            },
            "type": "contourcarpet"
           }
          ],
          "heatmap": [
           {
            "colorbar": {
             "outlinewidth": 0,
             "ticks": ""
            },
            "colorscale": [
             [
              0,
              "#0d0887"
             ],
             [
              0.1111111111111111,
              "#46039f"
             ],
             [
              0.2222222222222222,
              "#7201a8"
             ],
             [
              0.3333333333333333,
              "#9c179e"
             ],
             [
              0.4444444444444444,
              "#bd3786"
             ],
             [
              0.5555555555555556,
              "#d8576b"
             ],
             [
              0.6666666666666666,
              "#ed7953"
             ],
             [
              0.7777777777777778,
              "#fb9f3a"
             ],
             [
              0.8888888888888888,
              "#fdca26"
             ],
             [
              1,
              "#f0f921"
             ]
            ],
            "type": "heatmap"
           }
          ],
          "heatmapgl": [
           {
            "colorbar": {
             "outlinewidth": 0,
             "ticks": ""
            },
            "colorscale": [
             [
              0,
              "#0d0887"
             ],
             [
              0.1111111111111111,
              "#46039f"
             ],
             [
              0.2222222222222222,
              "#7201a8"
             ],
             [
              0.3333333333333333,
              "#9c179e"
             ],
             [
              0.4444444444444444,
              "#bd3786"
             ],
             [
              0.5555555555555556,
              "#d8576b"
             ],
             [
              0.6666666666666666,
              "#ed7953"
             ],
             [
              0.7777777777777778,
              "#fb9f3a"
             ],
             [
              0.8888888888888888,
              "#fdca26"
             ],
             [
              1,
              "#f0f921"
             ]
            ],
            "type": "heatmapgl"
           }
          ],
          "histogram": [
           {
            "marker": {
             "pattern": {
              "fillmode": "overlay",
              "size": 10,
              "solidity": 0.2
             }
            },
            "type": "histogram"
           }
          ],
          "histogram2d": [
           {
            "colorbar": {
             "outlinewidth": 0,
             "ticks": ""
            },
            "colorscale": [
             [
              0,
              "#0d0887"
             ],
             [
              0.1111111111111111,
              "#46039f"
             ],
             [
              0.2222222222222222,
              "#7201a8"
             ],
             [
              0.3333333333333333,
              "#9c179e"
             ],
             [
              0.4444444444444444,
              "#bd3786"
             ],
             [
              0.5555555555555556,
              "#d8576b"
             ],
             [
              0.6666666666666666,
              "#ed7953"
             ],
             [
              0.7777777777777778,
              "#fb9f3a"
             ],
             [
              0.8888888888888888,
              "#fdca26"
             ],
             [
              1,
              "#f0f921"
             ]
            ],
            "type": "histogram2d"
           }
          ],
          "histogram2dcontour": [
           {
            "colorbar": {
             "outlinewidth": 0,
             "ticks": ""
            },
            "colorscale": [
             [
              0,
              "#0d0887"
             ],
             [
              0.1111111111111111,
              "#46039f"
             ],
             [
              0.2222222222222222,
              "#7201a8"
             ],
             [
              0.3333333333333333,
              "#9c179e"
             ],
             [
              0.4444444444444444,
              "#bd3786"
             ],
             [
              0.5555555555555556,
              "#d8576b"
             ],
             [
              0.6666666666666666,
              "#ed7953"
             ],
             [
              0.7777777777777778,
              "#fb9f3a"
             ],
             [
              0.8888888888888888,
              "#fdca26"
             ],
             [
              1,
              "#f0f921"
             ]
            ],
            "type": "histogram2dcontour"
           }
          ],
          "mesh3d": [
           {
            "colorbar": {
             "outlinewidth": 0,
             "ticks": ""
            },
            "type": "mesh3d"
           }
          ],
          "parcoords": [
           {
            "line": {
             "colorbar": {
              "outlinewidth": 0,
              "ticks": ""
             }
            },
            "type": "parcoords"
           }
          ],
          "pie": [
           {
            "automargin": true,
            "type": "pie"
           }
          ],
          "scatter": [
           {
            "marker": {
             "colorbar": {
              "outlinewidth": 0,
              "ticks": ""
             }
            },
            "type": "scatter"
           }
          ],
          "scatter3d": [
           {
            "line": {
             "colorbar": {
              "outlinewidth": 0,
              "ticks": ""
             }
            },
            "marker": {
             "colorbar": {
              "outlinewidth": 0,
              "ticks": ""
             }
            },
            "type": "scatter3d"
           }
          ],
          "scattercarpet": [
           {
            "marker": {
             "colorbar": {
              "outlinewidth": 0,
              "ticks": ""
             }
            },
            "type": "scattercarpet"
           }
          ],
          "scattergeo": [
           {
            "marker": {
             "colorbar": {
              "outlinewidth": 0,
              "ticks": ""
             }
            },
            "type": "scattergeo"
           }
          ],
          "scattergl": [
           {
            "marker": {
             "colorbar": {
              "outlinewidth": 0,
              "ticks": ""
             }
            },
            "type": "scattergl"
           }
          ],
          "scattermapbox": [
           {
            "marker": {
             "colorbar": {
              "outlinewidth": 0,
              "ticks": ""
             }
            },
            "type": "scattermapbox"
           }
          ],
          "scatterpolar": [
           {
            "marker": {
             "colorbar": {
              "outlinewidth": 0,
              "ticks": ""
             }
            },
            "type": "scatterpolar"
           }
          ],
          "scatterpolargl": [
           {
            "marker": {
             "colorbar": {
              "outlinewidth": 0,
              "ticks": ""
             }
            },
            "type": "scatterpolargl"
           }
          ],
          "scatterternary": [
           {
            "marker": {
             "colorbar": {
              "outlinewidth": 0,
              "ticks": ""
             }
            },
            "type": "scatterternary"
           }
          ],
          "surface": [
           {
            "colorbar": {
             "outlinewidth": 0,
             "ticks": ""
            },
            "colorscale": [
             [
              0,
              "#0d0887"
             ],
             [
              0.1111111111111111,
              "#46039f"
             ],
             [
              0.2222222222222222,
              "#7201a8"
             ],
             [
              0.3333333333333333,
              "#9c179e"
             ],
             [
              0.4444444444444444,
              "#bd3786"
             ],
             [
              0.5555555555555556,
              "#d8576b"
             ],
             [
              0.6666666666666666,
              "#ed7953"
             ],
             [
              0.7777777777777778,
              "#fb9f3a"
             ],
             [
              0.8888888888888888,
              "#fdca26"
             ],
             [
              1,
              "#f0f921"
             ]
            ],
            "type": "surface"
           }
          ],
          "table": [
           {
            "cells": {
             "fill": {
              "color": "#EBF0F8"
             },
             "line": {
              "color": "white"
             }
            },
            "header": {
             "fill": {
              "color": "#C8D4E3"
             },
             "line": {
              "color": "white"
             }
            },
            "type": "table"
           }
          ]
         },
         "layout": {
          "annotationdefaults": {
           "arrowcolor": "#2a3f5f",
           "arrowhead": 0,
           "arrowwidth": 1
          },
          "autotypenumbers": "strict",
          "coloraxis": {
           "colorbar": {
            "outlinewidth": 0,
            "ticks": ""
           }
          },
          "colorscale": {
           "diverging": [
            [
             0,
             "#8e0152"
            ],
            [
             0.1,
             "#c51b7d"
            ],
            [
             0.2,
             "#de77ae"
            ],
            [
             0.3,
             "#f1b6da"
            ],
            [
             0.4,
             "#fde0ef"
            ],
            [
             0.5,
             "#f7f7f7"
            ],
            [
             0.6,
             "#e6f5d0"
            ],
            [
             0.7,
             "#b8e186"
            ],
            [
             0.8,
             "#7fbc41"
            ],
            [
             0.9,
             "#4d9221"
            ],
            [
             1,
             "#276419"
            ]
           ],
           "sequential": [
            [
             0,
             "#0d0887"
            ],
            [
             0.1111111111111111,
             "#46039f"
            ],
            [
             0.2222222222222222,
             "#7201a8"
            ],
            [
             0.3333333333333333,
             "#9c179e"
            ],
            [
             0.4444444444444444,
             "#bd3786"
            ],
            [
             0.5555555555555556,
             "#d8576b"
            ],
            [
             0.6666666666666666,
             "#ed7953"
            ],
            [
             0.7777777777777778,
             "#fb9f3a"
            ],
            [
             0.8888888888888888,
             "#fdca26"
            ],
            [
             1,
             "#f0f921"
            ]
           ],
           "sequentialminus": [
            [
             0,
             "#0d0887"
            ],
            [
             0.1111111111111111,
             "#46039f"
            ],
            [
             0.2222222222222222,
             "#7201a8"
            ],
            [
             0.3333333333333333,
             "#9c179e"
            ],
            [
             0.4444444444444444,
             "#bd3786"
            ],
            [
             0.5555555555555556,
             "#d8576b"
            ],
            [
             0.6666666666666666,
             "#ed7953"
            ],
            [
             0.7777777777777778,
             "#fb9f3a"
            ],
            [
             0.8888888888888888,
             "#fdca26"
            ],
            [
             1,
             "#f0f921"
            ]
           ]
          },
          "colorway": [
           "#636efa",
           "#EF553B",
           "#00cc96",
           "#ab63fa",
           "#FFA15A",
           "#19d3f3",
           "#FF6692",
           "#B6E880",
           "#FF97FF",
           "#FECB52"
          ],
          "font": {
           "color": "#2a3f5f"
          },
          "geo": {
           "bgcolor": "white",
           "lakecolor": "white",
           "landcolor": "#E5ECF6",
           "showlakes": true,
           "showland": true,
           "subunitcolor": "white"
          },
          "hoverlabel": {
           "align": "left"
          },
          "hovermode": "closest",
          "mapbox": {
           "style": "light"
          },
          "paper_bgcolor": "white",
          "plot_bgcolor": "#E5ECF6",
          "polar": {
           "angularaxis": {
            "gridcolor": "white",
            "linecolor": "white",
            "ticks": ""
           },
           "bgcolor": "#E5ECF6",
           "radialaxis": {
            "gridcolor": "white",
            "linecolor": "white",
            "ticks": ""
           }
          },
          "scene": {
           "xaxis": {
            "backgroundcolor": "#E5ECF6",
            "gridcolor": "white",
            "gridwidth": 2,
            "linecolor": "white",
            "showbackground": true,
            "ticks": "",
            "zerolinecolor": "white"
           },
           "yaxis": {
            "backgroundcolor": "#E5ECF6",
            "gridcolor": "white",
            "gridwidth": 2,
            "linecolor": "white",
            "showbackground": true,
            "ticks": "",
            "zerolinecolor": "white"
           },
           "zaxis": {
            "backgroundcolor": "#E5ECF6",
            "gridcolor": "white",
            "gridwidth": 2,
            "linecolor": "white",
            "showbackground": true,
            "ticks": "",
            "zerolinecolor": "white"
           }
          },
          "shapedefaults": {
           "line": {
            "color": "#2a3f5f"
           }
          },
          "ternary": {
           "aaxis": {
            "gridcolor": "white",
            "linecolor": "white",
            "ticks": ""
           },
           "baxis": {
            "gridcolor": "white",
            "linecolor": "white",
            "ticks": ""
           },
           "bgcolor": "#E5ECF6",
           "caxis": {
            "gridcolor": "white",
            "linecolor": "white",
            "ticks": ""
           }
          },
          "title": {
           "x": 0.05
          },
          "xaxis": {
           "automargin": true,
           "gridcolor": "white",
           "linecolor": "white",
           "ticks": "",
           "title": {
            "standoff": 15
           },
           "zerolinecolor": "white",
           "zerolinewidth": 2
          },
          "yaxis": {
           "automargin": true,
           "gridcolor": "white",
           "linecolor": "white",
           "ticks": "",
           "title": {
            "standoff": 15
           },
           "zerolinecolor": "white",
           "zerolinewidth": 2
          }
         }
        },
        "title": {
         "text": "Export Trade (2006-2016) Impact on Carbon Footprint"
        },
        "xaxis": {
         "gridcolor": "rgb(255, 255, 255)",
         "gridwidth": 2,
         "ticklen": 5,
         "title": {
          "text": "Cumulative Export 2008-2016 (USD Millions)"
         },
         "zerolinewidth": 1
        },
        "yaxis": {
         "gridcolor": "rgb(255, 255, 255)",
         "gridwidth": 2,
         "range": [
          -5,
          15
         ],
         "ticklen": 5,
         "title": {
          "text": "Carbon Footprint ()"
         },
         "zerolinewidth": 1
        }
       }
      },
      "text/html": [
       "<div>                            <div id=\"e3ed62b8-d3c4-4728-997b-58f9299c62e5\" class=\"plotly-graph-div\" style=\"height:525px; width:100%;\"></div>            <script type=\"text/javascript\">                require([\"plotly\"], function(Plotly) {                    window.PLOTLYENV=window.PLOTLYENV || {};                                    if (document.getElementById(\"e3ed62b8-d3c4-4728-997b-58f9299c62e5\")) {                    Plotly.newPlot(                        \"e3ed62b8-d3c4-4728-997b-58f9299c62e5\",                        [{\"marker\":{\"line\":{\"width\":2},\"size\":[0.73,0.52,0.48,0.69,0.39,0.39,0.64,0.5,0.37,0.39,0.5,0.57,0.57,0.42,0.42,0.0,0.46,0.69,0.58,0.39,0.43,0.67,0.44,0.57,0.41,0.42,0.54,0.48,0.42,0.74,0.51,0.43,0.41,0.5,0.77,0.62,0.41,0.62,0.34,0.5,0.48,0.0,0.55,0.46,0.4,0.0,0.66,0.66,0.53,0.51,0.47,0.72,0.48,0.58,0.49],\"sizemode\":\"area\",\"sizeref\":0.018799999999999997,\"symbol\":\"circle\"},\"mode\":\"markers\",\"name\":\"Africa\",\"text\":[\"Country: Algeria<br>Total Ecological Footprint: 2.12<br>GDP per capita: $5,430.57<br>Population (Millions): 38.48<br>Year: 2016\",\"Country: Angola<br>Total Ecological Footprint: 0.93<br>GDP per capita: $4,665.91<br>Population (Millions): 20.82<br>Year: 2016\",\"Country: Benin<br>Total Ecological Footprint: 1.41<br>GDP per capita: $746.83<br>Population (Millions): 10.05<br>Year: 2016\",\"Country: Botswana<br>Total Ecological Footprint: 3.83<br>GDP per capita: $7,743.50<br>Population (Millions): 2.0<br>Year: 2016\",\"Country: Burkina Faso<br>Total Ecological Footprint: 1.21<br>GDP per capita: $671.07<br>Population (Millions): 16.46<br>Year: 2016\",\"Country: Burundi<br>Total Ecological Footprint: 0.8<br>GDP per capita: $276.69<br>Population (Millions): 9.85<br>Year: 2016\",\"Country: Cabo Verde<br>Total Ecological Footprint: 2.52<br>GDP per capita: $3,801.45<br>Population (Millions): 0.49<br>Year: 2016\",\"Country: Cameroon<br>Total Ecological Footprint: 1.17<br>GDP per capita: $1,271.21<br>Population (Millions): 21.7<br>Year: 2016\",\"Country: Central African Republic<br>Total Ecological Footprint: 1.24<br>GDP per capita: $495.04<br>Population (Millions): 4.53<br>Year: 2016\",\"Country: Chad<br>Total Ecological Footprint: 1.46<br>GDP per capita: $1,161.22<br>Population (Millions): 12.45<br>Year: 2016\",\"Country: Comoros<br>Total Ecological Footprint: 1.03<br>GDP per capita: $860.24<br>Population (Millions): 0.72<br>Year: 2016\",\"Country: Congo<br>Total Ecological Footprint: 1.29<br>GDP per capita: $1,943.69<br>Population (Millions): 4.34<br>Year: 2016\",\"Country: Congo<br>Total Ecological Footprint: 1.29<br>GDP per capita: $1,943.69<br>Population (Millions): 4.34<br>Year: 2016\",\"Country: Congo<br>Total Ecological Footprint: 0.82<br>GDP per capita: $338.63<br>Population (Millions): 65.7<br>Year: 2016\",\"Country: Congo<br>Total Ecological Footprint: 0.82<br>GDP per capita: $338.63<br>Population (Millions): 65.7<br>Year: 2016\",\"Country: CotedeIvoire<br>Total Ecological Footprint: 1.27<br>GDP per capita: $1,016.83<br>Population (Millions): 19.84<br>Year: 2016\",\"Country: Djibouti<br>Total Ecological Footprint: 2.19<br>GDP per capita: $1,433.17<br>Population (Millions): 0.86<br>Year: 2016\",\"Country: Egypt<br>Total Ecological Footprint: 2.15<br>GDP per capita: $2,930.33<br>Population (Millions): 80.72<br>Year: 2016\",\"Country: Equatorial Guinea<br>Total Ecological Footprint: 3.97<br>GDP per capita: $24,064.00<br>Population (Millions): 0.74<br>Year: 2016\",\"Country: Eritrea<br>Total Ecological Footprint: 0.42<br>GDP per capita: $439.73<br>Population (Millions): 6.13<br>Year: 2016\",\"Country: Ethiopia<br>Total Ecological Footprint: 1.02<br>GDP per capita: $379.38<br>Population (Millions): 91.73<br>Year: 2016\",\"Country: Gabon<br>Total Ecological Footprint: 2.02<br>GDP per capita: $11,989.00<br>Population (Millions): 1.63<br>Year: 2016\",\"Country: Gambia<br>Total Ecological Footprint: 1.03<br>GDP per capita: $505.76<br>Population (Millions): 1.79<br>Year: 2016\",\"Country: Ghana<br>Total Ecological Footprint: 1.97<br>GDP per capita: $1,627.90<br>Population (Millions): 25.37<br>Year: 2016\",\"Country: Guinea<br>Total Ecological Footprint: 1.41<br>GDP per capita: $459.09<br>Population (Millions): 11.45<br>Year: 2016\",\"Country: Guinea-Bissau<br>Total Ecological Footprint: 1.53<br>GDP per capita: $681.25<br>Population (Millions): 1.66<br>Year: 2016\",\"Country: Kenya<br>Total Ecological Footprint: 1.03<br>GDP per capita: $1,062.11<br>Population (Millions): 43.18<br>Year: 2016\",\"Country: Lesotho<br>Total Ecological Footprint: 1.66<br>GDP per capita: $1,338.42<br>Population (Millions): 2.05<br>Year: 2016\",\"Country: Liberia<br>Total Ecological Footprint: 1.21<br>GDP per capita: $397.38<br>Population (Millions): 4.19<br>Year: 2016\",\"Country: Libyan Arab Jamahiriya<br>Total Ecological Footprint: 3.69<br>GDP per capita: $5,859.43<br>Population (Millions): 6.16<br>Year: 2016\",\"Country: Madagascar<br>Total Ecological Footprint: 0.99<br>GDP per capita: $456.33<br>Population (Millions): 22.29<br>Year: 2016\",\"Country: Malawi<br>Total Ecological Footprint: 0.81<br>GDP per capita: $493.84<br>Population (Millions): 15.91<br>Year: 2016\",\"Country: Mali<br>Total Ecological Footprint: 1.53<br>GDP per capita: $741.22<br>Population (Millions): 14.85<br>Year: 2016\",\"Country: Mauritania<br>Total Ecological Footprint: 2.54<br>GDP per capita: $1,524.39<br>Population (Millions): 3.8<br>Year: 2016\",\"Country: Mauritius<br>Total Ecological Footprint: 3.46<br>GDP per capita: $8,811.15<br>Population (Millions): 1.24<br>Year: 2016\",\"Country: Morocco<br>Total Ecological Footprint: 1.68<br>GDP per capita: $3,149.43<br>Population (Millions): 32.52<br>Year: 2016\",\"Country: Mozambique<br>Total Ecological Footprint: 0.87<br>GDP per capita: $538.82<br>Population (Millions): 25.2<br>Year: 2016\",\"Country: Namibia<br>Total Ecological Footprint: 2.48<br>GDP per capita: $5,880.80<br>Population (Millions): 2.26<br>Year: 2016\",\"Country: Niger<br>Total Ecological Footprint: 1.56<br>GDP per capita: $410.91<br>Population (Millions): 17.16<br>Year: 2016\",\"Country: Nigeria<br>Total Ecological Footprint: 1.16<br>GDP per capita: $2,612.12<br>Population (Millions): 168.83<br>Year: 2016\",\"Country: Rwanda<br>Total Ecological Footprint: 0.87<br>GDP per capita: $628.08<br>Population (Millions): 11.46<br>Year: 2016\",\"Country: R\\u00e9union<br>Total Ecological Footprint: 3.65<br>GDP per capita: 0<br>Population (Millions): 0.86<br>Year: 2016\",\"Country: Sao Tome and Principe<br>Total Ecological Footprint: 1.49<br>GDP per capita: $1,384.53<br>Population (Millions): 0.19<br>Year: 2016\",\"Country: Senegal<br>Total Ecological Footprint: 1.21<br>GDP per capita: $1,079.27<br>Population (Millions): 13.73<br>Year: 2016\",\"Country: Sierra Leone<br>Total Ecological Footprint: 1.24<br>GDP per capita: $499.89<br>Population (Millions): 5.98<br>Year: 2016\",\"Country: Somalia<br>Total Ecological Footprint: 1.24<br>GDP per capita: 0<br>Population (Millions): 10.2<br>Year: 2016\",\"Country: South Africa<br>Total Ecological Footprint: 3.31<br>GDP per capita: $8,089.87<br>Population (Millions): 52.39<br>Year: 2016\",\"Country: South Africa<br>Total Ecological Footprint: 3.31<br>GDP per capita: $8,089.87<br>Population (Millions): 52.39<br>Year: 2016\",\"Country: Swaziland<br>Total Ecological Footprint: 2.01<br>GDP per capita: $4,657.48<br>Population (Millions): 1.23<br>Year: 2016\",\"Country: Tanzania, United Republic of<br>Total Ecological Footprint: 1.32<br>GDP per capita: $765.33<br>Population (Millions): 47.78<br>Year: 2016\",\"Country: Togo<br>Total Ecological Footprint: 1.13<br>GDP per capita: $580.86<br>Population (Millions): 6.64<br>Year: 2016\",\"Country: Tunisia<br>Total Ecological Footprint: 2.34<br>GDP per capita: $4,305.07<br>Population (Millions): 10.88<br>Year: 2016\",\"Country: Uganda<br>Total Ecological Footprint: 1.24<br>GDP per capita: $601.35<br>Population (Millions): 36.35<br>Year: 2016\",\"Country: Zambia<br>Total Ecological Footprint: 0.99<br>GDP per capita: $1,740.64<br>Population (Millions): 14.08<br>Year: 2016\",\"Country: Zimbabwe<br>Total Ecological Footprint: 1.37<br>GDP per capita: $865.91<br>Population (Millions): 13.72<br>Year: 2016\"],\"x\":[1764159.930121,868304.901687,17188.74242,165289.469843,36715.78927,5875.022509,8576.22901,106063.255358,4247.102371,0.0,311.324201,142288.592207,142288.592207,142288.592207,142288.592207,306234.552473,908.894136,571013.705449,0.0,13.738916,73294.890111,109856.378335,2196.244925,180774.275476,28661.671803,140.104723,79838.49571,6603.186763,0.0,0.0,39630.482973,31987.416226,24614.910011,31323.977034,67749.089213,360050.581938,45530.394133,97930.874262,22825.630812,969191.899795,8842.242436,639.994335,222.241411,39286.890314,1265.493049,0.0,1238714.709979,254876.820776,13633.225132,67153.551095,15209.369044,286264.000632,34128.229548,92277.699719,68338.762312],\"y\":[1.14,0.2,0.51,2.36,0.12,0.04,0.0,0.19,0.08,0.01,0.25,0.47,0.47,0.07,0.07,0.26,0.0,1.02,3.17,0.03,0.07,0.43,0.21,0.43,0.16,0.09,0.2,0.51,0.14,2.33,0.07,0.07,0.1,0.55,1.99,0.67,0.17,1.02,0.1,0.21,0.07,3.27,0.37,0.3,0.07,0.07,2.34,2.34,0.67,0.17,0.31,1.11,0.08,0.24,0.53],\"type\":\"scatter\"},{\"marker\":{\"line\":{\"width\":2},\"size\":[0.0,0.91,0.91],\"sizemode\":\"area\",\"sizeref\":0.018799999999999997},\"mode\":\"markers\",\"name\":\"North America\",\"text\":[\"Country: Bermuda<br>Total Ecological Footprint: 5.77<br>GDP per capita: $70,626.30<br>Population (Millions): 0.06<br>Year: 2016\",\"Country: Canada<br>Total Ecological Footprint: 8.17<br>GDP per capita: $52,145.40<br>Population (Millions): 34.84<br>Year: 2016\",\"Country: USA<br>Total Ecological Footprint: 8.22<br>GDP per capita: $49,725.00<br>Population (Millions): 317.5<br>Year: 2016\"],\"x\":[365.262036,15233081.163918,31700102.843309],\"y\":[0.0,5.0,5.9],\"type\":\"scatter\"},{\"marker\":{\"line\":{\"width\":2},\"size\":[0.46,0.73,0.75,0.82,0.75,0.76,0.65,0.89,0.75,0.78,0.82,0.65,0.76,0.79,0.85,0.83,0.62,0.62,0.76,0.68,0.83,0.67,0.5],\"sizemode\":\"area\",\"sizeref\":0.018799999999999997},\"mode\":\"markers\",\"name\":\"Middle East/Central Asia\",\"text\":[\"Country: Afghanistan<br>Total Ecological Footprint: 0.79<br>GDP per capita: $614.66<br>Population (Millions): 29.82<br>Year: 2016\",\"Country: Armenia<br>Total Ecological Footprint: 2.23<br>GDP per capita: $3,426.39<br>Population (Millions): 2.97<br>Year: 2016\",\"Country: Azerbaijan<br>Total Ecological Footprint: 2.31<br>GDP per capita: $7,106.04<br>Population (Millions): 9.31<br>Year: 2016\",\"Country: Bahrain<br>Total Ecological Footprint: 7.49<br>GDP per capita: $24,299.00<br>Population (Millions): 1.32<br>Year: 2016\",\"Country: Georgia<br>Total Ecological Footprint: 1.58<br>GDP per capita: $3,710.70<br>Population (Millions): 4.36<br>Year: 2016\",\"Country: Iran<br>Total Ecological Footprint: 2.79<br>GDP per capita: $7,511.10<br>Population (Millions): 76.42<br>Year: 2016\",\"Country: Iraq<br>Total Ecological Footprint: 1.88<br>GDP per capita: $5,848.54<br>Population (Millions): 32.78<br>Year: 2016\",\"Country: Israel<br>Total Ecological Footprint: 6.22<br>GDP per capita: $33,718.90<br>Population (Millions): 7.64<br>Year: 2016\",\"Country: Jordan<br>Total Ecological Footprint: 2.1<br>GDP per capita: $4,615.17<br>Population (Millions): 7.01<br>Year: 2016\",\"Country: Kazakhstan<br>Total Ecological Footprint: 5.55<br>GDP per capita: $11,278.00<br>Population (Millions): 16.27<br>Year: 2016\",\"Country: Kuwait<br>Total Ecological Footprint: 8.13<br>GDP per capita: $41,830.50<br>Population (Millions): 3.25<br>Year: 2016\",\"Country: Kyrgyzstan<br>Total Ecological Footprint: 1.91<br>GDP per capita: $1,116.37<br>Population (Millions): 5.47<br>Year: 2016\",\"Country: Lebanon<br>Total Ecological Footprint: 3.84<br>GDP per capita: $9,143.86<br>Population (Millions): 4.65<br>Year: 2016\",\"Country: Oman<br>Total Ecological Footprint: 7.52<br>GDP per capita: $22,622.80<br>Population (Millions): 3.31<br>Year: 2016\",\"Country: Qatar<br>Total Ecological Footprint: 10.8<br>GDP per capita: $99,431.50<br>Population (Millions): 2.05<br>Year: 2016\",\"Country: Saudi Arabia<br>Total Ecological Footprint: 5.61<br>GDP per capita: $23,593.80<br>Population (Millions): 28.29<br>Year: 2016\",\"Country: Syrian Arab Republic<br>Total Ecological Footprint: 1.51<br>GDP per capita: 0<br>Population (Millions): 21.89<br>Year: 2016\",\"Country: Tajikistan<br>Total Ecological Footprint: 0.91<br>GDP per capita: $836.17<br>Population (Millions): 8.01<br>Year: 2016\",\"Country: Turkey<br>Total Ecological Footprint: 3.33<br>GDP per capita: $10,437.70<br>Population (Millions): 74.0<br>Year: 2016\",\"Country: Turkmenistan<br>Total Ecological Footprint: 5.47<br>GDP per capita: $5,290.14<br>Population (Millions): 5.17<br>Year: 2016\",\"Country: United Arab Emirates<br>Total Ecological Footprint: 7.93<br>GDP per capita: $40,817.40<br>Population (Millions): 9.206<br>Year: 2016\",\"Country: Uzbekistan<br>Total Ecological Footprint: 2.32<br>GDP per capita: $1,560.85<br>Population (Millions): 28.54<br>Year: 2016\",\"Country: Yemen<br>Total Ecological Footprint: 1.03<br>GDP per capita: $1,302.30<br>Population (Millions): 23.85<br>Year: 2016\"],\"x\":[8780.222349,40446.217031,445786.578451,454172.159687,45636.059638,1034554.259508,994420.836791,1501212.784744,176585.22382,1436982.554229,1557687.908264,33088.620513,61076.868458,695328.948684,1241796.959047,4023988.218166,0.0,692.346,2075304.938465,5201.180675,6129567.032802,0.0,71615.411671],\"y\":[0.18,0.89,1.25,6.19,0.83,1.72,1.36,4.59,1.09,4.59,6.89,0.95,2.52,5.8,9.57,4.21,0.81,0.13,1.92,4.13,6.37,1.41,0.42],\"type\":\"scatter\"},{\"marker\":{\"line\":{\"width\":2},\"size\":[0.73,0.8,0.73,0.82,0.74,0.68,0.8,0.94,0.79,0.76,0.93,0.74],\"sizemode\":\"area\",\"sizeref\":0.018799999999999997},\"mode\":\"markers\",\"name\":\"Northern/Eastern Europe\",\"text\":[\"Country: Albania<br>Total Ecological Footprint: 2.21<br>GDP per capita: $4,534.37<br>Population (Millions): 3.16<br>Year: 2016\",\"Country: Belarus<br>Total Ecological Footprint: 5.09<br>GDP per capita: $6,300.45<br>Population (Millions): 9.4<br>Year: 2016\",\"Country: Bosnia Herzegovina<br>Total Ecological Footprint: 3.12<br>GDP per capita: $4,708.85<br>Population (Millions): 3.83<br>Year: 2016\",\"Country: Croatia<br>Total Ecological Footprint: 3.92<br>GDP per capita: $14,522.80<br>Population (Millions): 4.31<br>Year: 2016\",\"Country: Macedonia<br>Total Ecological Footprint: 3.26<br>GDP per capita: $5,174.89<br>Population (Millions): 2.11<br>Year: 2016\",\"Country: Moldova<br>Total Ecological Footprint: 1.78<br>GDP per capita: $1,971.03<br>Population (Millions): 3.51<br>Year: 2016\",\"Country: Montenegro<br>Total Ecological Footprint: 3.78<br>GDP per capita: $7,251.60<br>Population (Millions): 0.62<br>Year: 2016\",\"Country: Norway<br>Total Ecological Footprint: 4.98<br>GDP per capita: $100,172.00<br>Population (Millions): 4.99<br>Year: 2016\",\"Country: Russian Federation<br>Total Ecological Footprint: 5.69<br>GDP per capita: $13,320.20<br>Population (Millions): 143.17<br>Year: 2016\",\"Country: Serbia<br>Total Ecological Footprint: 2.7<br>GDP per capita: $6,426.18<br>Population (Millions): 9.55<br>Year: 2016\",\"Country: Switzerland<br>Total Ecological Footprint: 5.79<br>GDP per capita: $88,506.20<br>Population (Millions): 8.0<br>Year: 2016\",\"Country: Ukraine<br>Total Ecological Footprint: 2.84<br>GDP per capita: $3,589.63<br>Population (Millions): 45.53<br>Year: 2016\"],\"x\":[47544.871187,785837.732412,113371.731548,342334.149063,61844.406928,45094.893149,6814.403932,2429308.733411,6564472.499199,149527.210347,4380822.133916,874576.69606],\"y\":[0.87,2.57,1.74,2.21,2.06,1.03,2.13,0.0,3.87,1.66,4.26,1.92],\"type\":\"scatter\"},{\"marker\":{\"line\":{\"width\":2},\"size\":[0.78,0.83,0.0,0.78,0.79,0.65,0.75,0.0,0.0,0.83,0.72,0.76,0.77,0.72,0.71,0.73,0.66,0.0,0.74,0.0,0.62,0.63,0.48,0.61,0.72,0.0,0.75,0.0,0.63,0.77,0.67,0.73,0.74,0.73,0.72,0.71,0.77,0.79,0.763846],\"sizemode\":\"area\",\"sizeref\":0.018799999999999997},\"mode\":\"markers\",\"name\":\"Latin America\",\"text\":[\"Country: Antigua and Barbuda<br>Total Ecological Footprint: 5.38<br>GDP per capita: $13,205.10<br>Population (Millions): 0.09<br>Year: 2016\",\"Country: Argentina<br>Total Ecological Footprint: 3.14<br>GDP per capita: $13,540.00<br>Population (Millions): 41.09<br>Year: 2016\",\"Country: Aruba<br>Total Ecological Footprint: 11.88<br>GDP per capita: 0<br>Population (Millions): 0.1<br>Year: 2016\",\"Country: Bahamas<br>Total Ecological Footprint: 6.84<br>GDP per capita: $22,647.30<br>Population (Millions): 0.37<br>Year: 2016\",\"Country: Barbados<br>Total Ecological Footprint: 4.48<br>GDP per capita: $15,722.80<br>Population (Millions): 0.28<br>Year: 2016\",\"Country: Bolivia<br>Total Ecological Footprint: 2.96<br>GDP per capita: $2,253.09<br>Population (Millions): 10.5<br>Year: 2016\",\"Country: Brazil<br>Total Ecological Footprint: 3.11<br>GDP per capita: $13,237.60<br>Population (Millions): 198.66<br>Year: 2016\",\"Country: British Virgin Islands<br>Total Ecological Footprint: 2.86<br>GDP per capita: 0<br>Population (Millions): 0.03<br>Year: 2016\",\"Country: Cayman Islands<br>Total Ecological Footprint: 5.65<br>GDP per capita: 0<br>Population (Millions): 0.06<br>Year: 2016\",\"Country: Chile<br>Total Ecological Footprint: 4.36<br>GDP per capita: $14,525.80<br>Population (Millions): 17.46<br>Year: 2016\",\"Country: Colombia<br>Total Ecological Footprint: 1.87<br>GDP per capita: $7,305.22<br>Population (Millions): 47.7<br>Year: 2016\",\"Country: Costa Rica<br>Total Ecological Footprint: 2.84<br>GDP per capita: $8,979.96<br>Population (Millions): 4.8<br>Year: 2016\",\"Country: Cuba<br>Total Ecological Footprint: 1.95<br>GDP per capita: $5,175.94<br>Population (Millions): 11.27<br>Year: 2016\",\"Country: Dominica<br>Total Ecological Footprint: 2.57<br>GDP per capita: $7,088.01<br>Population (Millions): 0.07<br>Year: 2016\",\"Country: Dominican Republic<br>Total Ecological Footprint: 1.53<br>GDP per capita: $6,085.89<br>Population (Millions): 10.28<br>Year: 2016\",\"Country: Ecuador<br>Total Ecological Footprint: 2.17<br>GDP per capita: $5,192.88<br>Population (Millions): 15.49<br>Year: 2016\",\"Country: El Salvador<br>Total Ecological Footprint: 2.07<br>GDP per capita: $3,696.33<br>Population (Millions): 6.3<br>Year: 2016\",\"Country: French Guiana<br>Total Ecological Footprint: 2.34<br>GDP per capita: 0<br>Population (Millions): 0.24<br>Year: 2016\",\"Country: Grenada<br>Total Ecological Footprint: 2.98<br>GDP per capita: $7,410.48<br>Population (Millions): 0.1<br>Year: 2016\",\"Country: Guadeloupe<br>Total Ecological Footprint: 3.23<br>GDP per capita: 0<br>Population (Millions): 0.46<br>Year: 2016\",\"Country: Guatemala<br>Total Ecological Footprint: 1.89<br>GDP per capita: $3,233.80<br>Population (Millions): 15.08<br>Year: 2016\",\"Country: Guyana<br>Total Ecological Footprint: 3.07<br>GDP per capita: $3,269.46<br>Population (Millions): 0.8<br>Year: 2016\",\"Country: Haiti<br>Total Ecological Footprint: 0.61<br>GDP per capita: $749.13<br>Population (Millions): 10.17<br>Year: 2016\",\"Country: Honduras<br>Total Ecological Footprint: 1.68<br>GDP per capita: $2,269.51<br>Population (Millions): 7.94<br>Year: 2016\",\"Country: Jamaica<br>Total Ecological Footprint: 1.89<br>GDP per capita: $5,226.30<br>Population (Millions): 2.77<br>Year: 2016\",\"Country: Martinique<br>Total Ecological Footprint: 2.08<br>GDP per capita: 0<br>Population (Millions): 0.4<br>Year: 2016\",\"Country: Mexico<br>Total Ecological Footprint: 2.89<br>GDP per capita: $10,123.90<br>Population (Millions): 120.85<br>Year: 2016\",\"Country: Montserrat<br>Total Ecological Footprint: 7.78<br>GDP per capita: 0<br>Population (Millions): 0.0<br>Year: 2016\",\"Country: Nicaragua<br>Total Ecological Footprint: 1.39<br>GDP per capita: $1,626.85<br>Population (Millions): 5.99<br>Year: 2016\",\"Country: Panama<br>Total Ecological Footprint: 2.79<br>GDP per capita: $8,410.77<br>Population (Millions): 3.8<br>Year: 2016\",\"Country: Paraguay<br>Total Ecological Footprint: 4.16<br>GDP per capita: $3,557.31<br>Population (Millions): 6.69<br>Year: 2016\",\"Country: Peru<br>Total Ecological Footprint: 2.28<br>GDP per capita: $5,684.73<br>Population (Millions): 29.99<br>Year: 2016\",\"Country: Saint Kitts and Nevis<br>Total Ecological Footprint: 4.94<br>GDP per capita: $12,952.50<br>Population (Millions): 0.05<br>Year: 2016\",\"Country: Saint Lucia<br>Total Ecological Footprint: 2.45<br>GDP per capita: $7,737.20<br>Population (Millions): 0.18<br>Year: 2016\",\"Country: Saint Vincent and Grenadines<br>Total Ecological Footprint: 3.11<br>GDP per capita: $6,171.48<br>Population (Millions): 0.11<br>Year: 2016\",\"Country: Suriname<br>Total Ecological Footprint: 4.25<br>GDP per capita: $8,190.70<br>Population (Millions): 0.54<br>Year: 2016\",\"Country: Trinidad and Tobago<br>Total Ecological Footprint: 7.92<br>GDP per capita: $18,310.80<br>Population (Millions): 1.34<br>Year: 2016\",\"Country: Uruguay<br>Total Ecological Footprint: 2.91<br>GDP per capita: $14,238.10<br>Population (Millions): 3.4<br>Year: 2016\",\"Country: Venezuela<br>Total Ecological Footprint: 3.57<br>GDP per capita: $10,237.80<br>Population (Millions): 29.96<br>Year: 2016\"],\"x\":[2714.754086,2102506.872655,4302.808896,27781.65855,19045.806716,205016.420508,5874973.448571,0.0,0.0,1995795.200692,1185514.775141,253783.651999,29906.668376,1590.812536,165509.898148,552393.119628,118906.150867,436.792399,919.643363,500.959707,185264.644056,30135.584161,1347.125413,56070.915585,49738.950509,692.321704,6361457.659653,65.403121,44011.235338,194455.660747,122495.429036,676451.46018,883.8683,3565.184515,1271.53555,43411.675196,215524.138075,120895.355404,897365.929625],\"y\":[0.0,1.08,0.0,4.46,3.28,0.67,0.91,0.0,3.56,2.04,0.67,1.37,1.23,1.47,0.86,1.08,0.84,1.58,0.0,2.61,0.7,1.25,0.15,0.6,1.09,1.73,1.74,0.0,0.45,1.44,0.97,0.67,3.34,1.56,0.0,3.01,6.89,0.98,2.13],\"type\":\"scatter\"},{\"marker\":{\"line\":{\"width\":2},\"size\":[0.93,0.56,0.59,0.85,0.55,0.72,0.72,0.0,0.6,0.68,0.89,0.89,0.0,0.56,0.77,0.71,0.53,0.0,0.54,0.0,0.91,0.53,0.5,0.66,0.7,0.91,0.5,0.75,0.72,0.6,0.72,0.66,0.0],\"sizemode\":\"area\",\"sizeref\":0.018799999999999997},\"mode\":\"markers\",\"name\":\"Asia-Pacific\",\"text\":[\"Country: Australia<br>Total Ecological Footprint: 9.31<br>GDP per capita: $66,604.20<br>Population (Millions): 23.05<br>Year: 2016\",\"Country: Bangladesh<br>Total Ecological Footprint: 0.72<br>GDP per capita: $857.50<br>Population (Millions): 154.7<br>Year: 2016\",\"Country: Bhutan<br>Total Ecological Footprint: 4.84<br>GDP per capita: $2,395.00<br>Population (Millions): 0.74<br>Year: 2016\",\"Country: Brunei Darussalam<br>Total Ecological Footprint: 4.06<br>GDP per capita: $47,097.40<br>Population (Millions): 0.41<br>Year: 2016\",\"Country: Cambodia<br>Total Ecological Footprint: 1.21<br>GDP per capita: $877.64<br>Population (Millions): 14.86<br>Year: 2016\",\"Country: China<br>Total Ecological Footprint: 3.38<br>GDP per capita: $5,560.94<br>Population (Millions): 1408.04<br>Year: 2016\",\"Country: Fiji<br>Total Ecological Footprint: 2.9<br>GDP per capita: $4,201.37<br>Population (Millions): 0.88<br>Year: 2016\",\"Country: French Polynesia<br>Total Ecological Footprint: 4.73<br>GDP per capita: 0<br>Population (Millions): 0.27<br>Year: 2016\",\"Country: India<br>Total Ecological Footprint: 1.16<br>GDP per capita: $1,513.85<br>Population (Millions): 1236.69<br>Year: 2016\",\"Country: Indonesia<br>Total Ecological Footprint: 1.58<br>GDP per capita: $3,688.53<br>Population (Millions): 246.86<br>Year: 2016\",\"Country: Japan<br>Total Ecological Footprint: 5.02<br>GDP per capita: $46,201.60<br>Population (Millions): 127.25<br>Year: 2016\",\"Country: Korea, Republic of<br>Total Ecological Footprint: 5.69<br>GDP per capita: $24,155.80<br>Population (Millions): 49.0<br>Year: 2016\",\"Country: Korea, Republic of<br>Total Ecological Footprint: 1.17<br>GDP per capita: 0<br>Population (Millions): 24.76<br>Year: 2016\",\"Country: Lao People's Democratic Republic<br>Total Ecological Footprint: 1.22<br>GDP per capita: $1,236.24<br>Population (Millions): 6.65<br>Year: 2016\",\"Country: Malaysia<br>Total Ecological Footprint: 3.71<br>GDP per capita: $10,252.60<br>Population (Millions): 29.24<br>Year: 2016\",\"Country: Mongolia<br>Total Ecological Footprint: 6.08<br>GDP per capita: $3,736.07<br>Population (Millions): 2.8<br>Year: 2016\",\"Country: Myanmar<br>Total Ecological Footprint: 1.43<br>GDP per capita: $1,117.58<br>Population (Millions): 52.8<br>Year: 2016\",\"Country: Nauru<br>Total Ecological Footprint: 2.94<br>GDP per capita: 0<br>Population (Millions): 0.01<br>Year: 2016\",\"Country: Nepal<br>Total Ecological Footprint: 0.98<br>GDP per capita: $700.07<br>Population (Millions): 27.47<br>Year: 2016\",\"Country: New Caledonia<br>Total Ecological Footprint: 3.58<br>GDP per capita: 0<br>Population (Millions): 0.25<br>Year: 2016\",\"Country: New Zealand<br>Total Ecological Footprint: 5.6<br>GDP per capita: $37,488.30<br>Population (Millions): 4.46<br>Year: 2016\",\"Country: Pakistan<br>Total Ecological Footprint: 0.79<br>GDP per capita: $1,218.60<br>Population (Millions): 179.16<br>Year: 2016\",\"Country: Papua New Guinea<br>Total Ecological Footprint: 1.91<br>GDP per capita: $1,871.21<br>Population (Millions): 7.17<br>Year: 2016\",\"Country: Philippines<br>Total Ecological Footprint: 1.1<br>GDP per capita: $2,379.44<br>Population (Millions): 96.71<br>Year: 2016\",\"Country: Samoa<br>Total Ecological Footprint: 2.77<br>GDP per capita: $4,067.15<br>Population (Millions): 0.19<br>Year: 2016\",\"Country: Singapore<br>Total Ecological Footprint: 7.97<br>GDP per capita: $53,122.40<br>Population (Millions): 5.3<br>Year: 2016\",\"Country: Solomon Isds<br>Total Ecological Footprint: 1.29<br>GDP per capita: $1,647.86<br>Population (Millions): 0.55<br>Year: 2016\",\"Country: Sri Lanka<br>Total Ecological Footprint: 1.32<br>GDP per capita: $2,880.03<br>Population (Millions): 21.1<br>Year: 2016\",\"Country: Thailand<br>Total Ecological Footprint: 2.66<br>GDP per capita: $5,479.29<br>Population (Millions): 66.78<br>Year: 2016\",\"Country: Timor-Leste<br>Total Ecological Footprint: 0.48<br>GDP per capita: $5,167.86<br>Population (Millions): 1.11<br>Year: 2016\",\"Country: Tonga<br>Total Ecological Footprint: 2.7<br>GDP per capita: $4,330.90<br>Population (Millions): 0.1<br>Year: 2016\",\"Country: Viet Nam<br>Total Ecological Footprint: 1.65<br>GDP per capita: $1,532.31<br>Population (Millions): 90.8<br>Year: 2016\",\"Country: Wallis and Futuna Islands<br>Total Ecological Footprint: 2.07<br>GDP per capita: 0<br>Population (Millions): 0.01<br>Year: 2016\"],\"x\":[6457274.981999,493720.058245,7898.910751,152763.795214,154268.532342,31559095.340109,30822.475216,6985.446469,5074536.760447,3824684.399004,17002378.902522,8460978.40081,8460978.40081,24860.670097,4236570.599862,45537.006091,69346.22166,0.0,11272.488959,26436.236507,876967.769457,340840.234562,30948.228731,993369.979213,1259.06326,6335882.334668,6817.354952,160517.900852,3155223.995626,433.925233,256.686754,1132453.628615,0.0],\"y\":[4.85,0.26,0.63,3.24,0.0,2.32,1.06,2.39,0.61,0.64,3.69,4.17,0.68,0.09,2.1,2.09,0.09,0.0,0.16,1.78,2.84,0.38,0.35,0.34,0.96,5.91,0.0,0.52,1.54,0.06,0.88,0.79,0.0],\"type\":\"scatter\"},{\"marker\":{\"line\":{\"width\":2},\"size\":[0.88,0.89,0.78,0.85,0.87,0.92,0.85,0.88,0.89,0.91,0.91,0.86,0.82,0.91,0.87,0.81,0.83,0.89,0.92,0.84,0.83,0.79,0.84,0.88,0.87,0.9,0.9],\"sizemode\":\"area\",\"sizeref\":0.018799999999999997},\"mode\":\"markers\",\"name\":\"European Union\",\"text\":[\"Country: Austria<br>Total Ecological Footprint: 6.06<br>GDP per capita: $51,274.10<br>Population (Millions): 8.46<br>Year: 2016\",\"Country: Belgium<br>Total Ecological Footprint: 7.44<br>GDP per capita: $48,053.30<br>Population (Millions): 11.06<br>Year: 2016\",\"Country: Bulgaria<br>Total Ecological Footprint: 3.32<br>GDP per capita: $7,615.28<br>Population (Millions): 7.28<br>Year: 2016\",\"Country: Cyprus<br>Total Ecological Footprint: 4.21<br>GDP per capita: $31,454.70<br>Population (Millions): 1.13<br>Year: 2016\",\"Country: Czech Republic<br>Total Ecological Footprint: 5.19<br>GDP per capita: $21,676.30<br>Population (Millions): 10.66<br>Year: 2016\",\"Country: Denmark<br>Total Ecological Footprint: 5.51<br>GDP per capita: $61,413.60<br>Population (Millions): 5.6<br>Year: 2016\",\"Country: Estonia<br>Total Ecological Footprint: 6.86<br>GDP per capita: $17,304.40<br>Population (Millions): 1.29<br>Year: 2016\",\"Country: Finland<br>Total Ecological Footprint: 5.87<br>GDP per capita: $50,960.20<br>Population (Millions): 5.41<br>Year: 2016\",\"Country: France<br>Total Ecological Footprint: 5.14<br>GDP per capita: $45,430.30<br>Population (Millions): 63.98<br>Year: 2016\",\"Country: Germany<br>Total Ecological Footprint: 5.3<br>GDP per capita: $46,822.40<br>Population (Millions): 82.8<br>Year: 2016\",\"Country: Germany<br>Total Ecological Footprint: 5.3<br>GDP per capita: $46,822.40<br>Population (Millions): 82.8<br>Year: 2016\",\"Country: Greece<br>Total Ecological Footprint: 4.38<br>GDP per capita: $25,987.40<br>Population (Millions): 11.12<br>Year: 2016\",\"Country: Hungary<br>Total Ecological Footprint: 2.92<br>GDP per capita: $13,964.20<br>Population (Millions): 9.98<br>Year: 2016\",\"Country: Ireland<br>Total Ecological Footprint: 5.57<br>GDP per capita: $52,853.60<br>Population (Millions): 4.58<br>Year: 2016\",\"Country: Italy<br>Total Ecological Footprint: 4.61<br>GDP per capita: $38,412.00<br>Population (Millions): 60.92<br>Year: 2016\",\"Country: Latvia<br>Total Ecological Footprint: 6.29<br>GDP per capita: $13,732.00<br>Population (Millions): 2.06<br>Year: 2016\",\"Country: Lithuania<br>Total Ecological Footprint: 5.83<br>GDP per capita: $14,373.70<br>Population (Millions): 3.03<br>Year: 2016\",\"Country: Luxembourg<br>Total Ecological Footprint: 15.82<br>GDP per capita: $114,665.00<br>Population (Millions): 0.52<br>Year: 2016\",\"Country: Netherlands<br>Total Ecological Footprint: 5.28<br>GDP per capita: $53,589.90<br>Population (Millions): 16.71<br>Year: 2016\",\"Country: Poland<br>Total Ecological Footprint: 4.44<br>GDP per capita: $13,769.50<br>Population (Millions): 38.21<br>Year: 2016\",\"Country: Portugal<br>Total Ecological Footprint: 3.88<br>GDP per capita: $23,217.30<br>Population (Millions): 10.6<br>Year: 2016\",\"Country: Romania<br>Total Ecological Footprint: 2.71<br>GDP per capita: $9,213.94<br>Population (Millions): 21.76<br>Year: 2016\",\"Country: Slovakia<br>Total Ecological Footprint: 4.06<br>GDP per capita: $18,103.10<br>Population (Millions): 5.45<br>Year: 2016\",\"Country: Slovenia<br>Total Ecological Footprint: 5.81<br>GDP per capita: $25,040.50<br>Population (Millions): 2.07<br>Year: 2016\",\"Country: Spain<br>Total Ecological Footprint: 3.67<br>GDP per capita: $32,008.70<br>Population (Millions): 46.76<br>Year: 2016\",\"Country: Sweden<br>Total Ecological Footprint: 7.25<br>GDP per capita: $59,381.90<br>Population (Millions): 9.51<br>Year: 2016\",\"Country: United Kingdom<br>Total Ecological Footprint: 4.94<br>GDP per capita: $40,980.50<br>Population (Millions): 63.03<br>Year: 2016\"],\"x\":[4366799.964415,12081522.398108,592486.351063,94879.164729,0.0,3120192.529063,313192.905212,1932684.049116,14066642.73453,1373483.360182,30693229.416853,831137.316341,1805465.670881,3135297.328862,11122100.801684,187280.897684,474092.668671,266722.475171,10312448.09299,2669675.809474,1171895.187865,871545.109762,991625.782332,397212.501128,5233788.264062,3262936.243948,9763266.90626],\"y\":[4.14,4.43,2.08,2.94,3.42,2.6,0.0,0.0,2.71,3.28,3.28,2.58,1.9,3.22,2.77,1.66,2.15,12.65,3.23,2.64,2.15,1.46,2.82,4.27,2.22,3.88,3.14],\"type\":\"scatter\"},{\"marker\":{\"line\":{\"width\":2},\"size\":[],\"sizemode\":\"area\",\"sizeref\":0.018799999999999997},\"mode\":\"markers\",\"name\":\"nan\",\"text\":[],\"x\":[],\"y\":[],\"type\":\"scatter\"}],                        {\"paper_bgcolor\":\"rgb(243, 243, 243)\",\"plot_bgcolor\":\"rgb(243, 243, 243)\",\"template\":{\"data\":{\"barpolar\":[{\"marker\":{\"line\":{\"color\":\"#E5ECF6\",\"width\":0.5},\"pattern\":{\"fillmode\":\"overlay\",\"size\":10,\"solidity\":0.2}},\"type\":\"barpolar\"}],\"bar\":[{\"error_x\":{\"color\":\"#2a3f5f\"},\"error_y\":{\"color\":\"#2a3f5f\"},\"marker\":{\"line\":{\"color\":\"#E5ECF6\",\"width\":0.5},\"pattern\":{\"fillmode\":\"overlay\",\"size\":10,\"solidity\":0.2}},\"type\":\"bar\"}],\"carpet\":[{\"aaxis\":{\"endlinecolor\":\"#2a3f5f\",\"gridcolor\":\"white\",\"linecolor\":\"white\",\"minorgridcolor\":\"white\",\"startlinecolor\":\"#2a3f5f\"},\"baxis\":{\"endlinecolor\":\"#2a3f5f\",\"gridcolor\":\"white\",\"linecolor\":\"white\",\"minorgridcolor\":\"white\",\"startlinecolor\":\"#2a3f5f\"},\"type\":\"carpet\"}],\"choropleth\":[{\"colorbar\":{\"outlinewidth\":0,\"ticks\":\"\"},\"type\":\"choropleth\"}],\"contourcarpet\":[{\"colorbar\":{\"outlinewidth\":0,\"ticks\":\"\"},\"type\":\"contourcarpet\"}],\"contour\":[{\"colorbar\":{\"outlinewidth\":0,\"ticks\":\"\"},\"colorscale\":[[0.0,\"#0d0887\"],[0.1111111111111111,\"#46039f\"],[0.2222222222222222,\"#7201a8\"],[0.3333333333333333,\"#9c179e\"],[0.4444444444444444,\"#bd3786\"],[0.5555555555555556,\"#d8576b\"],[0.6666666666666666,\"#ed7953\"],[0.7777777777777778,\"#fb9f3a\"],[0.8888888888888888,\"#fdca26\"],[1.0,\"#f0f921\"]],\"type\":\"contour\"}],\"heatmapgl\":[{\"colorbar\":{\"outlinewidth\":0,\"ticks\":\"\"},\"colorscale\":[[0.0,\"#0d0887\"],[0.1111111111111111,\"#46039f\"],[0.2222222222222222,\"#7201a8\"],[0.3333333333333333,\"#9c179e\"],[0.4444444444444444,\"#bd3786\"],[0.5555555555555556,\"#d8576b\"],[0.6666666666666666,\"#ed7953\"],[0.7777777777777778,\"#fb9f3a\"],[0.8888888888888888,\"#fdca26\"],[1.0,\"#f0f921\"]],\"type\":\"heatmapgl\"}],\"heatmap\":[{\"colorbar\":{\"outlinewidth\":0,\"ticks\":\"\"},\"colorscale\":[[0.0,\"#0d0887\"],[0.1111111111111111,\"#46039f\"],[0.2222222222222222,\"#7201a8\"],[0.3333333333333333,\"#9c179e\"],[0.4444444444444444,\"#bd3786\"],[0.5555555555555556,\"#d8576b\"],[0.6666666666666666,\"#ed7953\"],[0.7777777777777778,\"#fb9f3a\"],[0.8888888888888888,\"#fdca26\"],[1.0,\"#f0f921\"]],\"type\":\"heatmap\"}],\"histogram2dcontour\":[{\"colorbar\":{\"outlinewidth\":0,\"ticks\":\"\"},\"colorscale\":[[0.0,\"#0d0887\"],[0.1111111111111111,\"#46039f\"],[0.2222222222222222,\"#7201a8\"],[0.3333333333333333,\"#9c179e\"],[0.4444444444444444,\"#bd3786\"],[0.5555555555555556,\"#d8576b\"],[0.6666666666666666,\"#ed7953\"],[0.7777777777777778,\"#fb9f3a\"],[0.8888888888888888,\"#fdca26\"],[1.0,\"#f0f921\"]],\"type\":\"histogram2dcontour\"}],\"histogram2d\":[{\"colorbar\":{\"outlinewidth\":0,\"ticks\":\"\"},\"colorscale\":[[0.0,\"#0d0887\"],[0.1111111111111111,\"#46039f\"],[0.2222222222222222,\"#7201a8\"],[0.3333333333333333,\"#9c179e\"],[0.4444444444444444,\"#bd3786\"],[0.5555555555555556,\"#d8576b\"],[0.6666666666666666,\"#ed7953\"],[0.7777777777777778,\"#fb9f3a\"],[0.8888888888888888,\"#fdca26\"],[1.0,\"#f0f921\"]],\"type\":\"histogram2d\"}],\"histogram\":[{\"marker\":{\"pattern\":{\"fillmode\":\"overlay\",\"size\":10,\"solidity\":0.2}},\"type\":\"histogram\"}],\"mesh3d\":[{\"colorbar\":{\"outlinewidth\":0,\"ticks\":\"\"},\"type\":\"mesh3d\"}],\"parcoords\":[{\"line\":{\"colorbar\":{\"outlinewidth\":0,\"ticks\":\"\"}},\"type\":\"parcoords\"}],\"pie\":[{\"automargin\":true,\"type\":\"pie\"}],\"scatter3d\":[{\"line\":{\"colorbar\":{\"outlinewidth\":0,\"ticks\":\"\"}},\"marker\":{\"colorbar\":{\"outlinewidth\":0,\"ticks\":\"\"}},\"type\":\"scatter3d\"}],\"scattercarpet\":[{\"marker\":{\"colorbar\":{\"outlinewidth\":0,\"ticks\":\"\"}},\"type\":\"scattercarpet\"}],\"scattergeo\":[{\"marker\":{\"colorbar\":{\"outlinewidth\":0,\"ticks\":\"\"}},\"type\":\"scattergeo\"}],\"scattergl\":[{\"marker\":{\"colorbar\":{\"outlinewidth\":0,\"ticks\":\"\"}},\"type\":\"scattergl\"}],\"scattermapbox\":[{\"marker\":{\"colorbar\":{\"outlinewidth\":0,\"ticks\":\"\"}},\"type\":\"scattermapbox\"}],\"scatterpolargl\":[{\"marker\":{\"colorbar\":{\"outlinewidth\":0,\"ticks\":\"\"}},\"type\":\"scatterpolargl\"}],\"scatterpolar\":[{\"marker\":{\"colorbar\":{\"outlinewidth\":0,\"ticks\":\"\"}},\"type\":\"scatterpolar\"}],\"scatter\":[{\"marker\":{\"colorbar\":{\"outlinewidth\":0,\"ticks\":\"\"}},\"type\":\"scatter\"}],\"scatterternary\":[{\"marker\":{\"colorbar\":{\"outlinewidth\":0,\"ticks\":\"\"}},\"type\":\"scatterternary\"}],\"surface\":[{\"colorbar\":{\"outlinewidth\":0,\"ticks\":\"\"},\"colorscale\":[[0.0,\"#0d0887\"],[0.1111111111111111,\"#46039f\"],[0.2222222222222222,\"#7201a8\"],[0.3333333333333333,\"#9c179e\"],[0.4444444444444444,\"#bd3786\"],[0.5555555555555556,\"#d8576b\"],[0.6666666666666666,\"#ed7953\"],[0.7777777777777778,\"#fb9f3a\"],[0.8888888888888888,\"#fdca26\"],[1.0,\"#f0f921\"]],\"type\":\"surface\"}],\"table\":[{\"cells\":{\"fill\":{\"color\":\"#EBF0F8\"},\"line\":{\"color\":\"white\"}},\"header\":{\"fill\":{\"color\":\"#C8D4E3\"},\"line\":{\"color\":\"white\"}},\"type\":\"table\"}]},\"layout\":{\"annotationdefaults\":{\"arrowcolor\":\"#2a3f5f\",\"arrowhead\":0,\"arrowwidth\":1},\"autotypenumbers\":\"strict\",\"coloraxis\":{\"colorbar\":{\"outlinewidth\":0,\"ticks\":\"\"}},\"colorscale\":{\"diverging\":[[0,\"#8e0152\"],[0.1,\"#c51b7d\"],[0.2,\"#de77ae\"],[0.3,\"#f1b6da\"],[0.4,\"#fde0ef\"],[0.5,\"#f7f7f7\"],[0.6,\"#e6f5d0\"],[0.7,\"#b8e186\"],[0.8,\"#7fbc41\"],[0.9,\"#4d9221\"],[1,\"#276419\"]],\"sequential\":[[0.0,\"#0d0887\"],[0.1111111111111111,\"#46039f\"],[0.2222222222222222,\"#7201a8\"],[0.3333333333333333,\"#9c179e\"],[0.4444444444444444,\"#bd3786\"],[0.5555555555555556,\"#d8576b\"],[0.6666666666666666,\"#ed7953\"],[0.7777777777777778,\"#fb9f3a\"],[0.8888888888888888,\"#fdca26\"],[1.0,\"#f0f921\"]],\"sequentialminus\":[[0.0,\"#0d0887\"],[0.1111111111111111,\"#46039f\"],[0.2222222222222222,\"#7201a8\"],[0.3333333333333333,\"#9c179e\"],[0.4444444444444444,\"#bd3786\"],[0.5555555555555556,\"#d8576b\"],[0.6666666666666666,\"#ed7953\"],[0.7777777777777778,\"#fb9f3a\"],[0.8888888888888888,\"#fdca26\"],[1.0,\"#f0f921\"]]},\"colorway\":[\"#636efa\",\"#EF553B\",\"#00cc96\",\"#ab63fa\",\"#FFA15A\",\"#19d3f3\",\"#FF6692\",\"#B6E880\",\"#FF97FF\",\"#FECB52\"],\"font\":{\"color\":\"#2a3f5f\"},\"geo\":{\"bgcolor\":\"white\",\"lakecolor\":\"white\",\"landcolor\":\"#E5ECF6\",\"showlakes\":true,\"showland\":true,\"subunitcolor\":\"white\"},\"hoverlabel\":{\"align\":\"left\"},\"hovermode\":\"closest\",\"mapbox\":{\"style\":\"light\"},\"paper_bgcolor\":\"white\",\"plot_bgcolor\":\"#E5ECF6\",\"polar\":{\"angularaxis\":{\"gridcolor\":\"white\",\"linecolor\":\"white\",\"ticks\":\"\"},\"bgcolor\":\"#E5ECF6\",\"radialaxis\":{\"gridcolor\":\"white\",\"linecolor\":\"white\",\"ticks\":\"\"}},\"scene\":{\"xaxis\":{\"backgroundcolor\":\"#E5ECF6\",\"gridcolor\":\"white\",\"gridwidth\":2,\"linecolor\":\"white\",\"showbackground\":true,\"ticks\":\"\",\"zerolinecolor\":\"white\"},\"yaxis\":{\"backgroundcolor\":\"#E5ECF6\",\"gridcolor\":\"white\",\"gridwidth\":2,\"linecolor\":\"white\",\"showbackground\":true,\"ticks\":\"\",\"zerolinecolor\":\"white\"},\"zaxis\":{\"backgroundcolor\":\"#E5ECF6\",\"gridcolor\":\"white\",\"gridwidth\":2,\"linecolor\":\"white\",\"showbackground\":true,\"ticks\":\"\",\"zerolinecolor\":\"white\"}},\"shapedefaults\":{\"line\":{\"color\":\"#2a3f5f\"}},\"ternary\":{\"aaxis\":{\"gridcolor\":\"white\",\"linecolor\":\"white\",\"ticks\":\"\"},\"baxis\":{\"gridcolor\":\"white\",\"linecolor\":\"white\",\"ticks\":\"\"},\"bgcolor\":\"#E5ECF6\",\"caxis\":{\"gridcolor\":\"white\",\"linecolor\":\"white\",\"ticks\":\"\"}},\"title\":{\"x\":0.05},\"xaxis\":{\"automargin\":true,\"gridcolor\":\"white\",\"linecolor\":\"white\",\"ticks\":\"\",\"title\":{\"standoff\":15},\"zerolinecolor\":\"white\",\"zerolinewidth\":2},\"yaxis\":{\"automargin\":true,\"gridcolor\":\"white\",\"linecolor\":\"white\",\"ticks\":\"\",\"title\":{\"standoff\":15},\"zerolinecolor\":\"white\",\"zerolinewidth\":2}}},\"title\":{\"text\":\"Export Trade (2006-2016) Impact on Carbon Footprint\"},\"xaxis\":{\"gridcolor\":\"rgb(255, 255, 255)\",\"gridwidth\":2,\"ticklen\":5,\"title\":{\"text\":\"Cumulative Export 2008-2016 (USD Millions)\"},\"zerolinewidth\":1},\"yaxis\":{\"gridcolor\":\"rgb(255, 255, 255)\",\"gridwidth\":2,\"range\":[-5,15],\"ticklen\":5,\"title\":{\"text\":\"Carbon Footprint ()\"},\"zerolinewidth\":1}},                        {\"responsive\": true}                    ).then(function(){\n",
       "                            \n",
       "var gd = document.getElementById('e3ed62b8-d3c4-4728-997b-58f9299c62e5');\n",
       "var x = new MutationObserver(function (mutations, observer) {{\n",
       "        var display = window.getComputedStyle(gd).display;\n",
       "        if (!display || display === 'none') {{\n",
       "            console.log([gd, 'removed!']);\n",
       "            Plotly.purge(gd);\n",
       "            observer.disconnect();\n",
       "        }}\n",
       "}});\n",
       "\n",
       "// Listen for the removal of the full notebook cells\n",
       "var notebookContainer = gd.closest('#notebook-container');\n",
       "if (notebookContainer) {{\n",
       "    x.observe(notebookContainer, {childList: true});\n",
       "}}\n",
       "\n",
       "// Listen for the clearing of the current output cell\n",
       "var outputEl = gd.closest('.output');\n",
       "if (outputEl) {{\n",
       "    x.observe(outputEl, {childList: true});\n",
       "}}\n",
       "\n",
       "                        })                };                });            </script>        </div>"
      ]
     },
     "metadata": {},
     "output_type": "display_data"
    }
   ],
   "source": [
    "import chart_studio.plotly as py\n",
    "import plotly.graph_objs as go\n",
    "from plotly.offline import init_notebook_mode, iplot\n",
    "init_notebook_mode(connected=True)\n",
    "import pandas as pd\n",
    "import math\n",
    "\n",
    "df_2007 = MERGE2\n",
    "df_2007['HDI'].fillna(0, inplace=True)\n",
    "df_2007['ExpTrade_Mill'].fillna(0, inplace=True)\n",
    "df_2007['Total Ecological Footprint'].fillna(0, inplace=True)\n",
    "df_2007['GDP per Capita'].fillna(0, inplace=True)\n",
    "df_2007[\"Population (millions)\"].fillna(0, inplace=True)\n",
    "df_2007[\"Carbon Footprint\"].fillna(0, inplace=True)\n",
    "\n",
    "#slope = 2.666051223553066e-05\n",
    "hover_text = []\n",
    "bubble_size = []\n",
    "\n",
    "for index, row in df_2007.iterrows(): # each row of the df_2007 will be referenced\n",
    "    hover_text.append(('Country: {country}<br>'+\n",
    "                      'Total Ecological Footprint: {EcoFoot}<br>'+\n",
    "                      'GDP per capita: {gdp}<br>'+\n",
    "                      'Population (Millions): {pop}<br>'+\n",
    "                      'Year: {year}').format(country=row['Country'],\n",
    "                                            EcoFoot=row['Total Ecological Footprint'],\n",
    "                                            gdp=row['GDP per Capita'],\n",
    "                                            pop=row[\"Population (millions)\"],\n",
    "                                            year='2016'))\n",
    "    #bubble_size.append(math.sqrt(row[\"Population (millions)\"]*slope))\n",
    "    bubble_size.append(row[\"HDI\"])\n",
    "\n",
    "df_2007['text'] = hover_text\n",
    "df_2007['size'] = bubble_size\n",
    "sizeref = 2.*max(df_2007['size'])/(10**2)\n",
    "\n",
    "trace0 = go.Scatter(\n",
    "    x=df_2007['ExpTrade_Mill'][df_2007['Region'] == 'Africa'],\n",
    "    y=df_2007[\"Carbon Footprint\"][df_2007['Region'] == 'Africa'],\n",
    "    mode='markers',\n",
    "    name='Africa',\n",
    "    text=df_2007['text'][df_2007['Region'] == 'Africa'],\n",
    "    marker=dict(\n",
    "        symbol='circle',\n",
    "        sizemode='area',\n",
    "        sizeref=sizeref,\n",
    "        size=df_2007['size'][df_2007['Region'] == 'Africa'],\n",
    "        line=dict(\n",
    "            width=2\n",
    "        ),\n",
    "    )\n",
    ")\n",
    "trace1 = go.Scatter(\n",
    "    x=df_2007['ExpTrade_Mill'][df_2007['Region'] == 'North America'],\n",
    "    y=df_2007[\"Carbon Footprint\"][df_2007['Region'] == 'North America'],\n",
    "    mode='markers',\n",
    "    name='North America',\n",
    "    text=df_2007['text'][df_2007['Region'] == 'North America'],\n",
    "    marker=dict(\n",
    "        sizemode='area',\n",
    "        sizeref=sizeref,\n",
    "        size=df_2007['size'][df_2007['Region'] == 'North America'],\n",
    "        line=dict(\n",
    "            width=2\n",
    "        ),\n",
    "    )\n",
    ")\n",
    "trace2 = go.Scatter(\n",
    "    x=df_2007['ExpTrade_Mill'][df_2007['Region'] == 'Middle East/Central Asia'],\n",
    "    y=df_2007[\"Carbon Footprint\"][df_2007['Region'] == 'Middle East/Central Asia'],\n",
    "    mode='markers',\n",
    "    name='Middle East/Central Asia',\n",
    "    text=df_2007['text'][df_2007['Region'] == 'Middle East/Central Asia'],\n",
    "    marker=dict(\n",
    "        sizemode='area',\n",
    "        sizeref=sizeref,\n",
    "        size=df_2007['size'][df_2007['Region'] == 'Middle East/Central Asia'],\n",
    "        line=dict(\n",
    "            width=2\n",
    "        ),\n",
    "    )\n",
    ")\n",
    "trace3 = go.Scatter(\n",
    "    x=df_2007['ExpTrade_Mill'][df_2007['Region'] == 'Northern/Eastern Europe'],\n",
    "    y=df_2007[\"Carbon Footprint\"][df_2007['Region'] == 'Northern/Eastern Europe'],\n",
    "    mode='markers',\n",
    "    name='Northern/Eastern Europe',\n",
    "    text=df_2007['text'][df_2007['Region'] == 'Northern/Eastern Europe'],\n",
    "    marker=dict(\n",
    "        sizemode='area',\n",
    "        sizeref=sizeref,\n",
    "        size=df_2007['size'][df_2007['Region'] == 'Northern/Eastern Europe'],\n",
    "        line=dict(\n",
    "            width=2\n",
    "        ),\n",
    "    )\n",
    ")\n",
    "trace4 = go.Scatter(\n",
    "    x=df_2007['ExpTrade_Mill'][df_2007['Region'] == 'Latin America'],\n",
    "    y=df_2007[\"Carbon Footprint\"][df_2007['Region'] == 'Latin America'],\n",
    "    mode='markers',\n",
    "    name='Latin America',\n",
    "    text=df_2007['text'][df_2007['Region'] == 'Latin America'],\n",
    "    marker=dict(\n",
    "        sizemode='area',\n",
    "        sizeref=sizeref,\n",
    "        size=df_2007['size'][df_2007['Region'] == 'Latin America'],\n",
    "        line=dict(\n",
    "            width=2\n",
    "        ),\n",
    "    )\n",
    ")\n",
    "\n",
    "trace5 = go.Scatter(\n",
    "    x=df_2007['ExpTrade_Mill'][df_2007['Region'] == 'Asia-Pacific'],\n",
    "    y=df_2007[\"Carbon Footprint\"][df_2007['Region'] == 'Asia-Pacific'],\n",
    "    mode='markers',\n",
    "    name='Asia-Pacific',\n",
    "    text=df_2007['text'][df_2007['Region'] == 'Asia-Pacific'],\n",
    "    marker=dict(\n",
    "        sizemode='area',\n",
    "        sizeref=sizeref,\n",
    "        size=df_2007['size'][df_2007['Region'] == 'Asia-Pacific'],\n",
    "        line=dict(\n",
    "            width=2\n",
    "        ),\n",
    "    )\n",
    ")\n",
    "\n",
    "trace6 = go.Scatter(\n",
    "    x=df_2007['ExpTrade_Mill'][df_2007['Region'] == 'European Union'],\n",
    "    y=df_2007[\"Carbon Footprint\"][df_2007['Region'] == 'European Union'],\n",
    "    mode='markers',\n",
    "    name='European Union',\n",
    "    text=df_2007['text'][df_2007['Region'] == 'European Union'],\n",
    "    marker=dict(\n",
    "        sizemode='area',\n",
    "        sizeref=sizeref,\n",
    "        size=df_2007['size'][df_2007['Region'] == 'European Union'],\n",
    "        line=dict(\n",
    "            width=2\n",
    "        ),\n",
    "    )\n",
    ")\n",
    "                      \n",
    "trace7 = go.Scatter(\n",
    "    x=df_2007['ExpTrade_Mill'][df_2007['Region'] == 'nan'],\n",
    "    y=df_2007[\"Carbon Footprint\"][df_2007['Region'] == 'nan'],\n",
    "    mode='markers',\n",
    "    name='nan',\n",
    "    text=df_2007['text'][df_2007['Region'] == 'nan'],\n",
    "    marker=dict(\n",
    "        sizemode='area',\n",
    "        sizeref=sizeref,\n",
    "        size=df_2007['size'][df_2007['Region'] == 'nan'],\n",
    "        line=dict(\n",
    "            width=2\n",
    "        ),\n",
    "    )\n",
    ")\n",
    "                      \n",
    "data = [trace0, trace1, trace2, trace3, trace4, trace5, trace6, trace7]\n",
    "layout = go.Layout(\n",
    "    title='Export Trade (2006-2016) Impact on Carbon Footprint',\n",
    "    xaxis=dict(\n",
    "        title='Cumulative Export 2008-2016 (USD Millions)',\n",
    "        gridcolor='rgb(255, 255, 255)',\n",
    "        #range=[0, 1],\n",
    "        #type='log',\n",
    "        zerolinewidth=1,\n",
    "        ticklen=5,\n",
    "        gridwidth=2,\n",
    "    ),\n",
    "    yaxis=dict(\n",
    "        title='Carbon Footprint ()',\n",
    "        gridcolor='rgb(255, 255, 255)',\n",
    "        range=[-5, 15],\n",
    "        zerolinewidth=1,\n",
    "        ticklen=5,\n",
    "        gridwidth=2,\n",
    "    ),\n",
    "    paper_bgcolor='rgb(243, 243, 243)',\n",
    "    plot_bgcolor='rgb(243, 243, 243)',\n",
    ")\n",
    "\n",
    "fig = go.Figure(data=data, layout=layout)\n",
    "iplot(fig) "
   ]
  },
  {
   "cell_type": "markdown",
   "metadata": {
    "_uuid": "16dbe8ffff07a1e418d0b7d11239ff221da99d6b"
   },
   "source": [
    "**Comment**\n",
    "* There is an obvious postive relationship as Cumulative Export size increases, carbon footprint also increases, but variation also increases as export increases, suggesting there is a case of heteroscedacity. "
   ]
  },
  {
   "cell_type": "markdown",
   "metadata": {
    "_uuid": "4ac11dcab7c8ab9ecd0a525543107402f6261d2b"
   },
   "source": [
    "## Hypothesis 2: More Poverty a country has, the more carbon footprint "
   ]
  },
  {
   "cell_type": "code",
   "execution_count": 18,
   "metadata": {
    "_kg_hide-input": true,
    "_uuid": "e9d261d4b56d78be61a98efe510cfff9f59d0445"
   },
   "outputs": [
    {
     "data": {
      "text/html": [
       "        <script type=\"text/javascript\">\n",
       "        window.PlotlyConfig = {MathJaxConfig: 'local'};\n",
       "        if (window.MathJax) {MathJax.Hub.Config({SVG: {font: \"STIX-Web\"}});}\n",
       "        if (typeof require !== 'undefined') {\n",
       "        require.undef(\"plotly\");\n",
       "        requirejs.config({\n",
       "            paths: {\n",
       "                'plotly': ['https://cdn.plot.ly/plotly-2.9.0.min']\n",
       "            }\n",
       "        });\n",
       "        require(['plotly'], function(Plotly) {\n",
       "            window._Plotly = Plotly;\n",
       "        });\n",
       "        }\n",
       "        </script>\n",
       "        "
      ]
     },
     "metadata": {},
     "output_type": "display_data"
    },
    {
     "data": {
      "application/vnd.plotly.v1+json": {
       "config": {
        "linkText": "Export to plot.ly",
        "plotlyServerURL": "https://plot.ly",
        "showLink": false
       },
       "data": [
        {
         "marker": {
          "line": {
           "width": 2
          },
          "size": [
           0.73,
           0.52,
           0.48,
           0.69,
           0.39,
           0.39,
           0.64,
           0.5,
           0.37,
           0.39,
           0.5,
           0.57,
           0.57,
           0.42,
           0.42,
           0,
           0.46,
           0.69,
           0.58,
           0.39,
           0.43,
           0.67,
           0.44,
           0.57,
           0.41,
           0.42,
           0.54,
           0.48,
           0.42,
           0.74,
           0.51,
           0.43,
           0.41,
           0.5,
           0.77,
           0.62,
           0.41,
           0.62,
           0.34,
           0.5,
           0.48,
           0,
           0.55,
           0.46,
           0.4,
           0,
           0.66,
           0.66,
           0.53,
           0.51,
           0.47,
           0.72,
           0.48,
           0.58,
           0.49
          ],
          "sizemode": "area",
          "sizeref": 0.018799999999999997,
          "symbol": "circle"
         },
         "mode": "markers",
         "name": "Africa",
         "text": [
          "Country: Algeria<br>Total Ecological Footprint: 2.12<br>GDP per capita: $5,430.57<br>Population (Millions): 38.48<br>Year: 2016",
          "Country: Angola<br>Total Ecological Footprint: 0.93<br>GDP per capita: $4,665.91<br>Population (Millions): 20.82<br>Year: 2016",
          "Country: Benin<br>Total Ecological Footprint: 1.41<br>GDP per capita: $746.83<br>Population (Millions): 10.05<br>Year: 2016",
          "Country: Botswana<br>Total Ecological Footprint: 3.83<br>GDP per capita: $7,743.50<br>Population (Millions): 2.0<br>Year: 2016",
          "Country: Burkina Faso<br>Total Ecological Footprint: 1.21<br>GDP per capita: $671.07<br>Population (Millions): 16.46<br>Year: 2016",
          "Country: Burundi<br>Total Ecological Footprint: 0.8<br>GDP per capita: $276.69<br>Population (Millions): 9.85<br>Year: 2016",
          "Country: Cabo Verde<br>Total Ecological Footprint: 2.52<br>GDP per capita: $3,801.45<br>Population (Millions): 0.49<br>Year: 2016",
          "Country: Cameroon<br>Total Ecological Footprint: 1.17<br>GDP per capita: $1,271.21<br>Population (Millions): 21.7<br>Year: 2016",
          "Country: Central African Republic<br>Total Ecological Footprint: 1.24<br>GDP per capita: $495.04<br>Population (Millions): 4.53<br>Year: 2016",
          "Country: Chad<br>Total Ecological Footprint: 1.46<br>GDP per capita: $1,161.22<br>Population (Millions): 12.45<br>Year: 2016",
          "Country: Comoros<br>Total Ecological Footprint: 1.03<br>GDP per capita: $860.24<br>Population (Millions): 0.72<br>Year: 2016",
          "Country: Congo<br>Total Ecological Footprint: 1.29<br>GDP per capita: $1,943.69<br>Population (Millions): 4.34<br>Year: 2016",
          "Country: Congo<br>Total Ecological Footprint: 1.29<br>GDP per capita: $1,943.69<br>Population (Millions): 4.34<br>Year: 2016",
          "Country: Congo<br>Total Ecological Footprint: 0.82<br>GDP per capita: $338.63<br>Population (Millions): 65.7<br>Year: 2016",
          "Country: Congo<br>Total Ecological Footprint: 0.82<br>GDP per capita: $338.63<br>Population (Millions): 65.7<br>Year: 2016",
          "Country: CotedeIvoire<br>Total Ecological Footprint: 1.27<br>GDP per capita: $1,016.83<br>Population (Millions): 19.84<br>Year: 2016",
          "Country: Djibouti<br>Total Ecological Footprint: 2.19<br>GDP per capita: $1,433.17<br>Population (Millions): 0.86<br>Year: 2016",
          "Country: Egypt<br>Total Ecological Footprint: 2.15<br>GDP per capita: $2,930.33<br>Population (Millions): 80.72<br>Year: 2016",
          "Country: Equatorial Guinea<br>Total Ecological Footprint: 3.97<br>GDP per capita: $24,064.00<br>Population (Millions): 0.74<br>Year: 2016",
          "Country: Eritrea<br>Total Ecological Footprint: 0.42<br>GDP per capita: $439.73<br>Population (Millions): 6.13<br>Year: 2016",
          "Country: Ethiopia<br>Total Ecological Footprint: 1.02<br>GDP per capita: $379.38<br>Population (Millions): 91.73<br>Year: 2016",
          "Country: Gabon<br>Total Ecological Footprint: 2.02<br>GDP per capita: $11,989.00<br>Population (Millions): 1.63<br>Year: 2016",
          "Country: Gambia<br>Total Ecological Footprint: 1.03<br>GDP per capita: $505.76<br>Population (Millions): 1.79<br>Year: 2016",
          "Country: Ghana<br>Total Ecological Footprint: 1.97<br>GDP per capita: $1,627.90<br>Population (Millions): 25.37<br>Year: 2016",
          "Country: Guinea<br>Total Ecological Footprint: 1.41<br>GDP per capita: $459.09<br>Population (Millions): 11.45<br>Year: 2016",
          "Country: Guinea-Bissau<br>Total Ecological Footprint: 1.53<br>GDP per capita: $681.25<br>Population (Millions): 1.66<br>Year: 2016",
          "Country: Kenya<br>Total Ecological Footprint: 1.03<br>GDP per capita: $1,062.11<br>Population (Millions): 43.18<br>Year: 2016",
          "Country: Lesotho<br>Total Ecological Footprint: 1.66<br>GDP per capita: $1,338.42<br>Population (Millions): 2.05<br>Year: 2016",
          "Country: Liberia<br>Total Ecological Footprint: 1.21<br>GDP per capita: $397.38<br>Population (Millions): 4.19<br>Year: 2016",
          "Country: Libyan Arab Jamahiriya<br>Total Ecological Footprint: 3.69<br>GDP per capita: $5,859.43<br>Population (Millions): 6.16<br>Year: 2016",
          "Country: Madagascar<br>Total Ecological Footprint: 0.99<br>GDP per capita: $456.33<br>Population (Millions): 22.29<br>Year: 2016",
          "Country: Malawi<br>Total Ecological Footprint: 0.81<br>GDP per capita: $493.84<br>Population (Millions): 15.91<br>Year: 2016",
          "Country: Mali<br>Total Ecological Footprint: 1.53<br>GDP per capita: $741.22<br>Population (Millions): 14.85<br>Year: 2016",
          "Country: Mauritania<br>Total Ecological Footprint: 2.54<br>GDP per capita: $1,524.39<br>Population (Millions): 3.8<br>Year: 2016",
          "Country: Mauritius<br>Total Ecological Footprint: 3.46<br>GDP per capita: $8,811.15<br>Population (Millions): 1.24<br>Year: 2016",
          "Country: Morocco<br>Total Ecological Footprint: 1.68<br>GDP per capita: $3,149.43<br>Population (Millions): 32.52<br>Year: 2016",
          "Country: Mozambique<br>Total Ecological Footprint: 0.87<br>GDP per capita: $538.82<br>Population (Millions): 25.2<br>Year: 2016",
          "Country: Namibia<br>Total Ecological Footprint: 2.48<br>GDP per capita: $5,880.80<br>Population (Millions): 2.26<br>Year: 2016",
          "Country: Niger<br>Total Ecological Footprint: 1.56<br>GDP per capita: $410.91<br>Population (Millions): 17.16<br>Year: 2016",
          "Country: Nigeria<br>Total Ecological Footprint: 1.16<br>GDP per capita: $2,612.12<br>Population (Millions): 168.83<br>Year: 2016",
          "Country: Rwanda<br>Total Ecological Footprint: 0.87<br>GDP per capita: $628.08<br>Population (Millions): 11.46<br>Year: 2016",
          "Country: Réunion<br>Total Ecological Footprint: 3.65<br>GDP per capita: 0<br>Population (Millions): 0.86<br>Year: 2016",
          "Country: Sao Tome and Principe<br>Total Ecological Footprint: 1.49<br>GDP per capita: $1,384.53<br>Population (Millions): 0.19<br>Year: 2016",
          "Country: Senegal<br>Total Ecological Footprint: 1.21<br>GDP per capita: $1,079.27<br>Population (Millions): 13.73<br>Year: 2016",
          "Country: Sierra Leone<br>Total Ecological Footprint: 1.24<br>GDP per capita: $499.89<br>Population (Millions): 5.98<br>Year: 2016",
          "Country: Somalia<br>Total Ecological Footprint: 1.24<br>GDP per capita: 0<br>Population (Millions): 10.2<br>Year: 2016",
          "Country: South Africa<br>Total Ecological Footprint: 3.31<br>GDP per capita: $8,089.87<br>Population (Millions): 52.39<br>Year: 2016",
          "Country: South Africa<br>Total Ecological Footprint: 3.31<br>GDP per capita: $8,089.87<br>Population (Millions): 52.39<br>Year: 2016",
          "Country: Swaziland<br>Total Ecological Footprint: 2.01<br>GDP per capita: $4,657.48<br>Population (Millions): 1.23<br>Year: 2016",
          "Country: Tanzania, United Republic of<br>Total Ecological Footprint: 1.32<br>GDP per capita: $765.33<br>Population (Millions): 47.78<br>Year: 2016",
          "Country: Togo<br>Total Ecological Footprint: 1.13<br>GDP per capita: $580.86<br>Population (Millions): 6.64<br>Year: 2016",
          "Country: Tunisia<br>Total Ecological Footprint: 2.34<br>GDP per capita: $4,305.07<br>Population (Millions): 10.88<br>Year: 2016",
          "Country: Uganda<br>Total Ecological Footprint: 1.24<br>GDP per capita: $601.35<br>Population (Millions): 36.35<br>Year: 2016",
          "Country: Zambia<br>Total Ecological Footprint: 0.99<br>GDP per capita: $1,740.64<br>Population (Millions): 14.08<br>Year: 2016",
          "Country: Zimbabwe<br>Total Ecological Footprint: 1.37<br>GDP per capita: $865.91<br>Population (Millions): 13.72<br>Year: 2016"
         ],
         "type": "scatter",
         "x": [
          0.73,
          0.52,
          0.48,
          0.69,
          0.39,
          0.39,
          0.64,
          0.5,
          0.37,
          0.39,
          0.5,
          0.57,
          0.57,
          0.42,
          0.42,
          0,
          0.46,
          0.69,
          0.58,
          0.39,
          0.43,
          0.67,
          0.44,
          0.57,
          0.41,
          0.42,
          0.54,
          0.48,
          0.42,
          0.74,
          0.51,
          0.43,
          0.41,
          0.5,
          0.77,
          0.62,
          0.41,
          0.62,
          0.34,
          0.5,
          0.48,
          0,
          0.55,
          0.46,
          0.4,
          0,
          0.66,
          0.66,
          0.53,
          0.51,
          0.47,
          0.72,
          0.48,
          0.58,
          0.49
         ],
         "y": [
          1.14,
          0.2,
          0.51,
          2.36,
          0.12,
          0.04,
          0,
          0.19,
          0.08,
          0.01,
          0.25,
          0.47,
          0.47,
          0.07,
          0.07,
          0.26,
          0,
          1.02,
          3.17,
          0.03,
          0.07,
          0.43,
          0.21,
          0.43,
          0.16,
          0.09,
          0.2,
          0.51,
          0.14,
          2.33,
          0.07,
          0.07,
          0.1,
          0.55,
          1.99,
          0.67,
          0.17,
          1.02,
          0.1,
          0.21,
          0.07,
          3.27,
          0.37,
          0.3,
          0.07,
          0.07,
          2.34,
          2.34,
          0.67,
          0.17,
          0.31,
          1.11,
          0.08,
          0.24,
          0.53
         ]
        },
        {
         "marker": {
          "line": {
           "width": 2
          },
          "size": [
           0,
           0.91,
           0.91
          ],
          "sizemode": "area",
          "sizeref": 0.018799999999999997
         },
         "mode": "markers",
         "name": "North America",
         "text": [
          "Country: Bermuda<br>Total Ecological Footprint: 5.77<br>GDP per capita: $70,626.30<br>Population (Millions): 0.06<br>Year: 2016",
          "Country: Canada<br>Total Ecological Footprint: 8.17<br>GDP per capita: $52,145.40<br>Population (Millions): 34.84<br>Year: 2016",
          "Country: USA<br>Total Ecological Footprint: 8.22<br>GDP per capita: $49,725.00<br>Population (Millions): 317.5<br>Year: 2016"
         ],
         "type": "scatter",
         "x": [
          0,
          0.91,
          0.91
         ],
         "y": [
          0,
          5,
          5.9
         ]
        },
        {
         "marker": {
          "line": {
           "width": 2
          },
          "size": [
           0.46,
           0.73,
           0.75,
           0.82,
           0.75,
           0.76,
           0.65,
           0.89,
           0.75,
           0.78,
           0.82,
           0.65,
           0.76,
           0.79,
           0.85,
           0.83,
           0.62,
           0.62,
           0.76,
           0.68,
           0.83,
           0.67,
           0.5
          ],
          "sizemode": "area",
          "sizeref": 0.018799999999999997
         },
         "mode": "markers",
         "name": "Middle East/Central Asia",
         "text": [
          "Country: Afghanistan<br>Total Ecological Footprint: 0.79<br>GDP per capita: $614.66<br>Population (Millions): 29.82<br>Year: 2016",
          "Country: Armenia<br>Total Ecological Footprint: 2.23<br>GDP per capita: $3,426.39<br>Population (Millions): 2.97<br>Year: 2016",
          "Country: Azerbaijan<br>Total Ecological Footprint: 2.31<br>GDP per capita: $7,106.04<br>Population (Millions): 9.31<br>Year: 2016",
          "Country: Bahrain<br>Total Ecological Footprint: 7.49<br>GDP per capita: $24,299.00<br>Population (Millions): 1.32<br>Year: 2016",
          "Country: Georgia<br>Total Ecological Footprint: 1.58<br>GDP per capita: $3,710.70<br>Population (Millions): 4.36<br>Year: 2016",
          "Country: Iran<br>Total Ecological Footprint: 2.79<br>GDP per capita: $7,511.10<br>Population (Millions): 76.42<br>Year: 2016",
          "Country: Iraq<br>Total Ecological Footprint: 1.88<br>GDP per capita: $5,848.54<br>Population (Millions): 32.78<br>Year: 2016",
          "Country: Israel<br>Total Ecological Footprint: 6.22<br>GDP per capita: $33,718.90<br>Population (Millions): 7.64<br>Year: 2016",
          "Country: Jordan<br>Total Ecological Footprint: 2.1<br>GDP per capita: $4,615.17<br>Population (Millions): 7.01<br>Year: 2016",
          "Country: Kazakhstan<br>Total Ecological Footprint: 5.55<br>GDP per capita: $11,278.00<br>Population (Millions): 16.27<br>Year: 2016",
          "Country: Kuwait<br>Total Ecological Footprint: 8.13<br>GDP per capita: $41,830.50<br>Population (Millions): 3.25<br>Year: 2016",
          "Country: Kyrgyzstan<br>Total Ecological Footprint: 1.91<br>GDP per capita: $1,116.37<br>Population (Millions): 5.47<br>Year: 2016",
          "Country: Lebanon<br>Total Ecological Footprint: 3.84<br>GDP per capita: $9,143.86<br>Population (Millions): 4.65<br>Year: 2016",
          "Country: Oman<br>Total Ecological Footprint: 7.52<br>GDP per capita: $22,622.80<br>Population (Millions): 3.31<br>Year: 2016",
          "Country: Qatar<br>Total Ecological Footprint: 10.8<br>GDP per capita: $99,431.50<br>Population (Millions): 2.05<br>Year: 2016",
          "Country: Saudi Arabia<br>Total Ecological Footprint: 5.61<br>GDP per capita: $23,593.80<br>Population (Millions): 28.29<br>Year: 2016",
          "Country: Syrian Arab Republic<br>Total Ecological Footprint: 1.51<br>GDP per capita: 0<br>Population (Millions): 21.89<br>Year: 2016",
          "Country: Tajikistan<br>Total Ecological Footprint: 0.91<br>GDP per capita: $836.17<br>Population (Millions): 8.01<br>Year: 2016",
          "Country: Turkey<br>Total Ecological Footprint: 3.33<br>GDP per capita: $10,437.70<br>Population (Millions): 74.0<br>Year: 2016",
          "Country: Turkmenistan<br>Total Ecological Footprint: 5.47<br>GDP per capita: $5,290.14<br>Population (Millions): 5.17<br>Year: 2016",
          "Country: United Arab Emirates<br>Total Ecological Footprint: 7.93<br>GDP per capita: $40,817.40<br>Population (Millions): 9.206<br>Year: 2016",
          "Country: Uzbekistan<br>Total Ecological Footprint: 2.32<br>GDP per capita: $1,560.85<br>Population (Millions): 28.54<br>Year: 2016",
          "Country: Yemen<br>Total Ecological Footprint: 1.03<br>GDP per capita: $1,302.30<br>Population (Millions): 23.85<br>Year: 2016"
         ],
         "type": "scatter",
         "x": [
          0.46,
          0.73,
          0.75,
          0.82,
          0.75,
          0.76,
          0.65,
          0.89,
          0.75,
          0.78,
          0.82,
          0.65,
          0.76,
          0.79,
          0.85,
          0.83,
          0.62,
          0.62,
          0.76,
          0.68,
          0.83,
          0.67,
          0.5
         ],
         "y": [
          0.18,
          0.89,
          1.25,
          6.19,
          0.83,
          1.72,
          1.36,
          4.59,
          1.09,
          4.59,
          6.89,
          0.95,
          2.52,
          5.8,
          9.57,
          4.21,
          0.81,
          0.13,
          1.92,
          4.13,
          6.37,
          1.41,
          0.42
         ]
        },
        {
         "marker": {
          "line": {
           "width": 2
          },
          "size": [
           0.73,
           0.8,
           0.73,
           0.82,
           0.74,
           0.68,
           0.8,
           0.94,
           0.79,
           0.76,
           0.93,
           0.74
          ],
          "sizemode": "area",
          "sizeref": 0.018799999999999997
         },
         "mode": "markers",
         "name": "Northern/Eastern Europe",
         "text": [
          "Country: Albania<br>Total Ecological Footprint: 2.21<br>GDP per capita: $4,534.37<br>Population (Millions): 3.16<br>Year: 2016",
          "Country: Belarus<br>Total Ecological Footprint: 5.09<br>GDP per capita: $6,300.45<br>Population (Millions): 9.4<br>Year: 2016",
          "Country: Bosnia Herzegovina<br>Total Ecological Footprint: 3.12<br>GDP per capita: $4,708.85<br>Population (Millions): 3.83<br>Year: 2016",
          "Country: Croatia<br>Total Ecological Footprint: 3.92<br>GDP per capita: $14,522.80<br>Population (Millions): 4.31<br>Year: 2016",
          "Country: Macedonia<br>Total Ecological Footprint: 3.26<br>GDP per capita: $5,174.89<br>Population (Millions): 2.11<br>Year: 2016",
          "Country: Moldova<br>Total Ecological Footprint: 1.78<br>GDP per capita: $1,971.03<br>Population (Millions): 3.51<br>Year: 2016",
          "Country: Montenegro<br>Total Ecological Footprint: 3.78<br>GDP per capita: $7,251.60<br>Population (Millions): 0.62<br>Year: 2016",
          "Country: Norway<br>Total Ecological Footprint: 4.98<br>GDP per capita: $100,172.00<br>Population (Millions): 4.99<br>Year: 2016",
          "Country: Russian Federation<br>Total Ecological Footprint: 5.69<br>GDP per capita: $13,320.20<br>Population (Millions): 143.17<br>Year: 2016",
          "Country: Serbia<br>Total Ecological Footprint: 2.7<br>GDP per capita: $6,426.18<br>Population (Millions): 9.55<br>Year: 2016",
          "Country: Switzerland<br>Total Ecological Footprint: 5.79<br>GDP per capita: $88,506.20<br>Population (Millions): 8.0<br>Year: 2016",
          "Country: Ukraine<br>Total Ecological Footprint: 2.84<br>GDP per capita: $3,589.63<br>Population (Millions): 45.53<br>Year: 2016"
         ],
         "type": "scatter",
         "x": [
          0.73,
          0.8,
          0.73,
          0.82,
          0.74,
          0.68,
          0.8,
          0.94,
          0.79,
          0.76,
          0.93,
          0.74
         ],
         "y": [
          0.87,
          2.57,
          1.74,
          2.21,
          2.06,
          1.03,
          2.13,
          0,
          3.87,
          1.66,
          4.26,
          1.92
         ]
        },
        {
         "marker": {
          "line": {
           "width": 2
          },
          "size": [
           0.78,
           0.83,
           0,
           0.78,
           0.79,
           0.65,
           0.75,
           0,
           0,
           0.83,
           0.72,
           0.76,
           0.77,
           0.72,
           0.71,
           0.73,
           0.66,
           0,
           0.74,
           0,
           0.62,
           0.63,
           0.48,
           0.61,
           0.72,
           0,
           0.75,
           0,
           0.63,
           0.77,
           0.67,
           0.73,
           0.74,
           0.73,
           0.72,
           0.71,
           0.77,
           0.79,
           0.763846
          ],
          "sizemode": "area",
          "sizeref": 0.018799999999999997
         },
         "mode": "markers",
         "name": "Latin America",
         "text": [
          "Country: Antigua and Barbuda<br>Total Ecological Footprint: 5.38<br>GDP per capita: $13,205.10<br>Population (Millions): 0.09<br>Year: 2016",
          "Country: Argentina<br>Total Ecological Footprint: 3.14<br>GDP per capita: $13,540.00<br>Population (Millions): 41.09<br>Year: 2016",
          "Country: Aruba<br>Total Ecological Footprint: 11.88<br>GDP per capita: 0<br>Population (Millions): 0.1<br>Year: 2016",
          "Country: Bahamas<br>Total Ecological Footprint: 6.84<br>GDP per capita: $22,647.30<br>Population (Millions): 0.37<br>Year: 2016",
          "Country: Barbados<br>Total Ecological Footprint: 4.48<br>GDP per capita: $15,722.80<br>Population (Millions): 0.28<br>Year: 2016",
          "Country: Bolivia<br>Total Ecological Footprint: 2.96<br>GDP per capita: $2,253.09<br>Population (Millions): 10.5<br>Year: 2016",
          "Country: Brazil<br>Total Ecological Footprint: 3.11<br>GDP per capita: $13,237.60<br>Population (Millions): 198.66<br>Year: 2016",
          "Country: British Virgin Islands<br>Total Ecological Footprint: 2.86<br>GDP per capita: 0<br>Population (Millions): 0.03<br>Year: 2016",
          "Country: Cayman Islands<br>Total Ecological Footprint: 5.65<br>GDP per capita: 0<br>Population (Millions): 0.06<br>Year: 2016",
          "Country: Chile<br>Total Ecological Footprint: 4.36<br>GDP per capita: $14,525.80<br>Population (Millions): 17.46<br>Year: 2016",
          "Country: Colombia<br>Total Ecological Footprint: 1.87<br>GDP per capita: $7,305.22<br>Population (Millions): 47.7<br>Year: 2016",
          "Country: Costa Rica<br>Total Ecological Footprint: 2.84<br>GDP per capita: $8,979.96<br>Population (Millions): 4.8<br>Year: 2016",
          "Country: Cuba<br>Total Ecological Footprint: 1.95<br>GDP per capita: $5,175.94<br>Population (Millions): 11.27<br>Year: 2016",
          "Country: Dominica<br>Total Ecological Footprint: 2.57<br>GDP per capita: $7,088.01<br>Population (Millions): 0.07<br>Year: 2016",
          "Country: Dominican Republic<br>Total Ecological Footprint: 1.53<br>GDP per capita: $6,085.89<br>Population (Millions): 10.28<br>Year: 2016",
          "Country: Ecuador<br>Total Ecological Footprint: 2.17<br>GDP per capita: $5,192.88<br>Population (Millions): 15.49<br>Year: 2016",
          "Country: El Salvador<br>Total Ecological Footprint: 2.07<br>GDP per capita: $3,696.33<br>Population (Millions): 6.3<br>Year: 2016",
          "Country: French Guiana<br>Total Ecological Footprint: 2.34<br>GDP per capita: 0<br>Population (Millions): 0.24<br>Year: 2016",
          "Country: Grenada<br>Total Ecological Footprint: 2.98<br>GDP per capita: $7,410.48<br>Population (Millions): 0.1<br>Year: 2016",
          "Country: Guadeloupe<br>Total Ecological Footprint: 3.23<br>GDP per capita: 0<br>Population (Millions): 0.46<br>Year: 2016",
          "Country: Guatemala<br>Total Ecological Footprint: 1.89<br>GDP per capita: $3,233.80<br>Population (Millions): 15.08<br>Year: 2016",
          "Country: Guyana<br>Total Ecological Footprint: 3.07<br>GDP per capita: $3,269.46<br>Population (Millions): 0.8<br>Year: 2016",
          "Country: Haiti<br>Total Ecological Footprint: 0.61<br>GDP per capita: $749.13<br>Population (Millions): 10.17<br>Year: 2016",
          "Country: Honduras<br>Total Ecological Footprint: 1.68<br>GDP per capita: $2,269.51<br>Population (Millions): 7.94<br>Year: 2016",
          "Country: Jamaica<br>Total Ecological Footprint: 1.89<br>GDP per capita: $5,226.30<br>Population (Millions): 2.77<br>Year: 2016",
          "Country: Martinique<br>Total Ecological Footprint: 2.08<br>GDP per capita: 0<br>Population (Millions): 0.4<br>Year: 2016",
          "Country: Mexico<br>Total Ecological Footprint: 2.89<br>GDP per capita: $10,123.90<br>Population (Millions): 120.85<br>Year: 2016",
          "Country: Montserrat<br>Total Ecological Footprint: 7.78<br>GDP per capita: 0<br>Population (Millions): 0.0<br>Year: 2016",
          "Country: Nicaragua<br>Total Ecological Footprint: 1.39<br>GDP per capita: $1,626.85<br>Population (Millions): 5.99<br>Year: 2016",
          "Country: Panama<br>Total Ecological Footprint: 2.79<br>GDP per capita: $8,410.77<br>Population (Millions): 3.8<br>Year: 2016",
          "Country: Paraguay<br>Total Ecological Footprint: 4.16<br>GDP per capita: $3,557.31<br>Population (Millions): 6.69<br>Year: 2016",
          "Country: Peru<br>Total Ecological Footprint: 2.28<br>GDP per capita: $5,684.73<br>Population (Millions): 29.99<br>Year: 2016",
          "Country: Saint Kitts and Nevis<br>Total Ecological Footprint: 4.94<br>GDP per capita: $12,952.50<br>Population (Millions): 0.05<br>Year: 2016",
          "Country: Saint Lucia<br>Total Ecological Footprint: 2.45<br>GDP per capita: $7,737.20<br>Population (Millions): 0.18<br>Year: 2016",
          "Country: Saint Vincent and Grenadines<br>Total Ecological Footprint: 3.11<br>GDP per capita: $6,171.48<br>Population (Millions): 0.11<br>Year: 2016",
          "Country: Suriname<br>Total Ecological Footprint: 4.25<br>GDP per capita: $8,190.70<br>Population (Millions): 0.54<br>Year: 2016",
          "Country: Trinidad and Tobago<br>Total Ecological Footprint: 7.92<br>GDP per capita: $18,310.80<br>Population (Millions): 1.34<br>Year: 2016",
          "Country: Uruguay<br>Total Ecological Footprint: 2.91<br>GDP per capita: $14,238.10<br>Population (Millions): 3.4<br>Year: 2016",
          "Country: Venezuela<br>Total Ecological Footprint: 3.57<br>GDP per capita: $10,237.80<br>Population (Millions): 29.96<br>Year: 2016"
         ],
         "type": "scatter",
         "x": [
          0.78,
          0.83,
          0,
          0.78,
          0.79,
          0.65,
          0.75,
          0,
          0,
          0.83,
          0.72,
          0.76,
          0.77,
          0.72,
          0.71,
          0.73,
          0.66,
          0,
          0.74,
          0,
          0.62,
          0.63,
          0.48,
          0.61,
          0.72,
          0,
          0.75,
          0,
          0.63,
          0.77,
          0.67,
          0.73,
          0.74,
          0.73,
          0.72,
          0.71,
          0.77,
          0.79,
          0.763846
         ],
         "y": [
          0,
          1.08,
          0,
          4.46,
          3.28,
          0.67,
          0.91,
          0,
          3.56,
          2.04,
          0.67,
          1.37,
          1.23,
          1.47,
          0.86,
          1.08,
          0.84,
          1.58,
          0,
          2.61,
          0.7,
          1.25,
          0.15,
          0.6,
          1.09,
          1.73,
          1.74,
          0,
          0.45,
          1.44,
          0.97,
          0.67,
          3.34,
          1.56,
          0,
          3.01,
          6.89,
          0.98,
          2.13
         ]
        },
        {
         "marker": {
          "line": {
           "width": 2
          },
          "size": [
           0.93,
           0.56,
           0.59,
           0.85,
           0.55,
           0.72,
           0.72,
           0,
           0.6,
           0.68,
           0.89,
           0.89,
           0,
           0.56,
           0.77,
           0.71,
           0.53,
           0,
           0.54,
           0,
           0.91,
           0.53,
           0.5,
           0.66,
           0.7,
           0.91,
           0.5,
           0.75,
           0.72,
           0.6,
           0.72,
           0.66,
           0
          ],
          "sizemode": "area",
          "sizeref": 0.018799999999999997
         },
         "mode": "markers",
         "name": "Asia-Pacific",
         "text": [
          "Country: Australia<br>Total Ecological Footprint: 9.31<br>GDP per capita: $66,604.20<br>Population (Millions): 23.05<br>Year: 2016",
          "Country: Bangladesh<br>Total Ecological Footprint: 0.72<br>GDP per capita: $857.50<br>Population (Millions): 154.7<br>Year: 2016",
          "Country: Bhutan<br>Total Ecological Footprint: 4.84<br>GDP per capita: $2,395.00<br>Population (Millions): 0.74<br>Year: 2016",
          "Country: Brunei Darussalam<br>Total Ecological Footprint: 4.06<br>GDP per capita: $47,097.40<br>Population (Millions): 0.41<br>Year: 2016",
          "Country: Cambodia<br>Total Ecological Footprint: 1.21<br>GDP per capita: $877.64<br>Population (Millions): 14.86<br>Year: 2016",
          "Country: China<br>Total Ecological Footprint: 3.38<br>GDP per capita: $5,560.94<br>Population (Millions): 1408.04<br>Year: 2016",
          "Country: Fiji<br>Total Ecological Footprint: 2.9<br>GDP per capita: $4,201.37<br>Population (Millions): 0.88<br>Year: 2016",
          "Country: French Polynesia<br>Total Ecological Footprint: 4.73<br>GDP per capita: 0<br>Population (Millions): 0.27<br>Year: 2016",
          "Country: India<br>Total Ecological Footprint: 1.16<br>GDP per capita: $1,513.85<br>Population (Millions): 1236.69<br>Year: 2016",
          "Country: Indonesia<br>Total Ecological Footprint: 1.58<br>GDP per capita: $3,688.53<br>Population (Millions): 246.86<br>Year: 2016",
          "Country: Japan<br>Total Ecological Footprint: 5.02<br>GDP per capita: $46,201.60<br>Population (Millions): 127.25<br>Year: 2016",
          "Country: Korea, Republic of<br>Total Ecological Footprint: 5.69<br>GDP per capita: $24,155.80<br>Population (Millions): 49.0<br>Year: 2016",
          "Country: Korea, Republic of<br>Total Ecological Footprint: 1.17<br>GDP per capita: 0<br>Population (Millions): 24.76<br>Year: 2016",
          "Country: Lao People's Democratic Republic<br>Total Ecological Footprint: 1.22<br>GDP per capita: $1,236.24<br>Population (Millions): 6.65<br>Year: 2016",
          "Country: Malaysia<br>Total Ecological Footprint: 3.71<br>GDP per capita: $10,252.60<br>Population (Millions): 29.24<br>Year: 2016",
          "Country: Mongolia<br>Total Ecological Footprint: 6.08<br>GDP per capita: $3,736.07<br>Population (Millions): 2.8<br>Year: 2016",
          "Country: Myanmar<br>Total Ecological Footprint: 1.43<br>GDP per capita: $1,117.58<br>Population (Millions): 52.8<br>Year: 2016",
          "Country: Nauru<br>Total Ecological Footprint: 2.94<br>GDP per capita: 0<br>Population (Millions): 0.01<br>Year: 2016",
          "Country: Nepal<br>Total Ecological Footprint: 0.98<br>GDP per capita: $700.07<br>Population (Millions): 27.47<br>Year: 2016",
          "Country: New Caledonia<br>Total Ecological Footprint: 3.58<br>GDP per capita: 0<br>Population (Millions): 0.25<br>Year: 2016",
          "Country: New Zealand<br>Total Ecological Footprint: 5.6<br>GDP per capita: $37,488.30<br>Population (Millions): 4.46<br>Year: 2016",
          "Country: Pakistan<br>Total Ecological Footprint: 0.79<br>GDP per capita: $1,218.60<br>Population (Millions): 179.16<br>Year: 2016",
          "Country: Papua New Guinea<br>Total Ecological Footprint: 1.91<br>GDP per capita: $1,871.21<br>Population (Millions): 7.17<br>Year: 2016",
          "Country: Philippines<br>Total Ecological Footprint: 1.1<br>GDP per capita: $2,379.44<br>Population (Millions): 96.71<br>Year: 2016",
          "Country: Samoa<br>Total Ecological Footprint: 2.77<br>GDP per capita: $4,067.15<br>Population (Millions): 0.19<br>Year: 2016",
          "Country: Singapore<br>Total Ecological Footprint: 7.97<br>GDP per capita: $53,122.40<br>Population (Millions): 5.3<br>Year: 2016",
          "Country: Solomon Isds<br>Total Ecological Footprint: 1.29<br>GDP per capita: $1,647.86<br>Population (Millions): 0.55<br>Year: 2016",
          "Country: Sri Lanka<br>Total Ecological Footprint: 1.32<br>GDP per capita: $2,880.03<br>Population (Millions): 21.1<br>Year: 2016",
          "Country: Thailand<br>Total Ecological Footprint: 2.66<br>GDP per capita: $5,479.29<br>Population (Millions): 66.78<br>Year: 2016",
          "Country: Timor-Leste<br>Total Ecological Footprint: 0.48<br>GDP per capita: $5,167.86<br>Population (Millions): 1.11<br>Year: 2016",
          "Country: Tonga<br>Total Ecological Footprint: 2.7<br>GDP per capita: $4,330.90<br>Population (Millions): 0.1<br>Year: 2016",
          "Country: Viet Nam<br>Total Ecological Footprint: 1.65<br>GDP per capita: $1,532.31<br>Population (Millions): 90.8<br>Year: 2016",
          "Country: Wallis and Futuna Islands<br>Total Ecological Footprint: 2.07<br>GDP per capita: 0<br>Population (Millions): 0.01<br>Year: 2016"
         ],
         "type": "scatter",
         "x": [
          0.93,
          0.56,
          0.59,
          0.85,
          0.55,
          0.72,
          0.72,
          0,
          0.6,
          0.68,
          0.89,
          0.89,
          0,
          0.56,
          0.77,
          0.71,
          0.53,
          0,
          0.54,
          0,
          0.91,
          0.53,
          0.5,
          0.66,
          0.7,
          0.91,
          0.5,
          0.75,
          0.72,
          0.6,
          0.72,
          0.66,
          0
         ],
         "y": [
          4.85,
          0.26,
          0.63,
          3.24,
          0,
          2.32,
          1.06,
          2.39,
          0.61,
          0.64,
          3.69,
          4.17,
          0.68,
          0.09,
          2.1,
          2.09,
          0.09,
          0,
          0.16,
          1.78,
          2.84,
          0.38,
          0.35,
          0.34,
          0.96,
          5.91,
          0,
          0.52,
          1.54,
          0.06,
          0.88,
          0.79,
          0
         ]
        },
        {
         "marker": {
          "line": {
           "width": 2
          },
          "size": [
           0.88,
           0.89,
           0.78,
           0.85,
           0.87,
           0.92,
           0.85,
           0.88,
           0.89,
           0.91,
           0.91,
           0.86,
           0.82,
           0.91,
           0.87,
           0.81,
           0.83,
           0.89,
           0.92,
           0.84,
           0.83,
           0.79,
           0.84,
           0.88,
           0.87,
           0.9,
           0.9
          ],
          "sizemode": "area",
          "sizeref": 0.018799999999999997
         },
         "mode": "markers",
         "name": "European Union",
         "text": [
          "Country: Austria<br>Total Ecological Footprint: 6.06<br>GDP per capita: $51,274.10<br>Population (Millions): 8.46<br>Year: 2016",
          "Country: Belgium<br>Total Ecological Footprint: 7.44<br>GDP per capita: $48,053.30<br>Population (Millions): 11.06<br>Year: 2016",
          "Country: Bulgaria<br>Total Ecological Footprint: 3.32<br>GDP per capita: $7,615.28<br>Population (Millions): 7.28<br>Year: 2016",
          "Country: Cyprus<br>Total Ecological Footprint: 4.21<br>GDP per capita: $31,454.70<br>Population (Millions): 1.13<br>Year: 2016",
          "Country: Czech Republic<br>Total Ecological Footprint: 5.19<br>GDP per capita: $21,676.30<br>Population (Millions): 10.66<br>Year: 2016",
          "Country: Denmark<br>Total Ecological Footprint: 5.51<br>GDP per capita: $61,413.60<br>Population (Millions): 5.6<br>Year: 2016",
          "Country: Estonia<br>Total Ecological Footprint: 6.86<br>GDP per capita: $17,304.40<br>Population (Millions): 1.29<br>Year: 2016",
          "Country: Finland<br>Total Ecological Footprint: 5.87<br>GDP per capita: $50,960.20<br>Population (Millions): 5.41<br>Year: 2016",
          "Country: France<br>Total Ecological Footprint: 5.14<br>GDP per capita: $45,430.30<br>Population (Millions): 63.98<br>Year: 2016",
          "Country: Germany<br>Total Ecological Footprint: 5.3<br>GDP per capita: $46,822.40<br>Population (Millions): 82.8<br>Year: 2016",
          "Country: Germany<br>Total Ecological Footprint: 5.3<br>GDP per capita: $46,822.40<br>Population (Millions): 82.8<br>Year: 2016",
          "Country: Greece<br>Total Ecological Footprint: 4.38<br>GDP per capita: $25,987.40<br>Population (Millions): 11.12<br>Year: 2016",
          "Country: Hungary<br>Total Ecological Footprint: 2.92<br>GDP per capita: $13,964.20<br>Population (Millions): 9.98<br>Year: 2016",
          "Country: Ireland<br>Total Ecological Footprint: 5.57<br>GDP per capita: $52,853.60<br>Population (Millions): 4.58<br>Year: 2016",
          "Country: Italy<br>Total Ecological Footprint: 4.61<br>GDP per capita: $38,412.00<br>Population (Millions): 60.92<br>Year: 2016",
          "Country: Latvia<br>Total Ecological Footprint: 6.29<br>GDP per capita: $13,732.00<br>Population (Millions): 2.06<br>Year: 2016",
          "Country: Lithuania<br>Total Ecological Footprint: 5.83<br>GDP per capita: $14,373.70<br>Population (Millions): 3.03<br>Year: 2016",
          "Country: Luxembourg<br>Total Ecological Footprint: 15.82<br>GDP per capita: $114,665.00<br>Population (Millions): 0.52<br>Year: 2016",
          "Country: Netherlands<br>Total Ecological Footprint: 5.28<br>GDP per capita: $53,589.90<br>Population (Millions): 16.71<br>Year: 2016",
          "Country: Poland<br>Total Ecological Footprint: 4.44<br>GDP per capita: $13,769.50<br>Population (Millions): 38.21<br>Year: 2016",
          "Country: Portugal<br>Total Ecological Footprint: 3.88<br>GDP per capita: $23,217.30<br>Population (Millions): 10.6<br>Year: 2016",
          "Country: Romania<br>Total Ecological Footprint: 2.71<br>GDP per capita: $9,213.94<br>Population (Millions): 21.76<br>Year: 2016",
          "Country: Slovakia<br>Total Ecological Footprint: 4.06<br>GDP per capita: $18,103.10<br>Population (Millions): 5.45<br>Year: 2016",
          "Country: Slovenia<br>Total Ecological Footprint: 5.81<br>GDP per capita: $25,040.50<br>Population (Millions): 2.07<br>Year: 2016",
          "Country: Spain<br>Total Ecological Footprint: 3.67<br>GDP per capita: $32,008.70<br>Population (Millions): 46.76<br>Year: 2016",
          "Country: Sweden<br>Total Ecological Footprint: 7.25<br>GDP per capita: $59,381.90<br>Population (Millions): 9.51<br>Year: 2016",
          "Country: United Kingdom<br>Total Ecological Footprint: 4.94<br>GDP per capita: $40,980.50<br>Population (Millions): 63.03<br>Year: 2016"
         ],
         "type": "scatter",
         "x": [
          0.88,
          0.89,
          0.78,
          0.85,
          0.87,
          0.92,
          0.85,
          0.88,
          0.89,
          0.91,
          0.91,
          0.86,
          0.82,
          0.91,
          0.87,
          0.81,
          0.83,
          0.89,
          0.92,
          0.84,
          0.83,
          0.79,
          0.84,
          0.88,
          0.87,
          0.9,
          0.9
         ],
         "y": [
          4.14,
          4.43,
          2.08,
          2.94,
          3.42,
          2.6,
          0,
          0,
          2.71,
          3.28,
          3.28,
          2.58,
          1.9,
          3.22,
          2.77,
          1.66,
          2.15,
          12.65,
          3.23,
          2.64,
          2.15,
          1.46,
          2.82,
          4.27,
          2.22,
          3.88,
          3.14
         ]
        },
        {
         "marker": {
          "line": {
           "width": 2
          },
          "size": [],
          "sizemode": "area",
          "sizeref": 0.018799999999999997
         },
         "mode": "markers",
         "name": "nan",
         "text": [],
         "type": "scatter",
         "x": [],
         "y": []
        }
       ],
       "layout": {
        "paper_bgcolor": "rgb(243, 243, 243)",
        "plot_bgcolor": "rgb(243, 243, 243)",
        "template": {
         "data": {
          "bar": [
           {
            "error_x": {
             "color": "#2a3f5f"
            },
            "error_y": {
             "color": "#2a3f5f"
            },
            "marker": {
             "line": {
              "color": "#E5ECF6",
              "width": 0.5
             },
             "pattern": {
              "fillmode": "overlay",
              "size": 10,
              "solidity": 0.2
             }
            },
            "type": "bar"
           }
          ],
          "barpolar": [
           {
            "marker": {
             "line": {
              "color": "#E5ECF6",
              "width": 0.5
             },
             "pattern": {
              "fillmode": "overlay",
              "size": 10,
              "solidity": 0.2
             }
            },
            "type": "barpolar"
           }
          ],
          "carpet": [
           {
            "aaxis": {
             "endlinecolor": "#2a3f5f",
             "gridcolor": "white",
             "linecolor": "white",
             "minorgridcolor": "white",
             "startlinecolor": "#2a3f5f"
            },
            "baxis": {
             "endlinecolor": "#2a3f5f",
             "gridcolor": "white",
             "linecolor": "white",
             "minorgridcolor": "white",
             "startlinecolor": "#2a3f5f"
            },
            "type": "carpet"
           }
          ],
          "choropleth": [
           {
            "colorbar": {
             "outlinewidth": 0,
             "ticks": ""
            },
            "type": "choropleth"
           }
          ],
          "contour": [
           {
            "colorbar": {
             "outlinewidth": 0,
             "ticks": ""
            },
            "colorscale": [
             [
              0,
              "#0d0887"
             ],
             [
              0.1111111111111111,
              "#46039f"
             ],
             [
              0.2222222222222222,
              "#7201a8"
             ],
             [
              0.3333333333333333,
              "#9c179e"
             ],
             [
              0.4444444444444444,
              "#bd3786"
             ],
             [
              0.5555555555555556,
              "#d8576b"
             ],
             [
              0.6666666666666666,
              "#ed7953"
             ],
             [
              0.7777777777777778,
              "#fb9f3a"
             ],
             [
              0.8888888888888888,
              "#fdca26"
             ],
             [
              1,
              "#f0f921"
             ]
            ],
            "type": "contour"
           }
          ],
          "contourcarpet": [
           {
            "colorbar": {
             "outlinewidth": 0,
             "ticks": ""
            },
            "type": "contourcarpet"
           }
          ],
          "heatmap": [
           {
            "colorbar": {
             "outlinewidth": 0,
             "ticks": ""
            },
            "colorscale": [
             [
              0,
              "#0d0887"
             ],
             [
              0.1111111111111111,
              "#46039f"
             ],
             [
              0.2222222222222222,
              "#7201a8"
             ],
             [
              0.3333333333333333,
              "#9c179e"
             ],
             [
              0.4444444444444444,
              "#bd3786"
             ],
             [
              0.5555555555555556,
              "#d8576b"
             ],
             [
              0.6666666666666666,
              "#ed7953"
             ],
             [
              0.7777777777777778,
              "#fb9f3a"
             ],
             [
              0.8888888888888888,
              "#fdca26"
             ],
             [
              1,
              "#f0f921"
             ]
            ],
            "type": "heatmap"
           }
          ],
          "heatmapgl": [
           {
            "colorbar": {
             "outlinewidth": 0,
             "ticks": ""
            },
            "colorscale": [
             [
              0,
              "#0d0887"
             ],
             [
              0.1111111111111111,
              "#46039f"
             ],
             [
              0.2222222222222222,
              "#7201a8"
             ],
             [
              0.3333333333333333,
              "#9c179e"
             ],
             [
              0.4444444444444444,
              "#bd3786"
             ],
             [
              0.5555555555555556,
              "#d8576b"
             ],
             [
              0.6666666666666666,
              "#ed7953"
             ],
             [
              0.7777777777777778,
              "#fb9f3a"
             ],
             [
              0.8888888888888888,
              "#fdca26"
             ],
             [
              1,
              "#f0f921"
             ]
            ],
            "type": "heatmapgl"
           }
          ],
          "histogram": [
           {
            "marker": {
             "pattern": {
              "fillmode": "overlay",
              "size": 10,
              "solidity": 0.2
             }
            },
            "type": "histogram"
           }
          ],
          "histogram2d": [
           {
            "colorbar": {
             "outlinewidth": 0,
             "ticks": ""
            },
            "colorscale": [
             [
              0,
              "#0d0887"
             ],
             [
              0.1111111111111111,
              "#46039f"
             ],
             [
              0.2222222222222222,
              "#7201a8"
             ],
             [
              0.3333333333333333,
              "#9c179e"
             ],
             [
              0.4444444444444444,
              "#bd3786"
             ],
             [
              0.5555555555555556,
              "#d8576b"
             ],
             [
              0.6666666666666666,
              "#ed7953"
             ],
             [
              0.7777777777777778,
              "#fb9f3a"
             ],
             [
              0.8888888888888888,
              "#fdca26"
             ],
             [
              1,
              "#f0f921"
             ]
            ],
            "type": "histogram2d"
           }
          ],
          "histogram2dcontour": [
           {
            "colorbar": {
             "outlinewidth": 0,
             "ticks": ""
            },
            "colorscale": [
             [
              0,
              "#0d0887"
             ],
             [
              0.1111111111111111,
              "#46039f"
             ],
             [
              0.2222222222222222,
              "#7201a8"
             ],
             [
              0.3333333333333333,
              "#9c179e"
             ],
             [
              0.4444444444444444,
              "#bd3786"
             ],
             [
              0.5555555555555556,
              "#d8576b"
             ],
             [
              0.6666666666666666,
              "#ed7953"
             ],
             [
              0.7777777777777778,
              "#fb9f3a"
             ],
             [
              0.8888888888888888,
              "#fdca26"
             ],
             [
              1,
              "#f0f921"
             ]
            ],
            "type": "histogram2dcontour"
           }
          ],
          "mesh3d": [
           {
            "colorbar": {
             "outlinewidth": 0,
             "ticks": ""
            },
            "type": "mesh3d"
           }
          ],
          "parcoords": [
           {
            "line": {
             "colorbar": {
              "outlinewidth": 0,
              "ticks": ""
             }
            },
            "type": "parcoords"
           }
          ],
          "pie": [
           {
            "automargin": true,
            "type": "pie"
           }
          ],
          "scatter": [
           {
            "marker": {
             "colorbar": {
              "outlinewidth": 0,
              "ticks": ""
             }
            },
            "type": "scatter"
           }
          ],
          "scatter3d": [
           {
            "line": {
             "colorbar": {
              "outlinewidth": 0,
              "ticks": ""
             }
            },
            "marker": {
             "colorbar": {
              "outlinewidth": 0,
              "ticks": ""
             }
            },
            "type": "scatter3d"
           }
          ],
          "scattercarpet": [
           {
            "marker": {
             "colorbar": {
              "outlinewidth": 0,
              "ticks": ""
             }
            },
            "type": "scattercarpet"
           }
          ],
          "scattergeo": [
           {
            "marker": {
             "colorbar": {
              "outlinewidth": 0,
              "ticks": ""
             }
            },
            "type": "scattergeo"
           }
          ],
          "scattergl": [
           {
            "marker": {
             "colorbar": {
              "outlinewidth": 0,
              "ticks": ""
             }
            },
            "type": "scattergl"
           }
          ],
          "scattermapbox": [
           {
            "marker": {
             "colorbar": {
              "outlinewidth": 0,
              "ticks": ""
             }
            },
            "type": "scattermapbox"
           }
          ],
          "scatterpolar": [
           {
            "marker": {
             "colorbar": {
              "outlinewidth": 0,
              "ticks": ""
             }
            },
            "type": "scatterpolar"
           }
          ],
          "scatterpolargl": [
           {
            "marker": {
             "colorbar": {
              "outlinewidth": 0,
              "ticks": ""
             }
            },
            "type": "scatterpolargl"
           }
          ],
          "scatterternary": [
           {
            "marker": {
             "colorbar": {
              "outlinewidth": 0,
              "ticks": ""
             }
            },
            "type": "scatterternary"
           }
          ],
          "surface": [
           {
            "colorbar": {
             "outlinewidth": 0,
             "ticks": ""
            },
            "colorscale": [
             [
              0,
              "#0d0887"
             ],
             [
              0.1111111111111111,
              "#46039f"
             ],
             [
              0.2222222222222222,
              "#7201a8"
             ],
             [
              0.3333333333333333,
              "#9c179e"
             ],
             [
              0.4444444444444444,
              "#bd3786"
             ],
             [
              0.5555555555555556,
              "#d8576b"
             ],
             [
              0.6666666666666666,
              "#ed7953"
             ],
             [
              0.7777777777777778,
              "#fb9f3a"
             ],
             [
              0.8888888888888888,
              "#fdca26"
             ],
             [
              1,
              "#f0f921"
             ]
            ],
            "type": "surface"
           }
          ],
          "table": [
           {
            "cells": {
             "fill": {
              "color": "#EBF0F8"
             },
             "line": {
              "color": "white"
             }
            },
            "header": {
             "fill": {
              "color": "#C8D4E3"
             },
             "line": {
              "color": "white"
             }
            },
            "type": "table"
           }
          ]
         },
         "layout": {
          "annotationdefaults": {
           "arrowcolor": "#2a3f5f",
           "arrowhead": 0,
           "arrowwidth": 1
          },
          "autotypenumbers": "strict",
          "coloraxis": {
           "colorbar": {
            "outlinewidth": 0,
            "ticks": ""
           }
          },
          "colorscale": {
           "diverging": [
            [
             0,
             "#8e0152"
            ],
            [
             0.1,
             "#c51b7d"
            ],
            [
             0.2,
             "#de77ae"
            ],
            [
             0.3,
             "#f1b6da"
            ],
            [
             0.4,
             "#fde0ef"
            ],
            [
             0.5,
             "#f7f7f7"
            ],
            [
             0.6,
             "#e6f5d0"
            ],
            [
             0.7,
             "#b8e186"
            ],
            [
             0.8,
             "#7fbc41"
            ],
            [
             0.9,
             "#4d9221"
            ],
            [
             1,
             "#276419"
            ]
           ],
           "sequential": [
            [
             0,
             "#0d0887"
            ],
            [
             0.1111111111111111,
             "#46039f"
            ],
            [
             0.2222222222222222,
             "#7201a8"
            ],
            [
             0.3333333333333333,
             "#9c179e"
            ],
            [
             0.4444444444444444,
             "#bd3786"
            ],
            [
             0.5555555555555556,
             "#d8576b"
            ],
            [
             0.6666666666666666,
             "#ed7953"
            ],
            [
             0.7777777777777778,
             "#fb9f3a"
            ],
            [
             0.8888888888888888,
             "#fdca26"
            ],
            [
             1,
             "#f0f921"
            ]
           ],
           "sequentialminus": [
            [
             0,
             "#0d0887"
            ],
            [
             0.1111111111111111,
             "#46039f"
            ],
            [
             0.2222222222222222,
             "#7201a8"
            ],
            [
             0.3333333333333333,
             "#9c179e"
            ],
            [
             0.4444444444444444,
             "#bd3786"
            ],
            [
             0.5555555555555556,
             "#d8576b"
            ],
            [
             0.6666666666666666,
             "#ed7953"
            ],
            [
             0.7777777777777778,
             "#fb9f3a"
            ],
            [
             0.8888888888888888,
             "#fdca26"
            ],
            [
             1,
             "#f0f921"
            ]
           ]
          },
          "colorway": [
           "#636efa",
           "#EF553B",
           "#00cc96",
           "#ab63fa",
           "#FFA15A",
           "#19d3f3",
           "#FF6692",
           "#B6E880",
           "#FF97FF",
           "#FECB52"
          ],
          "font": {
           "color": "#2a3f5f"
          },
          "geo": {
           "bgcolor": "white",
           "lakecolor": "white",
           "landcolor": "#E5ECF6",
           "showlakes": true,
           "showland": true,
           "subunitcolor": "white"
          },
          "hoverlabel": {
           "align": "left"
          },
          "hovermode": "closest",
          "mapbox": {
           "style": "light"
          },
          "paper_bgcolor": "white",
          "plot_bgcolor": "#E5ECF6",
          "polar": {
           "angularaxis": {
            "gridcolor": "white",
            "linecolor": "white",
            "ticks": ""
           },
           "bgcolor": "#E5ECF6",
           "radialaxis": {
            "gridcolor": "white",
            "linecolor": "white",
            "ticks": ""
           }
          },
          "scene": {
           "xaxis": {
            "backgroundcolor": "#E5ECF6",
            "gridcolor": "white",
            "gridwidth": 2,
            "linecolor": "white",
            "showbackground": true,
            "ticks": "",
            "zerolinecolor": "white"
           },
           "yaxis": {
            "backgroundcolor": "#E5ECF6",
            "gridcolor": "white",
            "gridwidth": 2,
            "linecolor": "white",
            "showbackground": true,
            "ticks": "",
            "zerolinecolor": "white"
           },
           "zaxis": {
            "backgroundcolor": "#E5ECF6",
            "gridcolor": "white",
            "gridwidth": 2,
            "linecolor": "white",
            "showbackground": true,
            "ticks": "",
            "zerolinecolor": "white"
           }
          },
          "shapedefaults": {
           "line": {
            "color": "#2a3f5f"
           }
          },
          "ternary": {
           "aaxis": {
            "gridcolor": "white",
            "linecolor": "white",
            "ticks": ""
           },
           "baxis": {
            "gridcolor": "white",
            "linecolor": "white",
            "ticks": ""
           },
           "bgcolor": "#E5ECF6",
           "caxis": {
            "gridcolor": "white",
            "linecolor": "white",
            "ticks": ""
           }
          },
          "title": {
           "x": 0.05
          },
          "xaxis": {
           "automargin": true,
           "gridcolor": "white",
           "linecolor": "white",
           "ticks": "",
           "title": {
            "standoff": 15
           },
           "zerolinecolor": "white",
           "zerolinewidth": 2
          },
          "yaxis": {
           "automargin": true,
           "gridcolor": "white",
           "linecolor": "white",
           "ticks": "",
           "title": {
            "standoff": 15
           },
           "zerolinecolor": "white",
           "zerolinewidth": 2
          }
         }
        },
        "title": {
         "text": "Human Development Impact on Carbon Footprint"
        },
        "xaxis": {
         "gridcolor": "rgb(255, 255, 255)",
         "gridwidth": 2,
         "range": [
          0.2,
          1
         ],
         "ticklen": 5,
         "title": {
          "text": "Human Development Index"
         },
         "zerolinewidth": 1
        },
        "yaxis": {
         "gridcolor": "rgb(255, 255, 255)",
         "gridwidth": 2,
         "range": [
          -5,
          15
         ],
         "ticklen": 5,
         "title": {
          "text": "Carbon Footprint"
         },
         "zerolinewidth": 1
        }
       }
      },
      "text/html": [
       "<div>                            <div id=\"3f1737aa-290f-41e1-8710-35825dd9977e\" class=\"plotly-graph-div\" style=\"height:525px; width:100%;\"></div>            <script type=\"text/javascript\">                require([\"plotly\"], function(Plotly) {                    window.PLOTLYENV=window.PLOTLYENV || {};                                    if (document.getElementById(\"3f1737aa-290f-41e1-8710-35825dd9977e\")) {                    Plotly.newPlot(                        \"3f1737aa-290f-41e1-8710-35825dd9977e\",                        [{\"marker\":{\"line\":{\"width\":2},\"size\":[0.73,0.52,0.48,0.69,0.39,0.39,0.64,0.5,0.37,0.39,0.5,0.57,0.57,0.42,0.42,0.0,0.46,0.69,0.58,0.39,0.43,0.67,0.44,0.57,0.41,0.42,0.54,0.48,0.42,0.74,0.51,0.43,0.41,0.5,0.77,0.62,0.41,0.62,0.34,0.5,0.48,0.0,0.55,0.46,0.4,0.0,0.66,0.66,0.53,0.51,0.47,0.72,0.48,0.58,0.49],\"sizemode\":\"area\",\"sizeref\":0.018799999999999997,\"symbol\":\"circle\"},\"mode\":\"markers\",\"name\":\"Africa\",\"text\":[\"Country: Algeria<br>Total Ecological Footprint: 2.12<br>GDP per capita: $5,430.57<br>Population (Millions): 38.48<br>Year: 2016\",\"Country: Angola<br>Total Ecological Footprint: 0.93<br>GDP per capita: $4,665.91<br>Population (Millions): 20.82<br>Year: 2016\",\"Country: Benin<br>Total Ecological Footprint: 1.41<br>GDP per capita: $746.83<br>Population (Millions): 10.05<br>Year: 2016\",\"Country: Botswana<br>Total Ecological Footprint: 3.83<br>GDP per capita: $7,743.50<br>Population (Millions): 2.0<br>Year: 2016\",\"Country: Burkina Faso<br>Total Ecological Footprint: 1.21<br>GDP per capita: $671.07<br>Population (Millions): 16.46<br>Year: 2016\",\"Country: Burundi<br>Total Ecological Footprint: 0.8<br>GDP per capita: $276.69<br>Population (Millions): 9.85<br>Year: 2016\",\"Country: Cabo Verde<br>Total Ecological Footprint: 2.52<br>GDP per capita: $3,801.45<br>Population (Millions): 0.49<br>Year: 2016\",\"Country: Cameroon<br>Total Ecological Footprint: 1.17<br>GDP per capita: $1,271.21<br>Population (Millions): 21.7<br>Year: 2016\",\"Country: Central African Republic<br>Total Ecological Footprint: 1.24<br>GDP per capita: $495.04<br>Population (Millions): 4.53<br>Year: 2016\",\"Country: Chad<br>Total Ecological Footprint: 1.46<br>GDP per capita: $1,161.22<br>Population (Millions): 12.45<br>Year: 2016\",\"Country: Comoros<br>Total Ecological Footprint: 1.03<br>GDP per capita: $860.24<br>Population (Millions): 0.72<br>Year: 2016\",\"Country: Congo<br>Total Ecological Footprint: 1.29<br>GDP per capita: $1,943.69<br>Population (Millions): 4.34<br>Year: 2016\",\"Country: Congo<br>Total Ecological Footprint: 1.29<br>GDP per capita: $1,943.69<br>Population (Millions): 4.34<br>Year: 2016\",\"Country: Congo<br>Total Ecological Footprint: 0.82<br>GDP per capita: $338.63<br>Population (Millions): 65.7<br>Year: 2016\",\"Country: Congo<br>Total Ecological Footprint: 0.82<br>GDP per capita: $338.63<br>Population (Millions): 65.7<br>Year: 2016\",\"Country: CotedeIvoire<br>Total Ecological Footprint: 1.27<br>GDP per capita: $1,016.83<br>Population (Millions): 19.84<br>Year: 2016\",\"Country: Djibouti<br>Total Ecological Footprint: 2.19<br>GDP per capita: $1,433.17<br>Population (Millions): 0.86<br>Year: 2016\",\"Country: Egypt<br>Total Ecological Footprint: 2.15<br>GDP per capita: $2,930.33<br>Population (Millions): 80.72<br>Year: 2016\",\"Country: Equatorial Guinea<br>Total Ecological Footprint: 3.97<br>GDP per capita: $24,064.00<br>Population (Millions): 0.74<br>Year: 2016\",\"Country: Eritrea<br>Total Ecological Footprint: 0.42<br>GDP per capita: $439.73<br>Population (Millions): 6.13<br>Year: 2016\",\"Country: Ethiopia<br>Total Ecological Footprint: 1.02<br>GDP per capita: $379.38<br>Population (Millions): 91.73<br>Year: 2016\",\"Country: Gabon<br>Total Ecological Footprint: 2.02<br>GDP per capita: $11,989.00<br>Population (Millions): 1.63<br>Year: 2016\",\"Country: Gambia<br>Total Ecological Footprint: 1.03<br>GDP per capita: $505.76<br>Population (Millions): 1.79<br>Year: 2016\",\"Country: Ghana<br>Total Ecological Footprint: 1.97<br>GDP per capita: $1,627.90<br>Population (Millions): 25.37<br>Year: 2016\",\"Country: Guinea<br>Total Ecological Footprint: 1.41<br>GDP per capita: $459.09<br>Population (Millions): 11.45<br>Year: 2016\",\"Country: Guinea-Bissau<br>Total Ecological Footprint: 1.53<br>GDP per capita: $681.25<br>Population (Millions): 1.66<br>Year: 2016\",\"Country: Kenya<br>Total Ecological Footprint: 1.03<br>GDP per capita: $1,062.11<br>Population (Millions): 43.18<br>Year: 2016\",\"Country: Lesotho<br>Total Ecological Footprint: 1.66<br>GDP per capita: $1,338.42<br>Population (Millions): 2.05<br>Year: 2016\",\"Country: Liberia<br>Total Ecological Footprint: 1.21<br>GDP per capita: $397.38<br>Population (Millions): 4.19<br>Year: 2016\",\"Country: Libyan Arab Jamahiriya<br>Total Ecological Footprint: 3.69<br>GDP per capita: $5,859.43<br>Population (Millions): 6.16<br>Year: 2016\",\"Country: Madagascar<br>Total Ecological Footprint: 0.99<br>GDP per capita: $456.33<br>Population (Millions): 22.29<br>Year: 2016\",\"Country: Malawi<br>Total Ecological Footprint: 0.81<br>GDP per capita: $493.84<br>Population (Millions): 15.91<br>Year: 2016\",\"Country: Mali<br>Total Ecological Footprint: 1.53<br>GDP per capita: $741.22<br>Population (Millions): 14.85<br>Year: 2016\",\"Country: Mauritania<br>Total Ecological Footprint: 2.54<br>GDP per capita: $1,524.39<br>Population (Millions): 3.8<br>Year: 2016\",\"Country: Mauritius<br>Total Ecological Footprint: 3.46<br>GDP per capita: $8,811.15<br>Population (Millions): 1.24<br>Year: 2016\",\"Country: Morocco<br>Total Ecological Footprint: 1.68<br>GDP per capita: $3,149.43<br>Population (Millions): 32.52<br>Year: 2016\",\"Country: Mozambique<br>Total Ecological Footprint: 0.87<br>GDP per capita: $538.82<br>Population (Millions): 25.2<br>Year: 2016\",\"Country: Namibia<br>Total Ecological Footprint: 2.48<br>GDP per capita: $5,880.80<br>Population (Millions): 2.26<br>Year: 2016\",\"Country: Niger<br>Total Ecological Footprint: 1.56<br>GDP per capita: $410.91<br>Population (Millions): 17.16<br>Year: 2016\",\"Country: Nigeria<br>Total Ecological Footprint: 1.16<br>GDP per capita: $2,612.12<br>Population (Millions): 168.83<br>Year: 2016\",\"Country: Rwanda<br>Total Ecological Footprint: 0.87<br>GDP per capita: $628.08<br>Population (Millions): 11.46<br>Year: 2016\",\"Country: R\\u00e9union<br>Total Ecological Footprint: 3.65<br>GDP per capita: 0<br>Population (Millions): 0.86<br>Year: 2016\",\"Country: Sao Tome and Principe<br>Total Ecological Footprint: 1.49<br>GDP per capita: $1,384.53<br>Population (Millions): 0.19<br>Year: 2016\",\"Country: Senegal<br>Total Ecological Footprint: 1.21<br>GDP per capita: $1,079.27<br>Population (Millions): 13.73<br>Year: 2016\",\"Country: Sierra Leone<br>Total Ecological Footprint: 1.24<br>GDP per capita: $499.89<br>Population (Millions): 5.98<br>Year: 2016\",\"Country: Somalia<br>Total Ecological Footprint: 1.24<br>GDP per capita: 0<br>Population (Millions): 10.2<br>Year: 2016\",\"Country: South Africa<br>Total Ecological Footprint: 3.31<br>GDP per capita: $8,089.87<br>Population (Millions): 52.39<br>Year: 2016\",\"Country: South Africa<br>Total Ecological Footprint: 3.31<br>GDP per capita: $8,089.87<br>Population (Millions): 52.39<br>Year: 2016\",\"Country: Swaziland<br>Total Ecological Footprint: 2.01<br>GDP per capita: $4,657.48<br>Population (Millions): 1.23<br>Year: 2016\",\"Country: Tanzania, United Republic of<br>Total Ecological Footprint: 1.32<br>GDP per capita: $765.33<br>Population (Millions): 47.78<br>Year: 2016\",\"Country: Togo<br>Total Ecological Footprint: 1.13<br>GDP per capita: $580.86<br>Population (Millions): 6.64<br>Year: 2016\",\"Country: Tunisia<br>Total Ecological Footprint: 2.34<br>GDP per capita: $4,305.07<br>Population (Millions): 10.88<br>Year: 2016\",\"Country: Uganda<br>Total Ecological Footprint: 1.24<br>GDP per capita: $601.35<br>Population (Millions): 36.35<br>Year: 2016\",\"Country: Zambia<br>Total Ecological Footprint: 0.99<br>GDP per capita: $1,740.64<br>Population (Millions): 14.08<br>Year: 2016\",\"Country: Zimbabwe<br>Total Ecological Footprint: 1.37<br>GDP per capita: $865.91<br>Population (Millions): 13.72<br>Year: 2016\"],\"x\":[0.73,0.52,0.48,0.69,0.39,0.39,0.64,0.5,0.37,0.39,0.5,0.57,0.57,0.42,0.42,0.0,0.46,0.69,0.58,0.39,0.43,0.67,0.44,0.57,0.41,0.42,0.54,0.48,0.42,0.74,0.51,0.43,0.41,0.5,0.77,0.62,0.41,0.62,0.34,0.5,0.48,0.0,0.55,0.46,0.4,0.0,0.66,0.66,0.53,0.51,0.47,0.72,0.48,0.58,0.49],\"y\":[1.14,0.2,0.51,2.36,0.12,0.04,0.0,0.19,0.08,0.01,0.25,0.47,0.47,0.07,0.07,0.26,0.0,1.02,3.17,0.03,0.07,0.43,0.21,0.43,0.16,0.09,0.2,0.51,0.14,2.33,0.07,0.07,0.1,0.55,1.99,0.67,0.17,1.02,0.1,0.21,0.07,3.27,0.37,0.3,0.07,0.07,2.34,2.34,0.67,0.17,0.31,1.11,0.08,0.24,0.53],\"type\":\"scatter\"},{\"marker\":{\"line\":{\"width\":2},\"size\":[0.0,0.91,0.91],\"sizemode\":\"area\",\"sizeref\":0.018799999999999997},\"mode\":\"markers\",\"name\":\"North America\",\"text\":[\"Country: Bermuda<br>Total Ecological Footprint: 5.77<br>GDP per capita: $70,626.30<br>Population (Millions): 0.06<br>Year: 2016\",\"Country: Canada<br>Total Ecological Footprint: 8.17<br>GDP per capita: $52,145.40<br>Population (Millions): 34.84<br>Year: 2016\",\"Country: USA<br>Total Ecological Footprint: 8.22<br>GDP per capita: $49,725.00<br>Population (Millions): 317.5<br>Year: 2016\"],\"x\":[0.0,0.91,0.91],\"y\":[0.0,5.0,5.9],\"type\":\"scatter\"},{\"marker\":{\"line\":{\"width\":2},\"size\":[0.46,0.73,0.75,0.82,0.75,0.76,0.65,0.89,0.75,0.78,0.82,0.65,0.76,0.79,0.85,0.83,0.62,0.62,0.76,0.68,0.83,0.67,0.5],\"sizemode\":\"area\",\"sizeref\":0.018799999999999997},\"mode\":\"markers\",\"name\":\"Middle East/Central Asia\",\"text\":[\"Country: Afghanistan<br>Total Ecological Footprint: 0.79<br>GDP per capita: $614.66<br>Population (Millions): 29.82<br>Year: 2016\",\"Country: Armenia<br>Total Ecological Footprint: 2.23<br>GDP per capita: $3,426.39<br>Population (Millions): 2.97<br>Year: 2016\",\"Country: Azerbaijan<br>Total Ecological Footprint: 2.31<br>GDP per capita: $7,106.04<br>Population (Millions): 9.31<br>Year: 2016\",\"Country: Bahrain<br>Total Ecological Footprint: 7.49<br>GDP per capita: $24,299.00<br>Population (Millions): 1.32<br>Year: 2016\",\"Country: Georgia<br>Total Ecological Footprint: 1.58<br>GDP per capita: $3,710.70<br>Population (Millions): 4.36<br>Year: 2016\",\"Country: Iran<br>Total Ecological Footprint: 2.79<br>GDP per capita: $7,511.10<br>Population (Millions): 76.42<br>Year: 2016\",\"Country: Iraq<br>Total Ecological Footprint: 1.88<br>GDP per capita: $5,848.54<br>Population (Millions): 32.78<br>Year: 2016\",\"Country: Israel<br>Total Ecological Footprint: 6.22<br>GDP per capita: $33,718.90<br>Population (Millions): 7.64<br>Year: 2016\",\"Country: Jordan<br>Total Ecological Footprint: 2.1<br>GDP per capita: $4,615.17<br>Population (Millions): 7.01<br>Year: 2016\",\"Country: Kazakhstan<br>Total Ecological Footprint: 5.55<br>GDP per capita: $11,278.00<br>Population (Millions): 16.27<br>Year: 2016\",\"Country: Kuwait<br>Total Ecological Footprint: 8.13<br>GDP per capita: $41,830.50<br>Population (Millions): 3.25<br>Year: 2016\",\"Country: Kyrgyzstan<br>Total Ecological Footprint: 1.91<br>GDP per capita: $1,116.37<br>Population (Millions): 5.47<br>Year: 2016\",\"Country: Lebanon<br>Total Ecological Footprint: 3.84<br>GDP per capita: $9,143.86<br>Population (Millions): 4.65<br>Year: 2016\",\"Country: Oman<br>Total Ecological Footprint: 7.52<br>GDP per capita: $22,622.80<br>Population (Millions): 3.31<br>Year: 2016\",\"Country: Qatar<br>Total Ecological Footprint: 10.8<br>GDP per capita: $99,431.50<br>Population (Millions): 2.05<br>Year: 2016\",\"Country: Saudi Arabia<br>Total Ecological Footprint: 5.61<br>GDP per capita: $23,593.80<br>Population (Millions): 28.29<br>Year: 2016\",\"Country: Syrian Arab Republic<br>Total Ecological Footprint: 1.51<br>GDP per capita: 0<br>Population (Millions): 21.89<br>Year: 2016\",\"Country: Tajikistan<br>Total Ecological Footprint: 0.91<br>GDP per capita: $836.17<br>Population (Millions): 8.01<br>Year: 2016\",\"Country: Turkey<br>Total Ecological Footprint: 3.33<br>GDP per capita: $10,437.70<br>Population (Millions): 74.0<br>Year: 2016\",\"Country: Turkmenistan<br>Total Ecological Footprint: 5.47<br>GDP per capita: $5,290.14<br>Population (Millions): 5.17<br>Year: 2016\",\"Country: United Arab Emirates<br>Total Ecological Footprint: 7.93<br>GDP per capita: $40,817.40<br>Population (Millions): 9.206<br>Year: 2016\",\"Country: Uzbekistan<br>Total Ecological Footprint: 2.32<br>GDP per capita: $1,560.85<br>Population (Millions): 28.54<br>Year: 2016\",\"Country: Yemen<br>Total Ecological Footprint: 1.03<br>GDP per capita: $1,302.30<br>Population (Millions): 23.85<br>Year: 2016\"],\"x\":[0.46,0.73,0.75,0.82,0.75,0.76,0.65,0.89,0.75,0.78,0.82,0.65,0.76,0.79,0.85,0.83,0.62,0.62,0.76,0.68,0.83,0.67,0.5],\"y\":[0.18,0.89,1.25,6.19,0.83,1.72,1.36,4.59,1.09,4.59,6.89,0.95,2.52,5.8,9.57,4.21,0.81,0.13,1.92,4.13,6.37,1.41,0.42],\"type\":\"scatter\"},{\"marker\":{\"line\":{\"width\":2},\"size\":[0.73,0.8,0.73,0.82,0.74,0.68,0.8,0.94,0.79,0.76,0.93,0.74],\"sizemode\":\"area\",\"sizeref\":0.018799999999999997},\"mode\":\"markers\",\"name\":\"Northern/Eastern Europe\",\"text\":[\"Country: Albania<br>Total Ecological Footprint: 2.21<br>GDP per capita: $4,534.37<br>Population (Millions): 3.16<br>Year: 2016\",\"Country: Belarus<br>Total Ecological Footprint: 5.09<br>GDP per capita: $6,300.45<br>Population (Millions): 9.4<br>Year: 2016\",\"Country: Bosnia Herzegovina<br>Total Ecological Footprint: 3.12<br>GDP per capita: $4,708.85<br>Population (Millions): 3.83<br>Year: 2016\",\"Country: Croatia<br>Total Ecological Footprint: 3.92<br>GDP per capita: $14,522.80<br>Population (Millions): 4.31<br>Year: 2016\",\"Country: Macedonia<br>Total Ecological Footprint: 3.26<br>GDP per capita: $5,174.89<br>Population (Millions): 2.11<br>Year: 2016\",\"Country: Moldova<br>Total Ecological Footprint: 1.78<br>GDP per capita: $1,971.03<br>Population (Millions): 3.51<br>Year: 2016\",\"Country: Montenegro<br>Total Ecological Footprint: 3.78<br>GDP per capita: $7,251.60<br>Population (Millions): 0.62<br>Year: 2016\",\"Country: Norway<br>Total Ecological Footprint: 4.98<br>GDP per capita: $100,172.00<br>Population (Millions): 4.99<br>Year: 2016\",\"Country: Russian Federation<br>Total Ecological Footprint: 5.69<br>GDP per capita: $13,320.20<br>Population (Millions): 143.17<br>Year: 2016\",\"Country: Serbia<br>Total Ecological Footprint: 2.7<br>GDP per capita: $6,426.18<br>Population (Millions): 9.55<br>Year: 2016\",\"Country: Switzerland<br>Total Ecological Footprint: 5.79<br>GDP per capita: $88,506.20<br>Population (Millions): 8.0<br>Year: 2016\",\"Country: Ukraine<br>Total Ecological Footprint: 2.84<br>GDP per capita: $3,589.63<br>Population (Millions): 45.53<br>Year: 2016\"],\"x\":[0.73,0.8,0.73,0.82,0.74,0.68,0.8,0.94,0.79,0.76,0.93,0.74],\"y\":[0.87,2.57,1.74,2.21,2.06,1.03,2.13,0.0,3.87,1.66,4.26,1.92],\"type\":\"scatter\"},{\"marker\":{\"line\":{\"width\":2},\"size\":[0.78,0.83,0.0,0.78,0.79,0.65,0.75,0.0,0.0,0.83,0.72,0.76,0.77,0.72,0.71,0.73,0.66,0.0,0.74,0.0,0.62,0.63,0.48,0.61,0.72,0.0,0.75,0.0,0.63,0.77,0.67,0.73,0.74,0.73,0.72,0.71,0.77,0.79,0.763846],\"sizemode\":\"area\",\"sizeref\":0.018799999999999997},\"mode\":\"markers\",\"name\":\"Latin America\",\"text\":[\"Country: Antigua and Barbuda<br>Total Ecological Footprint: 5.38<br>GDP per capita: $13,205.10<br>Population (Millions): 0.09<br>Year: 2016\",\"Country: Argentina<br>Total Ecological Footprint: 3.14<br>GDP per capita: $13,540.00<br>Population (Millions): 41.09<br>Year: 2016\",\"Country: Aruba<br>Total Ecological Footprint: 11.88<br>GDP per capita: 0<br>Population (Millions): 0.1<br>Year: 2016\",\"Country: Bahamas<br>Total Ecological Footprint: 6.84<br>GDP per capita: $22,647.30<br>Population (Millions): 0.37<br>Year: 2016\",\"Country: Barbados<br>Total Ecological Footprint: 4.48<br>GDP per capita: $15,722.80<br>Population (Millions): 0.28<br>Year: 2016\",\"Country: Bolivia<br>Total Ecological Footprint: 2.96<br>GDP per capita: $2,253.09<br>Population (Millions): 10.5<br>Year: 2016\",\"Country: Brazil<br>Total Ecological Footprint: 3.11<br>GDP per capita: $13,237.60<br>Population (Millions): 198.66<br>Year: 2016\",\"Country: British Virgin Islands<br>Total Ecological Footprint: 2.86<br>GDP per capita: 0<br>Population (Millions): 0.03<br>Year: 2016\",\"Country: Cayman Islands<br>Total Ecological Footprint: 5.65<br>GDP per capita: 0<br>Population (Millions): 0.06<br>Year: 2016\",\"Country: Chile<br>Total Ecological Footprint: 4.36<br>GDP per capita: $14,525.80<br>Population (Millions): 17.46<br>Year: 2016\",\"Country: Colombia<br>Total Ecological Footprint: 1.87<br>GDP per capita: $7,305.22<br>Population (Millions): 47.7<br>Year: 2016\",\"Country: Costa Rica<br>Total Ecological Footprint: 2.84<br>GDP per capita: $8,979.96<br>Population (Millions): 4.8<br>Year: 2016\",\"Country: Cuba<br>Total Ecological Footprint: 1.95<br>GDP per capita: $5,175.94<br>Population (Millions): 11.27<br>Year: 2016\",\"Country: Dominica<br>Total Ecological Footprint: 2.57<br>GDP per capita: $7,088.01<br>Population (Millions): 0.07<br>Year: 2016\",\"Country: Dominican Republic<br>Total Ecological Footprint: 1.53<br>GDP per capita: $6,085.89<br>Population (Millions): 10.28<br>Year: 2016\",\"Country: Ecuador<br>Total Ecological Footprint: 2.17<br>GDP per capita: $5,192.88<br>Population (Millions): 15.49<br>Year: 2016\",\"Country: El Salvador<br>Total Ecological Footprint: 2.07<br>GDP per capita: $3,696.33<br>Population (Millions): 6.3<br>Year: 2016\",\"Country: French Guiana<br>Total Ecological Footprint: 2.34<br>GDP per capita: 0<br>Population (Millions): 0.24<br>Year: 2016\",\"Country: Grenada<br>Total Ecological Footprint: 2.98<br>GDP per capita: $7,410.48<br>Population (Millions): 0.1<br>Year: 2016\",\"Country: Guadeloupe<br>Total Ecological Footprint: 3.23<br>GDP per capita: 0<br>Population (Millions): 0.46<br>Year: 2016\",\"Country: Guatemala<br>Total Ecological Footprint: 1.89<br>GDP per capita: $3,233.80<br>Population (Millions): 15.08<br>Year: 2016\",\"Country: Guyana<br>Total Ecological Footprint: 3.07<br>GDP per capita: $3,269.46<br>Population (Millions): 0.8<br>Year: 2016\",\"Country: Haiti<br>Total Ecological Footprint: 0.61<br>GDP per capita: $749.13<br>Population (Millions): 10.17<br>Year: 2016\",\"Country: Honduras<br>Total Ecological Footprint: 1.68<br>GDP per capita: $2,269.51<br>Population (Millions): 7.94<br>Year: 2016\",\"Country: Jamaica<br>Total Ecological Footprint: 1.89<br>GDP per capita: $5,226.30<br>Population (Millions): 2.77<br>Year: 2016\",\"Country: Martinique<br>Total Ecological Footprint: 2.08<br>GDP per capita: 0<br>Population (Millions): 0.4<br>Year: 2016\",\"Country: Mexico<br>Total Ecological Footprint: 2.89<br>GDP per capita: $10,123.90<br>Population (Millions): 120.85<br>Year: 2016\",\"Country: Montserrat<br>Total Ecological Footprint: 7.78<br>GDP per capita: 0<br>Population (Millions): 0.0<br>Year: 2016\",\"Country: Nicaragua<br>Total Ecological Footprint: 1.39<br>GDP per capita: $1,626.85<br>Population (Millions): 5.99<br>Year: 2016\",\"Country: Panama<br>Total Ecological Footprint: 2.79<br>GDP per capita: $8,410.77<br>Population (Millions): 3.8<br>Year: 2016\",\"Country: Paraguay<br>Total Ecological Footprint: 4.16<br>GDP per capita: $3,557.31<br>Population (Millions): 6.69<br>Year: 2016\",\"Country: Peru<br>Total Ecological Footprint: 2.28<br>GDP per capita: $5,684.73<br>Population (Millions): 29.99<br>Year: 2016\",\"Country: Saint Kitts and Nevis<br>Total Ecological Footprint: 4.94<br>GDP per capita: $12,952.50<br>Population (Millions): 0.05<br>Year: 2016\",\"Country: Saint Lucia<br>Total Ecological Footprint: 2.45<br>GDP per capita: $7,737.20<br>Population (Millions): 0.18<br>Year: 2016\",\"Country: Saint Vincent and Grenadines<br>Total Ecological Footprint: 3.11<br>GDP per capita: $6,171.48<br>Population (Millions): 0.11<br>Year: 2016\",\"Country: Suriname<br>Total Ecological Footprint: 4.25<br>GDP per capita: $8,190.70<br>Population (Millions): 0.54<br>Year: 2016\",\"Country: Trinidad and Tobago<br>Total Ecological Footprint: 7.92<br>GDP per capita: $18,310.80<br>Population (Millions): 1.34<br>Year: 2016\",\"Country: Uruguay<br>Total Ecological Footprint: 2.91<br>GDP per capita: $14,238.10<br>Population (Millions): 3.4<br>Year: 2016\",\"Country: Venezuela<br>Total Ecological Footprint: 3.57<br>GDP per capita: $10,237.80<br>Population (Millions): 29.96<br>Year: 2016\"],\"x\":[0.78,0.83,0.0,0.78,0.79,0.65,0.75,0.0,0.0,0.83,0.72,0.76,0.77,0.72,0.71,0.73,0.66,0.0,0.74,0.0,0.62,0.63,0.48,0.61,0.72,0.0,0.75,0.0,0.63,0.77,0.67,0.73,0.74,0.73,0.72,0.71,0.77,0.79,0.763846],\"y\":[0.0,1.08,0.0,4.46,3.28,0.67,0.91,0.0,3.56,2.04,0.67,1.37,1.23,1.47,0.86,1.08,0.84,1.58,0.0,2.61,0.7,1.25,0.15,0.6,1.09,1.73,1.74,0.0,0.45,1.44,0.97,0.67,3.34,1.56,0.0,3.01,6.89,0.98,2.13],\"type\":\"scatter\"},{\"marker\":{\"line\":{\"width\":2},\"size\":[0.93,0.56,0.59,0.85,0.55,0.72,0.72,0.0,0.6,0.68,0.89,0.89,0.0,0.56,0.77,0.71,0.53,0.0,0.54,0.0,0.91,0.53,0.5,0.66,0.7,0.91,0.5,0.75,0.72,0.6,0.72,0.66,0.0],\"sizemode\":\"area\",\"sizeref\":0.018799999999999997},\"mode\":\"markers\",\"name\":\"Asia-Pacific\",\"text\":[\"Country: Australia<br>Total Ecological Footprint: 9.31<br>GDP per capita: $66,604.20<br>Population (Millions): 23.05<br>Year: 2016\",\"Country: Bangladesh<br>Total Ecological Footprint: 0.72<br>GDP per capita: $857.50<br>Population (Millions): 154.7<br>Year: 2016\",\"Country: Bhutan<br>Total Ecological Footprint: 4.84<br>GDP per capita: $2,395.00<br>Population (Millions): 0.74<br>Year: 2016\",\"Country: Brunei Darussalam<br>Total Ecological Footprint: 4.06<br>GDP per capita: $47,097.40<br>Population (Millions): 0.41<br>Year: 2016\",\"Country: Cambodia<br>Total Ecological Footprint: 1.21<br>GDP per capita: $877.64<br>Population (Millions): 14.86<br>Year: 2016\",\"Country: China<br>Total Ecological Footprint: 3.38<br>GDP per capita: $5,560.94<br>Population (Millions): 1408.04<br>Year: 2016\",\"Country: Fiji<br>Total Ecological Footprint: 2.9<br>GDP per capita: $4,201.37<br>Population (Millions): 0.88<br>Year: 2016\",\"Country: French Polynesia<br>Total Ecological Footprint: 4.73<br>GDP per capita: 0<br>Population (Millions): 0.27<br>Year: 2016\",\"Country: India<br>Total Ecological Footprint: 1.16<br>GDP per capita: $1,513.85<br>Population (Millions): 1236.69<br>Year: 2016\",\"Country: Indonesia<br>Total Ecological Footprint: 1.58<br>GDP per capita: $3,688.53<br>Population (Millions): 246.86<br>Year: 2016\",\"Country: Japan<br>Total Ecological Footprint: 5.02<br>GDP per capita: $46,201.60<br>Population (Millions): 127.25<br>Year: 2016\",\"Country: Korea, Republic of<br>Total Ecological Footprint: 5.69<br>GDP per capita: $24,155.80<br>Population (Millions): 49.0<br>Year: 2016\",\"Country: Korea, Republic of<br>Total Ecological Footprint: 1.17<br>GDP per capita: 0<br>Population (Millions): 24.76<br>Year: 2016\",\"Country: Lao People's Democratic Republic<br>Total Ecological Footprint: 1.22<br>GDP per capita: $1,236.24<br>Population (Millions): 6.65<br>Year: 2016\",\"Country: Malaysia<br>Total Ecological Footprint: 3.71<br>GDP per capita: $10,252.60<br>Population (Millions): 29.24<br>Year: 2016\",\"Country: Mongolia<br>Total Ecological Footprint: 6.08<br>GDP per capita: $3,736.07<br>Population (Millions): 2.8<br>Year: 2016\",\"Country: Myanmar<br>Total Ecological Footprint: 1.43<br>GDP per capita: $1,117.58<br>Population (Millions): 52.8<br>Year: 2016\",\"Country: Nauru<br>Total Ecological Footprint: 2.94<br>GDP per capita: 0<br>Population (Millions): 0.01<br>Year: 2016\",\"Country: Nepal<br>Total Ecological Footprint: 0.98<br>GDP per capita: $700.07<br>Population (Millions): 27.47<br>Year: 2016\",\"Country: New Caledonia<br>Total Ecological Footprint: 3.58<br>GDP per capita: 0<br>Population (Millions): 0.25<br>Year: 2016\",\"Country: New Zealand<br>Total Ecological Footprint: 5.6<br>GDP per capita: $37,488.30<br>Population (Millions): 4.46<br>Year: 2016\",\"Country: Pakistan<br>Total Ecological Footprint: 0.79<br>GDP per capita: $1,218.60<br>Population (Millions): 179.16<br>Year: 2016\",\"Country: Papua New Guinea<br>Total Ecological Footprint: 1.91<br>GDP per capita: $1,871.21<br>Population (Millions): 7.17<br>Year: 2016\",\"Country: Philippines<br>Total Ecological Footprint: 1.1<br>GDP per capita: $2,379.44<br>Population (Millions): 96.71<br>Year: 2016\",\"Country: Samoa<br>Total Ecological Footprint: 2.77<br>GDP per capita: $4,067.15<br>Population (Millions): 0.19<br>Year: 2016\",\"Country: Singapore<br>Total Ecological Footprint: 7.97<br>GDP per capita: $53,122.40<br>Population (Millions): 5.3<br>Year: 2016\",\"Country: Solomon Isds<br>Total Ecological Footprint: 1.29<br>GDP per capita: $1,647.86<br>Population (Millions): 0.55<br>Year: 2016\",\"Country: Sri Lanka<br>Total Ecological Footprint: 1.32<br>GDP per capita: $2,880.03<br>Population (Millions): 21.1<br>Year: 2016\",\"Country: Thailand<br>Total Ecological Footprint: 2.66<br>GDP per capita: $5,479.29<br>Population (Millions): 66.78<br>Year: 2016\",\"Country: Timor-Leste<br>Total Ecological Footprint: 0.48<br>GDP per capita: $5,167.86<br>Population (Millions): 1.11<br>Year: 2016\",\"Country: Tonga<br>Total Ecological Footprint: 2.7<br>GDP per capita: $4,330.90<br>Population (Millions): 0.1<br>Year: 2016\",\"Country: Viet Nam<br>Total Ecological Footprint: 1.65<br>GDP per capita: $1,532.31<br>Population (Millions): 90.8<br>Year: 2016\",\"Country: Wallis and Futuna Islands<br>Total Ecological Footprint: 2.07<br>GDP per capita: 0<br>Population (Millions): 0.01<br>Year: 2016\"],\"x\":[0.93,0.56,0.59,0.85,0.55,0.72,0.72,0.0,0.6,0.68,0.89,0.89,0.0,0.56,0.77,0.71,0.53,0.0,0.54,0.0,0.91,0.53,0.5,0.66,0.7,0.91,0.5,0.75,0.72,0.6,0.72,0.66,0.0],\"y\":[4.85,0.26,0.63,3.24,0.0,2.32,1.06,2.39,0.61,0.64,3.69,4.17,0.68,0.09,2.1,2.09,0.09,0.0,0.16,1.78,2.84,0.38,0.35,0.34,0.96,5.91,0.0,0.52,1.54,0.06,0.88,0.79,0.0],\"type\":\"scatter\"},{\"marker\":{\"line\":{\"width\":2},\"size\":[0.88,0.89,0.78,0.85,0.87,0.92,0.85,0.88,0.89,0.91,0.91,0.86,0.82,0.91,0.87,0.81,0.83,0.89,0.92,0.84,0.83,0.79,0.84,0.88,0.87,0.9,0.9],\"sizemode\":\"area\",\"sizeref\":0.018799999999999997},\"mode\":\"markers\",\"name\":\"European Union\",\"text\":[\"Country: Austria<br>Total Ecological Footprint: 6.06<br>GDP per capita: $51,274.10<br>Population (Millions): 8.46<br>Year: 2016\",\"Country: Belgium<br>Total Ecological Footprint: 7.44<br>GDP per capita: $48,053.30<br>Population (Millions): 11.06<br>Year: 2016\",\"Country: Bulgaria<br>Total Ecological Footprint: 3.32<br>GDP per capita: $7,615.28<br>Population (Millions): 7.28<br>Year: 2016\",\"Country: Cyprus<br>Total Ecological Footprint: 4.21<br>GDP per capita: $31,454.70<br>Population (Millions): 1.13<br>Year: 2016\",\"Country: Czech Republic<br>Total Ecological Footprint: 5.19<br>GDP per capita: $21,676.30<br>Population (Millions): 10.66<br>Year: 2016\",\"Country: Denmark<br>Total Ecological Footprint: 5.51<br>GDP per capita: $61,413.60<br>Population (Millions): 5.6<br>Year: 2016\",\"Country: Estonia<br>Total Ecological Footprint: 6.86<br>GDP per capita: $17,304.40<br>Population (Millions): 1.29<br>Year: 2016\",\"Country: Finland<br>Total Ecological Footprint: 5.87<br>GDP per capita: $50,960.20<br>Population (Millions): 5.41<br>Year: 2016\",\"Country: France<br>Total Ecological Footprint: 5.14<br>GDP per capita: $45,430.30<br>Population (Millions): 63.98<br>Year: 2016\",\"Country: Germany<br>Total Ecological Footprint: 5.3<br>GDP per capita: $46,822.40<br>Population (Millions): 82.8<br>Year: 2016\",\"Country: Germany<br>Total Ecological Footprint: 5.3<br>GDP per capita: $46,822.40<br>Population (Millions): 82.8<br>Year: 2016\",\"Country: Greece<br>Total Ecological Footprint: 4.38<br>GDP per capita: $25,987.40<br>Population (Millions): 11.12<br>Year: 2016\",\"Country: Hungary<br>Total Ecological Footprint: 2.92<br>GDP per capita: $13,964.20<br>Population (Millions): 9.98<br>Year: 2016\",\"Country: Ireland<br>Total Ecological Footprint: 5.57<br>GDP per capita: $52,853.60<br>Population (Millions): 4.58<br>Year: 2016\",\"Country: Italy<br>Total Ecological Footprint: 4.61<br>GDP per capita: $38,412.00<br>Population (Millions): 60.92<br>Year: 2016\",\"Country: Latvia<br>Total Ecological Footprint: 6.29<br>GDP per capita: $13,732.00<br>Population (Millions): 2.06<br>Year: 2016\",\"Country: Lithuania<br>Total Ecological Footprint: 5.83<br>GDP per capita: $14,373.70<br>Population (Millions): 3.03<br>Year: 2016\",\"Country: Luxembourg<br>Total Ecological Footprint: 15.82<br>GDP per capita: $114,665.00<br>Population (Millions): 0.52<br>Year: 2016\",\"Country: Netherlands<br>Total Ecological Footprint: 5.28<br>GDP per capita: $53,589.90<br>Population (Millions): 16.71<br>Year: 2016\",\"Country: Poland<br>Total Ecological Footprint: 4.44<br>GDP per capita: $13,769.50<br>Population (Millions): 38.21<br>Year: 2016\",\"Country: Portugal<br>Total Ecological Footprint: 3.88<br>GDP per capita: $23,217.30<br>Population (Millions): 10.6<br>Year: 2016\",\"Country: Romania<br>Total Ecological Footprint: 2.71<br>GDP per capita: $9,213.94<br>Population (Millions): 21.76<br>Year: 2016\",\"Country: Slovakia<br>Total Ecological Footprint: 4.06<br>GDP per capita: $18,103.10<br>Population (Millions): 5.45<br>Year: 2016\",\"Country: Slovenia<br>Total Ecological Footprint: 5.81<br>GDP per capita: $25,040.50<br>Population (Millions): 2.07<br>Year: 2016\",\"Country: Spain<br>Total Ecological Footprint: 3.67<br>GDP per capita: $32,008.70<br>Population (Millions): 46.76<br>Year: 2016\",\"Country: Sweden<br>Total Ecological Footprint: 7.25<br>GDP per capita: $59,381.90<br>Population (Millions): 9.51<br>Year: 2016\",\"Country: United Kingdom<br>Total Ecological Footprint: 4.94<br>GDP per capita: $40,980.50<br>Population (Millions): 63.03<br>Year: 2016\"],\"x\":[0.88,0.89,0.78,0.85,0.87,0.92,0.85,0.88,0.89,0.91,0.91,0.86,0.82,0.91,0.87,0.81,0.83,0.89,0.92,0.84,0.83,0.79,0.84,0.88,0.87,0.9,0.9],\"y\":[4.14,4.43,2.08,2.94,3.42,2.6,0.0,0.0,2.71,3.28,3.28,2.58,1.9,3.22,2.77,1.66,2.15,12.65,3.23,2.64,2.15,1.46,2.82,4.27,2.22,3.88,3.14],\"type\":\"scatter\"},{\"marker\":{\"line\":{\"width\":2},\"size\":[],\"sizemode\":\"area\",\"sizeref\":0.018799999999999997},\"mode\":\"markers\",\"name\":\"nan\",\"text\":[],\"x\":[],\"y\":[],\"type\":\"scatter\"}],                        {\"paper_bgcolor\":\"rgb(243, 243, 243)\",\"plot_bgcolor\":\"rgb(243, 243, 243)\",\"template\":{\"data\":{\"barpolar\":[{\"marker\":{\"line\":{\"color\":\"#E5ECF6\",\"width\":0.5},\"pattern\":{\"fillmode\":\"overlay\",\"size\":10,\"solidity\":0.2}},\"type\":\"barpolar\"}],\"bar\":[{\"error_x\":{\"color\":\"#2a3f5f\"},\"error_y\":{\"color\":\"#2a3f5f\"},\"marker\":{\"line\":{\"color\":\"#E5ECF6\",\"width\":0.5},\"pattern\":{\"fillmode\":\"overlay\",\"size\":10,\"solidity\":0.2}},\"type\":\"bar\"}],\"carpet\":[{\"aaxis\":{\"endlinecolor\":\"#2a3f5f\",\"gridcolor\":\"white\",\"linecolor\":\"white\",\"minorgridcolor\":\"white\",\"startlinecolor\":\"#2a3f5f\"},\"baxis\":{\"endlinecolor\":\"#2a3f5f\",\"gridcolor\":\"white\",\"linecolor\":\"white\",\"minorgridcolor\":\"white\",\"startlinecolor\":\"#2a3f5f\"},\"type\":\"carpet\"}],\"choropleth\":[{\"colorbar\":{\"outlinewidth\":0,\"ticks\":\"\"},\"type\":\"choropleth\"}],\"contourcarpet\":[{\"colorbar\":{\"outlinewidth\":0,\"ticks\":\"\"},\"type\":\"contourcarpet\"}],\"contour\":[{\"colorbar\":{\"outlinewidth\":0,\"ticks\":\"\"},\"colorscale\":[[0.0,\"#0d0887\"],[0.1111111111111111,\"#46039f\"],[0.2222222222222222,\"#7201a8\"],[0.3333333333333333,\"#9c179e\"],[0.4444444444444444,\"#bd3786\"],[0.5555555555555556,\"#d8576b\"],[0.6666666666666666,\"#ed7953\"],[0.7777777777777778,\"#fb9f3a\"],[0.8888888888888888,\"#fdca26\"],[1.0,\"#f0f921\"]],\"type\":\"contour\"}],\"heatmapgl\":[{\"colorbar\":{\"outlinewidth\":0,\"ticks\":\"\"},\"colorscale\":[[0.0,\"#0d0887\"],[0.1111111111111111,\"#46039f\"],[0.2222222222222222,\"#7201a8\"],[0.3333333333333333,\"#9c179e\"],[0.4444444444444444,\"#bd3786\"],[0.5555555555555556,\"#d8576b\"],[0.6666666666666666,\"#ed7953\"],[0.7777777777777778,\"#fb9f3a\"],[0.8888888888888888,\"#fdca26\"],[1.0,\"#f0f921\"]],\"type\":\"heatmapgl\"}],\"heatmap\":[{\"colorbar\":{\"outlinewidth\":0,\"ticks\":\"\"},\"colorscale\":[[0.0,\"#0d0887\"],[0.1111111111111111,\"#46039f\"],[0.2222222222222222,\"#7201a8\"],[0.3333333333333333,\"#9c179e\"],[0.4444444444444444,\"#bd3786\"],[0.5555555555555556,\"#d8576b\"],[0.6666666666666666,\"#ed7953\"],[0.7777777777777778,\"#fb9f3a\"],[0.8888888888888888,\"#fdca26\"],[1.0,\"#f0f921\"]],\"type\":\"heatmap\"}],\"histogram2dcontour\":[{\"colorbar\":{\"outlinewidth\":0,\"ticks\":\"\"},\"colorscale\":[[0.0,\"#0d0887\"],[0.1111111111111111,\"#46039f\"],[0.2222222222222222,\"#7201a8\"],[0.3333333333333333,\"#9c179e\"],[0.4444444444444444,\"#bd3786\"],[0.5555555555555556,\"#d8576b\"],[0.6666666666666666,\"#ed7953\"],[0.7777777777777778,\"#fb9f3a\"],[0.8888888888888888,\"#fdca26\"],[1.0,\"#f0f921\"]],\"type\":\"histogram2dcontour\"}],\"histogram2d\":[{\"colorbar\":{\"outlinewidth\":0,\"ticks\":\"\"},\"colorscale\":[[0.0,\"#0d0887\"],[0.1111111111111111,\"#46039f\"],[0.2222222222222222,\"#7201a8\"],[0.3333333333333333,\"#9c179e\"],[0.4444444444444444,\"#bd3786\"],[0.5555555555555556,\"#d8576b\"],[0.6666666666666666,\"#ed7953\"],[0.7777777777777778,\"#fb9f3a\"],[0.8888888888888888,\"#fdca26\"],[1.0,\"#f0f921\"]],\"type\":\"histogram2d\"}],\"histogram\":[{\"marker\":{\"pattern\":{\"fillmode\":\"overlay\",\"size\":10,\"solidity\":0.2}},\"type\":\"histogram\"}],\"mesh3d\":[{\"colorbar\":{\"outlinewidth\":0,\"ticks\":\"\"},\"type\":\"mesh3d\"}],\"parcoords\":[{\"line\":{\"colorbar\":{\"outlinewidth\":0,\"ticks\":\"\"}},\"type\":\"parcoords\"}],\"pie\":[{\"automargin\":true,\"type\":\"pie\"}],\"scatter3d\":[{\"line\":{\"colorbar\":{\"outlinewidth\":0,\"ticks\":\"\"}},\"marker\":{\"colorbar\":{\"outlinewidth\":0,\"ticks\":\"\"}},\"type\":\"scatter3d\"}],\"scattercarpet\":[{\"marker\":{\"colorbar\":{\"outlinewidth\":0,\"ticks\":\"\"}},\"type\":\"scattercarpet\"}],\"scattergeo\":[{\"marker\":{\"colorbar\":{\"outlinewidth\":0,\"ticks\":\"\"}},\"type\":\"scattergeo\"}],\"scattergl\":[{\"marker\":{\"colorbar\":{\"outlinewidth\":0,\"ticks\":\"\"}},\"type\":\"scattergl\"}],\"scattermapbox\":[{\"marker\":{\"colorbar\":{\"outlinewidth\":0,\"ticks\":\"\"}},\"type\":\"scattermapbox\"}],\"scatterpolargl\":[{\"marker\":{\"colorbar\":{\"outlinewidth\":0,\"ticks\":\"\"}},\"type\":\"scatterpolargl\"}],\"scatterpolar\":[{\"marker\":{\"colorbar\":{\"outlinewidth\":0,\"ticks\":\"\"}},\"type\":\"scatterpolar\"}],\"scatter\":[{\"marker\":{\"colorbar\":{\"outlinewidth\":0,\"ticks\":\"\"}},\"type\":\"scatter\"}],\"scatterternary\":[{\"marker\":{\"colorbar\":{\"outlinewidth\":0,\"ticks\":\"\"}},\"type\":\"scatterternary\"}],\"surface\":[{\"colorbar\":{\"outlinewidth\":0,\"ticks\":\"\"},\"colorscale\":[[0.0,\"#0d0887\"],[0.1111111111111111,\"#46039f\"],[0.2222222222222222,\"#7201a8\"],[0.3333333333333333,\"#9c179e\"],[0.4444444444444444,\"#bd3786\"],[0.5555555555555556,\"#d8576b\"],[0.6666666666666666,\"#ed7953\"],[0.7777777777777778,\"#fb9f3a\"],[0.8888888888888888,\"#fdca26\"],[1.0,\"#f0f921\"]],\"type\":\"surface\"}],\"table\":[{\"cells\":{\"fill\":{\"color\":\"#EBF0F8\"},\"line\":{\"color\":\"white\"}},\"header\":{\"fill\":{\"color\":\"#C8D4E3\"},\"line\":{\"color\":\"white\"}},\"type\":\"table\"}]},\"layout\":{\"annotationdefaults\":{\"arrowcolor\":\"#2a3f5f\",\"arrowhead\":0,\"arrowwidth\":1},\"autotypenumbers\":\"strict\",\"coloraxis\":{\"colorbar\":{\"outlinewidth\":0,\"ticks\":\"\"}},\"colorscale\":{\"diverging\":[[0,\"#8e0152\"],[0.1,\"#c51b7d\"],[0.2,\"#de77ae\"],[0.3,\"#f1b6da\"],[0.4,\"#fde0ef\"],[0.5,\"#f7f7f7\"],[0.6,\"#e6f5d0\"],[0.7,\"#b8e186\"],[0.8,\"#7fbc41\"],[0.9,\"#4d9221\"],[1,\"#276419\"]],\"sequential\":[[0.0,\"#0d0887\"],[0.1111111111111111,\"#46039f\"],[0.2222222222222222,\"#7201a8\"],[0.3333333333333333,\"#9c179e\"],[0.4444444444444444,\"#bd3786\"],[0.5555555555555556,\"#d8576b\"],[0.6666666666666666,\"#ed7953\"],[0.7777777777777778,\"#fb9f3a\"],[0.8888888888888888,\"#fdca26\"],[1.0,\"#f0f921\"]],\"sequentialminus\":[[0.0,\"#0d0887\"],[0.1111111111111111,\"#46039f\"],[0.2222222222222222,\"#7201a8\"],[0.3333333333333333,\"#9c179e\"],[0.4444444444444444,\"#bd3786\"],[0.5555555555555556,\"#d8576b\"],[0.6666666666666666,\"#ed7953\"],[0.7777777777777778,\"#fb9f3a\"],[0.8888888888888888,\"#fdca26\"],[1.0,\"#f0f921\"]]},\"colorway\":[\"#636efa\",\"#EF553B\",\"#00cc96\",\"#ab63fa\",\"#FFA15A\",\"#19d3f3\",\"#FF6692\",\"#B6E880\",\"#FF97FF\",\"#FECB52\"],\"font\":{\"color\":\"#2a3f5f\"},\"geo\":{\"bgcolor\":\"white\",\"lakecolor\":\"white\",\"landcolor\":\"#E5ECF6\",\"showlakes\":true,\"showland\":true,\"subunitcolor\":\"white\"},\"hoverlabel\":{\"align\":\"left\"},\"hovermode\":\"closest\",\"mapbox\":{\"style\":\"light\"},\"paper_bgcolor\":\"white\",\"plot_bgcolor\":\"#E5ECF6\",\"polar\":{\"angularaxis\":{\"gridcolor\":\"white\",\"linecolor\":\"white\",\"ticks\":\"\"},\"bgcolor\":\"#E5ECF6\",\"radialaxis\":{\"gridcolor\":\"white\",\"linecolor\":\"white\",\"ticks\":\"\"}},\"scene\":{\"xaxis\":{\"backgroundcolor\":\"#E5ECF6\",\"gridcolor\":\"white\",\"gridwidth\":2,\"linecolor\":\"white\",\"showbackground\":true,\"ticks\":\"\",\"zerolinecolor\":\"white\"},\"yaxis\":{\"backgroundcolor\":\"#E5ECF6\",\"gridcolor\":\"white\",\"gridwidth\":2,\"linecolor\":\"white\",\"showbackground\":true,\"ticks\":\"\",\"zerolinecolor\":\"white\"},\"zaxis\":{\"backgroundcolor\":\"#E5ECF6\",\"gridcolor\":\"white\",\"gridwidth\":2,\"linecolor\":\"white\",\"showbackground\":true,\"ticks\":\"\",\"zerolinecolor\":\"white\"}},\"shapedefaults\":{\"line\":{\"color\":\"#2a3f5f\"}},\"ternary\":{\"aaxis\":{\"gridcolor\":\"white\",\"linecolor\":\"white\",\"ticks\":\"\"},\"baxis\":{\"gridcolor\":\"white\",\"linecolor\":\"white\",\"ticks\":\"\"},\"bgcolor\":\"#E5ECF6\",\"caxis\":{\"gridcolor\":\"white\",\"linecolor\":\"white\",\"ticks\":\"\"}},\"title\":{\"x\":0.05},\"xaxis\":{\"automargin\":true,\"gridcolor\":\"white\",\"linecolor\":\"white\",\"ticks\":\"\",\"title\":{\"standoff\":15},\"zerolinecolor\":\"white\",\"zerolinewidth\":2},\"yaxis\":{\"automargin\":true,\"gridcolor\":\"white\",\"linecolor\":\"white\",\"ticks\":\"\",\"title\":{\"standoff\":15},\"zerolinecolor\":\"white\",\"zerolinewidth\":2}}},\"title\":{\"text\":\"Human Development Impact on Carbon Footprint\"},\"xaxis\":{\"gridcolor\":\"rgb(255, 255, 255)\",\"gridwidth\":2,\"range\":[0.2,1],\"ticklen\":5,\"title\":{\"text\":\"Human Development Index\"},\"zerolinewidth\":1},\"yaxis\":{\"gridcolor\":\"rgb(255, 255, 255)\",\"gridwidth\":2,\"range\":[-5,15],\"ticklen\":5,\"title\":{\"text\":\"Carbon Footprint\"},\"zerolinewidth\":1}},                        {\"responsive\": true}                    ).then(function(){\n",
       "                            \n",
       "var gd = document.getElementById('3f1737aa-290f-41e1-8710-35825dd9977e');\n",
       "var x = new MutationObserver(function (mutations, observer) {{\n",
       "        var display = window.getComputedStyle(gd).display;\n",
       "        if (!display || display === 'none') {{\n",
       "            console.log([gd, 'removed!']);\n",
       "            Plotly.purge(gd);\n",
       "            observer.disconnect();\n",
       "        }}\n",
       "}});\n",
       "\n",
       "// Listen for the removal of the full notebook cells\n",
       "var notebookContainer = gd.closest('#notebook-container');\n",
       "if (notebookContainer) {{\n",
       "    x.observe(notebookContainer, {childList: true});\n",
       "}}\n",
       "\n",
       "// Listen for the clearing of the current output cell\n",
       "var outputEl = gd.closest('.output');\n",
       "if (outputEl) {{\n",
       "    x.observe(outputEl, {childList: true});\n",
       "}}\n",
       "\n",
       "                        })                };                });            </script>        </div>"
      ]
     },
     "metadata": {},
     "output_type": "display_data"
    }
   ],
   "source": [
    "import chart_studio.plotly as py\n",
    "import plotly.graph_objs as go\n",
    "from plotly.offline import init_notebook_mode, iplot\n",
    "init_notebook_mode(connected=True)\n",
    "import pandas as pd\n",
    "import math\n",
    "\n",
    "df_2007 = MERGE2\n",
    "df_2007['HDI'].fillna(0, inplace=True)\n",
    "df_2007['ExpTrade_Mill'].fillna(0, inplace=True)\n",
    "df_2007['Total Ecological Footprint'].fillna(0, inplace=True)\n",
    "df_2007['GDP per Capita'].fillna(0, inplace=True)\n",
    "df_2007[\"Population (millions)\"].fillna(0, inplace=True)\n",
    "df_2007[\"Carbon Footprint\"].fillna(0, inplace=True)\n",
    "\n",
    "#slope = 2.666051223553066e-05\n",
    "hover_text = []\n",
    "bubble_size = []\n",
    "\n",
    "for index, row in df_2007.iterrows(): # each row of the df_2007 will be referenced\n",
    "    hover_text.append(('Country: {country}<br>'+\n",
    "                      'Total Ecological Footprint: {EcoFoot}<br>'+\n",
    "                      'GDP per capita: {gdp}<br>'+\n",
    "                      'Population (Millions): {pop}<br>'+\n",
    "                      'Year: {year}').format(country=row['Country'],\n",
    "                                            EcoFoot=row['Total Ecological Footprint'],\n",
    "                                            gdp=row['GDP per Capita'],\n",
    "                                            pop=row[\"Population (millions)\"],\n",
    "                                            year='2016'))\n",
    "    #bubble_size.append(math.sqrt(row[\"Population (millions)\"]*slope))\n",
    "    bubble_size.append(row[\"HDI\"])\n",
    "\n",
    "df_2007['text'] = hover_text\n",
    "df_2007['size'] = bubble_size\n",
    "sizeref = 2.*max(df_2007['size'])/(10**2)\n",
    "\n",
    "trace0 = go.Scatter(\n",
    "    x=df_2007['HDI'][df_2007['Region'] == 'Africa'],\n",
    "    y=df_2007[\"Carbon Footprint\"][df_2007['Region'] == 'Africa'],\n",
    "    mode='markers',\n",
    "    name='Africa',\n",
    "    text=df_2007['text'][df_2007['Region'] == 'Africa'],\n",
    "    marker=dict(\n",
    "        symbol='circle',\n",
    "        sizemode='area',\n",
    "        sizeref=sizeref,\n",
    "        size=df_2007['size'][df_2007['Region'] == 'Africa'],\n",
    "        line=dict(\n",
    "            width=2\n",
    "        ),\n",
    "    )\n",
    ")\n",
    "trace1 = go.Scatter(\n",
    "    x=df_2007['HDI'][df_2007['Region'] == 'North America'],\n",
    "    y=df_2007[\"Carbon Footprint\"][df_2007['Region'] == 'North America'],\n",
    "    mode='markers',\n",
    "    name='North America',\n",
    "    text=df_2007['text'][df_2007['Region'] == 'North America'],\n",
    "    marker=dict(\n",
    "        sizemode='area',\n",
    "        sizeref=sizeref,\n",
    "        size=df_2007['size'][df_2007['Region'] == 'North America'],\n",
    "        line=dict(\n",
    "            width=2\n",
    "        ),\n",
    "    )\n",
    ")\n",
    "trace2 = go.Scatter(\n",
    "    x=df_2007['HDI'][df_2007['Region'] == 'Middle East/Central Asia'],\n",
    "    y=df_2007[\"Carbon Footprint\"][df_2007['Region'] == 'Middle East/Central Asia'],\n",
    "    mode='markers',\n",
    "    name='Middle East/Central Asia',\n",
    "    text=df_2007['text'][df_2007['Region'] == 'Middle East/Central Asia'],\n",
    "    marker=dict(\n",
    "        sizemode='area',\n",
    "        sizeref=sizeref,\n",
    "        size=df_2007['size'][df_2007['Region'] == 'Middle East/Central Asia'],\n",
    "        line=dict(\n",
    "            width=2\n",
    "        ),\n",
    "    )\n",
    ")\n",
    "trace3 = go.Scatter(\n",
    "    x=df_2007['HDI'][df_2007['Region'] == 'Northern/Eastern Europe'],\n",
    "    y=df_2007[\"Carbon Footprint\"][df_2007['Region'] == 'Northern/Eastern Europe'],\n",
    "    mode='markers',\n",
    "    name='Northern/Eastern Europe',\n",
    "    text=df_2007['text'][df_2007['Region'] == 'Northern/Eastern Europe'],\n",
    "    marker=dict(\n",
    "        sizemode='area',\n",
    "        sizeref=sizeref,\n",
    "        size=df_2007['size'][df_2007['Region'] == 'Northern/Eastern Europe'],\n",
    "        line=dict(\n",
    "            width=2\n",
    "        ),\n",
    "    )\n",
    ")\n",
    "trace4 = go.Scatter(\n",
    "    x=df_2007['HDI'][df_2007['Region'] == 'Latin America'],\n",
    "    y=df_2007[\"Carbon Footprint\"][df_2007['Region'] == 'Latin America'],\n",
    "    mode='markers',\n",
    "    name='Latin America',\n",
    "    text=df_2007['text'][df_2007['Region'] == 'Latin America'],\n",
    "    marker=dict(\n",
    "        sizemode='area',\n",
    "        sizeref=sizeref,\n",
    "        size=df_2007['size'][df_2007['Region'] == 'Latin America'],\n",
    "        line=dict(\n",
    "            width=2\n",
    "        ),\n",
    "    )\n",
    ")\n",
    "\n",
    "trace5 = go.Scatter(\n",
    "    x=df_2007['HDI'][df_2007['Region'] == 'Asia-Pacific'],\n",
    "    y=df_2007[\"Carbon Footprint\"][df_2007['Region'] == 'Asia-Pacific'],\n",
    "    mode='markers',\n",
    "    name='Asia-Pacific',\n",
    "    text=df_2007['text'][df_2007['Region'] == 'Asia-Pacific'],\n",
    "    marker=dict(\n",
    "        sizemode='area',\n",
    "        sizeref=sizeref,\n",
    "        size=df_2007['size'][df_2007['Region'] == 'Asia-Pacific'],\n",
    "        line=dict(\n",
    "            width=2\n",
    "        ),\n",
    "    )\n",
    ")\n",
    "\n",
    "trace6 = go.Scatter(\n",
    "    x=df_2007['HDI'][df_2007['Region'] == 'European Union'],\n",
    "    y=df_2007[\"Carbon Footprint\"][df_2007['Region'] == 'European Union'],\n",
    "    mode='markers',\n",
    "    name='European Union',\n",
    "    text=df_2007['text'][df_2007['Region'] == 'European Union'],\n",
    "    marker=dict(\n",
    "        sizemode='area',\n",
    "        sizeref=sizeref,\n",
    "        size=df_2007['size'][df_2007['Region'] == 'European Union'],\n",
    "        line=dict(\n",
    "            width=2\n",
    "        ),\n",
    "    )\n",
    ")\n",
    "                      \n",
    "trace7 = go.Scatter(\n",
    "    x=df_2007['HDI'][df_2007['Region'] == 'nan'],\n",
    "    y=df_2007[\"Carbon Footprint\"][df_2007['Region'] == 'nan'],\n",
    "    mode='markers',\n",
    "    name='nan',\n",
    "    text=df_2007['text'][df_2007['Region'] == 'nan'],\n",
    "    marker=dict(\n",
    "        sizemode='area',\n",
    "        sizeref=sizeref,\n",
    "        size=df_2007['size'][df_2007['Region'] == 'nan'],\n",
    "        line=dict(\n",
    "            width=2\n",
    "        ),\n",
    "    )\n",
    ")\n",
    "                      \n",
    "data = [trace0, trace1, trace2, trace3, trace4, trace5, trace6, trace7]\n",
    "layout = go.Layout(\n",
    "    title='Human Development Impact on Carbon Footprint',\n",
    "    xaxis=dict(\n",
    "        title='Human Development Index',\n",
    "        gridcolor='rgb(255, 255, 255)',\n",
    "        range=[0.2, 1],\n",
    "        #type='log',\n",
    "        zerolinewidth=1,\n",
    "        ticklen=5,\n",
    "        gridwidth=2,\n",
    "    ),\n",
    "    yaxis=dict(\n",
    "        title='Carbon Footprint',\n",
    "        gridcolor='rgb(255, 255, 255)',\n",
    "        range=[-5, 15],\n",
    "        zerolinewidth=1,\n",
    "        ticklen=5,\n",
    "        gridwidth=2,\n",
    "    ),\n",
    "    paper_bgcolor='rgb(243, 243, 243)',\n",
    "    plot_bgcolor='rgb(243, 243, 243)',\n",
    ")\n",
    "\n",
    "fig = go.Figure(data=data, layout=layout)\n",
    "iplot(fig) "
   ]
  },
  {
   "cell_type": "markdown",
   "metadata": {
    "_uuid": "003d94e267c9be038d5832569c03f13ef6a3f605"
   },
   "source": [
    "**Comment**\n",
    "What was more interesting is the fact that after a country reaches HDI of 0.6 score, countries’ carbon footprint seems to be accelerated. In other words, one can infer that once a country reaches a certain standard of living (HDI = 0.6), it will accelerate its carbon emission output. At HDI = 0.6, carbon footprint has exponential growth; perhaps analyzing these countries can reveal kind of standards of living developing countries have.  Countries that have HDI close to 0.6 can be considered as “critical” countries. Once they adopt existing infrastructure, raw materials, technology, and supply chain to move out of poverty, subsequently they will follow the same pattern of development and pollution that the current first-world nations went through.  One can infer that export trading also increases as a market mechanism to increase standards of living by providing products that serves the next level of human development. \n",
    "\n",
    "**For the Policy Makers and Supply Producers**\n",
    "How do we:\n",
    "* Rethinking Manufacturing and Logistics for Developing Nations\n",
    "* Renegotiate Political Trade Agreements and allow Developing Nations Take the Lead\n"
   ]
  },
  {
   "cell_type": "code",
   "execution_count": null,
   "metadata": {
    "_uuid": "0a3e702b9fbb5b0ed46040d468525c7c694be84c"
   },
   "outputs": [],
   "source": []
  }
 ],
 "metadata": {
  "kernelspec": {
   "display_name": "Python 3 (ipykernel)",
   "language": "python",
   "name": "python3"
  },
  "language_info": {
   "codemirror_mode": {
    "name": "ipython",
    "version": 3
   },
   "file_extension": ".py",
   "mimetype": "text/x-python",
   "name": "python",
   "nbconvert_exporter": "python",
   "pygments_lexer": "ipython3",
   "version": "3.9.12"
  }
 },
 "nbformat": 4,
 "nbformat_minor": 4
}
